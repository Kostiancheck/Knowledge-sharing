{
 "cells": [
  {
   "cell_type": "markdown",
   "id": "1f2943c6-1785-4b6e-b279-fefa45b1a59f",
   "metadata": {},
   "source": [
    "# Imports\n"
   ]
  },
  {
   "cell_type": "code",
   "execution_count": 18,
   "id": "d0ac8d05-f52a-4481-95ea-2405dc02d1e1",
   "metadata": {},
   "outputs": [],
   "source": [
    "\n",
    "import uuid\n",
    "import random\n",
    "\n",
    "import duckdb\n",
    "import llama_cpp\n",
    "\n",
    "from langchain_text_splitters import RecursiveCharacterTextSplitter\n"
   ]
  },
  {
   "cell_type": "markdown",
   "id": "a243fd7c-3995-484d-bcc9-94185f6c71cd",
   "metadata": {},
   "source": [
    "# Ingest Data"
   ]
  },
  {
   "cell_type": "markdown",
   "id": "6629b0a6-afe3-4bbc-bba8-47fbeda3f742",
   "metadata": {},
   "source": [
    "## Load data from file"
   ]
  },
  {
   "cell_type": "code",
   "execution_count": 2,
   "id": "baf56163-b09f-4bf4-8ace-76c561c6ecb3",
   "metadata": {},
   "outputs": [],
   "source": [
    "# read in data from file\n",
    "file = \"data/ep68.txt\"\n",
    "with open(file, 'r') as reader:\n",
    "    texts = reader.read()"
   ]
  },
  {
   "cell_type": "code",
   "execution_count": 3,
   "id": "a51d9d60-30ac-44bf-9519-75a5e6253094",
   "metadata": {},
   "outputs": [
    {
     "data": {
      "text/plain": [
       "\" so chris last week of course the big news was claude sonnet 3.5 we said on that episode we would daily drive sonnet 3.5 for the entire week which i did and i know you did as well so what do you think now you've had one week of experience with claude sonnet well it's been a pleasure and i think i'm gonna\""
      ]
     },
     "execution_count": 3,
     "metadata": {},
     "output_type": "execute_result"
    }
   ],
   "source": [
    "# check what data looks like\n",
    "texts[:305]"
   ]
  },
  {
   "cell_type": "markdown",
   "id": "ee6d5976-03a6-43d6-ad77-6c7dd91e7ef5",
   "metadata": {},
   "source": [
    "Now let's split text into chunk. If you interested in how this specific splitter works see doc\n",
    "[https://dev.to/eteimz/understanding-langchains-recursivecharactertextsplitter-2846](https://dev.to/eteimz/understanding-langchains-recursivecharactertextsplitter-2846)"
   ]
  },
  {
   "cell_type": "code",
   "execution_count": 4,
   "id": "59cd857c-5a68-4ac3-b640-c1ce88b12271",
   "metadata": {},
   "outputs": [],
   "source": [
    "text_splitter = RecursiveCharacterTextSplitter(\n",
    "  chunk_size=300,\n",
    "  chunk_overlap=100,\n",
    "  length_function=len,\n",
    "  is_separator_regex=False,\n",
    ")"
   ]
  },
  {
   "cell_type": "code",
   "execution_count": 5,
   "id": "403d3fce-8b64-449d-8c05-ea47ef089526",
   "metadata": {},
   "outputs": [
    {
     "name": "stdout",
     "output_type": "stream",
     "text": [
      "308\n"
     ]
    }
   ],
   "source": [
    "documents = text_splitter.create_documents([texts])\n",
    "print(len(documents))"
   ]
  },
  {
   "cell_type": "code",
   "execution_count": 6,
   "id": "473c8f52-50d0-4831-bcb9-af3feb0d1bb7",
   "metadata": {},
   "outputs": [
    {
     "name": "stdout",
     "output_type": "stream",
     "text": [
      "page_content='so chris last week of course the big news was claude sonnet 3.5 we said on that episode we would daily drive sonnet 3.5 for the entire week which i did and i know you did as well so what do you think now you've had one week of experience with claude sonnet well it's been a pleasure and i think i'm'\n",
      "==========\n",
      "page_content='now you've had one week of experience with claude sonnet well it's been a pleasure and i think i'm gonna steal steal your quote from the usage of it, which is it's so good at one shot solving problems, like just paste in what my thing is. And I always go fix plus or something really like simple'\n"
     ]
    }
   ],
   "source": [
    "print(documents[0])\n",
    "print(\"=\" * 10)\n",
    "print(documents[1])"
   ]
  },
  {
   "cell_type": "markdown",
   "id": "cfe4d81e-afcb-4d53-ba5f-ed807e14085e",
   "metadata": {},
   "source": [
    "## Generte embeddings for Vector search\n",
    "Get vector representation of the texts we have"
   ]
  },
  {
   "cell_type": "code",
   "execution_count": 7,
   "id": "b2470334-6f00-47ed-8e26-4768a80a5eee",
   "metadata": {},
   "outputs": [],
   "source": [
    "llm = llama_cpp.Llama(\n",
    "  # download this model from here https://huggingface.co/mixedbread-ai/mxbai-embed-large-v1/blob/7130e2d16051fdf3e0157e841f8b5a8d0d5e63ef/gguf/mxbai-embed-large-v1-f16.gguf \n",
    "  model_path=\"./models/mxbai-embed-large-v1-f16.gguf\", \n",
    "  embedding=True, \n",
    "  verbose=False\n",
    ")"
   ]
  },
  {
   "cell_type": "code",
   "execution_count": 8,
   "id": "f157d8af-5c72-46e0-ad13-5987ce344989",
   "metadata": {},
   "outputs": [
    {
     "name": "stdout",
     "output_type": "stream",
     "text": [
      "CPU times: user 15min 39s, sys: 34.2 s, total: 16min 13s\n",
      "Wall time: 2min 9s\n"
     ]
    }
   ],
   "source": [
    "%%time\n",
    "embeddings = llm.create_embedding([item.page_content for item in documents])"
   ]
  },
  {
   "cell_type": "code",
   "execution_count": 9,
   "id": "1fc7dd69-fdac-49d5-a098-0865c0f3875d",
   "metadata": {},
   "outputs": [],
   "source": [
    "documents_embeddings = [ \n",
    "  (document, embeddings['embedding'])  \n",
    "  for document, embeddings in zip(documents, embeddings['data'])\n",
    "]"
   ]
  },
  {
   "cell_type": "markdown",
   "id": "c2805eb8-13a4-4dde-a8a8-ce8f870fa427",
   "metadata": {},
   "source": [
    "## Upload data into 🦆"
   ]
  },
  {
   "cell_type": "code",
   "execution_count": 22,
   "id": "390b36d0-f8e9-4d2c-9fef-c1b293395e56",
   "metadata": {},
   "outputs": [],
   "source": [
    "con = duckdb.connect(\"podcasts.duckdb\")\n",
    "con.sql(\"\"\"CREATE TABLE podcast_transcript (\n",
    "id STRING,\n",
    "episode INTEGER,\n",
    "paragraph INTEGER,\n",
    "text STRING,\n",
    "embeddings FLOAT[1024]\n",
    ")\"\"\")"
   ]
  },
  {
   "cell_type": "code",
   "execution_count": 23,
   "id": "c96b0913-2371-4c40-b3d2-b2fb42d69558",
   "metadata": {},
   "outputs": [],
   "source": [
    "for index, (document, embeddings) in enumerate(documents_embeddings):\n",
    "  con.execute(\n",
    "    \"INSERT INTO podcast_transcript VALUES (?, ?, ?, ?, ?)\", \n",
    "    [str(uuid.uuid4()), 68, index, document.page_content, embeddings]\n",
    "  )"
   ]
  },
  {
   "cell_type": "markdown",
   "id": "1b5a8fa7-58da-4225-8767-d54949f65490",
   "metadata": {},
   "source": [
    "Install 🦆 [Full-text search](https://duckdb.org/docs/extensions/full_text_search.html) extention"
   ]
  },
  {
   "cell_type": "code",
   "execution_count": 24,
   "id": "cc563c44-41ab-4dc1-ba66-cce80cb4012c",
   "metadata": {},
   "outputs": [],
   "source": [
    "con.sql(\"INSTALL fts\")\n",
    "con.sql(\"LOAD fts\")\n"
   ]
  },
  {
   "cell_type": "markdown",
   "id": "23a8bcf1-0850-421f-9f6a-cd99a382e76d",
   "metadata": {},
   "source": [
    "The extension adds two `PRAGMA` statements to DuckDB: one to create, and one to drop an index. Additionally, a scalar macro stem is added, which is used internally by the extension.\n",
    "\n",
    "The PRAGMA statement is a special SQL extension adopted by DuckDB from SQLite and is used to interact with external libs in DuckDB\n",
    "\n",
    "So let's create an index for full-text search [(doc)](https://duckdb.org/docs/extensions/full_text_search.html#pragma-create_fts_index)"
   ]
  },
  {
   "cell_type": "code",
   "execution_count": 25,
   "id": "609e3836-f5f8-4a00-81b2-ec67d982f641",
   "metadata": {},
   "outputs": [],
   "source": [
    "con.sql(\"\"\"\n",
    "PRAGMA create_fts_index(\n",
    "    'podcast_transcript', 'id', 'text', overwrite=1\n",
    ");\n",
    "\"\"\")"
   ]
  },
  {
   "cell_type": "markdown",
   "id": "33b2fd50-22da-43b6-8591-bd102c8c60bd",
   "metadata": {},
   "source": [
    "Now let's look into our data"
   ]
  },
  {
   "cell_type": "code",
   "execution_count": 26,
   "id": "1520bf53-2dc6-47a7-bdef-bea41428f404",
   "metadata": {},
   "outputs": [
    {
     "name": "stdout",
     "output_type": "stream",
     "text": [
      "┌──────────────────────┬─────────┬───────────┬──────────────────────┬──────────────────────────────────────────────────┐\n",
      "│          id          │ episode │ paragraph │         text         │                    embeddings                    │\n",
      "│       varchar        │  int32  │   int32   │       varchar        │                   float[1024]                    │\n",
      "├──────────────────────┼─────────┼───────────┼──────────────────────┼──────────────────────────────────────────────────┤\n",
      "│ 813eb6d7-5614-4206…  │      68 │         0 │ so chris last week…  │ [0.64156187, 0.67421854, 0.1992178, -0.1325478…  │\n",
      "│ 002fc5eb-48d7-4875…  │      68 │         1 │ now you've had one…  │ [-0.33717906, 0.12142487, 0.18780196, -0.12293…  │\n",
      "│ e5fd8656-0d9a-46f6…  │      68 │         2 │ like just paste in…  │ [0.11697711, 0.37458858, -0.09488027, 0.310543…  │\n",
      "│ 2c4563e5-677e-41bf…  │      68 │         3 │ the funny thing is…  │ [0.6980952, 0.22205475, 0.18904458, 0.73308444…  │\n",
      "│ 55767b5e-2321-4fae…  │      68 │         4 │ just need to switc…  │ [0.8571351, -0.6188561, 0.33780676, 0.383389, …  │\n",
      "│          ·           │       · │         · │          ·           │                        ·                         │\n",
      "│          ·           │       · │         · │          ·           │                        ·                         │\n",
      "│          ·           │       · │         · │          ·           │                        ·                         │\n",
      "│ 10c2a850-63b6-49da…  │      68 │       303 │ I doubt it, one co…  │ [0.30941644, -0.11167242, -0.5335561, 0.530757…  │\n",
      "│ e74e2dc1-8a25-4f0e…  │      68 │       304 │ all. Alright, than…  │ [1.1074234, 0.29500768, -0.5435727, 0.5493779,…  │\n",
      "│ 60c7020f-24e1-4ae3…  │      68 │       305 │ And you just remin…  │ [0.84169286, 0.68491316, -0.97734106, 0.469896…  │\n",
      "│ 6a9fd6fe-e094-46f9…  │      68 │       306 │ very good. It was …  │ [1.1687295, 0.40836897, -0.3998294, 0.5348898,…  │\n",
      "│ 34a0cb47-078d-462b…  │      68 │       307 │ what the hell is g…  │ [1.1550851, 0.2482678, -0.097203, 1.0606816, 0…  │\n",
      "├──────────────────────┴─────────┴───────────┴──────────────────────┴──────────────────────────────────────────────────┤\n",
      "│ 308 rows (10 shown)                                                                                        5 columns │\n",
      "└──────────────────────────────────────────────────────────────────────────────────────────────────────────────────────┘\n",
      "\n"
     ]
    }
   ],
   "source": [
    "con.sql(\"SELECT * FROM podcast_transcript\").show(max_rows=10)"
   ]
  },
  {
   "cell_type": "code",
   "execution_count": 27,
   "id": "7cc87ee8-e4cd-4dd1-adcd-ad12b3897b6e",
   "metadata": {},
   "outputs": [
    {
     "name": "stdout",
     "output_type": "stream",
     "text": [
      "┌───────────┬──────────────────────────┐\n",
      "│ count(id) │ array_length(embeddings) │\n",
      "│   int64   │          int64           │\n",
      "├───────────┼──────────────────────────┤\n",
      "│       308 │                     1024 │\n",
      "└───────────┴──────────────────────────┘\n",
      "\n"
     ]
    }
   ],
   "source": [
    "con.sql(\"SELECT COUNT(id), array_length(embeddings) FROM podcast_transcript GROUP BY array_length(embeddings)\").show(max_rows=10)"
   ]
  },
  {
   "cell_type": "markdown",
   "id": "98246b2c-5ca5-432e-8637-f27ff86a513a",
   "metadata": {},
   "source": [
    "# Full-text search\n",
    "Full-Text Search works by first breaking down a document or text into words and then indexing each word. \n",
    "The index is essentially a catalog of all the words in the document, along with the location of each word within the document. \n",
    "When a user enters a search query, the system compares it against the indexed words and returns a list of relevant documents \n",
    "or results.\n",
    "\n",
    "Full-Text Search also includes various algorithms and techniques that improve search results. \n",
    "For example, stemming algorithms are used to match different forms of a word, \n",
    "such as \"run,\" \"running,\" and \"ran\". Stop words, which are common words like \"the,\" \"and,\" and \"of,\" \n",
    "are also removed from the index to improve search efficiency. In our case [create_fts_index](https://duckdb.org/docs/extensions/full_text_search.html#pragma-create_fts_index) function uses default pre-defined list of 571 English stopwords, but you can change it using `stopwords` param. It also deals with different forms of words (see [Stemmer and Stopwords sections in the blog post](https://motherduck.com/blog/search-using-duckdb-part-3/) for more details)\n",
    "\n",
    "In our case we will use [match_bm25](https://duckdb.org/docs/extensions/full_text_search.html#match_bm25-function) function for the scoring. BM25 (BM is an abbreviation of best matching) is a ranking function used by search engines to estimate the relevance of documents to a given search query. It checks how often specific words can be found in the document and taking into account length of the document and average length of the documents. You can find formula here, it looks not so difficult [FORMULA](https://en.wikipedia.org/wiki/Okapi_BM25#The_ranking_function)\n",
    "\n"
   ]
  },
  {
   "cell_type": "code",
   "execution_count": 34,
   "id": "b907c542-7dad-422b-8409-8d154fc264e1",
   "metadata": {},
   "outputs": [],
   "source": [
    "def fts(query, limit=3):\n",
    "  return con.sql(\"\"\"\n",
    "    SELECT text, paragraph, fts_main_podcast_transcript.match_bm25(\n",
    "            id,\n",
    "            $searchTerm\n",
    "        ) AS score\n",
    "    FROM podcast_transcript\n",
    "    WHERE score IS NOT NULL\n",
    "    ORDER BY score DESC\n",
    "    LIMIT $limit\n",
    "    \"\"\", params={\"searchTerm\": query, \"limit\": limit})"
   ]
  },
  {
   "cell_type": "code",
   "execution_count": null,
   "id": "2d8d7e3d-470f-48e4-a36f-71a27c229c7d",
   "metadata": {},
   "outputs": [],
   "source": []
  },
  {
   "cell_type": "markdown",
   "id": "4290833a-da98-4120-ae7b-638ad839b5a8",
   "metadata": {},
   "source": [
    "# Vector search\n",
    "\n",
    "In the world of Natural Language Processing (NLP), Vector Embeddings, or vector search, refer to the numerical representations of textual data. These embeddings transform words, phrases, or even entire documents into vectors of real numbers, that capture word relationships and semantic meaning of the textual data. Representing text as vector embeddings enables the possibility of applying mathematical operations such as similarity comparison, clustering, and classification.\n",
    "\n",
    "We wil use simple [array_cosine_similarity](https://duckdb.org/docs/sql/functions/array.html#array_cosine_similarityarray1-array2)\n",
    "Cosine Similarity is a metric for calculating the semantic similarity of vector embeddings. It is also commonly used in the semantic retrieval of information. We calculate it by taking the dot product of the two normalized vectors.\n",
    "\n",
    "1. A value of 1 for this metric indicates that the two vectors are identical\n",
    "2. A value of 0 means they are independent (orthogonal)\n",
    "3. A value of -1 indicates that they are diametrically opposed (opposites)\n"
   ]
  },
  {
   "cell_type": "code",
   "execution_count": 31,
   "id": "e0b00bda-37d4-41cd-a187-13e51bd19025",
   "metadata": {},
   "outputs": [],
   "source": [
    "similarity_checklist = [\n",
    "    \"king\",\n",
    "    \"queen\",\n",
    "    \"король\",\n",
    "    \"тура\",\n",
    "    \"слон\",\n",
    "    \"woman\",\n",
    "    \"man\",\n",
    "    \"cat\",\n",
    "    \"meow\",\n",
    "    \"lion\",\n",
    "    \"dog\",\n",
    "    \"wolf\"\n",
    "]\n",
    "con.sql(\"DROP TABLE similarity_check\")\n",
    "con.sql(\"\"\"CREATE TABLE IF NOT EXISTS similarity_check (\n",
    "id STRING,\n",
    "word STRING,\n",
    "embedding FLOAT[1024]\n",
    ")\"\"\")\n",
    "\n",
    "similarity_check_embeddings = llm.create_embedding(similarity_checklist)\n",
    "\n",
    "\n",
    "for word, embedding in zip(similarity_checklist, similarity_check_embeddings['data']):\n",
    "  con.execute(\n",
    "    \"INSERT INTO similarity_check VALUES (?, ?, ?)\", \n",
    "    [str(uuid.uuid4()), word, embedding['embedding']]\n",
    "  )"
   ]
  },
  {
   "cell_type": "code",
   "execution_count": 29,
   "id": "fe9d1058-438f-4815-a88a-c0cc6d9ac0d7",
   "metadata": {},
   "outputs": [
    {
     "name": "stdout",
     "output_type": "stream",
     "text": [
      "┌──────────────────────┬─────────┬─────────────────────────────────────────────────────────────────────────────────────┐\n",
      "│          id          │  word   │                                      embedding                                      │\n",
      "│       varchar        │ varchar │                                     float[1024]                                     │\n",
      "├──────────────────────┼─────────┼─────────────────────────────────────────────────────────────────────────────────────┤\n",
      "│ 1af59b71-3437-4734…  │ king    │ [0.38659263, -0.5397655, 0.27348864, -0.20799291, -0.33552152, 0.024020072, -0.45…  │\n",
      "│ 83b2b191-87cf-46da…  │ queen   │ [-0.028366804, -0.5756435, 0.10505161, -0.107996225, -0.2769209, -0.19957519, 0.4…  │\n",
      "│ 0de097bf-2852-48d0…  │ король  │ [0.60744846, -0.43981713, -0.4478092, -0.04732138, 0.14943007, -0.6030525, -0.353…  │\n",
      "│ 703034bf-d93c-4dbf…  │ тура    │ [-0.23034039, -0.15377502, -0.5754214, -0.39095268, -0.19352104, -0.3595555, 0.43…  │\n",
      "│ 8bf0c618-5793-493a…  │ woman   │ [-0.5739005, 0.09461535, -0.55485296, -0.22625756, -0.777784, -0.5343519, 0.14057…  │\n",
      "│ bb9ce9c9-502f-430a…  │ man     │ [0.11726042, 0.034737542, -0.07104909, -0.22412455, -0.45178306, -0.0059823357, -…  │\n",
      "│ 09ea4848-a7f6-406d…  │ cat     │ [-0.2092627, 0.2649116, 0.2800106, -0.2008442, -0.8003843, -0.080026984, 0.182694…  │\n",
      "│ 261aec01-feb8-4bf0…  │ meow    │ [-0.0010030195, 0.42797682, -0.08493099, -0.012225278, -0.35081667, -0.7342801, -…  │\n",
      "│ 23c72a6a-4b65-4633…  │ lion    │ [0.30847964, 0.43182018, 0.69481355, -0.6634829, -0.17044152, -0.5882774, 0.32951…  │\n",
      "│ 44127cc2-a40b-4b5b…  │ dog     │ [-0.101458654, -0.02378285, 0.023477817, -0.15665719, -0.56788224, 0.05695822, 0.…  │\n",
      "│ 90a86746-47cc-4891…  │ wolf    │ [-0.31826037, 0.17631486, 0.05401767, -0.10575144, -0.4841591, -0.18591677, 0.010…  │\n",
      "├──────────────────────┴─────────┴─────────────────────────────────────────────────────────────────────────────────────┤\n",
      "│ 11 rows                                                                                                    3 columns │\n",
      "└──────────────────────────────────────────────────────────────────────────────────────────────────────────────────────┘\n",
      "\n"
     ]
    }
   ],
   "source": [
    "con.sql(\"SELECT * FROM similarity_check\").show(max_rows=10)\n"
   ]
  },
  {
   "cell_type": "code",
   "execution_count": 32,
   "id": "517947be-f09c-4fa9-b62a-e2c4f39c81be",
   "metadata": {},
   "outputs": [
    {
     "name": "stdout",
     "output_type": "stream",
     "text": [
      "┌─────────┬─────────┬───────────────────┐\n",
      "│ word_1  │ word_2  │ similarity_metric │\n",
      "│ varchar │ varchar │       float       │\n",
      "├─────────┼─────────┼───────────────────┤\n",
      "│ meow    │ cat     │        0.82352495 │\n",
      "│ wolf    │ dog     │        0.73758084 │\n",
      "│ lion    │ cat     │         0.7090323 │\n",
      "│ queen   │ king    │         0.6937217 │\n",
      "│ dog     │ cat     │          0.691271 │\n",
      "│ wolf    │ lion    │        0.67236227 │\n",
      "│ wolf    │ cat     │         0.6530658 │\n",
      "│ lion    │ dog     │        0.65172124 │\n",
      "│ man     │ king    │        0.62940687 │\n",
      "│ woman   │ queen   │         0.6185585 │\n",
      "│ woman   │ man     │        0.61193275 │\n",
      "│ king    │ cat     │         0.6067609 │\n",
      "│ queen   │ lion    │         0.6052481 │\n",
      "│ слон    │ король  │        0.60499555 │\n",
      "│ man     │ dog     │         0.6042128 │\n",
      "│ lion    │ king    │        0.59995544 │\n",
      "│ wolf    │ king    │        0.59787065 │\n",
      "│ queen   │ cat     │         0.5970367 │\n",
      "│ man     │ cat     │        0.59703016 │\n",
      "│ meow    │ lion    │         0.5965346 │\n",
      "│ слон    │ lion    │         0.5960934 │\n",
      "│ тура    │ король  │        0.58020437 │\n",
      "│ wolf    │ meow    │         0.5775506 │\n",
      "│ слон    │ man     │        0.57572746 │\n",
      "│ man     │ lion    │         0.5754687 │\n",
      "│ king    │ dog     │        0.57529294 │\n",
      "│ meow    │ dog     │        0.57359993 │\n",
      "│ слон    │ cat     │         0.5712018 │\n",
      "│ wolf    │ man     │          0.568689 │\n",
      "│ queen   │ meow    │        0.56558985 │\n",
      "│ слон    │ wolf    │        0.56478894 │\n",
      "│ woman   │ cat     │         0.5598544 │\n",
      "│ woman   │ dog     │         0.5594015 │\n",
      "│ слон    │ dog     │        0.55890894 │\n",
      "│ queen   │ dog     │        0.55006325 │\n",
      "│ слон    │ king    │         0.5497516 │\n",
      "│ woman   │ wolf    │        0.53157586 │\n",
      "│ тура    │ слон    │         0.5273636 │\n",
      "│ meow    │ king    │        0.52671856 │\n",
      "│ слон    │ meow    │         0.5262058 │\n",
      "│ wolf    │ queen   │         0.5216741 │\n",
      "│ woman   │ meow    │          0.519525 │\n",
      "│ слон    │ queen   │        0.51780456 │\n",
      "│ queen   │ man     │        0.51777124 │\n",
      "│ meow    │ man     │        0.51177824 │\n",
      "│ тура    │ woman   │        0.49621883 │\n",
      "│ woman   │ lion    │        0.49490392 │\n",
      "│ король  │ king    │        0.49396768 │\n",
      "│ слон    │ woman   │         0.4897781 │\n",
      "│ woman   │ king    │        0.46544996 │\n",
      "│ тура    │ queen   │         0.4630283 │\n",
      "│ тура    │ meow    │        0.45253497 │\n",
      "│ тура    │ lion    │        0.45189184 │\n",
      "│ тура    │ cat     │        0.45068416 │\n",
      "│ король  │ meow    │        0.44576013 │\n",
      "│ король  │ cat     │          0.445178 │\n",
      "│ король  │ man     │        0.44353703 │\n",
      "│ тура    │ man     │         0.4377285 │\n",
      "│ король  │ lion    │        0.43660524 │\n",
      "│ король  │ dog     │        0.43379003 │\n",
      "│ тура    │ wolf    │         0.4313748 │\n",
      "│ король  │ queen   │        0.42558137 │\n",
      "│ король  │ wolf    │         0.4191982 │\n",
      "│ король  │ woman   │        0.40217352 │\n",
      "│ тура    │ king    │        0.39537686 │\n",
      "│ тура    │ dog     │        0.38830313 │\n",
      "├─────────┴─────────┴───────────────────┤\n",
      "│ 66 rows                     3 columns │\n",
      "└───────────────────────────────────────┘\n",
      "\n"
     ]
    }
   ],
   "source": [
    "con.sql(\"\"\"SELECT x.word as word_1,\n",
    "       y.word as word_2,\n",
    "       array_cosine_similarity(x.embedding, y.embedding) AS similarity_metric\n",
    "    FROM similarity_check AS x\n",
    "    CROSS JOIN similarity_check AS y\n",
    "    WHERE word_1 > word_2\n",
    "    ORDER BY similarity_metric DESC;\n",
    "\"\"\").show(max_rows=100)\n"
   ]
  },
  {
   "cell_type": "code",
   "execution_count": 36,
   "id": "25c774bf-8690-4a80-8f8e-a2f25780772c",
   "metadata": {},
   "outputs": [],
   "source": [
    "def vector_search(query, limit=3):\n",
    "  search_vector = llm.create_embedding([query])['data'][0]['embedding']\n",
    "  return con.sql(\"\"\"\n",
    "    SELECT text, paragraph, \n",
    "           array_cosine_similarity(\n",
    "             embeddings, $searchVector::FLOAT[1024]\n",
    "           ) AS score\n",
    "    FROM podcast_transcript\n",
    "    ORDER BY score DESC\n",
    "    LIMIT $limit\n",
    "    \"\"\", params={\"searchVector\": search_vector, \"limit\": limit})"
   ]
  },
  {
   "cell_type": "markdown",
   "id": "699109a9-d865-4b51-b047-0e04c915b6cb",
   "metadata": {},
   "source": [
    "# Testing"
   ]
  },
  {
   "cell_type": "code",
   "execution_count": 37,
   "id": "1395db88-e234-4a7b-8fb6-d6494f2ec65f",
   "metadata": {},
   "outputs": [
    {
     "name": "stdout",
     "output_type": "stream",
     "text": [
      "FTS\n"
     ]
    },
    {
     "data": {
      "text/plain": [
       "┌─────────────────────────────────────────────────────────────────────────────────────┬───────────┬────────────────────┐\n",
       "│                                        text                                         │ paragraph │       score        │\n",
       "│                                       varchar                                       │   int32   │       double       │\n",
       "├─────────────────────────────────────────────────────────────────────────────────────┼───────────┼────────────────────┤\n",
       "│ like replicating things, listen to this. Hi, Kelly. Welcome to your daily Olympic…  │       205 │ 3.7771193989684075 │\n",
       "│ you've made enough now. Just play the good ones. I was going to get to this later…  │       204 │ 3.6331466774026557 │\n",
       "│ head right to the pool. Team USA secured a stunning victory in the men's four by …  │       206 │ 2.1472140417770316 │\n",
       "└─────────────────────────────────────────────────────────────────────────────────────┴───────────┴────────────────────┘"
      ]
     },
     "metadata": {},
     "output_type": "display_data"
    },
    {
     "name": "stdout",
     "output_type": "stream",
     "text": [
      "==================================================\n",
      "VECTORE\n"
     ]
    },
    {
     "data": {
      "text/plain": [
       "┌─────────────────────────────────────────────────────────────────────────────────────────────┬───────────┬────────────┐\n",
       "│                                            text                                             │ paragraph │   score    │\n",
       "│                                           varchar                                           │   int32   │   float    │\n",
       "├─────────────────────────────────────────────────────────────────────────────────────────────┼───────────┼────────────┤\n",
       "│ like replicating things, listen to this. Hi, Kelly. Welcome to your daily Olympic recap, …  │       205 │  0.6540807 │\n",
       "│ head right to the pool. Team USA secured a stunning victory in the men's four by one. So …  │       206 │ 0.61149085 │\n",
       "│ you've made enough now. Just play the good ones. I was going to get to this later with th…  │       204 │   0.572537 │\n",
       "└─────────────────────────────────────────────────────────────────────────────────────────────┴───────────┴────────────┘"
      ]
     },
     "metadata": {},
     "output_type": "display_data"
    }
   ],
   "source": [
    "query = \"Who did Olympics recap?\"\n",
    "print(\"FTS\")\n",
    "display(fts(query))\n",
    "print(\"=\" * 50)\n",
    "print(\"VECTORE\")\n",
    "display(vector_search(query))"
   ]
  },
  {
   "cell_type": "code",
   "execution_count": 38,
   "id": "3cd17b66-ce50-43f0-b0bd-2219e2f7f03a",
   "metadata": {},
   "outputs": [
    {
     "name": "stdout",
     "output_type": "stream",
     "text": [
      "┌────────────────────────────────────────────────────────────────────────────────────────────────────────────────────────────────────────────────────────────────────────────────────────────────────────────────────────────────────────────────────────────────────────────────────────────────────────────┬───────────┬────────────────────┐\n",
      "│                                                                                                                                                    text                                                                                                                                                    │ paragraph │       score        │\n",
      "│                                                                                                                                                  varchar                                                                                                                                                   │   int32   │       double       │\n",
      "├────────────────────────────────────────────────────────────────────────────────────────────────────────────────────────────────────────────────────────────────────────────────────────────────────────────────────────────────────────────────────────────────────────────────────────────────────────────┼───────────┼────────────────────┤\n",
      "│ like replicating things, listen to this. Hi, Kelly. Welcome to your daily Olympic recap, your personal rundown of yesterday's most thrilling Olympic moments. Since you're a swimming fan, let's head right to the pool. Team USA secured a stunning victory in the men's four by one. So this is Al       │       205 │ 3.7771193989684075 │\n",
      "│ you've made enough now. Just play the good ones. I was going to get to this later with the after we talked about Gemma 2, but I got to play it now. So, speaking of like, you know, voices and people like replicating things, listen to this. Hi, Kelly. Welcome to your daily Olympic recap, your        │       204 │ 3.6331466774026557 │\n",
      "│ head right to the pool. Team USA secured a stunning victory in the men's four by one. So this is Al Michaels. He's the Olympic announcer on NBC that, you know, does all the Olympics. They've taken his voice, made it an AI voice, and every day if you're this NBC Peacock subscriber, they'll send you │       206 │ 2.1472140417770316 │\n",
      "└────────────────────────────────────────────────────────────────────────────────────────────────────────────────────────────────────────────────────────────────────────────────────────────────────────────────────────────────────────────────────────────────────────────────────────────────────────────┴───────────┴────────────────────┘\n",
      "\n"
     ]
    }
   ],
   "source": [
    "fts(query).show(max_width=10000)"
   ]
  },
  {
   "cell_type": "code",
   "execution_count": 40,
   "id": "7ac7121c-f5ee-4331-954e-962b93d54ab5",
   "metadata": {},
   "outputs": [
    {
     "name": "stdout",
     "output_type": "stream",
     "text": [
      "┌────────────────────────────────────────────────────────────────────────────────────────────────────────────────────────────────────────────────────────────────────────────────────────────────────────────────────────────────────────────────────────────────────────────────────────────────────────────┬───────────┬────────────┐\n",
      "│                                                                                                                                                    text                                                                                                                                                    │ paragraph │   score    │\n",
      "│                                                                                                                                                  varchar                                                                                                                                                   │   int32   │   float    │\n",
      "├────────────────────────────────────────────────────────────────────────────────────────────────────────────────────────────────────────────────────────────────────────────────────────────────────────────────────────────────────────────────────────────────────────────────────────────────────────────┼───────────┼────────────┤\n",
      "│ like replicating things, listen to this. Hi, Kelly. Welcome to your daily Olympic recap, your personal rundown of yesterday's most thrilling Olympic moments. Since you're a swimming fan, let's head right to the pool. Team USA secured a stunning victory in the men's four by one. So this is Al       │       205 │  0.6540807 │\n",
      "│ head right to the pool. Team USA secured a stunning victory in the men's four by one. So this is Al Michaels. He's the Olympic announcer on NBC that, you know, does all the Olympics. They've taken his voice, made it an AI voice, and every day if you're this NBC Peacock subscriber, they'll send you │       206 │ 0.61149085 │\n",
      "│ you've made enough now. Just play the good ones. I was going to get to this later with the after we talked about Gemma 2, but I got to play it now. So, speaking of like, you know, voices and people like replicating things, listen to this. Hi, Kelly. Welcome to your daily Olympic recap, your        │       204 │   0.572537 │\n",
      "└────────────────────────────────────────────────────────────────────────────────────────────────────────────────────────────────────────────────────────────────────────────────────────────────────────────────────────────────────────────────────────────────────────────────────────────────────────────┴───────────┴────────────┘\n",
      "\n"
     ]
    }
   ],
   "source": [
    "vector_search(query).show(max_width=10000)"
   ]
  },
  {
   "cell_type": "markdown",
   "id": "d1254172-1ff1-4a02-886b-95793cd4afc0",
   "metadata": {},
   "source": [
    "# Hyrbid search\n",
    "To be continue..."
   ]
  },
  {
   "cell_type": "code",
   "execution_count": null,
   "id": "e4d97adf-bca2-475a-b9a2-0621a263c2ac",
   "metadata": {},
   "outputs": [],
   "source": []
  },
  {
   "cell_type": "markdown",
   "id": "4c7e2c37-2a90-42d5-bc36-3d1cb4ce4ed1",
   "metadata": {},
   "source": [
    "# Some links\n",
    "1. Full text and vectore search in DuckDB video https://www.youtube.com/watch?v=U6k7HnQiWzc\n",
    "2. Hybrid search in DuckDB video https://www.youtube.com/watch?v=Phg91R_RLLE\n",
    "4. Hybrid Search in DuckDB Blog post https://motherduck.com/blog/search-using-duckdb-part-3/\n",
    "5. Vector Search in DuckDB Blog post https://motherduck.com/blog/search-using-duckdb-part-1/\n"
   ]
  },
  {
   "cell_type": "code",
   "execution_count": null,
   "id": "19263296-e8f2-4a04-9297-10d3f3333a20",
   "metadata": {},
   "outputs": [],
   "source": []
  }
 ],
 "metadata": {
  "kernelspec": {
   "display_name": "Python 3 (ipykernel)",
   "language": "python",
   "name": "python3"
  },
  "language_info": {
   "codemirror_mode": {
    "name": "ipython",
    "version": 3
   },
   "file_extension": ".py",
   "mimetype": "text/x-python",
   "name": "python",
   "nbconvert_exporter": "python",
   "pygments_lexer": "ipython3",
   "version": "3.12.2"
  }
 },
 "nbformat": 4,
 "nbformat_minor": 5
}
