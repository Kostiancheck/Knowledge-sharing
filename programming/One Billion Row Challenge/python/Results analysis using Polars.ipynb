{
 "cells": [
  {
   "cell_type": "code",
   "execution_count": 5,
   "id": "10f04a25-ecd3-47d9-ae34-6fae4cff0cb1",
   "metadata": {},
   "outputs": [],
   "source": [
    "# !pip install polars"
   ]
  },
  {
   "cell_type": "code",
   "execution_count": 6,
   "id": "ee4bf769-56a0-4251-a7aa-5fef3ac14591",
   "metadata": {},
   "outputs": [],
   "source": [
    "# !pip install pyarrow"
   ]
  },
  {
   "cell_type": "code",
   "execution_count": 13,
   "id": "c1cf6db5-cc45-47b4-9a20-90e9ca97cc29",
   "metadata": {},
   "outputs": [],
   "source": [
    "import polars as pl\n",
    "\n",
    "def round_stats(df):\n",
    "    return (df\n",
    "            .with_columns(\n",
    "                        min=pl.col(\"min\").round(2),\n",
    "                        mean=pl.col(\"mean\").round(2),\n",
    "                        max=pl.col(\"max\").round(2)\n",
    "                         )\n",
    "           )\n",
    "\n",
    "polars_res = round_stats(pl.read_csv(\"../polars_results.csv\"))\n",
    "# illia_python_result = round_stats(pl.read_csv(\"../results_illia_v2.csv\"))\n",
    "# bohdan_python_result = round_stats(pl.read_csv(\"../test_bohdan.csv\"))\n",
    "\n",
    "# illia_go_result = pl.read_csv(\"../???.csv\")\n",
    "illia2_go_result = pl.read_csv(\"../results_illia_v2.csv\", has_header=False, new_columns=[\"city\", \"min\", \"mean\", \"max\"])\n",
    "# bohdan_python_result = pl.read_csv(\"../???.csv\")\n"
   ]
  },
  {
   "cell_type": "code",
   "execution_count": 15,
   "id": "ee894e69-f82c-4cff-a793-c53b453bcfeb",
   "metadata": {},
   "outputs": [
    {
     "name": "stdout",
     "output_type": "stream",
     "text": [
      "========== POLARS ==========\n"
     ]
    },
    {
     "data": {
      "text/html": [
       "<div><style>\n",
       ".dataframe > thead > tr,\n",
       ".dataframe > tbody > tr {\n",
       "  text-align: right;\n",
       "  white-space: pre-wrap;\n",
       "}\n",
       "</style>\n",
       "<small>shape: (9, 5)</small><table border=\"1\" class=\"dataframe\"><thead><tr><th>statistic</th><th>city</th><th>min</th><th>mean</th><th>max</th></tr><tr><td>str</td><td>str</td><td>f64</td><td>f64</td><td>f64</td></tr></thead><tbody><tr><td>&quot;count&quot;</td><td>&quot;2000&quot;</td><td>2000.0</td><td>2000.0</td><td>2000.0</td></tr><tr><td>&quot;null_count&quot;</td><td>&quot;0&quot;</td><td>0.0</td><td>0.0</td><td>0.0</td></tr><tr><td>&quot;mean&quot;</td><td>null</td><td>-12.106415</td><td>3.034225</td><td>24.223295</td></tr><tr><td>&quot;std&quot;</td><td>null</td><td>2.844279</td><td>0.712817</td><td>5.689062</td></tr><tr><td>&quot;min&quot;</td><td>&quot;Abigailfort&quot;</td><td>-23.96</td><td>1.74</td><td>13.94</td></tr><tr><td>&quot;25%&quot;</td><td>null</td><td>-13.97</td><td>2.5</td><td>19.96</td></tr><tr><td>&quot;50%&quot;</td><td>null</td><td>-11.92</td><td>2.98</td><td>23.87</td></tr><tr><td>&quot;75%&quot;</td><td>null</td><td>-9.97</td><td>3.5</td><td>27.96</td></tr><tr><td>&quot;max&quot;</td><td>&quot;Zimmermanshire…</td><td>-6.96</td><td>6.0</td><td>47.97</td></tr></tbody></table></div>"
      ],
      "text/plain": [
       "shape: (9, 5)\n",
       "┌────────────┬────────────────┬────────────┬──────────┬───────────┐\n",
       "│ statistic  ┆ city           ┆ min        ┆ mean     ┆ max       │\n",
       "│ ---        ┆ ---            ┆ ---        ┆ ---      ┆ ---       │\n",
       "│ str        ┆ str            ┆ f64        ┆ f64      ┆ f64       │\n",
       "╞════════════╪════════════════╪════════════╪══════════╪═══════════╡\n",
       "│ count      ┆ 2000           ┆ 2000.0     ┆ 2000.0   ┆ 2000.0    │\n",
       "│ null_count ┆ 0              ┆ 0.0        ┆ 0.0      ┆ 0.0       │\n",
       "│ mean       ┆ null           ┆ -12.106415 ┆ 3.034225 ┆ 24.223295 │\n",
       "│ std        ┆ null           ┆ 2.844279   ┆ 0.712817 ┆ 5.689062  │\n",
       "│ min        ┆ Abigailfort    ┆ -23.96     ┆ 1.74     ┆ 13.94     │\n",
       "│ 25%        ┆ null           ┆ -13.97     ┆ 2.5      ┆ 19.96     │\n",
       "│ 50%        ┆ null           ┆ -11.92     ┆ 2.98     ┆ 23.87     │\n",
       "│ 75%        ┆ null           ┆ -9.97      ┆ 3.5      ┆ 27.96     │\n",
       "│ max        ┆ Zimmermanshire ┆ -6.96      ┆ 6.0      ┆ 47.97     │\n",
       "└────────────┴────────────────┴────────────┴──────────┴───────────┘"
      ]
     },
     "metadata": {},
     "output_type": "display_data"
    },
    {
     "name": "stdout",
     "output_type": "stream",
     "text": [
      "========== ILLIA V2 GO ==========\n"
     ]
    },
    {
     "data": {
      "text/html": [
       "<div><style>\n",
       ".dataframe > thead > tr,\n",
       ".dataframe > tbody > tr {\n",
       "  text-align: right;\n",
       "  white-space: pre-wrap;\n",
       "}\n",
       "</style>\n",
       "<small>shape: (9, 5)</small><table border=\"1\" class=\"dataframe\"><thead><tr><th>statistic</th><th>city</th><th>min</th><th>mean</th><th>max</th></tr><tr><td>str</td><td>str</td><td>f64</td><td>f64</td><td>f64</td></tr></thead><tbody><tr><td>&quot;count&quot;</td><td>&quot;2000&quot;</td><td>2000.0</td><td>2000.0</td><td>2000.0</td></tr><tr><td>&quot;null_count&quot;</td><td>&quot;0&quot;</td><td>0.0</td><td>0.0</td><td>0.0</td></tr><tr><td>&quot;mean&quot;</td><td>null</td><td>-12.84595</td><td>3.140165</td><td>24.93975</td></tr><tr><td>&quot;std&quot;</td><td>null</td><td>2.834724</td><td>0.712873</td><td>5.674406</td></tr><tr><td>&quot;min&quot;</td><td>&quot;Abigailfort&quot;</td><td>-24.7</td><td>1.844</td><td>14.7</td></tr><tr><td>&quot;25%&quot;</td><td>null</td><td>-14.7</td><td>2.604</td><td>20.7</td></tr><tr><td>&quot;50%&quot;</td><td>null</td><td>-12.6</td><td>3.083</td><td>24.5</td></tr><tr><td>&quot;75%&quot;</td><td>null</td><td>-10.7</td><td>3.61</td><td>28.7</td></tr><tr><td>&quot;max&quot;</td><td>&quot;Zimmermanshire…</td><td>-7.7</td><td>6.106</td><td>48.6</td></tr></tbody></table></div>"
      ],
      "text/plain": [
       "shape: (9, 5)\n",
       "┌────────────┬────────────────┬───────────┬──────────┬──────────┐\n",
       "│ statistic  ┆ city           ┆ min       ┆ mean     ┆ max      │\n",
       "│ ---        ┆ ---            ┆ ---       ┆ ---      ┆ ---      │\n",
       "│ str        ┆ str            ┆ f64       ┆ f64      ┆ f64      │\n",
       "╞════════════╪════════════════╪═══════════╪══════════╪══════════╡\n",
       "│ count      ┆ 2000           ┆ 2000.0    ┆ 2000.0   ┆ 2000.0   │\n",
       "│ null_count ┆ 0              ┆ 0.0       ┆ 0.0      ┆ 0.0      │\n",
       "│ mean       ┆ null           ┆ -12.84595 ┆ 3.140165 ┆ 24.93975 │\n",
       "│ std        ┆ null           ┆ 2.834724  ┆ 0.712873 ┆ 5.674406 │\n",
       "│ min        ┆ Abigailfort    ┆ -24.7     ┆ 1.844    ┆ 14.7     │\n",
       "│ 25%        ┆ null           ┆ -14.7     ┆ 2.604    ┆ 20.7     │\n",
       "│ 50%        ┆ null           ┆ -12.6     ┆ 3.083    ┆ 24.5     │\n",
       "│ 75%        ┆ null           ┆ -10.7     ┆ 3.61     ┆ 28.7     │\n",
       "│ max        ┆ Zimmermanshire ┆ -7.7      ┆ 6.106    ┆ 48.6     │\n",
       "└────────────┴────────────────┴───────────┴──────────┴──────────┘"
      ]
     },
     "metadata": {},
     "output_type": "display_data"
    }
   ],
   "source": [
    "dfs = {\n",
    "    \"Polars\": polars_res, \n",
    "    # \"Illia Python\": illia_python_result, \n",
    "    # \"Bohdan Python\": bohdan_python_result, \n",
    "    \"Illia v2 Go\": illia2_go_result\n",
    "}\n",
    "for name, df in dfs.items():\n",
    "    print(\"=\" * 10, name.upper(), \"=\"*10)\n",
    "    display(df.describe())\n",
    "\n"
   ]
  },
  {
   "cell_type": "code",
   "execution_count": 18,
   "id": "d78a5cdc-e481-4e1f-837c-20e8f881fa2d",
   "metadata": {},
   "outputs": [
    {
     "data": {
      "text/markdown": [
       "POLARS and ILLIA V2 GO have the same datasets: <mark style=\"background: #ff7f7f!important\"> False</mark>"
      ],
      "text/plain": [
       "<IPython.core.display.Markdown object>"
      ]
     },
     "metadata": {},
     "output_type": "display_data"
    }
   ],
   "source": [
    "\n",
    "from IPython.display import Markdown\n",
    "red = \"#ff7f7f\"\n",
    "green = \"#7CFC00\"\n",
    "\n",
    "# compare all results with Polars\n",
    "for name, df in dfs.items():\n",
    "    if name == \"Polars\":\n",
    "        continue\n",
    "\n",
    "    same = dfs[\"Polars\"].sort(by='city').equals(df.sort(by='city'))\n",
    "    display (Markdown(f'POLARS and {name.upper()} have the same datasets: <mark style=\"background: {green if same else red}!important\"> {same}</mark>'))\n",
    "\n"
   ]
  },
  {
   "cell_type": "code",
   "execution_count": null,
   "id": "ce1591d2-64be-4df1-bcf7-828daadf6e87",
   "metadata": {},
   "outputs": [],
   "source": []
  }
 ],
 "metadata": {
  "kernelspec": {
   "display_name": "Python 3 (ipykernel)",
   "language": "python",
   "name": "python3"
  },
  "language_info": {
   "codemirror_mode": {
    "name": "ipython",
    "version": 3
   },
   "file_extension": ".py",
   "mimetype": "text/x-python",
   "name": "python",
   "nbconvert_exporter": "python",
   "pygments_lexer": "ipython3",
   "version": "3.11.8"
  }
 },
 "nbformat": 4,
 "nbformat_minor": 5
}
