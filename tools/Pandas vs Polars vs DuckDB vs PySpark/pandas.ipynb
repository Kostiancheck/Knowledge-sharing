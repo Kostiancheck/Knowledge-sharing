{
 "cells": [
  {
   "cell_type": "code",
   "execution_count": 54,
   "metadata": {
    "ExecuteTime": {
     "end_time": "2025-01-23T14:33:23.140032Z",
     "start_time": "2025-01-23T14:33:22.939223Z"
    }
   },
   "outputs": [
    {
     "data": {
      "text/plain": "False"
     },
     "execution_count": 54,
     "metadata": {},
     "output_type": "execute_result"
    }
   ],
   "source": [
    "import pandas as pd\n",
    "import re\n",
    "import os\n",
    "import dotenv\n",
    "dotenv.load_dotenv(\".env\")"
   ]
  },
  {
   "cell_type": "code",
   "execution_count": 55,
   "metadata": {
    "ExecuteTime": {
     "end_time": "2025-01-23T14:33:23.240394Z",
     "start_time": "2025-01-23T14:33:23.130830Z"
    }
   },
   "outputs": [
    {
     "data": {
      "text/plain": "                                        Title  Average Rating  \\\n0                    The Shawshank Redemption             9.3   \n1  Attack on Titan the Movie: The Last Attack             9.3   \n2                               The Godfather             9.2   \n3                              Hababam Sinifi             9.2   \n4         Ramayana: The Legend of Prince Rama             9.2   \n\n                             Director  \\\n0                      Frank Darabont   \n1                    Yûichirô Hayashi   \n2                Francis Ford Coppola   \n3                       Ertem Egilmez   \n4  Ram Mohan, Yûgô Sakô, Koichi Saski   \n\n                                          Writer  Metascore  \\\n0                   Stephen King, Frank Darabont       82.0   \n1  Natsuki Hanae, Yoshimasa Hosoya, Marina Inoue        NaN   \n2               Mario Puzo, Francis Ford Coppola      100.0   \n3                        Umur Bugay, Rifat Ilgaz        NaN   \n4               Rani Burra, Ram Mohan, Yûgô Sakô        NaN   \n\n                                                Cast  \\\n0  Tim Robbins, Morgan Freeman, Bob Gunton, Willi...   \n1  Natsuki Hanae, Yoshimasa Hosoya, Marina Inoue,...   \n2  Marlon Brando, Al Pacino, James Caan, Diane Ke...   \n3  Münir Özkul, Tarik Akan, Halit Akçatepe, Kemal...   \n4  Arun Govil, Nikhil Kapoor, Edie Mirman, Rael P...   \n\n                 Release Date Country of Origin                Languages  \\\n0    October 14, 1994 (India)     United States                  English   \n1    November 8, 2024 (Japan)             Japan                 Japanese   \n2                1978 (India)     United States  English, Italian, Latin   \n3      April 1, 1975 (Turkey)            Turkey                  Turkish   \n4  September 25, 2001 (India)      India, Japan                  English   \n\n                    Budget Worldwide Gross             Runtime  \n0  $25,000,000 (estimated)     $29,332,133  2 hours 22 minutes  \n1                      NaN      $3,513,659  2 hours 25 minutes  \n2   $6,000,000 (estimated)    $250,342,198  2 hours 55 minutes  \n3                      NaN             NaN   1 hour 25 minutes  \n4                      NaN             NaN  2 hours 15 minutes  ",
      "text/html": "<div>\n<style scoped>\n    .dataframe tbody tr th:only-of-type {\n        vertical-align: middle;\n    }\n\n    .dataframe tbody tr th {\n        vertical-align: top;\n    }\n\n    .dataframe thead th {\n        text-align: right;\n    }\n</style>\n<table border=\"1\" class=\"dataframe\">\n  <thead>\n    <tr style=\"text-align: right;\">\n      <th></th>\n      <th>Title</th>\n      <th>Average Rating</th>\n      <th>Director</th>\n      <th>Writer</th>\n      <th>Metascore</th>\n      <th>Cast</th>\n      <th>Release Date</th>\n      <th>Country of Origin</th>\n      <th>Languages</th>\n      <th>Budget</th>\n      <th>Worldwide Gross</th>\n      <th>Runtime</th>\n    </tr>\n  </thead>\n  <tbody>\n    <tr>\n      <th>0</th>\n      <td>The Shawshank Redemption</td>\n      <td>9.3</td>\n      <td>Frank Darabont</td>\n      <td>Stephen King, Frank Darabont</td>\n      <td>82.0</td>\n      <td>Tim Robbins, Morgan Freeman, Bob Gunton, Willi...</td>\n      <td>October 14, 1994 (India)</td>\n      <td>United States</td>\n      <td>English</td>\n      <td>$25,000,000 (estimated)</td>\n      <td>$29,332,133</td>\n      <td>2 hours 22 minutes</td>\n    </tr>\n    <tr>\n      <th>1</th>\n      <td>Attack on Titan the Movie: The Last Attack</td>\n      <td>9.3</td>\n      <td>Yûichirô Hayashi</td>\n      <td>Natsuki Hanae, Yoshimasa Hosoya, Marina Inoue</td>\n      <td>NaN</td>\n      <td>Natsuki Hanae, Yoshimasa Hosoya, Marina Inoue,...</td>\n      <td>November 8, 2024 (Japan)</td>\n      <td>Japan</td>\n      <td>Japanese</td>\n      <td>NaN</td>\n      <td>$3,513,659</td>\n      <td>2 hours 25 minutes</td>\n    </tr>\n    <tr>\n      <th>2</th>\n      <td>The Godfather</td>\n      <td>9.2</td>\n      <td>Francis Ford Coppola</td>\n      <td>Mario Puzo, Francis Ford Coppola</td>\n      <td>100.0</td>\n      <td>Marlon Brando, Al Pacino, James Caan, Diane Ke...</td>\n      <td>1978 (India)</td>\n      <td>United States</td>\n      <td>English, Italian, Latin</td>\n      <td>$6,000,000 (estimated)</td>\n      <td>$250,342,198</td>\n      <td>2 hours 55 minutes</td>\n    </tr>\n    <tr>\n      <th>3</th>\n      <td>Hababam Sinifi</td>\n      <td>9.2</td>\n      <td>Ertem Egilmez</td>\n      <td>Umur Bugay, Rifat Ilgaz</td>\n      <td>NaN</td>\n      <td>Münir Özkul, Tarik Akan, Halit Akçatepe, Kemal...</td>\n      <td>April 1, 1975 (Turkey)</td>\n      <td>Turkey</td>\n      <td>Turkish</td>\n      <td>NaN</td>\n      <td>NaN</td>\n      <td>1 hour 25 minutes</td>\n    </tr>\n    <tr>\n      <th>4</th>\n      <td>Ramayana: The Legend of Prince Rama</td>\n      <td>9.2</td>\n      <td>Ram Mohan, Yûgô Sakô, Koichi Saski</td>\n      <td>Rani Burra, Ram Mohan, Yûgô Sakô</td>\n      <td>NaN</td>\n      <td>Arun Govil, Nikhil Kapoor, Edie Mirman, Rael P...</td>\n      <td>September 25, 2001 (India)</td>\n      <td>India, Japan</td>\n      <td>English</td>\n      <td>NaN</td>\n      <td>NaN</td>\n      <td>2 hours 15 minutes</td>\n    </tr>\n  </tbody>\n</table>\n</div>"
     },
     "execution_count": 55,
     "metadata": {},
     "output_type": "execute_result"
    }
   ],
   "source": [
    "# dataset link https://www.kaggle.com/datasets/hetbabariya/imdb-movies-data-collection-5000-records?resource=download\n",
    "df = pd.read_csv(\"IMDB_Movies_Dataset.csv\", index_col=0)\n",
    "df.head()"
   ]
  },
  {
   "cell_type": "code",
   "execution_count": 56,
   "metadata": {
    "ExecuteTime": {
     "end_time": "2025-01-23T14:33:23.258372Z",
     "start_time": "2025-01-23T14:33:23.206469Z"
    }
   },
   "outputs": [
    {
     "data": {
      "text/plain": "Index(['Title', 'Rating', 'Director', 'Writer', 'Metascore', 'Cast',\n       'Release Date', 'Country of Origin', 'Languages', 'Budget',\n       'Worldwide Gross', 'Runtime'],\n      dtype='object')"
     },
     "execution_count": 56,
     "metadata": {},
     "output_type": "execute_result"
    }
   ],
   "source": [
    "df = df.rename(\n",
    "    columns={\"Average Rating\": \"Rating\"}\n",
    ")\n",
    "df.columns"
   ]
  },
  {
   "cell_type": "code",
   "execution_count": 57,
   "metadata": {
    "ExecuteTime": {
     "end_time": "2025-01-23T14:33:23.326103Z",
     "start_time": "2025-01-23T14:33:23.257454Z"
    }
   },
   "outputs": [
    {
     "name": "stdout",
     "output_type": "stream",
     "text": [
      "<class 'pandas.core.frame.DataFrame'>\n",
      "Index: 4989 entries, 0 to 499\n",
      "Data columns (total 12 columns):\n",
      " #   Column             Non-Null Count  Dtype  \n",
      "---  ------             --------------  -----  \n",
      " 0   Title              4989 non-null   object \n",
      " 1   Rating             4989 non-null   float64\n",
      " 2   Director           4989 non-null   object \n",
      " 3   Writer             4988 non-null   object \n",
      " 4   Metascore          3055 non-null   float64\n",
      " 5   Cast               4982 non-null   object \n",
      " 6   Release Date       4989 non-null   object \n",
      " 7   Country of Origin  4986 non-null   object \n",
      " 8   Languages          4968 non-null   object \n",
      " 9   Budget             2651 non-null   object \n",
      " 10  Worldwide Gross    3895 non-null   object \n",
      " 11  Runtime            4989 non-null   object \n",
      "dtypes: float64(2), object(10)\n",
      "memory usage: 506.7+ KB\n"
     ]
    }
   ],
   "source": [
    "df.info()"
   ]
  },
  {
   "cell_type": "code",
   "execution_count": 58,
   "metadata": {
    "ExecuteTime": {
     "end_time": "2025-01-23T14:33:23.511710Z",
     "start_time": "2025-01-23T14:33:23.297151Z"
    }
   },
   "outputs": [
    {
     "data": {
      "text/plain": "               Title       Rating          Director          Writer  \\\ncount           4989  4989.000000              4989            4988   \nunique          4927          NaN              2648            4422   \ntop     Little Women          NaN  Steven Spielberg  Ingmar Bergman   \nfreq               4          NaN                24              17   \nmean             NaN     7.632892               NaN             NaN   \nstd              NaN     0.365243               NaN             NaN   \nmin              NaN     7.200000               NaN             NaN   \n25%              NaN     7.300000               NaN             NaN   \n50%              NaN     7.600000               NaN             NaN   \n75%              NaN     7.800000               NaN             NaN   \nmax              NaN     9.300000               NaN             NaN   \n\n          Metascore          Cast             Release Date Country of Origin  \\\ncount   3055.000000          4982                     4989              4986   \nunique          NaN          4981                     4516               812   \ntop             NaN  Slavoj Zizek  October 4, 2017 (India)     United States   \nfreq            NaN             2                       20              1624   \nmean      74.684452           NaN                      NaN               NaN   \nstd       12.298911           NaN                      NaN               NaN   \nmin       25.000000           NaN                      NaN               NaN   \n25%       67.000000           NaN                      NaN               NaN   \n50%       76.000000           NaN                      NaN               NaN   \n75%       84.000000           NaN                      NaN               NaN   \nmax      100.000000           NaN                      NaN               NaN   \n\n       Languages                   Budget Worldwide Gross            Runtime  \ncount       4968                     2651            3895               4989  \nunique      1084                      882            3865                182  \ntop      English  $15,000,000 (estimated)            $509  1 hour 35 minutes  \nfreq        1514                       63               7                109  \nmean         NaN                      NaN             NaN                NaN  \nstd          NaN                      NaN             NaN                NaN  \nmin          NaN                      NaN             NaN                NaN  \n25%          NaN                      NaN             NaN                NaN  \n50%          NaN                      NaN             NaN                NaN  \n75%          NaN                      NaN             NaN                NaN  \nmax          NaN                      NaN             NaN                NaN  ",
      "text/html": "<div>\n<style scoped>\n    .dataframe tbody tr th:only-of-type {\n        vertical-align: middle;\n    }\n\n    .dataframe tbody tr th {\n        vertical-align: top;\n    }\n\n    .dataframe thead th {\n        text-align: right;\n    }\n</style>\n<table border=\"1\" class=\"dataframe\">\n  <thead>\n    <tr style=\"text-align: right;\">\n      <th></th>\n      <th>Title</th>\n      <th>Rating</th>\n      <th>Director</th>\n      <th>Writer</th>\n      <th>Metascore</th>\n      <th>Cast</th>\n      <th>Release Date</th>\n      <th>Country of Origin</th>\n      <th>Languages</th>\n      <th>Budget</th>\n      <th>Worldwide Gross</th>\n      <th>Runtime</th>\n    </tr>\n  </thead>\n  <tbody>\n    <tr>\n      <th>count</th>\n      <td>4989</td>\n      <td>4989.000000</td>\n      <td>4989</td>\n      <td>4988</td>\n      <td>3055.000000</td>\n      <td>4982</td>\n      <td>4989</td>\n      <td>4986</td>\n      <td>4968</td>\n      <td>2651</td>\n      <td>3895</td>\n      <td>4989</td>\n    </tr>\n    <tr>\n      <th>unique</th>\n      <td>4927</td>\n      <td>NaN</td>\n      <td>2648</td>\n      <td>4422</td>\n      <td>NaN</td>\n      <td>4981</td>\n      <td>4516</td>\n      <td>812</td>\n      <td>1084</td>\n      <td>882</td>\n      <td>3865</td>\n      <td>182</td>\n    </tr>\n    <tr>\n      <th>top</th>\n      <td>Little Women</td>\n      <td>NaN</td>\n      <td>Steven Spielberg</td>\n      <td>Ingmar Bergman</td>\n      <td>NaN</td>\n      <td>Slavoj Zizek</td>\n      <td>October 4, 2017 (India)</td>\n      <td>United States</td>\n      <td>English</td>\n      <td>$15,000,000 (estimated)</td>\n      <td>$509</td>\n      <td>1 hour 35 minutes</td>\n    </tr>\n    <tr>\n      <th>freq</th>\n      <td>4</td>\n      <td>NaN</td>\n      <td>24</td>\n      <td>17</td>\n      <td>NaN</td>\n      <td>2</td>\n      <td>20</td>\n      <td>1624</td>\n      <td>1514</td>\n      <td>63</td>\n      <td>7</td>\n      <td>109</td>\n    </tr>\n    <tr>\n      <th>mean</th>\n      <td>NaN</td>\n      <td>7.632892</td>\n      <td>NaN</td>\n      <td>NaN</td>\n      <td>74.684452</td>\n      <td>NaN</td>\n      <td>NaN</td>\n      <td>NaN</td>\n      <td>NaN</td>\n      <td>NaN</td>\n      <td>NaN</td>\n      <td>NaN</td>\n    </tr>\n    <tr>\n      <th>std</th>\n      <td>NaN</td>\n      <td>0.365243</td>\n      <td>NaN</td>\n      <td>NaN</td>\n      <td>12.298911</td>\n      <td>NaN</td>\n      <td>NaN</td>\n      <td>NaN</td>\n      <td>NaN</td>\n      <td>NaN</td>\n      <td>NaN</td>\n      <td>NaN</td>\n    </tr>\n    <tr>\n      <th>min</th>\n      <td>NaN</td>\n      <td>7.200000</td>\n      <td>NaN</td>\n      <td>NaN</td>\n      <td>25.000000</td>\n      <td>NaN</td>\n      <td>NaN</td>\n      <td>NaN</td>\n      <td>NaN</td>\n      <td>NaN</td>\n      <td>NaN</td>\n      <td>NaN</td>\n    </tr>\n    <tr>\n      <th>25%</th>\n      <td>NaN</td>\n      <td>7.300000</td>\n      <td>NaN</td>\n      <td>NaN</td>\n      <td>67.000000</td>\n      <td>NaN</td>\n      <td>NaN</td>\n      <td>NaN</td>\n      <td>NaN</td>\n      <td>NaN</td>\n      <td>NaN</td>\n      <td>NaN</td>\n    </tr>\n    <tr>\n      <th>50%</th>\n      <td>NaN</td>\n      <td>7.600000</td>\n      <td>NaN</td>\n      <td>NaN</td>\n      <td>76.000000</td>\n      <td>NaN</td>\n      <td>NaN</td>\n      <td>NaN</td>\n      <td>NaN</td>\n      <td>NaN</td>\n      <td>NaN</td>\n      <td>NaN</td>\n    </tr>\n    <tr>\n      <th>75%</th>\n      <td>NaN</td>\n      <td>7.800000</td>\n      <td>NaN</td>\n      <td>NaN</td>\n      <td>84.000000</td>\n      <td>NaN</td>\n      <td>NaN</td>\n      <td>NaN</td>\n      <td>NaN</td>\n      <td>NaN</td>\n      <td>NaN</td>\n      <td>NaN</td>\n    </tr>\n    <tr>\n      <th>max</th>\n      <td>NaN</td>\n      <td>9.300000</td>\n      <td>NaN</td>\n      <td>NaN</td>\n      <td>100.000000</td>\n      <td>NaN</td>\n      <td>NaN</td>\n      <td>NaN</td>\n      <td>NaN</td>\n      <td>NaN</td>\n      <td>NaN</td>\n      <td>NaN</td>\n    </tr>\n  </tbody>\n</table>\n</div>"
     },
     "execution_count": 58,
     "metadata": {},
     "output_type": "execute_result"
    }
   ],
   "source": [
    "df.describe(include=\"all\")"
   ]
  },
  {
   "cell_type": "code",
   "execution_count": 59,
   "metadata": {
    "ExecuteTime": {
     "end_time": "2025-01-23T14:33:23.539115Z",
     "start_time": "2025-01-23T14:33:23.351108Z"
    }
   },
   "outputs": [
    {
     "data": {
      "text/plain": "Runtime\n1 hour 35 minutes     109\n1 hour 50 minutes     109\n1 hour 43 minutes     100\n1 hour 58 minutes      94\n1 hour 30 minutes      92\n                     ... \n59 minutes              1\n7 hours 1 minute        1\n5 hours 50 minutes      1\n1 hour                  1\n55 minutes              1\nName: count, Length: 182, dtype: int64"
     },
     "execution_count": 59,
     "metadata": {},
     "output_type": "execute_result"
    }
   ],
   "source": [
    "df[\"Runtime\"].value_counts()"
   ]
  },
  {
   "cell_type": "code",
   "execution_count": 60,
   "metadata": {
    "ExecuteTime": {
     "end_time": "2025-01-23T14:33:23.687872Z",
     "start_time": "2025-01-23T14:33:23.535925Z"
    }
   },
   "outputs": [
    {
     "data": {
      "text/plain": "145"
     },
     "execution_count": 60,
     "metadata": {},
     "output_type": "execute_result"
    }
   ],
   "source": [
    "def runtime_to_minutes(string: str) -> int:\n",
    "    hours = re.search(r\"(\\d+) hours?\", string)\n",
    "    if hours:\n",
    "        hours = int(hours.group(1))\n",
    "    else:\n",
    "        hours = 0\n",
    "    minutes = re.search(r\"(\\d+) minutes\", string)\n",
    "    if minutes:\n",
    "        minutes = int(minutes.group(1))\n",
    "    else:\n",
    "        minutes = 0\n",
    "    return hours * 60 + minutes\n",
    "\n",
    "\n",
    "runtime_to_minutes(\"2 hours 25 minutes\")"
   ]
  },
  {
   "cell_type": "code",
   "execution_count": 61,
   "metadata": {
    "ExecuteTime": {
     "end_time": "2025-01-23T14:33:23.731035Z",
     "start_time": "2025-01-23T14:33:23.628864Z"
    }
   },
   "outputs": [
    {
     "data": {
      "text/plain": "                                        Title  Rating  \\\n0                    The Shawshank Redemption     9.3   \n1  Attack on Titan the Movie: The Last Attack     9.3   \n2                               The Godfather     9.2   \n3                              Hababam Sinifi     9.2   \n4         Ramayana: The Legend of Prince Rama     9.2   \n\n                             Director  \\\n0                      Frank Darabont   \n1                    Yûichirô Hayashi   \n2                Francis Ford Coppola   \n3                       Ertem Egilmez   \n4  Ram Mohan, Yûgô Sakô, Koichi Saski   \n\n                                          Writer  Metascore  \\\n0                   Stephen King, Frank Darabont       82.0   \n1  Natsuki Hanae, Yoshimasa Hosoya, Marina Inoue        NaN   \n2               Mario Puzo, Francis Ford Coppola      100.0   \n3                        Umur Bugay, Rifat Ilgaz        NaN   \n4               Rani Burra, Ram Mohan, Yûgô Sakô        NaN   \n\n                                                Cast  \\\n0  Tim Robbins, Morgan Freeman, Bob Gunton, Willi...   \n1  Natsuki Hanae, Yoshimasa Hosoya, Marina Inoue,...   \n2  Marlon Brando, Al Pacino, James Caan, Diane Ke...   \n3  Münir Özkul, Tarik Akan, Halit Akçatepe, Kemal...   \n4  Arun Govil, Nikhil Kapoor, Edie Mirman, Rael P...   \n\n                 Release Date Country of Origin                Languages  \\\n0    October 14, 1994 (India)     United States                  English   \n1    November 8, 2024 (Japan)             Japan                 Japanese   \n2                1978 (India)     United States  English, Italian, Latin   \n3      April 1, 1975 (Turkey)            Turkey                  Turkish   \n4  September 25, 2001 (India)      India, Japan                  English   \n\n                    Budget Worldwide Gross             Runtime  \\\n0  $25,000,000 (estimated)     $29,332,133  2 hours 22 minutes   \n1                      NaN      $3,513,659  2 hours 25 minutes   \n2   $6,000,000 (estimated)    $250,342,198  2 hours 55 minutes   \n3                      NaN             NaN   1 hour 25 minutes   \n4                      NaN             NaN  2 hours 15 minutes   \n\n   Runtime (minutes)  \n0                142  \n1                145  \n2                175  \n3                 85  \n4                135  ",
      "text/html": "<div>\n<style scoped>\n    .dataframe tbody tr th:only-of-type {\n        vertical-align: middle;\n    }\n\n    .dataframe tbody tr th {\n        vertical-align: top;\n    }\n\n    .dataframe thead th {\n        text-align: right;\n    }\n</style>\n<table border=\"1\" class=\"dataframe\">\n  <thead>\n    <tr style=\"text-align: right;\">\n      <th></th>\n      <th>Title</th>\n      <th>Rating</th>\n      <th>Director</th>\n      <th>Writer</th>\n      <th>Metascore</th>\n      <th>Cast</th>\n      <th>Release Date</th>\n      <th>Country of Origin</th>\n      <th>Languages</th>\n      <th>Budget</th>\n      <th>Worldwide Gross</th>\n      <th>Runtime</th>\n      <th>Runtime (minutes)</th>\n    </tr>\n  </thead>\n  <tbody>\n    <tr>\n      <th>0</th>\n      <td>The Shawshank Redemption</td>\n      <td>9.3</td>\n      <td>Frank Darabont</td>\n      <td>Stephen King, Frank Darabont</td>\n      <td>82.0</td>\n      <td>Tim Robbins, Morgan Freeman, Bob Gunton, Willi...</td>\n      <td>October 14, 1994 (India)</td>\n      <td>United States</td>\n      <td>English</td>\n      <td>$25,000,000 (estimated)</td>\n      <td>$29,332,133</td>\n      <td>2 hours 22 minutes</td>\n      <td>142</td>\n    </tr>\n    <tr>\n      <th>1</th>\n      <td>Attack on Titan the Movie: The Last Attack</td>\n      <td>9.3</td>\n      <td>Yûichirô Hayashi</td>\n      <td>Natsuki Hanae, Yoshimasa Hosoya, Marina Inoue</td>\n      <td>NaN</td>\n      <td>Natsuki Hanae, Yoshimasa Hosoya, Marina Inoue,...</td>\n      <td>November 8, 2024 (Japan)</td>\n      <td>Japan</td>\n      <td>Japanese</td>\n      <td>NaN</td>\n      <td>$3,513,659</td>\n      <td>2 hours 25 minutes</td>\n      <td>145</td>\n    </tr>\n    <tr>\n      <th>2</th>\n      <td>The Godfather</td>\n      <td>9.2</td>\n      <td>Francis Ford Coppola</td>\n      <td>Mario Puzo, Francis Ford Coppola</td>\n      <td>100.0</td>\n      <td>Marlon Brando, Al Pacino, James Caan, Diane Ke...</td>\n      <td>1978 (India)</td>\n      <td>United States</td>\n      <td>English, Italian, Latin</td>\n      <td>$6,000,000 (estimated)</td>\n      <td>$250,342,198</td>\n      <td>2 hours 55 minutes</td>\n      <td>175</td>\n    </tr>\n    <tr>\n      <th>3</th>\n      <td>Hababam Sinifi</td>\n      <td>9.2</td>\n      <td>Ertem Egilmez</td>\n      <td>Umur Bugay, Rifat Ilgaz</td>\n      <td>NaN</td>\n      <td>Münir Özkul, Tarik Akan, Halit Akçatepe, Kemal...</td>\n      <td>April 1, 1975 (Turkey)</td>\n      <td>Turkey</td>\n      <td>Turkish</td>\n      <td>NaN</td>\n      <td>NaN</td>\n      <td>1 hour 25 minutes</td>\n      <td>85</td>\n    </tr>\n    <tr>\n      <th>4</th>\n      <td>Ramayana: The Legend of Prince Rama</td>\n      <td>9.2</td>\n      <td>Ram Mohan, Yûgô Sakô, Koichi Saski</td>\n      <td>Rani Burra, Ram Mohan, Yûgô Sakô</td>\n      <td>NaN</td>\n      <td>Arun Govil, Nikhil Kapoor, Edie Mirman, Rael P...</td>\n      <td>September 25, 2001 (India)</td>\n      <td>India, Japan</td>\n      <td>English</td>\n      <td>NaN</td>\n      <td>NaN</td>\n      <td>2 hours 15 minutes</td>\n      <td>135</td>\n    </tr>\n  </tbody>\n</table>\n</div>"
     },
     "execution_count": 61,
     "metadata": {},
     "output_type": "execute_result"
    }
   ],
   "source": [
    "df[\"Runtime (minutes)\"] = df[\"Runtime\"].apply(runtime_to_minutes)\n",
    "df.head()"
   ]
  },
  {
   "cell_type": "code",
   "execution_count": 62,
   "metadata": {
    "ExecuteTime": {
     "end_time": "2025-01-23T14:33:23.895475Z",
     "start_time": "2025-01-23T14:33:23.718855Z"
    }
   },
   "outputs": [
    {
     "data": {
      "text/plain": "6000000"
     },
     "execution_count": 62,
     "metadata": {},
     "output_type": "execute_result"
    }
   ],
   "source": [
    "def money_to_usd(string: str | None) -> int:\n",
    "    if not isinstance(string, str) or not \"$\" in string:\n",
    "        return None\n",
    "    budget = int(re.sub(r\"[^\\d]\", \"\", string))\n",
    "    return budget\n",
    "money_to_usd(\"$6,000,000 (estimated)\")"
   ]
  },
  {
   "cell_type": "code",
   "execution_count": 63,
   "metadata": {
    "ExecuteTime": {
     "end_time": "2025-01-23T14:33:24.027916Z",
     "start_time": "2025-01-23T14:33:23.896740Z"
    }
   },
   "outputs": [
    {
     "data": {
      "text/plain": "0    25000000.0\n1           NaN\n2     6000000.0\n3           NaN\n4           NaN\nName: Budget (usd), dtype: float64"
     },
     "execution_count": 63,
     "metadata": {},
     "output_type": "execute_result"
    }
   ],
   "source": [
    "df[\"Budget (usd)\"] = df[\"Budget\"].apply(money_to_usd)\n",
    "df[\"Worldwide Gross (usd)\"] = df[\"Worldwide Gross\"].apply(money_to_usd)\n",
    "df[\"Budget (usd)\"].head()"
   ]
  },
  {
   "cell_type": "code",
   "execution_count": 64,
   "metadata": {
    "ExecuteTime": {
     "end_time": "2025-01-23T14:33:24.109953Z",
     "start_time": "2025-01-23T14:33:23.947513Z"
    }
   },
   "outputs": [
    {
     "data": {
      "text/plain": "0    25000000\n1        <NA>\n2     6000000\n3        <NA>\n4        <NA>\nName: Budget (usd), dtype: Int64"
     },
     "execution_count": 64,
     "metadata": {},
     "output_type": "execute_result"
    }
   ],
   "source": [
    "df[\"Budget (usd)\"] = df[\"Budget (usd)\"].astype(\"Int64\")\n",
    "df[\"Worldwide Gross (usd)\"] = df[\"Worldwide Gross (usd)\"].astype(\"Int64\")\n",
    "df[\"Budget (usd)\"].head()"
   ]
  },
  {
   "cell_type": "code",
   "execution_count": 65,
   "metadata": {
    "ExecuteTime": {
     "end_time": "2025-01-23T14:33:24.301496Z",
     "start_time": "2025-01-23T14:33:24.122860Z"
    }
   },
   "outputs": [
    {
     "data": {
      "text/plain": "                                        Title  Rating  \\\n0                    The Shawshank Redemption     9.3   \n1  Attack on Titan the Movie: The Last Attack     9.3   \n2                               The Godfather     9.2   \n3                              Hababam Sinifi     9.2   \n4         Ramayana: The Legend of Prince Rama     9.2   \n\n                             Director  \\\n0                      Frank Darabont   \n1                    Yûichirô Hayashi   \n2                Francis Ford Coppola   \n3                       Ertem Egilmez   \n4  Ram Mohan, Yûgô Sakô, Koichi Saski   \n\n                                          Writer  Metascore  \\\n0                   Stephen King, Frank Darabont       82.0   \n1  Natsuki Hanae, Yoshimasa Hosoya, Marina Inoue        NaN   \n2               Mario Puzo, Francis Ford Coppola      100.0   \n3                        Umur Bugay, Rifat Ilgaz        NaN   \n4               Rani Burra, Ram Mohan, Yûgô Sakô        NaN   \n\n                                                Cast  \\\n0  Tim Robbins, Morgan Freeman, Bob Gunton, Willi...   \n1  Natsuki Hanae, Yoshimasa Hosoya, Marina Inoue,...   \n2  Marlon Brando, Al Pacino, James Caan, Diane Ke...   \n3  Münir Özkul, Tarik Akan, Halit Akçatepe, Kemal...   \n4  Arun Govil, Nikhil Kapoor, Edie Mirman, Rael P...   \n\n                 Release Date Country of Origin                Languages  \\\n0    October 14, 1994 (India)     United States                  English   \n1    November 8, 2024 (Japan)             Japan                 Japanese   \n2                1978 (India)     United States  English, Italian, Latin   \n3      April 1, 1975 (Turkey)            Turkey                  Turkish   \n4  September 25, 2001 (India)      India, Japan                  English   \n\n                    Budget Worldwide Gross             Runtime  \\\n0  $25,000,000 (estimated)     $29,332,133  2 hours 22 minutes   \n1                      NaN      $3,513,659  2 hours 25 minutes   \n2   $6,000,000 (estimated)    $250,342,198  2 hours 55 minutes   \n3                      NaN             NaN   1 hour 25 minutes   \n4                      NaN             NaN  2 hours 15 minutes   \n\n   Runtime (minutes)  Budget (usd)  Worldwide Gross (usd)  Profit (usd)  \n0                142      25000000               29332133       4332133  \n1                145          <NA>                3513659          <NA>  \n2                175       6000000              250342198     244342198  \n3                 85          <NA>                   <NA>          <NA>  \n4                135          <NA>                   <NA>          <NA>  ",
      "text/html": "<div>\n<style scoped>\n    .dataframe tbody tr th:only-of-type {\n        vertical-align: middle;\n    }\n\n    .dataframe tbody tr th {\n        vertical-align: top;\n    }\n\n    .dataframe thead th {\n        text-align: right;\n    }\n</style>\n<table border=\"1\" class=\"dataframe\">\n  <thead>\n    <tr style=\"text-align: right;\">\n      <th></th>\n      <th>Title</th>\n      <th>Rating</th>\n      <th>Director</th>\n      <th>Writer</th>\n      <th>Metascore</th>\n      <th>Cast</th>\n      <th>Release Date</th>\n      <th>Country of Origin</th>\n      <th>Languages</th>\n      <th>Budget</th>\n      <th>Worldwide Gross</th>\n      <th>Runtime</th>\n      <th>Runtime (minutes)</th>\n      <th>Budget (usd)</th>\n      <th>Worldwide Gross (usd)</th>\n      <th>Profit (usd)</th>\n    </tr>\n  </thead>\n  <tbody>\n    <tr>\n      <th>0</th>\n      <td>The Shawshank Redemption</td>\n      <td>9.3</td>\n      <td>Frank Darabont</td>\n      <td>Stephen King, Frank Darabont</td>\n      <td>82.0</td>\n      <td>Tim Robbins, Morgan Freeman, Bob Gunton, Willi...</td>\n      <td>October 14, 1994 (India)</td>\n      <td>United States</td>\n      <td>English</td>\n      <td>$25,000,000 (estimated)</td>\n      <td>$29,332,133</td>\n      <td>2 hours 22 minutes</td>\n      <td>142</td>\n      <td>25000000</td>\n      <td>29332133</td>\n      <td>4332133</td>\n    </tr>\n    <tr>\n      <th>1</th>\n      <td>Attack on Titan the Movie: The Last Attack</td>\n      <td>9.3</td>\n      <td>Yûichirô Hayashi</td>\n      <td>Natsuki Hanae, Yoshimasa Hosoya, Marina Inoue</td>\n      <td>NaN</td>\n      <td>Natsuki Hanae, Yoshimasa Hosoya, Marina Inoue,...</td>\n      <td>November 8, 2024 (Japan)</td>\n      <td>Japan</td>\n      <td>Japanese</td>\n      <td>NaN</td>\n      <td>$3,513,659</td>\n      <td>2 hours 25 minutes</td>\n      <td>145</td>\n      <td>&lt;NA&gt;</td>\n      <td>3513659</td>\n      <td>&lt;NA&gt;</td>\n    </tr>\n    <tr>\n      <th>2</th>\n      <td>The Godfather</td>\n      <td>9.2</td>\n      <td>Francis Ford Coppola</td>\n      <td>Mario Puzo, Francis Ford Coppola</td>\n      <td>100.0</td>\n      <td>Marlon Brando, Al Pacino, James Caan, Diane Ke...</td>\n      <td>1978 (India)</td>\n      <td>United States</td>\n      <td>English, Italian, Latin</td>\n      <td>$6,000,000 (estimated)</td>\n      <td>$250,342,198</td>\n      <td>2 hours 55 minutes</td>\n      <td>175</td>\n      <td>6000000</td>\n      <td>250342198</td>\n      <td>244342198</td>\n    </tr>\n    <tr>\n      <th>3</th>\n      <td>Hababam Sinifi</td>\n      <td>9.2</td>\n      <td>Ertem Egilmez</td>\n      <td>Umur Bugay, Rifat Ilgaz</td>\n      <td>NaN</td>\n      <td>Münir Özkul, Tarik Akan, Halit Akçatepe, Kemal...</td>\n      <td>April 1, 1975 (Turkey)</td>\n      <td>Turkey</td>\n      <td>Turkish</td>\n      <td>NaN</td>\n      <td>NaN</td>\n      <td>1 hour 25 minutes</td>\n      <td>85</td>\n      <td>&lt;NA&gt;</td>\n      <td>&lt;NA&gt;</td>\n      <td>&lt;NA&gt;</td>\n    </tr>\n    <tr>\n      <th>4</th>\n      <td>Ramayana: The Legend of Prince Rama</td>\n      <td>9.2</td>\n      <td>Ram Mohan, Yûgô Sakô, Koichi Saski</td>\n      <td>Rani Burra, Ram Mohan, Yûgô Sakô</td>\n      <td>NaN</td>\n      <td>Arun Govil, Nikhil Kapoor, Edie Mirman, Rael P...</td>\n      <td>September 25, 2001 (India)</td>\n      <td>India, Japan</td>\n      <td>English</td>\n      <td>NaN</td>\n      <td>NaN</td>\n      <td>2 hours 15 minutes</td>\n      <td>135</td>\n      <td>&lt;NA&gt;</td>\n      <td>&lt;NA&gt;</td>\n      <td>&lt;NA&gt;</td>\n    </tr>\n  </tbody>\n</table>\n</div>"
     },
     "execution_count": 65,
     "metadata": {},
     "output_type": "execute_result"
    }
   ],
   "source": [
    "df[\"Profit (usd)\"] = df[\"Worldwide Gross (usd)\"] - df[\"Budget (usd)\"]\n",
    "df.head()"
   ]
  },
  {
   "cell_type": "code",
   "execution_count": 66,
   "metadata": {
    "ExecuteTime": {
     "end_time": "2025-01-23T14:33:24.437289Z",
     "start_time": "2025-01-23T14:33:24.302233Z"
    }
   },
   "outputs": [
    {
     "data": {
      "text/plain": "                        Title  Rating                  Director  \\\n164         Avengers: Endgame     8.4  Anthony Russo, Joe Russo   \n378        The Little Mermaid     7.2              Rob Marshall   \n18   Avatar: The Way of Water     7.5             James Cameron   \n\n                                                Writer  Metascore  \\\n164      Christopher Markus, Stephen McFeely, Stan Lee       78.0   \n378  David Magee, Hans Christian Andersen, John Musker       59.0   \n18            James Cameron, Rick Jaffa, Amanda Silver       67.0   \n\n                                                  Cast  \\\n164  Robert Downey Jr., Chris Evans, Mark Ruffalo, ...   \n378  Halle Bailey, Jonah Hauer-King, Melissa McCart...   \n18   Sam Worthington, Zoe Saldana, Sigourney Weaver...   \n\n                  Release Date Country of Origin  \\\n164     April 26, 2019 (India)     United States   \n378       May 26, 2023 (India)     United States   \n18   December 16, 2022 (India)     United States   \n\n                            Languages                    Budget  \\\n164  English, Japanese, Xhosa, German  $356,000,000 (estimated)   \n378                           English  $355,100,000 (estimated)   \n18                            English  $350,000,000 (estimated)   \n\n    Worldwide Gross             Runtime  Runtime (minutes)  Budget (usd)  \\\n164  $2,799,439,100    3 hours 1 minute                180     356000000   \n378    $569,626,289  2 hours 15 minutes                135     355100000   \n18   $2,320,250,281  3 hours 12 minutes                192     350000000   \n\n     Worldwide Gross (usd)  Profit (usd)  \n164             2799439100    2443439100  \n378              569626289     214526289  \n18              2320250281    1970250281  ",
      "text/html": "<div>\n<style scoped>\n    .dataframe tbody tr th:only-of-type {\n        vertical-align: middle;\n    }\n\n    .dataframe tbody tr th {\n        vertical-align: top;\n    }\n\n    .dataframe thead th {\n        text-align: right;\n    }\n</style>\n<table border=\"1\" class=\"dataframe\">\n  <thead>\n    <tr style=\"text-align: right;\">\n      <th></th>\n      <th>Title</th>\n      <th>Rating</th>\n      <th>Director</th>\n      <th>Writer</th>\n      <th>Metascore</th>\n      <th>Cast</th>\n      <th>Release Date</th>\n      <th>Country of Origin</th>\n      <th>Languages</th>\n      <th>Budget</th>\n      <th>Worldwide Gross</th>\n      <th>Runtime</th>\n      <th>Runtime (minutes)</th>\n      <th>Budget (usd)</th>\n      <th>Worldwide Gross (usd)</th>\n      <th>Profit (usd)</th>\n    </tr>\n  </thead>\n  <tbody>\n    <tr>\n      <th>164</th>\n      <td>Avengers: Endgame</td>\n      <td>8.4</td>\n      <td>Anthony Russo, Joe Russo</td>\n      <td>Christopher Markus, Stephen McFeely, Stan Lee</td>\n      <td>78.0</td>\n      <td>Robert Downey Jr., Chris Evans, Mark Ruffalo, ...</td>\n      <td>April 26, 2019 (India)</td>\n      <td>United States</td>\n      <td>English, Japanese, Xhosa, German</td>\n      <td>$356,000,000 (estimated)</td>\n      <td>$2,799,439,100</td>\n      <td>3 hours 1 minute</td>\n      <td>180</td>\n      <td>356000000</td>\n      <td>2799439100</td>\n      <td>2443439100</td>\n    </tr>\n    <tr>\n      <th>378</th>\n      <td>The Little Mermaid</td>\n      <td>7.2</td>\n      <td>Rob Marshall</td>\n      <td>David Magee, Hans Christian Andersen, John Musker</td>\n      <td>59.0</td>\n      <td>Halle Bailey, Jonah Hauer-King, Melissa McCart...</td>\n      <td>May 26, 2023 (India)</td>\n      <td>United States</td>\n      <td>English</td>\n      <td>$355,100,000 (estimated)</td>\n      <td>$569,626,289</td>\n      <td>2 hours 15 minutes</td>\n      <td>135</td>\n      <td>355100000</td>\n      <td>569626289</td>\n      <td>214526289</td>\n    </tr>\n    <tr>\n      <th>18</th>\n      <td>Avatar: The Way of Water</td>\n      <td>7.5</td>\n      <td>James Cameron</td>\n      <td>James Cameron, Rick Jaffa, Amanda Silver</td>\n      <td>67.0</td>\n      <td>Sam Worthington, Zoe Saldana, Sigourney Weaver...</td>\n      <td>December 16, 2022 (India)</td>\n      <td>United States</td>\n      <td>English</td>\n      <td>$350,000,000 (estimated)</td>\n      <td>$2,320,250,281</td>\n      <td>3 hours 12 minutes</td>\n      <td>192</td>\n      <td>350000000</td>\n      <td>2320250281</td>\n      <td>1970250281</td>\n    </tr>\n  </tbody>\n</table>\n</div>"
     },
     "execution_count": 66,
     "metadata": {},
     "output_type": "execute_result"
    }
   ],
   "source": [
    "highest_budget = df.sort_values(by=\"Budget (usd)\", ascending=False)[:10]\n",
    "highest_budget.head(3)"
   ]
  },
  {
   "cell_type": "code",
   "execution_count": 67,
   "metadata": {
    "ExecuteTime": {
     "end_time": "2025-01-23T14:33:24.692999Z",
     "start_time": "2025-01-23T14:33:24.424170Z"
    }
   },
   "outputs": [
    {
     "data": {
      "text/plain": "<Axes: xlabel='Runtime (minutes)', ylabel='Budget (usd)'>"
     },
     "execution_count": 67,
     "metadata": {},
     "output_type": "execute_result"
    },
    {
     "data": {
      "text/plain": "<Figure size 640x480 with 2 Axes>",
      "image/png": "[encoded data removed]"
     },
     "metadata": {},
     "output_type": "display_data"
    }
   ],
   "source": [
    "# matplotlib under the hood\n",
    "# install matplotlib first \n",
    "highest_budget.plot(\n",
    "    kind=\"scatter\",\n",
    "    x=\"Runtime (minutes)\",\n",
    "    y=\"Budget (usd)\",\n",
    "    c=\"Profit (usd)\",\n",
    "    colormap=\"RdYlGn\",\n",
    ")"
   ]
  },
  {
   "cell_type": "code",
   "execution_count": 68,
   "metadata": {
    "ExecuteTime": {
     "end_time": "2025-01-23T14:33:24.715439Z",
     "start_time": "2025-01-23T14:33:24.609398Z"
    }
   },
   "outputs": [
    {
     "name": "stderr",
     "output_type": "stream",
     "text": [
      "/var/folders/6k/pgkjzwf5565dsnb9yf06xcxm0000gn/T/ipykernel_68338/2633735925.py:2: FutureWarning: A value is trying to be set on a copy of a DataFrame or Series through chained assignment using an inplace method.\n",
      "The behavior will change in pandas 3.0. This inplace method will never work because the intermediate object on which we are setting values always behaves as a copy.\n",
      "\n",
      "For example, when doing 'df[col].method(value, inplace=True)', try using 'df.method({col: value}, inplace=True)' or df[col] = df[col].method(value) instead, to perform the operation inplace on the original object.\n",
      "\n",
      "\n",
      "  df[\"Cast\"].fillna(\"\", inplace=True)\n"
     ]
    },
    {
     "data": {
      "text/plain": "                                                 Title  Rating  \\\n494  Pirates of the Caribbean: The Curse of the Bla...     8.1   \n26                                             Platoon     8.1   \n495                                Edward Scissorhands     7.9   \n355                                            Ed Wood     7.8   \n141                        What's Eating Gilbert Grape     7.7   \n153                                      Donnie Brasco     7.7   \n218                                  Finding Neverland     7.7   \n311  Gonzo: The Life and Work of Dr. Hunter S. Thom...     7.6   \n464                                When You're Strange     7.6   \n67                      Fear and Loathing in Las Vegas     7.5   \n74                                                Blow     7.5   \n180                                           Dead Man     7.5   \n121         Pirates of the Caribbean: Dead Man's Chest     7.4   \n122                          A Nightmare on Elm Street     7.4   \n160                                       Corpse Bride     7.4   \n210                                      Sleepy Hollow     7.3   \n261     Sweeney Todd: The Demon Barber of Fleet Street     7.3   \n330                                              Rango     7.3   \n272                                  Lost in La Mancha     7.3   \n460                                           Chocolat     7.2   \n122                                      Arizona Dream     7.2   \n152                                          Yamawatta     7.2   \n\n                     Director  \\\n494            Gore Verbinski   \n26               Oliver Stone   \n495                Tim Burton   \n355                Tim Burton   \n141           Lasse Hallström   \n153               Mike Newell   \n218              Marc Forster   \n311               Alex Gibney   \n464               Tom DiCillo   \n67              Terry Gilliam   \n74                  Ted Demme   \n180              Jim Jarmusch   \n121            Gore Verbinski   \n122                Wes Craven   \n160  Tim Burton, Mike Johnson   \n210                Tim Burton   \n261                Tim Burton   \n330            Gore Verbinski   \n272  Keith Fulton, Louis Pepe   \n460           Lasse Hallström   \n122            Emir Kusturica   \n152            Andrew Levitas   \n\n                                                Writer  Metascore  \\\n494          Ted Elliott, Terry Rossio, Stuart Beattie       63.0   \n26                                        Oliver Stone       92.0   \n495                      Tim Burton, Caroline Thompson       74.0   \n355   Rudolph Grey, Scott Alexander, Larry Karaszewski       71.0   \n141                                       Peter Hedges       73.0   \n153  Joseph D. Pistone, Richard Woodley, Paul Attan...       77.0   \n218                            Allan Knee, David Magee       67.0   \n311                    Alex Gibney, Hunter S. Thompson       73.0   \n464                                        Tom DiCillo       55.0   \n67     Hunter S. Thompson, Terry Gilliam, Tony Grisoni       41.0   \n74        Bruce Porter, David McKenna, Nick Cassavetes       52.0   \n180                                       Jim Jarmusch       62.0   \n121          Ted Elliott, Terry Rossio, Stuart Beattie       53.0   \n122                                         Wes Craven       76.0   \n160            Tim Burton, Carlos Grangel, John August       83.0   \n210  Washington Irving, Kevin Yagher, Andrew Kevin ...       65.0   \n261         John Logan, Hugh Wheeler, Christopher Bond       83.0   \n330      John Logan, Gore Verbinski, James Ward Byrkit       75.0   \n272                           Keith Fulton, Louis Pepe       75.0   \n460                Joanne Harris, Robert Nelson Jacobs       64.0   \n122                       David Atkins, Emir Kusturica       62.0   \n152     David Kessler, Stephen Deuters, Andrew Levitas       55.0   \n\n                                                  Cast  \\\n494  Johnny Depp, Geoffrey Rush, Orlando Bloom, Kei...   \n26   Charlie Sheen, Tom Berenger, Willem Dafoe, Kei...   \n495  Johnny Depp, Winona Ryder, Dianne Wiest, Antho...   \n355  Johnny Depp, Martin Landau, Sarah Jessica Park...   \n141  Johnny Depp, Leonardo DiCaprio, Juliette Lewis...   \n153  Al Pacino, Johnny Depp, Michael Madsen, Bruno ...   \n218  Johnny Depp, Kate Winslet, Julie Christie, Rad...   \n311  Hunter S. Thompson, Johnny Depp, Joe Cairo, Da...   \n464  Johnny Depp, John Densmore, Robby Krieger, Ray...   \n67   Johnny Depp, Benicio Del Toro, Tobey Maguire, ...   \n74   Johnny Depp, Penélope Cruz, Franka Potente, Ra...   \n180  Johnny Depp, Gary Farmer, Crispin Glover, Lanc...   \n121  Johnny Depp, Orlando Bloom, Keira Knightley, J...   \n122  Heather Langenkamp, Johnny Depp, Robert Englun...   \n160  Johnny Depp, Helena Bonham Carter, Emily Watso...   \n210  Johnny Depp, Christina Ricci, Miranda Richards...   \n261  Johnny Depp, Helena Bonham Carter, Alan Rickma...   \n330  Johnny Depp, Isla Fisher, Timothy Olyphant, Ab...   \n272  Terry Gilliam, Johnny Depp, Jeff Bridges, Tony...   \n460  Juliette Binoche, Johnny Depp, Judi Dench, Alf...   \n122  Johnny Depp, Jerry Lewis, Faye Dunaway, Lili T...   \n152  Akiko Iwase, Kogarashi Wakasugi, Johnny Depp, ...   \n\n                             Release Date  \\\n494               August 15, 2003 (India)   \n26              February 13, 1989 (India)   \n495               January 1, 1992 (India)   \n355                          1994 (India)   \n141         March 4, 1994 (United States)   \n153              February 9, 2017 (India)   \n218              January 28, 2005 (India)   \n311         July 18, 2008 (United States)   \n464          May 12, 2010 (United States)   \n67           May 22, 1998 (United States)   \n74                 August 4, 2020 (India)   \n180             December 23, 1995 (Japan)   \n121               August 25, 2006 (India)   \n122                     July 1985 (India)   \n160              October 31, 2005 (India)   \n210                 July 14, 2000 (India)   \n261             February 28, 2008 (India)   \n330                April 20, 2011 (India)   \n272       August 2, 2002 (United Kingdom)   \n460                August 1, 2021 (India)   \n122              January 6, 1993 (France)   \n152  April 8, 2021 (United Arab Emirates)   \n\n                                     Country of Origin  \\\n494                                      United States   \n26                       United States, United Kingdom   \n495                                      United States   \n355                                      United States   \n141                                      United States   \n153                                      United States   \n218                      United States, United Kingdom   \n311                                      United States   \n464                                      United States   \n67                                       United States   \n74                                       United States   \n180                      Germany, Japan, United States   \n121                                      United States   \n122                                      United States   \n160                                      United States   \n210             United States, Germany, United Kingdom   \n261                      United States, United Kingdom   \n330                      United States, United Kingdom   \n272                      United Kingdom, United States   \n460                      United Kingdom, United States   \n122                              France, United States   \n152  United Kingdom, United States, United Arab Emi...   \n\n                                     Languages                    Budget  \\\n494                                    English  $140,000,000 (estimated)   \n26                         English, Vietnamese    $6,000,000 (estimated)   \n495                                    English   $20,000,000 (estimated)   \n355                                    English   $18,000,000 (estimated)   \n141                                    English   $11,000,000 (estimated)   \n153                 English, Italian, Japanese   $35,000,000 (estimated)   \n218                                    English   $25,000,000 (estimated)   \n311                        English, Portuguese                       NaN   \n464                                    English                       NaN   \n67                                     English   $18,500,000 (estimated)   \n74                                     English   $53,000,000 (estimated)   \n180                              English, Cree    $9,000,000 (estimated)   \n121  English, Turkish, Greek, Mandarin, French  $225,000,000 (estimated)   \n122                                    English    $1,800,000 (estimated)   \n160                                    English   $40,000,000 (estimated)   \n210                             English, Latin  $100,000,000 (estimated)   \n261                           English, Italian   $50,000,000 (estimated)   \n330                                    English  $135,000,000 (estimated)   \n272                   English, Spanish, French                       NaN   \n460                            English, French   $25,000,000 (estimated)   \n122                English, Spanish, Inuktitut   $19,000,000 (estimated)   \n152                 English, Japanese, Persian                       NaN   \n\n    Worldwide Gross             Runtime  Runtime (minutes)  Budget (usd)  \\\n494    $654,264,546  2 hours 23 minutes                143     140000000   \n26     $138,545,632             2 hours                120       6000000   \n495     $86,024,005   1 hour 45 minutes                105      20000000   \n355      $5,888,045   2 hours 7 minutes                127      18000000   \n141     $10,032,765   1 hour 58 minutes                118      11000000   \n153    $124,909,762   2 hours 7 minutes                127      35000000   \n218    $116,650,613   1 hour 46 minutes                106      25000000   \n311      $1,491,958             2 hours                120          <NA>   \n464      $1,194,182   1 hour 26 minutes                 86          <NA>   \n67      $10,680,275   1 hour 58 minutes                118      18500000   \n74      $83,282,296   2 hours 4 minutes                124      53000000   \n180      $1,085,079    2 hours 1 minute                120       9000000   \n121  $1,066,179,747  2 hours 31 minutes                151     225000000   \n122     $25,858,216   1 hour 31 minutes                 91       1800000   \n160    $117,237,680   1 hour 17 minutes                 77      40000000   \n210    $206,071,526   1 hour 45 minutes                105     100000000   \n261    $153,384,272   1 hour 56 minutes                116      50000000   \n330    $245,724,603   1 hour 47 minutes                107     135000000   \n272      $1,407,019   1 hour 33 minutes                 93          <NA>   \n460    $152,700,626    2 hours 1 minute                120      25000000   \n122        $112,547  2 hours 22 minutes                142      19000000   \n152        $755,878   1 hour 55 minutes                115          <NA>   \n\n     Worldwide Gross (usd)  Profit (usd)  \n494              654264546     514264546  \n26               138545632     132545632  \n495               86024005      66024005  \n355                5888045     -12111955  \n141               10032765       -967235  \n153              124909762      89909762  \n218              116650613      91650613  \n311                1491958          <NA>  \n464                1194182          <NA>  \n67                10680275      -7819725  \n74                83282296      30282296  \n180                1085079      -7914921  \n121             1066179747     841179747  \n122               25858216      24058216  \n160              117237680      77237680  \n210              206071526     106071526  \n261              153384272     103384272  \n330              245724603     110724603  \n272                1407019          <NA>  \n460              152700626     127700626  \n122                 112547     -18887453  \n152                 755878          <NA>  ",
      "text/html": "<div>\n<style scoped>\n    .dataframe tbody tr th:only-of-type {\n        vertical-align: middle;\n    }\n\n    .dataframe tbody tr th {\n        vertical-align: top;\n    }\n\n    .dataframe thead th {\n        text-align: right;\n    }\n</style>\n<table border=\"1\" class=\"dataframe\">\n  <thead>\n    <tr style=\"text-align: right;\">\n      <th></th>\n      <th>Title</th>\n      <th>Rating</th>\n      <th>Director</th>\n      <th>Writer</th>\n      <th>Metascore</th>\n      <th>Cast</th>\n      <th>Release Date</th>\n      <th>Country of Origin</th>\n      <th>Languages</th>\n      <th>Budget</th>\n      <th>Worldwide Gross</th>\n      <th>Runtime</th>\n      <th>Runtime (minutes)</th>\n      <th>Budget (usd)</th>\n      <th>Worldwide Gross (usd)</th>\n      <th>Profit (usd)</th>\n    </tr>\n  </thead>\n  <tbody>\n    <tr>\n      <th>494</th>\n      <td>Pirates of the Caribbean: The Curse of the Bla...</td>\n      <td>8.1</td>\n      <td>Gore Verbinski</td>\n      <td>Ted Elliott, Terry Rossio, Stuart Beattie</td>\n      <td>63.0</td>\n      <td>Johnny Depp, Geoffrey Rush, Orlando Bloom, Kei...</td>\n      <td>August 15, 2003 (India)</td>\n      <td>United States</td>\n      <td>English</td>\n      <td>$140,000,000 (estimated)</td>\n      <td>$654,264,546</td>\n      <td>2 hours 23 minutes</td>\n      <td>143</td>\n      <td>140000000</td>\n      <td>654264546</td>\n      <td>514264546</td>\n    </tr>\n    <tr>\n      <th>26</th>\n      <td>Platoon</td>\n      <td>8.1</td>\n      <td>Oliver Stone</td>\n      <td>Oliver Stone</td>\n      <td>92.0</td>\n      <td>Charlie Sheen, Tom Berenger, Willem Dafoe, Kei...</td>\n      <td>February 13, 1989 (India)</td>\n      <td>United States, United Kingdom</td>\n      <td>English, Vietnamese</td>\n      <td>$6,000,000 (estimated)</td>\n      <td>$138,545,632</td>\n      <td>2 hours</td>\n      <td>120</td>\n      <td>6000000</td>\n      <td>138545632</td>\n      <td>132545632</td>\n    </tr>\n    <tr>\n      <th>495</th>\n      <td>Edward Scissorhands</td>\n      <td>7.9</td>\n      <td>Tim Burton</td>\n      <td>Tim Burton, Caroline Thompson</td>\n      <td>74.0</td>\n      <td>Johnny Depp, Winona Ryder, Dianne Wiest, Antho...</td>\n      <td>January 1, 1992 (India)</td>\n      <td>United States</td>\n      <td>English</td>\n      <td>$20,000,000 (estimated)</td>\n      <td>$86,024,005</td>\n      <td>1 hour 45 minutes</td>\n      <td>105</td>\n      <td>20000000</td>\n      <td>86024005</td>\n      <td>66024005</td>\n    </tr>\n    <tr>\n      <th>355</th>\n      <td>Ed Wood</td>\n      <td>7.8</td>\n      <td>Tim Burton</td>\n      <td>Rudolph Grey, Scott Alexander, Larry Karaszewski</td>\n      <td>71.0</td>\n      <td>Johnny Depp, Martin Landau, Sarah Jessica Park...</td>\n      <td>1994 (India)</td>\n      <td>United States</td>\n      <td>English</td>\n      <td>$18,000,000 (estimated)</td>\n      <td>$5,888,045</td>\n      <td>2 hours 7 minutes</td>\n      <td>127</td>\n      <td>18000000</td>\n      <td>5888045</td>\n      <td>-12111955</td>\n    </tr>\n    <tr>\n      <th>141</th>\n      <td>What's Eating Gilbert Grape</td>\n      <td>7.7</td>\n      <td>Lasse Hallström</td>\n      <td>Peter Hedges</td>\n      <td>73.0</td>\n      <td>Johnny Depp, Leonardo DiCaprio, Juliette Lewis...</td>\n      <td>March 4, 1994 (United States)</td>\n      <td>United States</td>\n      <td>English</td>\n      <td>$11,000,000 (estimated)</td>\n      <td>$10,032,765</td>\n      <td>1 hour 58 minutes</td>\n      <td>118</td>\n      <td>11000000</td>\n      <td>10032765</td>\n      <td>-967235</td>\n    </tr>\n    <tr>\n      <th>153</th>\n      <td>Donnie Brasco</td>\n      <td>7.7</td>\n      <td>Mike Newell</td>\n      <td>Joseph D. Pistone, Richard Woodley, Paul Attan...</td>\n      <td>77.0</td>\n      <td>Al Pacino, Johnny Depp, Michael Madsen, Bruno ...</td>\n      <td>February 9, 2017 (India)</td>\n      <td>United States</td>\n      <td>English, Italian, Japanese</td>\n      <td>$35,000,000 (estimated)</td>\n      <td>$124,909,762</td>\n      <td>2 hours 7 minutes</td>\n      <td>127</td>\n      <td>35000000</td>\n      <td>124909762</td>\n      <td>89909762</td>\n    </tr>\n    <tr>\n      <th>218</th>\n      <td>Finding Neverland</td>\n      <td>7.7</td>\n      <td>Marc Forster</td>\n      <td>Allan Knee, David Magee</td>\n      <td>67.0</td>\n      <td>Johnny Depp, Kate Winslet, Julie Christie, Rad...</td>\n      <td>January 28, 2005 (India)</td>\n      <td>United States, United Kingdom</td>\n      <td>English</td>\n      <td>$25,000,000 (estimated)</td>\n      <td>$116,650,613</td>\n      <td>1 hour 46 minutes</td>\n      <td>106</td>\n      <td>25000000</td>\n      <td>116650613</td>\n      <td>91650613</td>\n    </tr>\n    <tr>\n      <th>311</th>\n      <td>Gonzo: The Life and Work of Dr. Hunter S. Thom...</td>\n      <td>7.6</td>\n      <td>Alex Gibney</td>\n      <td>Alex Gibney, Hunter S. Thompson</td>\n      <td>73.0</td>\n      <td>Hunter S. Thompson, Johnny Depp, Joe Cairo, Da...</td>\n      <td>July 18, 2008 (United States)</td>\n      <td>United States</td>\n      <td>English, Portuguese</td>\n      <td>NaN</td>\n      <td>$1,491,958</td>\n      <td>2 hours</td>\n      <td>120</td>\n      <td>&lt;NA&gt;</td>\n      <td>1491958</td>\n      <td>&lt;NA&gt;</td>\n    </tr>\n    <tr>\n      <th>464</th>\n      <td>When You're Strange</td>\n      <td>7.6</td>\n      <td>Tom DiCillo</td>\n      <td>Tom DiCillo</td>\n      <td>55.0</td>\n      <td>Johnny Depp, John Densmore, Robby Krieger, Ray...</td>\n      <td>May 12, 2010 (United States)</td>\n      <td>United States</td>\n      <td>English</td>\n      <td>NaN</td>\n      <td>$1,194,182</td>\n      <td>1 hour 26 minutes</td>\n      <td>86</td>\n      <td>&lt;NA&gt;</td>\n      <td>1194182</td>\n      <td>&lt;NA&gt;</td>\n    </tr>\n    <tr>\n      <th>67</th>\n      <td>Fear and Loathing in Las Vegas</td>\n      <td>7.5</td>\n      <td>Terry Gilliam</td>\n      <td>Hunter S. Thompson, Terry Gilliam, Tony Grisoni</td>\n      <td>41.0</td>\n      <td>Johnny Depp, Benicio Del Toro, Tobey Maguire, ...</td>\n      <td>May 22, 1998 (United States)</td>\n      <td>United States</td>\n      <td>English</td>\n      <td>$18,500,000 (estimated)</td>\n      <td>$10,680,275</td>\n      <td>1 hour 58 minutes</td>\n      <td>118</td>\n      <td>18500000</td>\n      <td>10680275</td>\n      <td>-7819725</td>\n    </tr>\n    <tr>\n      <th>74</th>\n      <td>Blow</td>\n      <td>7.5</td>\n      <td>Ted Demme</td>\n      <td>Bruce Porter, David McKenna, Nick Cassavetes</td>\n      <td>52.0</td>\n      <td>Johnny Depp, Penélope Cruz, Franka Potente, Ra...</td>\n      <td>August 4, 2020 (India)</td>\n      <td>United States</td>\n      <td>English</td>\n      <td>$53,000,000 (estimated)</td>\n      <td>$83,282,296</td>\n      <td>2 hours 4 minutes</td>\n      <td>124</td>\n      <td>53000000</td>\n      <td>83282296</td>\n      <td>30282296</td>\n    </tr>\n    <tr>\n      <th>180</th>\n      <td>Dead Man</td>\n      <td>7.5</td>\n      <td>Jim Jarmusch</td>\n      <td>Jim Jarmusch</td>\n      <td>62.0</td>\n      <td>Johnny Depp, Gary Farmer, Crispin Glover, Lanc...</td>\n      <td>December 23, 1995 (Japan)</td>\n      <td>Germany, Japan, United States</td>\n      <td>English, Cree</td>\n      <td>$9,000,000 (estimated)</td>\n      <td>$1,085,079</td>\n      <td>2 hours 1 minute</td>\n      <td>120</td>\n      <td>9000000</td>\n      <td>1085079</td>\n      <td>-7914921</td>\n    </tr>\n    <tr>\n      <th>121</th>\n      <td>Pirates of the Caribbean: Dead Man's Chest</td>\n      <td>7.4</td>\n      <td>Gore Verbinski</td>\n      <td>Ted Elliott, Terry Rossio, Stuart Beattie</td>\n      <td>53.0</td>\n      <td>Johnny Depp, Orlando Bloom, Keira Knightley, J...</td>\n      <td>August 25, 2006 (India)</td>\n      <td>United States</td>\n      <td>English, Turkish, Greek, Mandarin, French</td>\n      <td>$225,000,000 (estimated)</td>\n      <td>$1,066,179,747</td>\n      <td>2 hours 31 minutes</td>\n      <td>151</td>\n      <td>225000000</td>\n      <td>1066179747</td>\n      <td>841179747</td>\n    </tr>\n    <tr>\n      <th>122</th>\n      <td>A Nightmare on Elm Street</td>\n      <td>7.4</td>\n      <td>Wes Craven</td>\n      <td>Wes Craven</td>\n      <td>76.0</td>\n      <td>Heather Langenkamp, Johnny Depp, Robert Englun...</td>\n      <td>July 1985 (India)</td>\n      <td>United States</td>\n      <td>English</td>\n      <td>$1,800,000 (estimated)</td>\n      <td>$25,858,216</td>\n      <td>1 hour 31 minutes</td>\n      <td>91</td>\n      <td>1800000</td>\n      <td>25858216</td>\n      <td>24058216</td>\n    </tr>\n    <tr>\n      <th>160</th>\n      <td>Corpse Bride</td>\n      <td>7.4</td>\n      <td>Tim Burton, Mike Johnson</td>\n      <td>Tim Burton, Carlos Grangel, John August</td>\n      <td>83.0</td>\n      <td>Johnny Depp, Helena Bonham Carter, Emily Watso...</td>\n      <td>October 31, 2005 (India)</td>\n      <td>United States</td>\n      <td>English</td>\n      <td>$40,000,000 (estimated)</td>\n      <td>$117,237,680</td>\n      <td>1 hour 17 minutes</td>\n      <td>77</td>\n      <td>40000000</td>\n      <td>117237680</td>\n      <td>77237680</td>\n    </tr>\n    <tr>\n      <th>210</th>\n      <td>Sleepy Hollow</td>\n      <td>7.3</td>\n      <td>Tim Burton</td>\n      <td>Washington Irving, Kevin Yagher, Andrew Kevin ...</td>\n      <td>65.0</td>\n      <td>Johnny Depp, Christina Ricci, Miranda Richards...</td>\n      <td>July 14, 2000 (India)</td>\n      <td>United States, Germany, United Kingdom</td>\n      <td>English, Latin</td>\n      <td>$100,000,000 (estimated)</td>\n      <td>$206,071,526</td>\n      <td>1 hour 45 minutes</td>\n      <td>105</td>\n      <td>100000000</td>\n      <td>206071526</td>\n      <td>106071526</td>\n    </tr>\n    <tr>\n      <th>261</th>\n      <td>Sweeney Todd: The Demon Barber of Fleet Street</td>\n      <td>7.3</td>\n      <td>Tim Burton</td>\n      <td>John Logan, Hugh Wheeler, Christopher Bond</td>\n      <td>83.0</td>\n      <td>Johnny Depp, Helena Bonham Carter, Alan Rickma...</td>\n      <td>February 28, 2008 (India)</td>\n      <td>United States, United Kingdom</td>\n      <td>English, Italian</td>\n      <td>$50,000,000 (estimated)</td>\n      <td>$153,384,272</td>\n      <td>1 hour 56 minutes</td>\n      <td>116</td>\n      <td>50000000</td>\n      <td>153384272</td>\n      <td>103384272</td>\n    </tr>\n    <tr>\n      <th>330</th>\n      <td>Rango</td>\n      <td>7.3</td>\n      <td>Gore Verbinski</td>\n      <td>John Logan, Gore Verbinski, James Ward Byrkit</td>\n      <td>75.0</td>\n      <td>Johnny Depp, Isla Fisher, Timothy Olyphant, Ab...</td>\n      <td>April 20, 2011 (India)</td>\n      <td>United States, United Kingdom</td>\n      <td>English</td>\n      <td>$135,000,000 (estimated)</td>\n      <td>$245,724,603</td>\n      <td>1 hour 47 minutes</td>\n      <td>107</td>\n      <td>135000000</td>\n      <td>245724603</td>\n      <td>110724603</td>\n    </tr>\n    <tr>\n      <th>272</th>\n      <td>Lost in La Mancha</td>\n      <td>7.3</td>\n      <td>Keith Fulton, Louis Pepe</td>\n      <td>Keith Fulton, Louis Pepe</td>\n      <td>75.0</td>\n      <td>Terry Gilliam, Johnny Depp, Jeff Bridges, Tony...</td>\n      <td>August 2, 2002 (United Kingdom)</td>\n      <td>United Kingdom, United States</td>\n      <td>English, Spanish, French</td>\n      <td>NaN</td>\n      <td>$1,407,019</td>\n      <td>1 hour 33 minutes</td>\n      <td>93</td>\n      <td>&lt;NA&gt;</td>\n      <td>1407019</td>\n      <td>&lt;NA&gt;</td>\n    </tr>\n    <tr>\n      <th>460</th>\n      <td>Chocolat</td>\n      <td>7.2</td>\n      <td>Lasse Hallström</td>\n      <td>Joanne Harris, Robert Nelson Jacobs</td>\n      <td>64.0</td>\n      <td>Juliette Binoche, Johnny Depp, Judi Dench, Alf...</td>\n      <td>August 1, 2021 (India)</td>\n      <td>United Kingdom, United States</td>\n      <td>English, French</td>\n      <td>$25,000,000 (estimated)</td>\n      <td>$152,700,626</td>\n      <td>2 hours 1 minute</td>\n      <td>120</td>\n      <td>25000000</td>\n      <td>152700626</td>\n      <td>127700626</td>\n    </tr>\n    <tr>\n      <th>122</th>\n      <td>Arizona Dream</td>\n      <td>7.2</td>\n      <td>Emir Kusturica</td>\n      <td>David Atkins, Emir Kusturica</td>\n      <td>62.0</td>\n      <td>Johnny Depp, Jerry Lewis, Faye Dunaway, Lili T...</td>\n      <td>January 6, 1993 (France)</td>\n      <td>France, United States</td>\n      <td>English, Spanish, Inuktitut</td>\n      <td>$19,000,000 (estimated)</td>\n      <td>$112,547</td>\n      <td>2 hours 22 minutes</td>\n      <td>142</td>\n      <td>19000000</td>\n      <td>112547</td>\n      <td>-18887453</td>\n    </tr>\n    <tr>\n      <th>152</th>\n      <td>Yamawatta</td>\n      <td>7.2</td>\n      <td>Andrew Levitas</td>\n      <td>David Kessler, Stephen Deuters, Andrew Levitas</td>\n      <td>55.0</td>\n      <td>Akiko Iwase, Kogarashi Wakasugi, Johnny Depp, ...</td>\n      <td>April 8, 2021 (United Arab Emirates)</td>\n      <td>United Kingdom, United States, United Arab Emi...</td>\n      <td>English, Japanese, Persian</td>\n      <td>NaN</td>\n      <td>$755,878</td>\n      <td>1 hour 55 minutes</td>\n      <td>115</td>\n      <td>&lt;NA&gt;</td>\n      <td>755878</td>\n      <td>&lt;NA&gt;</td>\n    </tr>\n  </tbody>\n</table>\n</div>"
     },
     "execution_count": 68,
     "metadata": {},
     "output_type": "execute_result"
    }
   ],
   "source": [
    "# Cannot mask with non-boolean array containing NA / NaN values\n",
    "df[\"Cast\"].fillna(\"\", inplace=True)\n",
    "df[df[\"Cast\"].str.contains(\"Johnny Depp\")]"
   ]
  },
  {
   "cell_type": "code",
   "execution_count": 69,
   "metadata": {
    "ExecuteTime": {
     "end_time": "2025-01-23T14:33:24.821286Z",
     "start_time": "2025-01-23T14:33:24.632618Z"
    }
   },
   "outputs": [
    {
     "data": {
      "text/plain": "                   Director  Worldwide Gross (usd)\n0             James Cameron             8705319635\n1          Steven Spielberg             7988558298\n2  Anthony Russo, Joe Russo             6721322058\n3             Peter Jackson             6484962056\n4         Christopher Nolan             6205459936\n5               David Yates             5003353447\n6                 Jon Watts             3966372984\n7               Joss Whedon             2966001713\n8               J.J. Abrams             2924357232\n9           Robert Zemeckis             2793892268",
      "text/html": "<div>\n<style scoped>\n    .dataframe tbody tr th:only-of-type {\n        vertical-align: middle;\n    }\n\n    .dataframe tbody tr th {\n        vertical-align: top;\n    }\n\n    .dataframe thead th {\n        text-align: right;\n    }\n</style>\n<table border=\"1\" class=\"dataframe\">\n  <thead>\n    <tr style=\"text-align: right;\">\n      <th></th>\n      <th>Director</th>\n      <th>Worldwide Gross (usd)</th>\n    </tr>\n  </thead>\n  <tbody>\n    <tr>\n      <th>0</th>\n      <td>James Cameron</td>\n      <td>8705319635</td>\n    </tr>\n    <tr>\n      <th>1</th>\n      <td>Steven Spielberg</td>\n      <td>7988558298</td>\n    </tr>\n    <tr>\n      <th>2</th>\n      <td>Anthony Russo, Joe Russo</td>\n      <td>6721322058</td>\n    </tr>\n    <tr>\n      <th>3</th>\n      <td>Peter Jackson</td>\n      <td>6484962056</td>\n    </tr>\n    <tr>\n      <th>4</th>\n      <td>Christopher Nolan</td>\n      <td>6205459936</td>\n    </tr>\n    <tr>\n      <th>5</th>\n      <td>David Yates</td>\n      <td>5003353447</td>\n    </tr>\n    <tr>\n      <th>6</th>\n      <td>Jon Watts</td>\n      <td>3966372984</td>\n    </tr>\n    <tr>\n      <th>7</th>\n      <td>Joss Whedon</td>\n      <td>2966001713</td>\n    </tr>\n    <tr>\n      <th>8</th>\n      <td>J.J. Abrams</td>\n      <td>2924357232</td>\n    </tr>\n    <tr>\n      <th>9</th>\n      <td>Robert Zemeckis</td>\n      <td>2793892268</td>\n    </tr>\n  </tbody>\n</table>\n</div>"
     },
     "execution_count": 69,
     "metadata": {},
     "output_type": "execute_result"
    }
   ],
   "source": [
    "df.groupby(by=\"Director\").agg(\n",
    "    {\n",
    "        \"Worldwide Gross (usd)\": \"sum\"\n",
    "    }\n",
    ").sort_values(by=\"Worldwide Gross (usd)\", ascending=False).head(10).reset_index()"
   ]
  },
  {
   "cell_type": "code",
   "execution_count": 70,
   "metadata": {
    "ExecuteTime": {
     "end_time": "2025-01-23T14:33:24.941953Z",
     "start_time": "2025-01-23T14:33:24.698532Z"
    }
   },
   "outputs": [
    {
     "data": {
      "text/plain": "                 Release Date  Year  Decade\n0    October 14, 1994 (India)  1994    1990\n1    November 8, 2024 (Japan)  2024    2020\n2                1978 (India)  1978    1980\n3      April 1, 1975 (Turkey)  1975    1980\n4  September 25, 2001 (India)  2001    2000",
      "text/html": "<div>\n<style scoped>\n    .dataframe tbody tr th:only-of-type {\n        vertical-align: middle;\n    }\n\n    .dataframe tbody tr th {\n        vertical-align: top;\n    }\n\n    .dataframe thead th {\n        text-align: right;\n    }\n</style>\n<table border=\"1\" class=\"dataframe\">\n  <thead>\n    <tr style=\"text-align: right;\">\n      <th></th>\n      <th>Release Date</th>\n      <th>Year</th>\n      <th>Decade</th>\n    </tr>\n  </thead>\n  <tbody>\n    <tr>\n      <th>0</th>\n      <td>October 14, 1994 (India)</td>\n      <td>1994</td>\n      <td>1990</td>\n    </tr>\n    <tr>\n      <th>1</th>\n      <td>November 8, 2024 (Japan)</td>\n      <td>2024</td>\n      <td>2020</td>\n    </tr>\n    <tr>\n      <th>2</th>\n      <td>1978 (India)</td>\n      <td>1978</td>\n      <td>1980</td>\n    </tr>\n    <tr>\n      <th>3</th>\n      <td>April 1, 1975 (Turkey)</td>\n      <td>1975</td>\n      <td>1980</td>\n    </tr>\n    <tr>\n      <th>4</th>\n      <td>September 25, 2001 (India)</td>\n      <td>2001</td>\n      <td>2000</td>\n    </tr>\n  </tbody>\n</table>\n</div>"
     },
     "execution_count": 70,
     "metadata": {},
     "output_type": "execute_result"
    }
   ],
   "source": [
    "df[\"Year\"] = df[\"Release Date\"].apply(lambda x: int(re.search(r\"\\d{4}\", x).group()))\n",
    "df[\"Decade\"] = df[\"Year\"].apply(lambda x: round(x, -1))\n",
    "df[[\"Release Date\", \"Year\", \"Decade\"]].head()"
   ]
  },
  {
   "cell_type": "code",
   "execution_count": 71,
   "metadata": {
    "ExecuteTime": {
     "end_time": "2025-01-23T14:33:24.996278Z",
     "start_time": "2025-01-23T14:33:24.828525Z"
    }
   },
   "outputs": [],
   "source": [
    "# install pyarrow\n",
    "df.to_parquet(\"pandas_parquet\", partition_cols=[\"Decade\"])"
   ]
  },
  {
   "cell_type": "code",
   "execution_count": 72,
   "metadata": {
    "ExecuteTime": {
     "end_time": "2025-01-23T14:33:25.110708Z",
     "start_time": "2025-01-23T14:33:24.963751Z"
    }
   },
   "outputs": [],
   "source": [
    "# https://github.com/yhat/pandasql/\n",
    "# SQLite"
   ]
  },
  {
   "cell_type": "code",
   "execution_count": 73,
   "metadata": {
    "ExecuteTime": {
     "end_time": "2025-01-23T14:33:25.296649Z",
     "start_time": "2025-01-23T14:33:25.083472Z"
    }
   },
   "outputs": [
    {
     "ename": "KeyError",
     "evalue": "'SQL_CONNECTION'",
     "output_type": "error",
     "traceback": [
      "\u001B[0;31m---------------------------------------------------------------------------\u001B[0m",
      "\u001B[0;31mKeyError\u001B[0m                                  Traceback (most recent call last)",
      "Cell \u001B[0;32mIn[73], line 4\u001B[0m\n\u001B[1;32m      1\u001B[0m \u001B[38;5;66;03m# requires sqlalchemy\u001B[39;00m\n\u001B[1;32m      2\u001B[0m pd\u001B[38;5;241m.\u001B[39mread_sql_table(\n\u001B[1;32m      3\u001B[0m     \u001B[38;5;124m\"\u001B[39m\u001B[38;5;124morders\u001B[39m\u001B[38;5;124m\"\u001B[39m,\n\u001B[0;32m----> 4\u001B[0m     \u001B[43mos\u001B[49m\u001B[38;5;241;43m.\u001B[39;49m\u001B[43menviron\u001B[49m\u001B[43m[\u001B[49m\u001B[38;5;124;43m\"\u001B[39;49m\u001B[38;5;124;43mSQL_CONNECTION\u001B[39;49m\u001B[38;5;124;43m\"\u001B[39;49m\u001B[43m]\u001B[49m\n\u001B[1;32m      5\u001B[0m )\n",
      "File \u001B[0;32m<frozen os>:714\u001B[0m, in \u001B[0;36m__getitem__\u001B[0;34m(self, key)\u001B[0m\n",
      "\u001B[0;31mKeyError\u001B[0m: 'SQL_CONNECTION'"
     ]
    }
   ],
   "source": [
    "# requires sqlalchemy\n",
    "pd.read_sql_table(\n",
    "    \"orders\",\n",
    "    os.environ[\"SQL_CONNECTION\"]\n",
    ")"
   ]
  },
  {
   "cell_type": "markdown",
   "metadata": {},
   "source": [
    "Performance:\n",
    "https://towardsdatascience.com/high-performance-data-processing-pandas-2-vs-polars-a-vcpu-perspective-e922d3064f4e"
   ]
  },
  {
   "cell_type": "markdown",
   "source": [
    "# Window functions"
   ],
   "metadata": {
    "collapsed": false
   }
  },
  {
   "cell_type": "code",
   "execution_count": 74,
   "outputs": [
    {
     "data": {
      "text/plain": "                        title       date previous_movie_title  \\\n344        Rabbit-Proof Fence 2002-02-21            Walkabout   \n335                    Tsotsi 2005-12-23      Lethal Weapon 2   \n190       Triangle of Sadness 2022-09-18  Beasts of No Nation   \n481        Vivement dimanche! 1983-08-10     The Ipcress File   \n207  Children of a Lesser God 1988-06-22   The Miracle Worker   \n..                        ...        ...                  ...   \n381                     Pride 2014-09-12               Becket   \n135               Io Capitano 2023-09-07             Biutiful   \n335                    Tsotsi 2005-12-23        The Lion King   \n452           Obchod na korze 1965-10-08  Since You Went Away   \n316               Cry Freedom 1987-11-06                 Zulu   \n\n    previous_movie_date  previous_movie_diff  previous_movie_diff_years  \\\n344          1971-07-01                11193                       31.0   \n335          1990-01-01                 5835                       16.0   \n190          2017-10-04                 1810                        5.0   \n481          1965-03-18                 6719                       18.0   \n207          1962-07-28                 9461                       26.0   \n..                  ...                  ...                        ...   \n381          1964-03-11                18447                       51.0   \n135          2010-10-22                 4703                       13.0   \n335          1994-10-29                 4073                       11.0   \n452          1944-07-20                 7750                       21.0   \n316          1964-06-10                 8549                       23.0   \n\n                   language                                          Languages  \n344              Aboriginal                                English, Aboriginal  \n335               Afrikaans             Zulu, Sotho, Xhosa, Afrikaans, English  \n190                    Akan  English, Swedish, German, French, Greek, Tagal...  \n481                Albanian                                   French, Albanian  \n207  American Sign Language                    English, American Sign Language  \n..                      ...                                                ...  \n381                   Welsh                                     English, Welsh  \n135                   Wolof                     Wolof, French, Arabic, English  \n335                   Xhosa             Zulu, Sotho, Xhosa, Afrikaans, English  \n452                 Yiddish                     Slovak, Yiddish, German, Latin  \n316                    Zulu             English, Afrikaans, Xhosa, Zulu, Sotho  \n\n[127 rows x 8 columns]",
      "text/html": "<div>\n<style scoped>\n    .dataframe tbody tr th:only-of-type {\n        vertical-align: middle;\n    }\n\n    .dataframe tbody tr th {\n        vertical-align: top;\n    }\n\n    .dataframe thead th {\n        text-align: right;\n    }\n</style>\n<table border=\"1\" class=\"dataframe\">\n  <thead>\n    <tr style=\"text-align: right;\">\n      <th></th>\n      <th>title</th>\n      <th>date</th>\n      <th>previous_movie_title</th>\n      <th>previous_movie_date</th>\n      <th>previous_movie_diff</th>\n      <th>previous_movie_diff_years</th>\n      <th>language</th>\n      <th>Languages</th>\n    </tr>\n  </thead>\n  <tbody>\n    <tr>\n      <th>344</th>\n      <td>Rabbit-Proof Fence</td>\n      <td>2002-02-21</td>\n      <td>Walkabout</td>\n      <td>1971-07-01</td>\n      <td>11193</td>\n      <td>31.0</td>\n      <td>Aboriginal</td>\n      <td>English, Aboriginal</td>\n    </tr>\n    <tr>\n      <th>335</th>\n      <td>Tsotsi</td>\n      <td>2005-12-23</td>\n      <td>Lethal Weapon 2</td>\n      <td>1990-01-01</td>\n      <td>5835</td>\n      <td>16.0</td>\n      <td>Afrikaans</td>\n      <td>Zulu, Sotho, Xhosa, Afrikaans, English</td>\n    </tr>\n    <tr>\n      <th>190</th>\n      <td>Triangle of Sadness</td>\n      <td>2022-09-18</td>\n      <td>Beasts of No Nation</td>\n      <td>2017-10-04</td>\n      <td>1810</td>\n      <td>5.0</td>\n      <td>Akan</td>\n      <td>English, Swedish, German, French, Greek, Tagal...</td>\n    </tr>\n    <tr>\n      <th>481</th>\n      <td>Vivement dimanche!</td>\n      <td>1983-08-10</td>\n      <td>The Ipcress File</td>\n      <td>1965-03-18</td>\n      <td>6719</td>\n      <td>18.0</td>\n      <td>Albanian</td>\n      <td>French, Albanian</td>\n    </tr>\n    <tr>\n      <th>207</th>\n      <td>Children of a Lesser God</td>\n      <td>1988-06-22</td>\n      <td>The Miracle Worker</td>\n      <td>1962-07-28</td>\n      <td>9461</td>\n      <td>26.0</td>\n      <td>American Sign Language</td>\n      <td>English, American Sign Language</td>\n    </tr>\n    <tr>\n      <th>...</th>\n      <td>...</td>\n      <td>...</td>\n      <td>...</td>\n      <td>...</td>\n      <td>...</td>\n      <td>...</td>\n      <td>...</td>\n      <td>...</td>\n    </tr>\n    <tr>\n      <th>381</th>\n      <td>Pride</td>\n      <td>2014-09-12</td>\n      <td>Becket</td>\n      <td>1964-03-11</td>\n      <td>18447</td>\n      <td>51.0</td>\n      <td>Welsh</td>\n      <td>English, Welsh</td>\n    </tr>\n    <tr>\n      <th>135</th>\n      <td>Io Capitano</td>\n      <td>2023-09-07</td>\n      <td>Biutiful</td>\n      <td>2010-10-22</td>\n      <td>4703</td>\n      <td>13.0</td>\n      <td>Wolof</td>\n      <td>Wolof, French, Arabic, English</td>\n    </tr>\n    <tr>\n      <th>335</th>\n      <td>Tsotsi</td>\n      <td>2005-12-23</td>\n      <td>The Lion King</td>\n      <td>1994-10-29</td>\n      <td>4073</td>\n      <td>11.0</td>\n      <td>Xhosa</td>\n      <td>Zulu, Sotho, Xhosa, Afrikaans, English</td>\n    </tr>\n    <tr>\n      <th>452</th>\n      <td>Obchod na korze</td>\n      <td>1965-10-08</td>\n      <td>Since You Went Away</td>\n      <td>1944-07-20</td>\n      <td>7750</td>\n      <td>21.0</td>\n      <td>Yiddish</td>\n      <td>Slovak, Yiddish, German, Latin</td>\n    </tr>\n    <tr>\n      <th>316</th>\n      <td>Cry Freedom</td>\n      <td>1987-11-06</td>\n      <td>Zulu</td>\n      <td>1964-06-10</td>\n      <td>8549</td>\n      <td>23.0</td>\n      <td>Zulu</td>\n      <td>English, Afrikaans, Xhosa, Zulu, Sotho</td>\n    </tr>\n  </tbody>\n</table>\n<p>127 rows × 8 columns</p>\n</div>"
     },
     "execution_count": 74,
     "metadata": {},
     "output_type": "execute_result"
    }
   ],
   "source": [
    "# I hate reusing df so much)))) I shoot my feet multiple times with is. \n",
    "# Because when you run this cell multiple times you will get different results because you overwriting df variable\n",
    "\n",
    "# Split and explode languages\n",
    "df['languages_lst'] = df['Languages'].str.split(',')\n",
    "df = df.explode('languages_lst')\n",
    "df['language'] = df['languages_lst'].str.strip()\n",
    "df = df[df['language'].notna()]\n",
    "\n",
    "# Clean and parse dates\n",
    "df['date_cleaned'] = df['Release Date'].str.replace(r'\\(.+\\)', '', regex=True).str.strip()\n",
    "\n",
    "# Try multiple date formats\n",
    "df['date_v1'] = pd.to_datetime(df['date_cleaned'], format='%B %d, %Y', errors='coerce')\n",
    "df['date_v2'] = pd.to_datetime(df['date_cleaned'], format='%Y', errors='coerce')\n",
    "df['date_v3'] = pd.to_datetime(df['date_cleaned'], format='%B %Y', errors='coerce')\n",
    "# errors='coerce' is same as spark spark.conf.set(\"spark.sql.legacy.timeParserPolicy\", \"CORRECTED\")\n",
    "\n",
    "\n",
    "# Coalesce dates\n",
    "df['date'] = df['date_v1'].combine_first(df['date_v2']).combine_first(df['date_v3'])\n",
    "\n",
    "# Sort and calculate differences between movies\n",
    "df = df.sort_values(['language', 'date'])\n",
    "df['previous_movie_date'] = df.groupby('language')['date'].shift()\n",
    "df['previous_movie_title'] = df.groupby('language')['Title'].shift()\n",
    "\n",
    "# Filter rows with previous movie dates\n",
    "df = df[df['previous_movie_date'].notna()]\n",
    "\n",
    "# Calculate date differences\n",
    "df['previous_movie_diff'] = (df['date'] - df['previous_movie_date']).dt.days\n",
    "df['previous_movie_diff_years'] = (df['previous_movie_diff'] / 365).round()\n",
    "# Cody suggestion was df['previous_movie_diff_years'] = ((df['date'] - df['previous_movie_date']).dt.total_seconds() / (365.25 * 24 * 60 * 60)).round()\n",
    "# 365.25? He really takes into account leap years? AI vs Me 1-0\n",
    "\n",
    "\n",
    "# Get maximum difference for each language\n",
    "df['rn'] = df.groupby('language')['previous_movie_diff'].rank(method='first', ascending=False)\n",
    "df = df[df['rn'] == 1]\n",
    "\n",
    "\n",
    "\n",
    "# Select final columns\n",
    "result = df[['Title', 'date', 'previous_movie_title', 'previous_movie_date',\n",
    "             'previous_movie_diff', 'previous_movie_diff_years', 'language', 'Languages']]\n",
    "result = result.rename(columns={'Title': 'title'})\n",
    "result"
   ],
   "metadata": {
    "collapsed": false,
    "ExecuteTime": {
     "end_time": "2025-01-23T14:33:25.484922Z",
     "start_time": "2025-01-23T14:33:25.254592Z"
    }
   }
  },
  {
   "cell_type": "code",
   "execution_count": 74,
   "outputs": [],
   "source": [],
   "metadata": {
    "collapsed": false,
    "ExecuteTime": {
     "end_time": "2025-01-23T14:33:25.501292Z",
     "start_time": "2025-01-23T14:33:25.425433Z"
    }
   }
  }
 ],
 "metadata": {
  "kernelspec": {
   "display_name": "Python 3",
   "language": "python",
   "name": "python3"
  },
  "language_info": {
   "codemirror_mode": {
    "name": "ipython",
    "version": 3
   },
   "file_extension": ".py",
   "mimetype": "text/x-python",
   "name": "python",
   "nbconvert_exporter": "python",
   "pygments_lexer": "ipython3",
   "version": "3.12.4"
  }
 },
 "nbformat": 4,
 "nbformat_minor": 2
}
