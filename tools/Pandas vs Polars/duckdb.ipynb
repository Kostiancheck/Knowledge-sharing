{
 "cells": [
  {
   "cell_type": "code",
   "execution_count": 161,
   "metadata": {
    "ExecuteTime": {
     "end_time": "2025-01-23T14:38:29.464839Z",
     "start_time": "2025-01-23T14:38:29.352999Z"
    }
   },
   "outputs": [
    {
     "data": {
      "text/plain": "False"
     },
     "execution_count": 161,
     "metadata": {},
     "output_type": "execute_result"
    }
   ],
   "source": [
    "import duckdb\n",
    "import re\n",
    "import os\n",
    "import dotenv\n",
    "dotenv.load_dotenv(\".env\")"
   ]
  },
  {
   "cell_type": "code",
   "execution_count": 162,
   "metadata": {
    "ExecuteTime": {
     "end_time": "2025-01-23T14:38:29.771837Z",
     "start_time": "2025-01-23T14:38:29.477625Z"
    }
   },
   "outputs": [
    {
     "data": {
      "text/plain": "┌────────────────────────────────────────────┬────────────────┬────────────────────────────────────┬───────────────────────────────────────────────────┬───────────┬───────────────────────────────────────────────────────────────────────────────────────────────────────────────────────────────────────────────────────────────────────────────────────────────────────────────────────────────────────────────────────────────────────────────────────────────────────────────┬────────────────────────────────┬──────────────────────────────────────┬────────────────────────────────────────┬──────────────────────────┬─────────────────┬────────────────────┐\n│                   Title                    │ Average Rating │              Director              │                      Writer                       │ Metascore │                                                                                                                                                     Cast                                                                                                                                                      │          Release Date          │          Country of Origin           │               Languages                │          Budget          │ Worldwide Gross │      Runtime       │\n│                  varchar                   │     double     │              varchar               │                      varchar                      │  double   │                                                                                                                                                    varchar                                                                                                                                                    │            varchar             │               varchar                │                varchar                 │         varchar          │     varchar     │      varchar       │\n├────────────────────────────────────────────┼────────────────┼────────────────────────────────────┼───────────────────────────────────────────────────┼───────────┼───────────────────────────────────────────────────────────────────────────────────────────────────────────────────────────────────────────────────────────────────────────────────────────────────────────────────────────────────────────────────────────────────────────────────────────────────────────────┼────────────────────────────────┼──────────────────────────────────────┼────────────────────────────────────────┼──────────────────────────┼─────────────────┼────────────────────┤\n│ The Shawshank Redemption                   │            9.3 │ Frank Darabont                     │ Stephen King, Frank Darabont                      │      82.0 │ Tim Robbins, Morgan Freeman, Bob Gunton, William Sadler, Clancy Brown, Gil Bellows, Mark Rolston, James Whitmore, Jeffrey DeMunn, Larry Brandenburg, Neil Giuntoli, Brian Libby, David Proval, Joseph Ragno, Jude Ciccolella, Paul McCrane, Renee Blaine, Scott Mann                                          │ October 14, 1994 (India)       │ United States                        │ English                                │ $25,000,000 (estimated)  │ $29,332,133     │ 2 hours 22 minutes │\n│ Attack on Titan the Movie: The Last Attack │            9.3 │ Yûichirô Hayashi                   │ Natsuki Hanae, Yoshimasa Hosoya, Marina Inoue     │      NULL │ Natsuki Hanae, Yoshimasa Hosoya, Marina Inoue, Yui Ishikawa, Yûki Kaji, Hiroshi Kamiya, Takehito Koyasu, Shiori Mikami, Manami Numakura, Romi Park, Ayane Sakura, Yû Shimamura, Hiro Shimono, Kishô Taniyama                                                                                                  │ November 8, 2024 (Japan)       │ Japan                                │ Japanese                               │ NULL                     │ $3,513,659      │ 2 hours 25 minutes │\n│ The Godfather                              │            9.2 │ Francis Ford Coppola               │ Mario Puzo, Francis Ford Coppola                  │     100.0 │ Marlon Brando, Al Pacino, James Caan, Diane Keaton, Richard S. Castellano, Robert Duvall, Sterling Hayden, John Marley, Richard Conte, Al Lettieri, Abe Vigoda, Talia Shire, Gianni Russo, John Cazale, Rudy Bond, Al Martino, Morgana King, Lenny Montana                                                    │ 1978 (India)                   │ United States                        │ English, Italian, Latin                │ $6,000,000 (estimated)   │ $250,342,198    │ 2 hours 55 minutes │\n│ Hababam Sinifi                             │            9.2 │ Ertem Egilmez                      │ Umur Bugay, Rifat Ilgaz                           │      NULL │ Münir Özkul, Tarik Akan, Halit Akçatepe, Kemal Sunal, Adile Nasit, Sitki Akçatepe, Selim Nasit Özcan, Muharrem Gürses, Ahmet Ariman, Ertugrul Bilda, Talat Dumanli, Ekrem Dümer, Kemal Ergüvenç, Ercan Gezmis, Aysen Gruda, Dilaver Gür, Cem Gürdap, Bülent Haksever                                          │ April 1, 1975 (Turkey)         │ Turkey                               │ Turkish                                │ NULL                     │ NULL            │ 1 hour 25 minutes  │\n│ Ramayana: The Legend of Prince Rama        │            9.2 │ Ram Mohan, Yûgô Sakô, Koichi Saski │ Rani Burra, Ram Mohan, Yûgô Sakô                  │      NULL │ Arun Govil, Nikhil Kapoor, Edie Mirman, Rael Padamsee, Namrata Sawhney, Uday Mathan, Shatrughan Sinha, Jinder Walia, Amrish Puri, Mishal Varma, Noel Godin, Shakti Singh, Dilip Sinha, Madhulika Varma, Mari Devon, Pearl Padamsee, Barbara Goodson, Shagufta Jaffrey                                         │ September 25, 2001 (India)     │ India, Japan                         │ English                                │ NULL                     │ NULL            │ 2 hours 15 minutes │\n│ The Silence of Swastika                    │            9.1 │ Anuj Bhardwaj                      │ Suzanne Bernert                                   │      NULL │ Suzanne Bernert                                                                                                                                                                                                                                                                                               │ December 30, 2021 (India)      │ India                                │ Hindi, English                         │ NULL                     │ NULL            │ 56 minutes         │\n│ Maya Bazaar                                │            9.1 │ Kadiri Venkata Reddy               │ Pingali Nagendra Rao, Kadiri Venkata Reddy        │      NULL │ N.T. Rama Rao, S.V. Ranga Rao, Savitri, Akkineni Nageswara Rao, Rushyendramani, Seeta Rama Anjaneyulu Chilakalapudi, M.N. Nambiar, K.A. Thangavelu, Relangi Venkatramaiah, Balasubramaniam D., Gummadi, Sandhya, Chhayadevi, Suryakantham, Nagabhushanam, Ramana Reddy, Mukkamala, Mikkilineni                │ March 27, 1957 (India)         │ India                                │ Telugu, Tamil                          │ NULL                     │ NULL            │ 3 hours 12 minutes │\n│ The Dark Knight                            │            9.0 │ Christopher Nolan                  │ Jonathan Nolan, Christopher Nolan, David S. Goyer │      84.0 │ Christian Bale, Heath Ledger, Aaron Eckhart, Michael Caine, Maggie Gyllenhaal, Gary Oldman, Morgan Freeman, Monique Gabriela Curnen, Ron Dean, Cillian Murphy, Chin Han, Nestor Carbonell, Eric Roberts, Ritchie Coster, Anthony Michael Hall, Keith Szarabajka, Colin McFarlane, Joshua Harto                │ July 18, 2008 (India)          │ United States, United Kingdom        │ English, Mandarin                      │ $185,000,000 (estimated) │ $1,009,053,678  │ 2 hours 32 minutes │\n│ Schindler's List                           │            9.0 │ Steven Spielberg                   │ Thomas Keneally, Steven Zaillian                  │      95.0 │ Liam Neeson, Ralph Fiennes, Ben Kingsley, Caroline Goodall, Jonathan Sagall, Embeth Davidtz, Malgorzata Gebel, Shmuel Levy, Mark Ivanir, Béatrice Macola, Andrzej Seweryn, Friedrich von Thun, Krzysztof Luft, Harry Nehring, Norbert Weisser, Adi Nitzan, Michael Schneider, Miri Fabian                     │ December 15, 1993 (India)      │ United States                        │ English, Hebrew, German, Polish, Latin │ $22,000,000 (estimated)  │ $322,161,245    │ 3 hours 15 minutes │\n│ 12 Angry Men                               │            9.0 │ Sidney Lumet                       │ Reginald Rose                                     │      97.0 │ Henry Fonda, Lee J. Cobb, Martin Balsam, John Fiedler, E.G. Marshall, Jack Klugman, Edward Binns, Jack Warden, Joseph Sweeney, Ed Begley, George Voskovec, Robert Webber, Rudy Bond, Tom Gorman, James Kelly, Billy Nelson, John Savoca, Walter Stocker                                                       │ April 10, 1957 (United States) │ United States                        │ English                                │ $350,000 (estimated)     │ $2,945          │ 1 hour 36 minutes  │\n│      ·                                     │             ·  │      ·                             │       ·                                           │        ·  │                                                                                                                            ·                                                                                                                                                                                  │               ·                │       ·                              │    ·                                   │  ·                       │   ·             │         ·          │\n│      ·                                     │             ·  │      ·                             │       ·                                           │        ·  │                                                                                                                            ·                                                                                                                                                                                  │               ·                │       ·                              │    ·                                   │  ·                       │   ·             │         ·          │\n│      ·                                     │             ·  │      ·                             │       ·                                           │        ·  │                                                                                                                            ·                                                                                                                                                                                  │               ·                │       ·                              │    ·                                   │  ·                       │   ·             │         ·          │\n│ The 11th Hour                              │            7.2 │ Leila Conners, Nadia Conners       │ Leila Conners, Nadia Conners, Leonardo DiCaprio   │      63.0 │ Leonardo DiCaprio, Kenny Ausubel, Thom Hartmann, Wangari Maathai, Sandra Postel, Paul Stamets, David Orr, Stephen Hawking, Oren Lyons, Andrew Revkin, Sylvia Earle, Paul Hawken, Janine Benyus, Stuart Pimm, Paolo Soleri, David Suzuki, James Hillman, James Parks Morton                                    │ October 10, 2007 (Philippines) │ United States                        │ English                                │ NULL                     │ $985,207        │ 1 hour 35 minutes  │\n│ Foxtrot                                    │            7.2 │ Samuel Maoz                        │ Samuel Maoz                                       │      88.0 │ Lior Ashkenazi, Sarah Adler, Yonatan Shiray, Itay Exlroad, Shaul Amir, Dekel Adin, Gefen Barkai, Karin Ugowski, Shira Haas, Yehuda Almagor, Arie Tcherner, Itamar Rotschild, Roi Miller, Danny Isserles, Yael Eisenberg, Sabine Hellstorff, Imani Reiser, Ilia Grosz                                          │ September 21, 2017 (Israel)    │ Israel, Switzerland, Germany, France │ Hebrew, German                         │ NULL                     │ $1,356,159      │ 1 hour 53 minutes  │\n│ Ôritsu uchûgun Oneamisu no tsubasa         │            7.2 │ Hiroyuki Yamaga, Steve Zuckerman   │ Hiroyuki Yamaga, Hiroshi Ônogi                    │      NULL │ Leo Morimoto, David Thomas, Mitsuki Yayoi, Heidi Lenhart, Steve Bulen, Kazuyuki Sogabe, Bryan Cranston, Chikao Ôtsuka, Michael Forest, Yoshito Yasuhara, Dan Woren, Tom Konkle, Shôzô Îzuka, Steve Blum, Steve Apostolina, Hirotaka Suzuoki, Jan Rabson, Masahiro Anzai                                       │ March 14, 1987 (Japan)         │ Japan                                │ Japanese                               │ ¥800,000,000 (estimated) │ $60,634         │ 2 hours 1 minute   │\n│ Gangster                                   │            7.2 │ Anurag Basu                        │ Mahesh Bhatt, Girish Dhamija, Anurag Basu         │      NULL │ Kangana Ranaut, Shiney Ahuja, Emraan Hashmi, Gulshan Grover, Vicky Ahuja, Hitanshu Lodhia, Sachin Karekar, Jeetpal, Zubeen Garg, Mahtim Munna, Sankeetaan Raravir                                                                                                                                             │ April 28, 2006 (India)         │ India                                │ Hindi                                  │ NULL                     │ $2,451,379      │ 2 hours 3 minutes  │\n│ Love Likes Coincidences                    │            7.2 │ Ömer Faruk Sorak                   │ Nuran Evren Sit                                   │      NULL │ Mehmet Günsür, Belçim Bilgin, Altan Erkekli, Ayda Aksel, Sebnem Sönmez, Hüseyin Avni Danyal, Berna Konur, Umit Dincer, Zafer Demircan, Hakan Çimenser, Batuhan Karacakaya, Pinar Çaglayan, Berkant Keskin, Reyhan Asena Keskinci, Yigit Özsener, Yilmaz Gruda, Özgür Aksüyek, Taha Alp                        │ February 4, 2011 (Turkey)      │ Turkey                               │ Turkish, French                        │ NULL                     │ $13,585,314     │ 1 hour 58 minutes  │\n│ La comunidad                               │            7.2 │ Álex de la Iglesia                 │ Jorge Guerricaechevarría, Álex de la Iglesia      │      NULL │ Carmen Maura, Eduardo Antuña, María Asquerino, Jesús Bonilla, Marta Fernández Muro, Paca Gabaldón, Ane Gabarain, Sancho Gracia, Emilio Gutiérrez Caba, Kiti Mánver, Terele Pávez, Roberto Perdomo, Manuel Tejada, Enrique Villén, Gorka Aguinagalde, Ramón Barea, Mariví Bilbao, Silvia Casanova              │ September 29, 2000 (Spain)     │ Spain                                │ Spanish                                │ €4,000,000 (estimated)   │ $290,754        │ 1 hour 50 minutes  │\n│ The House of Fear                          │            7.2 │ Roy William Neill                  │ Roy Chanslor, Arthur Conan Doyle                  │      NULL │ Basil Rathbone, Nigel Bruce, Aubrey Mather, Dennis Hoey, Paul Cavanagh, Holmes Herbert, Harry Cording, Sally Shepherd, Gavin Muir, Florette Hillier, David Clyde, Richard Alexander, C.E. Anderson, Wilson Benge, Hobart Cavanaugh, Alec Craig, Cyril Delevanti, Leslie Denison                               │ March 16, 1945 (United States) │ United States                        │ English                                │ NULL                     │ NULL            │ 1 hour 9 minutes   │\n│ Kurôzu zero II                             │            7.2 │ Takashi Miike                      │ Hiroshi Takahashi, Shôgo Mutô                     │      NULL │ Shun Oguri, Kyôsuke Yabe, Meisa Kuroki, Kenta Kiritani, Tsutomu Takahashi, Yûsuke Izaki, Hisato Izaki, Suzunosuke Tanaka, Kaname Endô, Yusuke Kamiji, Shunsuke Daitô, Ryô Hashizume, Yû Koyanagi, Ryôhei Abe, Kengo Ôkuchi, Tomoya Warabino, Gô Ayano, Kazuki Namioka                                         │ April 11, 2009 (Japan)         │ Japan                                │ Japanese                               │ NULL                     │ $29,893,636     │ 2 hours 13 minutes │\n│ La cage dorée                              │            7.2 │ Ruben Alves                        │ Ruben Alves, Luc-Olivier Veuve, Jean-André Yerlès │      NULL │ Rita Blanco, Joaquim de Almeida, Roland Giraud, Chantal Lauby, Barbara Cabrita, Lannick Gautry, Maria Vieira, Jacqueline Corado, Jean-Pierre Martins, Alex Alves Pereira, Sergio Da Silva, Nicole Croisille, Bertrand Combe, Ludivine de Chastenet, Alexandre Ruscher, Paul Ruscher, Alice Isaaz, Ruben Alves │ April 24, 2013 (France)        │ France                               │ French, Portuguese, English            │ €7,000,000 (estimated)   │ $17,871,370     │ 1 hour 30 minutes  │\n│ Chingoo                                    │            7.2 │ Kwak Kyung-taek                    │ Kwak Kyung-taek                                   │      NULL │ Yu Oh-seong, Jang Dong-gun, Seo Tae-hwa, Un-taek Jeong, Kim Bo-kyung, Joo Hyun, Kim Hyun-sook, Yang Ji-woong, Gi Ju-bong, Kim Kwang-kyu, Kwon Nam-hee, Lee Se-na, Joong-kyung Yang, Chang Yun                                                                                                                 │ March 31, 2001 (South Korea)   │ South Korea                          │ Korean                                 │ NULL                     │ $550,031        │ 1 hour 53 minutes  │\n├────────────────────────────────────────────┴────────────────┴────────────────────────────────────┴───────────────────────────────────────────────────┴───────────┴───────────────────────────────────────────────────────────────────────────────────────────────────────────────────────────────────────────────────────────────────────────────────────────────────────────────────────────────────────────────────────────────────────────────────────────────────────────────┴────────────────────────────────┴──────────────────────────────────────┴────────────────────────────────────────┴──────────────────────────┴─────────────────┴────────────────────┤\n│ 4989 rows (20 shown)                                                                                                                                                                                                                                                                                                                                                                                                                                                                                                                                                                                                                                     12 columns │\n└─────────────────────────────────────────────────────────────────────────────────────────────────────────────────────────────────────────────────────────────────────────────────────────────────────────────────────────────────────────────────────────────────────────────────────────────────────────────────────────────────────────────────────────────────────────────────────────────────────────────────────────────────────────────────────────────────────────────────────────────────────────────────────────────────────────────────────────────────────────────────────────────────────────────────────────────────────────────────────────────────────┘"
     },
     "execution_count": 162,
     "metadata": {},
     "output_type": "execute_result"
    }
   ],
   "source": [
    "# dataset link https://www.kaggle.com/datasets/hetbabariya/imdb-movies-data-collection-5000-records?resource=download\n",
    "db = duckdb.connect()\n",
    "db.execute(\"CREATE TABLE imdb AS SELECT * FROM read_csv_auto('IMDB_Movies_Dataset.csv')\")\n",
    "db.execute(\"ALTER TABLE imdb DROP COLUMN IF EXISTS column00\") # incremental name for empty columns  (column01, 02, ...)\n",
    "df = db.sql(\"SELECT * FROM imdb\")\n",
    "# df.df() # pandas df\n",
    "df # string"
   ]
  },
  {
   "cell_type": "code",
   "execution_count": 163,
   "outputs": [
    {
     "data": {
      "text/plain": "['Title',\n 'Rating',\n 'Director',\n 'Writer',\n 'Metascore',\n 'Cast',\n 'Release Date',\n 'Country of Origin',\n 'Languages',\n 'Budget',\n 'Worldwide Gross',\n 'Runtime']"
     },
     "execution_count": 163,
     "metadata": {},
     "output_type": "execute_result"
    }
   ],
   "source": [
    "db.execute(\"ALTER TABLE imdb RENAME COLUMN \\\"Average Rating\\\" TO Rating\")\n",
    "db.sql(\"SELECT * FROM imdb\").columns"
   ],
   "metadata": {
    "collapsed": false,
    "ExecuteTime": {
     "end_time": "2025-01-23T14:38:29.779719Z",
     "start_time": "2025-01-23T14:38:29.753374Z"
    }
   }
  },
  {
   "cell_type": "code",
   "execution_count": 164,
   "metadata": {
    "ExecuteTime": {
     "end_time": "2025-01-23T14:38:29.838285Z",
     "start_time": "2025-01-23T14:38:29.767199Z"
    }
   },
   "outputs": [
    {
     "data": {
      "text/plain": "┌───────────────────┬─────────────┬─────────┬─────────┬─────────┬─────────┐\n│    column_name    │ column_type │  null   │   key   │ default │  extra  │\n│      varchar      │   varchar   │ varchar │ varchar │ varchar │ varchar │\n├───────────────────┼─────────────┼─────────┼─────────┼─────────┼─────────┤\n│ Title             │ VARCHAR     │ YES     │ NULL    │ NULL    │ NULL    │\n│ Rating            │ DOUBLE      │ YES     │ NULL    │ NULL    │ NULL    │\n│ Director          │ VARCHAR     │ YES     │ NULL    │ NULL    │ NULL    │\n│ Writer            │ VARCHAR     │ YES     │ NULL    │ NULL    │ NULL    │\n│ Metascore         │ DOUBLE      │ YES     │ NULL    │ NULL    │ NULL    │\n│ Cast              │ VARCHAR     │ YES     │ NULL    │ NULL    │ NULL    │\n│ Release Date      │ VARCHAR     │ YES     │ NULL    │ NULL    │ NULL    │\n│ Country of Origin │ VARCHAR     │ YES     │ NULL    │ NULL    │ NULL    │\n│ Languages         │ VARCHAR     │ YES     │ NULL    │ NULL    │ NULL    │\n│ Budget            │ VARCHAR     │ YES     │ NULL    │ NULL    │ NULL    │\n│ Worldwide Gross   │ VARCHAR     │ YES     │ NULL    │ NULL    │ NULL    │\n│ Runtime           │ VARCHAR     │ YES     │ NULL    │ NULL    │ NULL    │\n├───────────────────┴─────────────┴─────────┴─────────┴─────────┴─────────┤\n│ 12 rows                                                       6 columns │\n└─────────────────────────────────────────────────────────────────────────┘"
     },
     "execution_count": 164,
     "metadata": {},
     "output_type": "execute_result"
    }
   ],
   "source": [
    "db.sql(\"SHOW imdb\")"
   ]
  },
  {
   "cell_type": "code",
   "execution_count": 165,
   "outputs": [
    {
     "data": {
      "text/plain": "   table_catalog table_schema table_name        column_name  ordinal_position  \\\n0         memory         main       imdb              Title                 1   \n1         memory         main       imdb             Rating                 2   \n2         memory         main       imdb           Director                 3   \n3         memory         main       imdb             Writer                 4   \n4         memory         main       imdb          Metascore                 5   \n5         memory         main       imdb               Cast                 6   \n6         memory         main       imdb       Release Date                 7   \n7         memory         main       imdb  Country of Origin                 8   \n8         memory         main       imdb          Languages                 9   \n9         memory         main       imdb             Budget                10   \n10        memory         main       imdb    Worldwide Gross                11   \n11        memory         main       imdb            Runtime                12   \n\n   column_default is_nullable data_type  character_maximum_length  \\\n0            None         YES   VARCHAR                       NaN   \n1            None         YES    DOUBLE                       NaN   \n2            None         YES   VARCHAR                       NaN   \n3            None         YES   VARCHAR                       NaN   \n4            None         YES    DOUBLE                       NaN   \n5            None         YES   VARCHAR                       NaN   \n6            None         YES   VARCHAR                       NaN   \n7            None         YES   VARCHAR                       NaN   \n8            None         YES   VARCHAR                       NaN   \n9            None         YES   VARCHAR                       NaN   \n10           None         YES   VARCHAR                       NaN   \n11           None         YES   VARCHAR                       NaN   \n\n    character_octet_length  ...  identity_generation  identity_start  \\\n0                      NaN  ...                 None            None   \n1                      NaN  ...                 None            None   \n2                      NaN  ...                 None            None   \n3                      NaN  ...                 None            None   \n4                      NaN  ...                 None            None   \n5                      NaN  ...                 None            None   \n6                      NaN  ...                 None            None   \n7                      NaN  ...                 None            None   \n8                      NaN  ...                 None            None   \n9                      NaN  ...                 None            None   \n10                     NaN  ...                 None            None   \n11                     NaN  ...                 None            None   \n\n    identity_increment  identity_maximum identity_minimum  identity_cycle  \\\n0                 None              None             None             NaN   \n1                 None              None             None             NaN   \n2                 None              None             None             NaN   \n3                 None              None             None             NaN   \n4                 None              None             None             NaN   \n5                 None              None             None             NaN   \n6                 None              None             None             NaN   \n7                 None              None             None             NaN   \n8                 None              None             None             NaN   \n9                 None              None             None             NaN   \n10                None              None             None             NaN   \n11                None              None             None             NaN   \n\n   is_generated generation_expression is_updatable COLUMN_COMMENT  \n0          None                  None          NaN           None  \n1          None                  None          NaN           None  \n2          None                  None          NaN           None  \n3          None                  None          NaN           None  \n4          None                  None          NaN           None  \n5          None                  None          NaN           None  \n6          None                  None          NaN           None  \n7          None                  None          NaN           None  \n8          None                  None          NaN           None  \n9          None                  None          NaN           None  \n10         None                  None          NaN           None  \n11         None                  None          NaN           None  \n\n[12 rows x 45 columns]",
      "text/html": "<div>\n<style scoped>\n    .dataframe tbody tr th:only-of-type {\n        vertical-align: middle;\n    }\n\n    .dataframe tbody tr th {\n        vertical-align: top;\n    }\n\n    .dataframe thead th {\n        text-align: right;\n    }\n</style>\n<table border=\"1\" class=\"dataframe\">\n  <thead>\n    <tr style=\"text-align: right;\">\n      <th></th>\n      <th>table_catalog</th>\n      <th>table_schema</th>\n      <th>table_name</th>\n      <th>column_name</th>\n      <th>ordinal_position</th>\n      <th>column_default</th>\n      <th>is_nullable</th>\n      <th>data_type</th>\n      <th>character_maximum_length</th>\n      <th>character_octet_length</th>\n      <th>...</th>\n      <th>identity_generation</th>\n      <th>identity_start</th>\n      <th>identity_increment</th>\n      <th>identity_maximum</th>\n      <th>identity_minimum</th>\n      <th>identity_cycle</th>\n      <th>is_generated</th>\n      <th>generation_expression</th>\n      <th>is_updatable</th>\n      <th>COLUMN_COMMENT</th>\n    </tr>\n  </thead>\n  <tbody>\n    <tr>\n      <th>0</th>\n      <td>memory</td>\n      <td>main</td>\n      <td>imdb</td>\n      <td>Title</td>\n      <td>1</td>\n      <td>None</td>\n      <td>YES</td>\n      <td>VARCHAR</td>\n      <td>NaN</td>\n      <td>NaN</td>\n      <td>...</td>\n      <td>None</td>\n      <td>None</td>\n      <td>None</td>\n      <td>None</td>\n      <td>None</td>\n      <td>NaN</td>\n      <td>None</td>\n      <td>None</td>\n      <td>NaN</td>\n      <td>None</td>\n    </tr>\n    <tr>\n      <th>1</th>\n      <td>memory</td>\n      <td>main</td>\n      <td>imdb</td>\n      <td>Rating</td>\n      <td>2</td>\n      <td>None</td>\n      <td>YES</td>\n      <td>DOUBLE</td>\n      <td>NaN</td>\n      <td>NaN</td>\n      <td>...</td>\n      <td>None</td>\n      <td>None</td>\n      <td>None</td>\n      <td>None</td>\n      <td>None</td>\n      <td>NaN</td>\n      <td>None</td>\n      <td>None</td>\n      <td>NaN</td>\n      <td>None</td>\n    </tr>\n    <tr>\n      <th>2</th>\n      <td>memory</td>\n      <td>main</td>\n      <td>imdb</td>\n      <td>Director</td>\n      <td>3</td>\n      <td>None</td>\n      <td>YES</td>\n      <td>VARCHAR</td>\n      <td>NaN</td>\n      <td>NaN</td>\n      <td>...</td>\n      <td>None</td>\n      <td>None</td>\n      <td>None</td>\n      <td>None</td>\n      <td>None</td>\n      <td>NaN</td>\n      <td>None</td>\n      <td>None</td>\n      <td>NaN</td>\n      <td>None</td>\n    </tr>\n    <tr>\n      <th>3</th>\n      <td>memory</td>\n      <td>main</td>\n      <td>imdb</td>\n      <td>Writer</td>\n      <td>4</td>\n      <td>None</td>\n      <td>YES</td>\n      <td>VARCHAR</td>\n      <td>NaN</td>\n      <td>NaN</td>\n      <td>...</td>\n      <td>None</td>\n      <td>None</td>\n      <td>None</td>\n      <td>None</td>\n      <td>None</td>\n      <td>NaN</td>\n      <td>None</td>\n      <td>None</td>\n      <td>NaN</td>\n      <td>None</td>\n    </tr>\n    <tr>\n      <th>4</th>\n      <td>memory</td>\n      <td>main</td>\n      <td>imdb</td>\n      <td>Metascore</td>\n      <td>5</td>\n      <td>None</td>\n      <td>YES</td>\n      <td>DOUBLE</td>\n      <td>NaN</td>\n      <td>NaN</td>\n      <td>...</td>\n      <td>None</td>\n      <td>None</td>\n      <td>None</td>\n      <td>None</td>\n      <td>None</td>\n      <td>NaN</td>\n      <td>None</td>\n      <td>None</td>\n      <td>NaN</td>\n      <td>None</td>\n    </tr>\n    <tr>\n      <th>5</th>\n      <td>memory</td>\n      <td>main</td>\n      <td>imdb</td>\n      <td>Cast</td>\n      <td>6</td>\n      <td>None</td>\n      <td>YES</td>\n      <td>VARCHAR</td>\n      <td>NaN</td>\n      <td>NaN</td>\n      <td>...</td>\n      <td>None</td>\n      <td>None</td>\n      <td>None</td>\n      <td>None</td>\n      <td>None</td>\n      <td>NaN</td>\n      <td>None</td>\n      <td>None</td>\n      <td>NaN</td>\n      <td>None</td>\n    </tr>\n    <tr>\n      <th>6</th>\n      <td>memory</td>\n      <td>main</td>\n      <td>imdb</td>\n      <td>Release Date</td>\n      <td>7</td>\n      <td>None</td>\n      <td>YES</td>\n      <td>VARCHAR</td>\n      <td>NaN</td>\n      <td>NaN</td>\n      <td>...</td>\n      <td>None</td>\n      <td>None</td>\n      <td>None</td>\n      <td>None</td>\n      <td>None</td>\n      <td>NaN</td>\n      <td>None</td>\n      <td>None</td>\n      <td>NaN</td>\n      <td>None</td>\n    </tr>\n    <tr>\n      <th>7</th>\n      <td>memory</td>\n      <td>main</td>\n      <td>imdb</td>\n      <td>Country of Origin</td>\n      <td>8</td>\n      <td>None</td>\n      <td>YES</td>\n      <td>VARCHAR</td>\n      <td>NaN</td>\n      <td>NaN</td>\n      <td>...</td>\n      <td>None</td>\n      <td>None</td>\n      <td>None</td>\n      <td>None</td>\n      <td>None</td>\n      <td>NaN</td>\n      <td>None</td>\n      <td>None</td>\n      <td>NaN</td>\n      <td>None</td>\n    </tr>\n    <tr>\n      <th>8</th>\n      <td>memory</td>\n      <td>main</td>\n      <td>imdb</td>\n      <td>Languages</td>\n      <td>9</td>\n      <td>None</td>\n      <td>YES</td>\n      <td>VARCHAR</td>\n      <td>NaN</td>\n      <td>NaN</td>\n      <td>...</td>\n      <td>None</td>\n      <td>None</td>\n      <td>None</td>\n      <td>None</td>\n      <td>None</td>\n      <td>NaN</td>\n      <td>None</td>\n      <td>None</td>\n      <td>NaN</td>\n      <td>None</td>\n    </tr>\n    <tr>\n      <th>9</th>\n      <td>memory</td>\n      <td>main</td>\n      <td>imdb</td>\n      <td>Budget</td>\n      <td>10</td>\n      <td>None</td>\n      <td>YES</td>\n      <td>VARCHAR</td>\n      <td>NaN</td>\n      <td>NaN</td>\n      <td>...</td>\n      <td>None</td>\n      <td>None</td>\n      <td>None</td>\n      <td>None</td>\n      <td>None</td>\n      <td>NaN</td>\n      <td>None</td>\n      <td>None</td>\n      <td>NaN</td>\n      <td>None</td>\n    </tr>\n    <tr>\n      <th>10</th>\n      <td>memory</td>\n      <td>main</td>\n      <td>imdb</td>\n      <td>Worldwide Gross</td>\n      <td>11</td>\n      <td>None</td>\n      <td>YES</td>\n      <td>VARCHAR</td>\n      <td>NaN</td>\n      <td>NaN</td>\n      <td>...</td>\n      <td>None</td>\n      <td>None</td>\n      <td>None</td>\n      <td>None</td>\n      <td>None</td>\n      <td>NaN</td>\n      <td>None</td>\n      <td>None</td>\n      <td>NaN</td>\n      <td>None</td>\n    </tr>\n    <tr>\n      <th>11</th>\n      <td>memory</td>\n      <td>main</td>\n      <td>imdb</td>\n      <td>Runtime</td>\n      <td>12</td>\n      <td>None</td>\n      <td>YES</td>\n      <td>VARCHAR</td>\n      <td>NaN</td>\n      <td>NaN</td>\n      <td>...</td>\n      <td>None</td>\n      <td>None</td>\n      <td>None</td>\n      <td>None</td>\n      <td>None</td>\n      <td>NaN</td>\n      <td>None</td>\n      <td>None</td>\n      <td>NaN</td>\n      <td>None</td>\n    </tr>\n  </tbody>\n</table>\n<p>12 rows × 45 columns</p>\n</div>"
     },
     "execution_count": 165,
     "metadata": {},
     "output_type": "execute_result"
    }
   ],
   "source": [
    "# DuckDB's implementation is based on PostgreSQL's information schema.\n",
    "db.sql(\"\"\"\n",
    "SELECT * \n",
    "    FROM information_schema.columns \n",
    "\"\"\").df()"
   ],
   "metadata": {
    "collapsed": false,
    "ExecuteTime": {
     "end_time": "2025-01-23T14:38:29.907973Z",
     "start_time": "2025-01-23T14:38:29.785895Z"
    }
   }
  },
  {
   "cell_type": "code",
   "execution_count": 166,
   "outputs": [
    {
     "data": {
      "text/plain": "          column_name column_type  \\\n0               Title     VARCHAR   \n1              Rating      DOUBLE   \n2            Director     VARCHAR   \n3              Writer     VARCHAR   \n4           Metascore      DOUBLE   \n5                Cast     VARCHAR   \n6        Release Date     VARCHAR   \n7   Country of Origin     VARCHAR   \n8           Languages     VARCHAR   \n9              Budget     VARCHAR   \n10    Worldwide Gross     VARCHAR   \n11            Runtime     VARCHAR   \n\n                                                  min  \\\n0                                               #Home   \n1                                                 7.2   \n2                                          A.L. Vijay   \n3         A.A. Milne, Ernest Shepard, Alex Ross Perry   \n4                                                25.0   \n5   'Freeway' Ricky Ross, Susan Sarandon, David Si...   \n6                                        1928 (Italy)   \n7      Afghanistan, Ireland, Japan, Netherlands, Iran   \n8                       Aboriginal, Japanese, Hokkien   \n9                              $1,000,000 (estimated)   \n10                                             $1,003   \n11                                             1 hour   \n\n                                                  max  approx_unique  \\\n0                                                 色，戒           5068   \n1                                                 9.3             17   \n2                                       Özer Kiziltan           2707   \n3                                           Ümit Ünal           4347   \n4                                               100.0             97   \n5   Éric Cantona, Alex Ferguson, Manchester United...           4347   \n6                           September 9, 2020 (India)           4693   \n7                           Yugoslavia, United States            873   \n8              Zulu, Sotho, Xhosa, Afrikaans, English           1109   \n9                                ₹991,000 (estimated)           1110   \n10                                       ₹750,000,000           3444   \n11                                 9 hours 26 minutes            179   \n\n                  avg                 std                q25  \\\n0                None                None               None   \n1   7.632892363198688  0.3652432599971371  7.303231872135386   \n2                None                None               None   \n3                None                None               None   \n4   74.68445171849427  12.298910502972529               67.0   \n5                None                None               None   \n6                None                None               None   \n7                None                None               None   \n8                None                None               None   \n9                None                None               None   \n10               None                None               None   \n11               None                None               None   \n\n                  q50                q75  count  null_percentage  \n0                None               None   4989             0.00  \n1    7.56332647663826  7.846631097560976   4989             0.00  \n2                None               None   4989             0.00  \n3                None               None   4989             0.02  \n4   75.68220914440923  83.47860101242523   4989            38.77  \n5                None               None   4989             0.14  \n6                None               None   4989             0.00  \n7                None               None   4989             0.06  \n8                None               None   4989             0.42  \n9                None               None   4989            46.86  \n10               None               None   4989            21.93  \n11               None               None   4989             0.00  ",
      "text/html": "<div>\n<style scoped>\n    .dataframe tbody tr th:only-of-type {\n        vertical-align: middle;\n    }\n\n    .dataframe tbody tr th {\n        vertical-align: top;\n    }\n\n    .dataframe thead th {\n        text-align: right;\n    }\n</style>\n<table border=\"1\" class=\"dataframe\">\n  <thead>\n    <tr style=\"text-align: right;\">\n      <th></th>\n      <th>column_name</th>\n      <th>column_type</th>\n      <th>min</th>\n      <th>max</th>\n      <th>approx_unique</th>\n      <th>avg</th>\n      <th>std</th>\n      <th>q25</th>\n      <th>q50</th>\n      <th>q75</th>\n      <th>count</th>\n      <th>null_percentage</th>\n    </tr>\n  </thead>\n  <tbody>\n    <tr>\n      <th>0</th>\n      <td>Title</td>\n      <td>VARCHAR</td>\n      <td>#Home</td>\n      <td>色，戒</td>\n      <td>5068</td>\n      <td>None</td>\n      <td>None</td>\n      <td>None</td>\n      <td>None</td>\n      <td>None</td>\n      <td>4989</td>\n      <td>0.00</td>\n    </tr>\n    <tr>\n      <th>1</th>\n      <td>Rating</td>\n      <td>DOUBLE</td>\n      <td>7.2</td>\n      <td>9.3</td>\n      <td>17</td>\n      <td>7.632892363198688</td>\n      <td>0.3652432599971371</td>\n      <td>7.303231872135386</td>\n      <td>7.56332647663826</td>\n      <td>7.846631097560976</td>\n      <td>4989</td>\n      <td>0.00</td>\n    </tr>\n    <tr>\n      <th>2</th>\n      <td>Director</td>\n      <td>VARCHAR</td>\n      <td>A.L. Vijay</td>\n      <td>Özer Kiziltan</td>\n      <td>2707</td>\n      <td>None</td>\n      <td>None</td>\n      <td>None</td>\n      <td>None</td>\n      <td>None</td>\n      <td>4989</td>\n      <td>0.00</td>\n    </tr>\n    <tr>\n      <th>3</th>\n      <td>Writer</td>\n      <td>VARCHAR</td>\n      <td>A.A. Milne, Ernest Shepard, Alex Ross Perry</td>\n      <td>Ümit Ünal</td>\n      <td>4347</td>\n      <td>None</td>\n      <td>None</td>\n      <td>None</td>\n      <td>None</td>\n      <td>None</td>\n      <td>4989</td>\n      <td>0.02</td>\n    </tr>\n    <tr>\n      <th>4</th>\n      <td>Metascore</td>\n      <td>DOUBLE</td>\n      <td>25.0</td>\n      <td>100.0</td>\n      <td>97</td>\n      <td>74.68445171849427</td>\n      <td>12.298910502972529</td>\n      <td>67.0</td>\n      <td>75.68220914440923</td>\n      <td>83.47860101242523</td>\n      <td>4989</td>\n      <td>38.77</td>\n    </tr>\n    <tr>\n      <th>5</th>\n      <td>Cast</td>\n      <td>VARCHAR</td>\n      <td>'Freeway' Ricky Ross, Susan Sarandon, David Si...</td>\n      <td>Éric Cantona, Alex Ferguson, Manchester United...</td>\n      <td>4347</td>\n      <td>None</td>\n      <td>None</td>\n      <td>None</td>\n      <td>None</td>\n      <td>None</td>\n      <td>4989</td>\n      <td>0.14</td>\n    </tr>\n    <tr>\n      <th>6</th>\n      <td>Release Date</td>\n      <td>VARCHAR</td>\n      <td>1928 (Italy)</td>\n      <td>September 9, 2020 (India)</td>\n      <td>4693</td>\n      <td>None</td>\n      <td>None</td>\n      <td>None</td>\n      <td>None</td>\n      <td>None</td>\n      <td>4989</td>\n      <td>0.00</td>\n    </tr>\n    <tr>\n      <th>7</th>\n      <td>Country of Origin</td>\n      <td>VARCHAR</td>\n      <td>Afghanistan, Ireland, Japan, Netherlands, Iran</td>\n      <td>Yugoslavia, United States</td>\n      <td>873</td>\n      <td>None</td>\n      <td>None</td>\n      <td>None</td>\n      <td>None</td>\n      <td>None</td>\n      <td>4989</td>\n      <td>0.06</td>\n    </tr>\n    <tr>\n      <th>8</th>\n      <td>Languages</td>\n      <td>VARCHAR</td>\n      <td>Aboriginal, Japanese, Hokkien</td>\n      <td>Zulu, Sotho, Xhosa, Afrikaans, English</td>\n      <td>1109</td>\n      <td>None</td>\n      <td>None</td>\n      <td>None</td>\n      <td>None</td>\n      <td>None</td>\n      <td>4989</td>\n      <td>0.42</td>\n    </tr>\n    <tr>\n      <th>9</th>\n      <td>Budget</td>\n      <td>VARCHAR</td>\n      <td>$1,000,000 (estimated)</td>\n      <td>₹991,000 (estimated)</td>\n      <td>1110</td>\n      <td>None</td>\n      <td>None</td>\n      <td>None</td>\n      <td>None</td>\n      <td>None</td>\n      <td>4989</td>\n      <td>46.86</td>\n    </tr>\n    <tr>\n      <th>10</th>\n      <td>Worldwide Gross</td>\n      <td>VARCHAR</td>\n      <td>$1,003</td>\n      <td>₹750,000,000</td>\n      <td>3444</td>\n      <td>None</td>\n      <td>None</td>\n      <td>None</td>\n      <td>None</td>\n      <td>None</td>\n      <td>4989</td>\n      <td>21.93</td>\n    </tr>\n    <tr>\n      <th>11</th>\n      <td>Runtime</td>\n      <td>VARCHAR</td>\n      <td>1 hour</td>\n      <td>9 hours 26 minutes</td>\n      <td>179</td>\n      <td>None</td>\n      <td>None</td>\n      <td>None</td>\n      <td>None</td>\n      <td>None</td>\n      <td>4989</td>\n      <td>0.00</td>\n    </tr>\n  </tbody>\n</table>\n</div>"
     },
     "execution_count": 166,
     "metadata": {},
     "output_type": "execute_result"
    }
   ],
   "source": [
    "db.sql(\"SUMMARIZE imdb\").df()"
   ],
   "metadata": {
    "collapsed": false,
    "ExecuteTime": {
     "end_time": "2025-01-23T14:38:29.980717Z",
     "start_time": "2025-01-23T14:38:29.892972Z"
    }
   }
  },
  {
   "cell_type": "code",
   "execution_count": 167,
   "metadata": {
    "ExecuteTime": {
     "end_time": "2025-01-23T14:38:30.081564Z",
     "start_time": "2025-01-23T14:38:29.934380Z"
    }
   },
   "outputs": [
    {
     "data": {
      "text/plain": "                Runtime  count\n0     1 hour 35 minutes    109\n1     1 hour 50 minutes    109\n2     1 hour 43 minutes    100\n3     1 hour 58 minutes     94\n4     1 hour 40 minutes     92\n..                  ...    ...\n177    1 hour 3 minutes      1\n178  3 hours 10 minutes      1\n179          51 minutes      1\n180  3 hours 19 minutes      1\n181    7 hours 1 minute      1\n\n[182 rows x 2 columns]",
      "text/html": "<div>\n<style scoped>\n    .dataframe tbody tr th:only-of-type {\n        vertical-align: middle;\n    }\n\n    .dataframe tbody tr th {\n        vertical-align: top;\n    }\n\n    .dataframe thead th {\n        text-align: right;\n    }\n</style>\n<table border=\"1\" class=\"dataframe\">\n  <thead>\n    <tr style=\"text-align: right;\">\n      <th></th>\n      <th>Runtime</th>\n      <th>count</th>\n    </tr>\n  </thead>\n  <tbody>\n    <tr>\n      <th>0</th>\n      <td>1 hour 35 minutes</td>\n      <td>109</td>\n    </tr>\n    <tr>\n      <th>1</th>\n      <td>1 hour 50 minutes</td>\n      <td>109</td>\n    </tr>\n    <tr>\n      <th>2</th>\n      <td>1 hour 43 minutes</td>\n      <td>100</td>\n    </tr>\n    <tr>\n      <th>3</th>\n      <td>1 hour 58 minutes</td>\n      <td>94</td>\n    </tr>\n    <tr>\n      <th>4</th>\n      <td>1 hour 40 minutes</td>\n      <td>92</td>\n    </tr>\n    <tr>\n      <th>...</th>\n      <td>...</td>\n      <td>...</td>\n    </tr>\n    <tr>\n      <th>177</th>\n      <td>1 hour 3 minutes</td>\n      <td>1</td>\n    </tr>\n    <tr>\n      <th>178</th>\n      <td>3 hours 10 minutes</td>\n      <td>1</td>\n    </tr>\n    <tr>\n      <th>179</th>\n      <td>51 minutes</td>\n      <td>1</td>\n    </tr>\n    <tr>\n      <th>180</th>\n      <td>3 hours 19 minutes</td>\n      <td>1</td>\n    </tr>\n    <tr>\n      <th>181</th>\n      <td>7 hours 1 minute</td>\n      <td>1</td>\n    </tr>\n  </tbody>\n</table>\n<p>182 rows × 2 columns</p>\n</div>"
     },
     "execution_count": 167,
     "metadata": {},
     "output_type": "execute_result"
    }
   ],
   "source": [
    "\n",
    "db.execute(\n",
    "    \"SELECT Runtime, COUNT(*) AS count FROM imdb GROUP BY Runtime ORDER BY count DESC\"\n",
    ").df()"
   ]
  },
  {
   "cell_type": "code",
   "execution_count": 168,
   "metadata": {
    "ExecuteTime": {
     "end_time": "2025-01-23T14:38:30.123453Z",
     "start_time": "2025-01-23T14:38:29.960527Z"
    }
   },
   "outputs": [
    {
     "data": {
      "text/plain": "145"
     },
     "execution_count": 168,
     "metadata": {},
     "output_type": "execute_result"
    }
   ],
   "source": [
    "def runtime_to_minutes(string: str) -> int:\n",
    "    hours = re.search(r\"(\\d+) hours?\", string)\n",
    "    if hours:\n",
    "        hours = int(hours.group(1))\n",
    "    else:\n",
    "        hours = 0\n",
    "    minutes = re.search(r\"(\\d+) minutes\", string)\n",
    "    if minutes:\n",
    "        minutes = int(minutes.group(1))\n",
    "    else:\n",
    "        minutes = 0\n",
    "    return hours * 60 + minutes\n",
    "\n",
    "\n",
    "runtime_to_minutes(\"2 hours 25 minutes\")"
   ]
  },
  {
   "cell_type": "code",
   "execution_count": 169,
   "outputs": [
    {
     "data": {
      "text/plain": "<duckdb.duckdb.DuckDBPyConnection at 0x121c03af0>"
     },
     "execution_count": 169,
     "metadata": {},
     "output_type": "execute_result"
    }
   ],
   "source": [
    "db.create_function(\"runtime_to_minutes\", runtime_to_minutes)"
   ],
   "metadata": {
    "collapsed": false,
    "ExecuteTime": {
     "end_time": "2025-01-23T14:38:30.186867Z",
     "start_time": "2025-01-23T14:38:29.973464Z"
    }
   }
  },
  {
   "cell_type": "code",
   "execution_count": 170,
   "outputs": [
    {
     "data": {
      "text/plain": "                                           Title  Rating  \\\n0                       The Shawshank Redemption     9.3   \n1     Attack on Titan the Movie: The Last Attack     9.3   \n2                                  The Godfather     9.2   \n3                                 Hababam Sinifi     9.2   \n4            Ramayana: The Legend of Prince Rama     9.2   \n...                                          ...     ...   \n4984                                La comunidad     7.2   \n4985                           The House of Fear     7.2   \n4986                              Kurôzu zero II     7.2   \n4987                               La cage dorée     7.2   \n4988                                     Chingoo     7.2   \n\n                                Director  \\\n0                         Frank Darabont   \n1                       Yûichirô Hayashi   \n2                   Francis Ford Coppola   \n3                          Ertem Egilmez   \n4     Ram Mohan, Yûgô Sakô, Koichi Saski   \n...                                  ...   \n4984                  Álex de la Iglesia   \n4985                   Roy William Neill   \n4986                       Takashi Miike   \n4987                         Ruben Alves   \n4988                     Kwak Kyung-taek   \n\n                                                 Writer  Metascore  \\\n0                          Stephen King, Frank Darabont       82.0   \n1         Natsuki Hanae, Yoshimasa Hosoya, Marina Inoue        NaN   \n2                      Mario Puzo, Francis Ford Coppola      100.0   \n3                               Umur Bugay, Rifat Ilgaz        NaN   \n4                      Rani Burra, Ram Mohan, Yûgô Sakô        NaN   \n...                                                 ...        ...   \n4984       Jorge Guerricaechevarría, Álex de la Iglesia        NaN   \n4985                   Roy Chanslor, Arthur Conan Doyle        NaN   \n4986                      Hiroshi Takahashi, Shôgo Mutô        NaN   \n4987  Ruben Alves, Luc-Olivier Veuve, Jean-André Yerlès        NaN   \n4988                                    Kwak Kyung-taek        NaN   \n\n                                                   Cast  \\\n0     Tim Robbins, Morgan Freeman, Bob Gunton, Willi...   \n1     Natsuki Hanae, Yoshimasa Hosoya, Marina Inoue,...   \n2     Marlon Brando, Al Pacino, James Caan, Diane Ke...   \n3     Münir Özkul, Tarik Akan, Halit Akçatepe, Kemal...   \n4     Arun Govil, Nikhil Kapoor, Edie Mirman, Rael P...   \n...                                                 ...   \n4984  Carmen Maura, Eduardo Antuña, María Asquerino,...   \n4985  Basil Rathbone, Nigel Bruce, Aubrey Mather, De...   \n4986  Shun Oguri, Kyôsuke Yabe, Meisa Kuroki, Kenta ...   \n4987  Rita Blanco, Joaquim de Almeida, Roland Giraud...   \n4988  Yu Oh-seong, Jang Dong-gun, Seo Tae-hwa, Un-ta...   \n\n                        Release Date Country of Origin  \\\n0           October 14, 1994 (India)     United States   \n1           November 8, 2024 (Japan)             Japan   \n2                       1978 (India)     United States   \n3             April 1, 1975 (Turkey)            Turkey   \n4         September 25, 2001 (India)      India, Japan   \n...                              ...               ...   \n4984      September 29, 2000 (Spain)             Spain   \n4985  March 16, 1945 (United States)     United States   \n4986          April 11, 2009 (Japan)             Japan   \n4987         April 24, 2013 (France)            France   \n4988    March 31, 2001 (South Korea)       South Korea   \n\n                        Languages                   Budget Worldwide Gross  \\\n0                         English  $25,000,000 (estimated)     $29,332,133   \n1                        Japanese                     None      $3,513,659   \n2         English, Italian, Latin   $6,000,000 (estimated)    $250,342,198   \n3                         Turkish                     None            None   \n4                         English                     None            None   \n...                           ...                      ...             ...   \n4984                      Spanish   €4,000,000 (estimated)        $290,754   \n4985                      English                     None            None   \n4986                     Japanese                     None     $29,893,636   \n4987  French, Portuguese, English   €7,000,000 (estimated)     $17,871,370   \n4988                       Korean                     None        $550,031   \n\n                 Runtime  Runtime (minutes)  \n0     2 hours 22 minutes                142  \n1     2 hours 25 minutes                145  \n2     2 hours 55 minutes                175  \n3      1 hour 25 minutes                 85  \n4     2 hours 15 minutes                135  \n...                  ...                ...  \n4984   1 hour 50 minutes                110  \n4985    1 hour 9 minutes                 69  \n4986  2 hours 13 minutes                133  \n4987   1 hour 30 minutes                 90  \n4988   1 hour 53 minutes                113  \n\n[4989 rows x 13 columns]",
      "text/html": "<div>\n<style scoped>\n    .dataframe tbody tr th:only-of-type {\n        vertical-align: middle;\n    }\n\n    .dataframe tbody tr th {\n        vertical-align: top;\n    }\n\n    .dataframe thead th {\n        text-align: right;\n    }\n</style>\n<table border=\"1\" class=\"dataframe\">\n  <thead>\n    <tr style=\"text-align: right;\">\n      <th></th>\n      <th>Title</th>\n      <th>Rating</th>\n      <th>Director</th>\n      <th>Writer</th>\n      <th>Metascore</th>\n      <th>Cast</th>\n      <th>Release Date</th>\n      <th>Country of Origin</th>\n      <th>Languages</th>\n      <th>Budget</th>\n      <th>Worldwide Gross</th>\n      <th>Runtime</th>\n      <th>Runtime (minutes)</th>\n    </tr>\n  </thead>\n  <tbody>\n    <tr>\n      <th>0</th>\n      <td>The Shawshank Redemption</td>\n      <td>9.3</td>\n      <td>Frank Darabont</td>\n      <td>Stephen King, Frank Darabont</td>\n      <td>82.0</td>\n      <td>Tim Robbins, Morgan Freeman, Bob Gunton, Willi...</td>\n      <td>October 14, 1994 (India)</td>\n      <td>United States</td>\n      <td>English</td>\n      <td>$25,000,000 (estimated)</td>\n      <td>$29,332,133</td>\n      <td>2 hours 22 minutes</td>\n      <td>142</td>\n    </tr>\n    <tr>\n      <th>1</th>\n      <td>Attack on Titan the Movie: The Last Attack</td>\n      <td>9.3</td>\n      <td>Yûichirô Hayashi</td>\n      <td>Natsuki Hanae, Yoshimasa Hosoya, Marina Inoue</td>\n      <td>NaN</td>\n      <td>Natsuki Hanae, Yoshimasa Hosoya, Marina Inoue,...</td>\n      <td>November 8, 2024 (Japan)</td>\n      <td>Japan</td>\n      <td>Japanese</td>\n      <td>None</td>\n      <td>$3,513,659</td>\n      <td>2 hours 25 minutes</td>\n      <td>145</td>\n    </tr>\n    <tr>\n      <th>2</th>\n      <td>The Godfather</td>\n      <td>9.2</td>\n      <td>Francis Ford Coppola</td>\n      <td>Mario Puzo, Francis Ford Coppola</td>\n      <td>100.0</td>\n      <td>Marlon Brando, Al Pacino, James Caan, Diane Ke...</td>\n      <td>1978 (India)</td>\n      <td>United States</td>\n      <td>English, Italian, Latin</td>\n      <td>$6,000,000 (estimated)</td>\n      <td>$250,342,198</td>\n      <td>2 hours 55 minutes</td>\n      <td>175</td>\n    </tr>\n    <tr>\n      <th>3</th>\n      <td>Hababam Sinifi</td>\n      <td>9.2</td>\n      <td>Ertem Egilmez</td>\n      <td>Umur Bugay, Rifat Ilgaz</td>\n      <td>NaN</td>\n      <td>Münir Özkul, Tarik Akan, Halit Akçatepe, Kemal...</td>\n      <td>April 1, 1975 (Turkey)</td>\n      <td>Turkey</td>\n      <td>Turkish</td>\n      <td>None</td>\n      <td>None</td>\n      <td>1 hour 25 minutes</td>\n      <td>85</td>\n    </tr>\n    <tr>\n      <th>4</th>\n      <td>Ramayana: The Legend of Prince Rama</td>\n      <td>9.2</td>\n      <td>Ram Mohan, Yûgô Sakô, Koichi Saski</td>\n      <td>Rani Burra, Ram Mohan, Yûgô Sakô</td>\n      <td>NaN</td>\n      <td>Arun Govil, Nikhil Kapoor, Edie Mirman, Rael P...</td>\n      <td>September 25, 2001 (India)</td>\n      <td>India, Japan</td>\n      <td>English</td>\n      <td>None</td>\n      <td>None</td>\n      <td>2 hours 15 minutes</td>\n      <td>135</td>\n    </tr>\n    <tr>\n      <th>...</th>\n      <td>...</td>\n      <td>...</td>\n      <td>...</td>\n      <td>...</td>\n      <td>...</td>\n      <td>...</td>\n      <td>...</td>\n      <td>...</td>\n      <td>...</td>\n      <td>...</td>\n      <td>...</td>\n      <td>...</td>\n      <td>...</td>\n    </tr>\n    <tr>\n      <th>4984</th>\n      <td>La comunidad</td>\n      <td>7.2</td>\n      <td>Álex de la Iglesia</td>\n      <td>Jorge Guerricaechevarría, Álex de la Iglesia</td>\n      <td>NaN</td>\n      <td>Carmen Maura, Eduardo Antuña, María Asquerino,...</td>\n      <td>September 29, 2000 (Spain)</td>\n      <td>Spain</td>\n      <td>Spanish</td>\n      <td>€4,000,000 (estimated)</td>\n      <td>$290,754</td>\n      <td>1 hour 50 minutes</td>\n      <td>110</td>\n    </tr>\n    <tr>\n      <th>4985</th>\n      <td>The House of Fear</td>\n      <td>7.2</td>\n      <td>Roy William Neill</td>\n      <td>Roy Chanslor, Arthur Conan Doyle</td>\n      <td>NaN</td>\n      <td>Basil Rathbone, Nigel Bruce, Aubrey Mather, De...</td>\n      <td>March 16, 1945 (United States)</td>\n      <td>United States</td>\n      <td>English</td>\n      <td>None</td>\n      <td>None</td>\n      <td>1 hour 9 minutes</td>\n      <td>69</td>\n    </tr>\n    <tr>\n      <th>4986</th>\n      <td>Kurôzu zero II</td>\n      <td>7.2</td>\n      <td>Takashi Miike</td>\n      <td>Hiroshi Takahashi, Shôgo Mutô</td>\n      <td>NaN</td>\n      <td>Shun Oguri, Kyôsuke Yabe, Meisa Kuroki, Kenta ...</td>\n      <td>April 11, 2009 (Japan)</td>\n      <td>Japan</td>\n      <td>Japanese</td>\n      <td>None</td>\n      <td>$29,893,636</td>\n      <td>2 hours 13 minutes</td>\n      <td>133</td>\n    </tr>\n    <tr>\n      <th>4987</th>\n      <td>La cage dorée</td>\n      <td>7.2</td>\n      <td>Ruben Alves</td>\n      <td>Ruben Alves, Luc-Olivier Veuve, Jean-André Yerlès</td>\n      <td>NaN</td>\n      <td>Rita Blanco, Joaquim de Almeida, Roland Giraud...</td>\n      <td>April 24, 2013 (France)</td>\n      <td>France</td>\n      <td>French, Portuguese, English</td>\n      <td>€7,000,000 (estimated)</td>\n      <td>$17,871,370</td>\n      <td>1 hour 30 minutes</td>\n      <td>90</td>\n    </tr>\n    <tr>\n      <th>4988</th>\n      <td>Chingoo</td>\n      <td>7.2</td>\n      <td>Kwak Kyung-taek</td>\n      <td>Kwak Kyung-taek</td>\n      <td>NaN</td>\n      <td>Yu Oh-seong, Jang Dong-gun, Seo Tae-hwa, Un-ta...</td>\n      <td>March 31, 2001 (South Korea)</td>\n      <td>South Korea</td>\n      <td>Korean</td>\n      <td>None</td>\n      <td>$550,031</td>\n      <td>1 hour 53 minutes</td>\n      <td>113</td>\n    </tr>\n  </tbody>\n</table>\n<p>4989 rows × 13 columns</p>\n</div>"
     },
     "execution_count": 170,
     "metadata": {},
     "output_type": "execute_result"
    }
   ],
   "source": [
    "df = db.sql(\"SELECT *, runtime_to_minutes(Runtime) as 'Runtime (minutes)' FROM imdb\")\n",
    "df.df()\n"
   ],
   "metadata": {
    "collapsed": false,
    "ExecuteTime": {
     "end_time": "2025-01-23T14:38:30.269398Z",
     "start_time": "2025-01-23T14:38:29.980912Z"
    }
   }
  },
  {
   "cell_type": "code",
   "execution_count": 171,
   "outputs": [
    {
     "data": {
      "text/plain": "┌───────────────────┬─────────────┬─────────┬─────────┬─────────┬─────────┐\n│    column_name    │ column_type │  null   │   key   │ default │  extra  │\n│      varchar      │   varchar   │ varchar │ varchar │ varchar │ varchar │\n├───────────────────┼─────────────┼─────────┼─────────┼─────────┼─────────┤\n│ Title             │ VARCHAR     │ YES     │ NULL    │ NULL    │ NULL    │\n│ Rating            │ DOUBLE      │ YES     │ NULL    │ NULL    │ NULL    │\n│ Director          │ VARCHAR     │ YES     │ NULL    │ NULL    │ NULL    │\n│ Writer            │ VARCHAR     │ YES     │ NULL    │ NULL    │ NULL    │\n│ Metascore         │ DOUBLE      │ YES     │ NULL    │ NULL    │ NULL    │\n│ Cast              │ VARCHAR     │ YES     │ NULL    │ NULL    │ NULL    │\n│ Release Date      │ VARCHAR     │ YES     │ NULL    │ NULL    │ NULL    │\n│ Country of Origin │ VARCHAR     │ YES     │ NULL    │ NULL    │ NULL    │\n│ Languages         │ VARCHAR     │ YES     │ NULL    │ NULL    │ NULL    │\n│ Budget            │ VARCHAR     │ YES     │ NULL    │ NULL    │ NULL    │\n│ Worldwide Gross   │ VARCHAR     │ YES     │ NULL    │ NULL    │ NULL    │\n│ Runtime           │ VARCHAR     │ YES     │ NULL    │ NULL    │ NULL    │\n│ Runtime (minutes) │ INTEGER     │ YES     │ NULL    │ NULL    │ NULL    │\n├───────────────────┴─────────────┴─────────┴─────────┴─────────┴─────────┤\n│ 13 rows                                                       6 columns │\n└─────────────────────────────────────────────────────────────────────────┘"
     },
     "execution_count": 171,
     "metadata": {},
     "output_type": "execute_result"
    }
   ],
   "source": [
    "# to add column permanently\n",
    "db.execute(\"ALTER TABLE imdb ADD COLUMN \\\"Runtime (minutes)\\\" INT\")\n",
    "db.execute(\"UPDATE imdb SET \\\"Runtime (minutes)\\\" = runtime_to_minutes(Runtime)\")\n",
    "db.sql(\"SHOW imdb\")\n"
   ],
   "metadata": {
    "collapsed": false,
    "ExecuteTime": {
     "end_time": "2025-01-23T14:38:30.398190Z",
     "start_time": "2025-01-23T14:38:30.037008Z"
    }
   }
  },
  {
   "cell_type": "code",
   "execution_count": 172,
   "metadata": {
    "ExecuteTime": {
     "end_time": "2025-01-23T14:38:30.400111Z",
     "start_time": "2025-01-23T14:38:30.078128Z"
    }
   },
   "outputs": [
    {
     "data": {
      "text/plain": "6000000"
     },
     "execution_count": 172,
     "metadata": {},
     "output_type": "execute_result"
    }
   ],
   "source": [
    "def money_to_usd(string: str | None) -> int | None:\n",
    "    if not isinstance(string, str) or not \"$\" in string:\n",
    "        return None\n",
    "    budget = int(re.sub(r\"[^\\d]\", \"\", string))\n",
    "    return budget\n",
    "money_to_usd(\"$6,000,000 (estimated)\")"
   ]
  },
  {
   "cell_type": "code",
   "execution_count": 173,
   "outputs": [
    {
     "data": {
      "text/plain": "<duckdb.duckdb.DuckDBPyConnection at 0x121c03af0>"
     },
     "execution_count": 173,
     "metadata": {},
     "output_type": "execute_result"
    }
   ],
   "source": [
    "# db.remove_function(\"money_to_usd\") # I'm tired from errors that something already exists. It's hard to simply override something\n",
    "db.create_function(\"money_to_usd\", money_to_usd, null_handling=\"SPECIAL\")"
   ],
   "metadata": {
    "collapsed": false,
    "ExecuteTime": {
     "end_time": "2025-01-23T14:38:30.401365Z",
     "start_time": "2025-01-23T14:38:30.087757Z"
    }
   }
  },
  {
   "cell_type": "code",
   "execution_count": 174,
   "metadata": {
    "ExecuteTime": {
     "end_time": "2025-01-23T14:38:30.418641Z",
     "start_time": "2025-01-23T14:38:30.093097Z"
    }
   },
   "outputs": [
    {
     "data": {
      "text/plain": "                                           Title  Rating  \\\n0                       The Shawshank Redemption     9.3   \n1     Attack on Titan the Movie: The Last Attack     9.3   \n2                                  The Godfather     9.2   \n3                                 Hababam Sinifi     9.2   \n4            Ramayana: The Legend of Prince Rama     9.2   \n...                                          ...     ...   \n4984                                La comunidad     7.2   \n4985                           The House of Fear     7.2   \n4986                              Kurôzu zero II     7.2   \n4987                               La cage dorée     7.2   \n4988                                     Chingoo     7.2   \n\n                                Director  \\\n0                         Frank Darabont   \n1                       Yûichirô Hayashi   \n2                   Francis Ford Coppola   \n3                          Ertem Egilmez   \n4     Ram Mohan, Yûgô Sakô, Koichi Saski   \n...                                  ...   \n4984                  Álex de la Iglesia   \n4985                   Roy William Neill   \n4986                       Takashi Miike   \n4987                         Ruben Alves   \n4988                     Kwak Kyung-taek   \n\n                                                 Writer  Metascore  \\\n0                          Stephen King, Frank Darabont       82.0   \n1         Natsuki Hanae, Yoshimasa Hosoya, Marina Inoue        NaN   \n2                      Mario Puzo, Francis Ford Coppola      100.0   \n3                               Umur Bugay, Rifat Ilgaz        NaN   \n4                      Rani Burra, Ram Mohan, Yûgô Sakô        NaN   \n...                                                 ...        ...   \n4984       Jorge Guerricaechevarría, Álex de la Iglesia        NaN   \n4985                   Roy Chanslor, Arthur Conan Doyle        NaN   \n4986                      Hiroshi Takahashi, Shôgo Mutô        NaN   \n4987  Ruben Alves, Luc-Olivier Veuve, Jean-André Yerlès        NaN   \n4988                                    Kwak Kyung-taek        NaN   \n\n                                                   Cast  \\\n0     Tim Robbins, Morgan Freeman, Bob Gunton, Willi...   \n1     Natsuki Hanae, Yoshimasa Hosoya, Marina Inoue,...   \n2     Marlon Brando, Al Pacino, James Caan, Diane Ke...   \n3     Münir Özkul, Tarik Akan, Halit Akçatepe, Kemal...   \n4     Arun Govil, Nikhil Kapoor, Edie Mirman, Rael P...   \n...                                                 ...   \n4984  Carmen Maura, Eduardo Antuña, María Asquerino,...   \n4985  Basil Rathbone, Nigel Bruce, Aubrey Mather, De...   \n4986  Shun Oguri, Kyôsuke Yabe, Meisa Kuroki, Kenta ...   \n4987  Rita Blanco, Joaquim de Almeida, Roland Giraud...   \n4988  Yu Oh-seong, Jang Dong-gun, Seo Tae-hwa, Un-ta...   \n\n                        Release Date Country of Origin  \\\n0           October 14, 1994 (India)     United States   \n1           November 8, 2024 (Japan)             Japan   \n2                       1978 (India)     United States   \n3             April 1, 1975 (Turkey)            Turkey   \n4         September 25, 2001 (India)      India, Japan   \n...                              ...               ...   \n4984      September 29, 2000 (Spain)             Spain   \n4985  March 16, 1945 (United States)     United States   \n4986          April 11, 2009 (Japan)             Japan   \n4987         April 24, 2013 (France)            France   \n4988    March 31, 2001 (South Korea)       South Korea   \n\n                        Languages                   Budget Worldwide Gross  \\\n0                         English  $25,000,000 (estimated)     $29,332,133   \n1                        Japanese                     None      $3,513,659   \n2         English, Italian, Latin   $6,000,000 (estimated)    $250,342,198   \n3                         Turkish                     None            None   \n4                         English                     None            None   \n...                           ...                      ...             ...   \n4984                      Spanish   €4,000,000 (estimated)        $290,754   \n4985                      English                     None            None   \n4986                     Japanese                     None     $29,893,636   \n4987  French, Portuguese, English   €7,000,000 (estimated)     $17,871,370   \n4988                       Korean                     None        $550,031   \n\n                 Runtime  Runtime (minutes)  Budget (usd)  \\\n0     2 hours 22 minutes                142    25000000.0   \n1     2 hours 25 minutes                145           NaN   \n2     2 hours 55 minutes                175     6000000.0   \n3      1 hour 25 minutes                 85           NaN   \n4     2 hours 15 minutes                135           NaN   \n...                  ...                ...           ...   \n4984   1 hour 50 minutes                110           NaN   \n4985    1 hour 9 minutes                 69           NaN   \n4986  2 hours 13 minutes                133           NaN   \n4987   1 hour 30 minutes                 90           NaN   \n4988   1 hour 53 minutes                113           NaN   \n\n      Worldwide Gross (usd)  (\"Worldwide Gross (usd)\" - \"Budget (usd)\")  \n0                29332133.0                                   4332133.0  \n1                 3513659.0                                         NaN  \n2               250342198.0                                 244342198.0  \n3                       NaN                                         NaN  \n4                       NaN                                         NaN  \n...                     ...                                         ...  \n4984               290754.0                                         NaN  \n4985                    NaN                                         NaN  \n4986             29893636.0                                         NaN  \n4987             17871370.0                                         NaN  \n4988               550031.0                                         NaN  \n\n[4989 rows x 16 columns]",
      "text/html": "<div>\n<style scoped>\n    .dataframe tbody tr th:only-of-type {\n        vertical-align: middle;\n    }\n\n    .dataframe tbody tr th {\n        vertical-align: top;\n    }\n\n    .dataframe thead th {\n        text-align: right;\n    }\n</style>\n<table border=\"1\" class=\"dataframe\">\n  <thead>\n    <tr style=\"text-align: right;\">\n      <th></th>\n      <th>Title</th>\n      <th>Rating</th>\n      <th>Director</th>\n      <th>Writer</th>\n      <th>Metascore</th>\n      <th>Cast</th>\n      <th>Release Date</th>\n      <th>Country of Origin</th>\n      <th>Languages</th>\n      <th>Budget</th>\n      <th>Worldwide Gross</th>\n      <th>Runtime</th>\n      <th>Runtime (minutes)</th>\n      <th>Budget (usd)</th>\n      <th>Worldwide Gross (usd)</th>\n      <th>(\"Worldwide Gross (usd)\" - \"Budget (usd)\")</th>\n    </tr>\n  </thead>\n  <tbody>\n    <tr>\n      <th>0</th>\n      <td>The Shawshank Redemption</td>\n      <td>9.3</td>\n      <td>Frank Darabont</td>\n      <td>Stephen King, Frank Darabont</td>\n      <td>82.0</td>\n      <td>Tim Robbins, Morgan Freeman, Bob Gunton, Willi...</td>\n      <td>October 14, 1994 (India)</td>\n      <td>United States</td>\n      <td>English</td>\n      <td>$25,000,000 (estimated)</td>\n      <td>$29,332,133</td>\n      <td>2 hours 22 minutes</td>\n      <td>142</td>\n      <td>25000000.0</td>\n      <td>29332133.0</td>\n      <td>4332133.0</td>\n    </tr>\n    <tr>\n      <th>1</th>\n      <td>Attack on Titan the Movie: The Last Attack</td>\n      <td>9.3</td>\n      <td>Yûichirô Hayashi</td>\n      <td>Natsuki Hanae, Yoshimasa Hosoya, Marina Inoue</td>\n      <td>NaN</td>\n      <td>Natsuki Hanae, Yoshimasa Hosoya, Marina Inoue,...</td>\n      <td>November 8, 2024 (Japan)</td>\n      <td>Japan</td>\n      <td>Japanese</td>\n      <td>None</td>\n      <td>$3,513,659</td>\n      <td>2 hours 25 minutes</td>\n      <td>145</td>\n      <td>NaN</td>\n      <td>3513659.0</td>\n      <td>NaN</td>\n    </tr>\n    <tr>\n      <th>2</th>\n      <td>The Godfather</td>\n      <td>9.2</td>\n      <td>Francis Ford Coppola</td>\n      <td>Mario Puzo, Francis Ford Coppola</td>\n      <td>100.0</td>\n      <td>Marlon Brando, Al Pacino, James Caan, Diane Ke...</td>\n      <td>1978 (India)</td>\n      <td>United States</td>\n      <td>English, Italian, Latin</td>\n      <td>$6,000,000 (estimated)</td>\n      <td>$250,342,198</td>\n      <td>2 hours 55 minutes</td>\n      <td>175</td>\n      <td>6000000.0</td>\n      <td>250342198.0</td>\n      <td>244342198.0</td>\n    </tr>\n    <tr>\n      <th>3</th>\n      <td>Hababam Sinifi</td>\n      <td>9.2</td>\n      <td>Ertem Egilmez</td>\n      <td>Umur Bugay, Rifat Ilgaz</td>\n      <td>NaN</td>\n      <td>Münir Özkul, Tarik Akan, Halit Akçatepe, Kemal...</td>\n      <td>April 1, 1975 (Turkey)</td>\n      <td>Turkey</td>\n      <td>Turkish</td>\n      <td>None</td>\n      <td>None</td>\n      <td>1 hour 25 minutes</td>\n      <td>85</td>\n      <td>NaN</td>\n      <td>NaN</td>\n      <td>NaN</td>\n    </tr>\n    <tr>\n      <th>4</th>\n      <td>Ramayana: The Legend of Prince Rama</td>\n      <td>9.2</td>\n      <td>Ram Mohan, Yûgô Sakô, Koichi Saski</td>\n      <td>Rani Burra, Ram Mohan, Yûgô Sakô</td>\n      <td>NaN</td>\n      <td>Arun Govil, Nikhil Kapoor, Edie Mirman, Rael P...</td>\n      <td>September 25, 2001 (India)</td>\n      <td>India, Japan</td>\n      <td>English</td>\n      <td>None</td>\n      <td>None</td>\n      <td>2 hours 15 minutes</td>\n      <td>135</td>\n      <td>NaN</td>\n      <td>NaN</td>\n      <td>NaN</td>\n    </tr>\n    <tr>\n      <th>...</th>\n      <td>...</td>\n      <td>...</td>\n      <td>...</td>\n      <td>...</td>\n      <td>...</td>\n      <td>...</td>\n      <td>...</td>\n      <td>...</td>\n      <td>...</td>\n      <td>...</td>\n      <td>...</td>\n      <td>...</td>\n      <td>...</td>\n      <td>...</td>\n      <td>...</td>\n      <td>...</td>\n    </tr>\n    <tr>\n      <th>4984</th>\n      <td>La comunidad</td>\n      <td>7.2</td>\n      <td>Álex de la Iglesia</td>\n      <td>Jorge Guerricaechevarría, Álex de la Iglesia</td>\n      <td>NaN</td>\n      <td>Carmen Maura, Eduardo Antuña, María Asquerino,...</td>\n      <td>September 29, 2000 (Spain)</td>\n      <td>Spain</td>\n      <td>Spanish</td>\n      <td>€4,000,000 (estimated)</td>\n      <td>$290,754</td>\n      <td>1 hour 50 minutes</td>\n      <td>110</td>\n      <td>NaN</td>\n      <td>290754.0</td>\n      <td>NaN</td>\n    </tr>\n    <tr>\n      <th>4985</th>\n      <td>The House of Fear</td>\n      <td>7.2</td>\n      <td>Roy William Neill</td>\n      <td>Roy Chanslor, Arthur Conan Doyle</td>\n      <td>NaN</td>\n      <td>Basil Rathbone, Nigel Bruce, Aubrey Mather, De...</td>\n      <td>March 16, 1945 (United States)</td>\n      <td>United States</td>\n      <td>English</td>\n      <td>None</td>\n      <td>None</td>\n      <td>1 hour 9 minutes</td>\n      <td>69</td>\n      <td>NaN</td>\n      <td>NaN</td>\n      <td>NaN</td>\n    </tr>\n    <tr>\n      <th>4986</th>\n      <td>Kurôzu zero II</td>\n      <td>7.2</td>\n      <td>Takashi Miike</td>\n      <td>Hiroshi Takahashi, Shôgo Mutô</td>\n      <td>NaN</td>\n      <td>Shun Oguri, Kyôsuke Yabe, Meisa Kuroki, Kenta ...</td>\n      <td>April 11, 2009 (Japan)</td>\n      <td>Japan</td>\n      <td>Japanese</td>\n      <td>None</td>\n      <td>$29,893,636</td>\n      <td>2 hours 13 minutes</td>\n      <td>133</td>\n      <td>NaN</td>\n      <td>29893636.0</td>\n      <td>NaN</td>\n    </tr>\n    <tr>\n      <th>4987</th>\n      <td>La cage dorée</td>\n      <td>7.2</td>\n      <td>Ruben Alves</td>\n      <td>Ruben Alves, Luc-Olivier Veuve, Jean-André Yerlès</td>\n      <td>NaN</td>\n      <td>Rita Blanco, Joaquim de Almeida, Roland Giraud...</td>\n      <td>April 24, 2013 (France)</td>\n      <td>France</td>\n      <td>French, Portuguese, English</td>\n      <td>€7,000,000 (estimated)</td>\n      <td>$17,871,370</td>\n      <td>1 hour 30 minutes</td>\n      <td>90</td>\n      <td>NaN</td>\n      <td>17871370.0</td>\n      <td>NaN</td>\n    </tr>\n    <tr>\n      <th>4988</th>\n      <td>Chingoo</td>\n      <td>7.2</td>\n      <td>Kwak Kyung-taek</td>\n      <td>Kwak Kyung-taek</td>\n      <td>NaN</td>\n      <td>Yu Oh-seong, Jang Dong-gun, Seo Tae-hwa, Un-ta...</td>\n      <td>March 31, 2001 (South Korea)</td>\n      <td>South Korea</td>\n      <td>Korean</td>\n      <td>None</td>\n      <td>$550,031</td>\n      <td>1 hour 53 minutes</td>\n      <td>113</td>\n      <td>NaN</td>\n      <td>550031.0</td>\n      <td>NaN</td>\n    </tr>\n  </tbody>\n</table>\n<p>4989 rows × 16 columns</p>\n</div>"
     },
     "execution_count": 174,
     "metadata": {},
     "output_type": "execute_result"
    }
   ],
   "source": [
    "df = db.sql('''\n",
    "    with budgets as (SELECT *, \n",
    "    money_to_usd(Budget) as \"Budget (usd)\",\n",
    "    money_to_usd(\"Worldwide Gross\") as \"Worldwide Gross (usd)\"\n",
    "    FROM imdb)\n",
    "    select *, \"Worldwide Gross (usd)\" - \"Budget (usd)\" from budgets\n",
    "'''\n",
    ")\n",
    "df.df()\n",
    "\n",
    "\n"
   ]
  },
  {
   "cell_type": "code",
   "execution_count": 175,
   "outputs": [
    {
     "data": {
      "text/plain": "<duckdb.duckdb.DuckDBPyConnection at 0x121c03af0>"
     },
     "execution_count": 175,
     "metadata": {},
     "output_type": "execute_result"
    }
   ],
   "source": [
    "db.execute(\"\"\"ALTER TABLE imdb ADD COLUMN \"Budget (usd)\" BIGINT\"\"\")\n",
    "db.execute(\"\"\"ALTER TABLE imdb ADD COLUMN \"Worldwide Gross (usd)\" BIGINT\"\"\")\n",
    "db.execute(\n",
    "    \"\"\"UPDATE imdb SET \"Budget (usd)\" = money_to_usd(\"Budget\"), \"Worldwide Gross (usd)\" = money_to_usd(\"Worldwide Gross\")\"\"\"\n",
    ")\n",
    "db.execute(\"ALTER TABLE imdb ADD COLUMN \\\"Profit (usd)\\\" BIGINT\")\n",
    "db.execute(\"UPDATE imdb SET \\\"Profit (usd)\\\" = \\\"Worldwide Gross (usd)\\\" - \\\"Budget (usd)\\\"\")\n",
    "\n",
    "# I hate this so much. It was an error about int and bigint so I needed to update type of the column. To do this I need to comment out alter statements (because columns already exists) and run\n",
    "# db.execute(\"ALTER TABLE imdb ALTER COLUMN \\\"Profit (usd)\\\" TYPE BIGINT\")"
   ],
   "metadata": {
    "collapsed": false,
    "ExecuteTime": {
     "end_time": "2025-01-23T14:38:30.454394Z",
     "start_time": "2025-01-23T14:38:30.168019Z"
    }
   }
  },
  {
   "cell_type": "code",
   "execution_count": 176,
   "metadata": {
    "ExecuteTime": {
     "end_time": "2025-01-23T14:38:30.474016Z",
     "start_time": "2025-01-23T14:38:30.213392Z"
    }
   },
   "outputs": [
    {
     "data": {
      "text/plain": "                                           Title  Rating  \\\n0                              Avengers: Endgame     8.4   \n1                             The Little Mermaid     7.2   \n2                       Avatar: The Way of Water     7.5   \n3                         Avengers: Infinity War     8.4   \n4                   Zack Snyder's Justice League     7.9   \n5  Mission: Impossible - Dead Reckoning Part One     7.7   \n6                                        Tangled     7.7   \n7                          The Dark Knight Rises     8.4   \n8                 Guardians of the Galaxy Vol. 3     7.9   \n9                     Captain America: Civil War     7.8   \n\n                     Director  \\\n0    Anthony Russo, Joe Russo   \n1                Rob Marshall   \n2               James Cameron   \n3    Anthony Russo, Joe Russo   \n4                 Zack Snyder   \n5       Christopher McQuarrie   \n6  Nathan Greno, Byron Howard   \n7           Christopher Nolan   \n8                  James Gunn   \n9    Anthony Russo, Joe Russo   \n\n                                              Writer  Metascore  \\\n0      Christopher Markus, Stephen McFeely, Stan Lee       78.0   \n1  David Magee, Hans Christian Andersen, John Musker       59.0   \n2           James Cameron, Rick Jaffa, Amanda Silver       67.0   \n3      Christopher Markus, Stephen McFeely, Stan Lee       68.0   \n4             Jerry Siegel, Joe Shuster, Zack Snyder       54.0   \n5  Bruce Geller, Christopher McQuarrie, Erik Jend...       81.0   \n6           Dan Fogelman, Jacob Grimm, Wilhelm Grimm       71.0   \n7  Jonathan Nolan, Christopher Nolan, David S. Goyer       78.0   \n8                  James Gunn, Jim Starlin, Stan Lee       64.0   \n9     Christopher Markus, Stephen McFeely, Joe Simon       75.0   \n\n                                                Cast  \\\n0  Robert Downey Jr., Chris Evans, Mark Ruffalo, ...   \n1  Halle Bailey, Jonah Hauer-King, Melissa McCart...   \n2  Sam Worthington, Zoe Saldana, Sigourney Weaver...   \n3  Robert Downey Jr., Chris Hemsworth, Mark Ruffa...   \n4  Henry Cavill, Ben Affleck, Gal Gadot, Amy Adam...   \n5  Tom Cruise, Hayley Atwell, Ving Rhames, Simon ...   \n6  Mandy Moore, Zachary Levi, Donna Murphy, Ron P...   \n7  Christian Bale, Tom Hardy, Anne Hathaway, Gary...   \n8  Chris Pratt, Chukwudi Iwuji, Bradley Cooper, P...   \n9  Chris Evans, Robert Downey Jr., Scarlett Johan...   \n\n                Release Date  \\\n0     April 26, 2019 (India)   \n1       May 26, 2023 (India)   \n2  December 16, 2022 (India)   \n3     April 27, 2018 (India)   \n4     March 18, 2021 (India)   \n5      July 12, 2023 (India)   \n6   January 21, 2011 (India)   \n7      July 20, 2012 (India)   \n8        May 5, 2023 (India)   \n9        May 6, 2016 (India)   \n\n                                   Country of Origin  \\\n0                                      United States   \n1                                      United States   \n2                                      United States   \n3                              United States, Norway   \n4  United States, Canada, New Zealand, United Kin...   \n5                                      United States   \n6                               United States, Japan   \n7                      United States, United Kingdom   \n8         United States, New Zealand, France, Canada   \n9                             United States, Germany   \n\n                                   Languages                    Budget  \\\n0           English, Japanese, Xhosa, German  $356,000,000 (estimated)   \n1                                    English  $355,100,000 (estimated)   \n2                                    English  $350,000,000 (estimated)   \n3                                    English  $321,000,000 (estimated)   \n4                 English, Icelandic, French  $300,000,000 (estimated)   \n5          English, French, Italian, Russian  $291,000,000 (estimated)   \n6                            English, German  $260,000,000 (estimated)   \n7                            English, Arabic  $250,000,000 (estimated)   \n8                                    English  $250,000,000 (estimated)   \n9  English, German, Xhosa, Russian, Romanian  $250,000,000 (estimated)   \n\n  Worldwide Gross             Runtime  Runtime (minutes)  Budget (usd)  \\\n0  $2,799,439,100    3 hours 1 minute                180     356000000   \n1    $569,626,289  2 hours 15 minutes                135     355100000   \n2  $2,320,250,281  3 hours 12 minutes                192     350000000   \n3  $2,052,415,039  2 hours 29 minutes                149     321000000   \n4            None   4 hours 2 minutes                242     300000000   \n5    $570,619,838  2 hours 43 minutes                163     291000000   \n6    $591,806,017   1 hour 40 minutes                100     260000000   \n7  $1,114,975,066  2 hours 44 minutes                164     250000000   \n8    $845,555,777  2 hours 30 minutes                150     250000000   \n9  $1,155,046,416  2 hours 27 minutes                147     250000000   \n\n   Worldwide Gross (usd)  Profit (usd)  \n0           2.799439e+09  2.443439e+09  \n1           5.696263e+08  2.145263e+08  \n2           2.320250e+09  1.970250e+09  \n3           2.052415e+09  1.731415e+09  \n4                    NaN           NaN  \n5           5.706198e+08  2.796198e+08  \n6           5.918060e+08  3.318060e+08  \n7           1.114975e+09  8.649751e+08  \n8           8.455558e+08  5.955558e+08  \n9           1.155046e+09  9.050464e+08  ",
      "text/html": "<div>\n<style scoped>\n    .dataframe tbody tr th:only-of-type {\n        vertical-align: middle;\n    }\n\n    .dataframe tbody tr th {\n        vertical-align: top;\n    }\n\n    .dataframe thead th {\n        text-align: right;\n    }\n</style>\n<table border=\"1\" class=\"dataframe\">\n  <thead>\n    <tr style=\"text-align: right;\">\n      <th></th>\n      <th>Title</th>\n      <th>Rating</th>\n      <th>Director</th>\n      <th>Writer</th>\n      <th>Metascore</th>\n      <th>Cast</th>\n      <th>Release Date</th>\n      <th>Country of Origin</th>\n      <th>Languages</th>\n      <th>Budget</th>\n      <th>Worldwide Gross</th>\n      <th>Runtime</th>\n      <th>Runtime (minutes)</th>\n      <th>Budget (usd)</th>\n      <th>Worldwide Gross (usd)</th>\n      <th>Profit (usd)</th>\n    </tr>\n  </thead>\n  <tbody>\n    <tr>\n      <th>0</th>\n      <td>Avengers: Endgame</td>\n      <td>8.4</td>\n      <td>Anthony Russo, Joe Russo</td>\n      <td>Christopher Markus, Stephen McFeely, Stan Lee</td>\n      <td>78.0</td>\n      <td>Robert Downey Jr., Chris Evans, Mark Ruffalo, ...</td>\n      <td>April 26, 2019 (India)</td>\n      <td>United States</td>\n      <td>English, Japanese, Xhosa, German</td>\n      <td>$356,000,000 (estimated)</td>\n      <td>$2,799,439,100</td>\n      <td>3 hours 1 minute</td>\n      <td>180</td>\n      <td>356000000</td>\n      <td>2.799439e+09</td>\n      <td>2.443439e+09</td>\n    </tr>\n    <tr>\n      <th>1</th>\n      <td>The Little Mermaid</td>\n      <td>7.2</td>\n      <td>Rob Marshall</td>\n      <td>David Magee, Hans Christian Andersen, John Musker</td>\n      <td>59.0</td>\n      <td>Halle Bailey, Jonah Hauer-King, Melissa McCart...</td>\n      <td>May 26, 2023 (India)</td>\n      <td>United States</td>\n      <td>English</td>\n      <td>$355,100,000 (estimated)</td>\n      <td>$569,626,289</td>\n      <td>2 hours 15 minutes</td>\n      <td>135</td>\n      <td>355100000</td>\n      <td>5.696263e+08</td>\n      <td>2.145263e+08</td>\n    </tr>\n    <tr>\n      <th>2</th>\n      <td>Avatar: The Way of Water</td>\n      <td>7.5</td>\n      <td>James Cameron</td>\n      <td>James Cameron, Rick Jaffa, Amanda Silver</td>\n      <td>67.0</td>\n      <td>Sam Worthington, Zoe Saldana, Sigourney Weaver...</td>\n      <td>December 16, 2022 (India)</td>\n      <td>United States</td>\n      <td>English</td>\n      <td>$350,000,000 (estimated)</td>\n      <td>$2,320,250,281</td>\n      <td>3 hours 12 minutes</td>\n      <td>192</td>\n      <td>350000000</td>\n      <td>2.320250e+09</td>\n      <td>1.970250e+09</td>\n    </tr>\n    <tr>\n      <th>3</th>\n      <td>Avengers: Infinity War</td>\n      <td>8.4</td>\n      <td>Anthony Russo, Joe Russo</td>\n      <td>Christopher Markus, Stephen McFeely, Stan Lee</td>\n      <td>68.0</td>\n      <td>Robert Downey Jr., Chris Hemsworth, Mark Ruffa...</td>\n      <td>April 27, 2018 (India)</td>\n      <td>United States, Norway</td>\n      <td>English</td>\n      <td>$321,000,000 (estimated)</td>\n      <td>$2,052,415,039</td>\n      <td>2 hours 29 minutes</td>\n      <td>149</td>\n      <td>321000000</td>\n      <td>2.052415e+09</td>\n      <td>1.731415e+09</td>\n    </tr>\n    <tr>\n      <th>4</th>\n      <td>Zack Snyder's Justice League</td>\n      <td>7.9</td>\n      <td>Zack Snyder</td>\n      <td>Jerry Siegel, Joe Shuster, Zack Snyder</td>\n      <td>54.0</td>\n      <td>Henry Cavill, Ben Affleck, Gal Gadot, Amy Adam...</td>\n      <td>March 18, 2021 (India)</td>\n      <td>United States, Canada, New Zealand, United Kin...</td>\n      <td>English, Icelandic, French</td>\n      <td>$300,000,000 (estimated)</td>\n      <td>None</td>\n      <td>4 hours 2 minutes</td>\n      <td>242</td>\n      <td>300000000</td>\n      <td>NaN</td>\n      <td>NaN</td>\n    </tr>\n    <tr>\n      <th>5</th>\n      <td>Mission: Impossible - Dead Reckoning Part One</td>\n      <td>7.7</td>\n      <td>Christopher McQuarrie</td>\n      <td>Bruce Geller, Christopher McQuarrie, Erik Jend...</td>\n      <td>81.0</td>\n      <td>Tom Cruise, Hayley Atwell, Ving Rhames, Simon ...</td>\n      <td>July 12, 2023 (India)</td>\n      <td>United States</td>\n      <td>English, French, Italian, Russian</td>\n      <td>$291,000,000 (estimated)</td>\n      <td>$570,619,838</td>\n      <td>2 hours 43 minutes</td>\n      <td>163</td>\n      <td>291000000</td>\n      <td>5.706198e+08</td>\n      <td>2.796198e+08</td>\n    </tr>\n    <tr>\n      <th>6</th>\n      <td>Tangled</td>\n      <td>7.7</td>\n      <td>Nathan Greno, Byron Howard</td>\n      <td>Dan Fogelman, Jacob Grimm, Wilhelm Grimm</td>\n      <td>71.0</td>\n      <td>Mandy Moore, Zachary Levi, Donna Murphy, Ron P...</td>\n      <td>January 21, 2011 (India)</td>\n      <td>United States, Japan</td>\n      <td>English, German</td>\n      <td>$260,000,000 (estimated)</td>\n      <td>$591,806,017</td>\n      <td>1 hour 40 minutes</td>\n      <td>100</td>\n      <td>260000000</td>\n      <td>5.918060e+08</td>\n      <td>3.318060e+08</td>\n    </tr>\n    <tr>\n      <th>7</th>\n      <td>The Dark Knight Rises</td>\n      <td>8.4</td>\n      <td>Christopher Nolan</td>\n      <td>Jonathan Nolan, Christopher Nolan, David S. Goyer</td>\n      <td>78.0</td>\n      <td>Christian Bale, Tom Hardy, Anne Hathaway, Gary...</td>\n      <td>July 20, 2012 (India)</td>\n      <td>United States, United Kingdom</td>\n      <td>English, Arabic</td>\n      <td>$250,000,000 (estimated)</td>\n      <td>$1,114,975,066</td>\n      <td>2 hours 44 minutes</td>\n      <td>164</td>\n      <td>250000000</td>\n      <td>1.114975e+09</td>\n      <td>8.649751e+08</td>\n    </tr>\n    <tr>\n      <th>8</th>\n      <td>Guardians of the Galaxy Vol. 3</td>\n      <td>7.9</td>\n      <td>James Gunn</td>\n      <td>James Gunn, Jim Starlin, Stan Lee</td>\n      <td>64.0</td>\n      <td>Chris Pratt, Chukwudi Iwuji, Bradley Cooper, P...</td>\n      <td>May 5, 2023 (India)</td>\n      <td>United States, New Zealand, France, Canada</td>\n      <td>English</td>\n      <td>$250,000,000 (estimated)</td>\n      <td>$845,555,777</td>\n      <td>2 hours 30 minutes</td>\n      <td>150</td>\n      <td>250000000</td>\n      <td>8.455558e+08</td>\n      <td>5.955558e+08</td>\n    </tr>\n    <tr>\n      <th>9</th>\n      <td>Captain America: Civil War</td>\n      <td>7.8</td>\n      <td>Anthony Russo, Joe Russo</td>\n      <td>Christopher Markus, Stephen McFeely, Joe Simon</td>\n      <td>75.0</td>\n      <td>Chris Evans, Robert Downey Jr., Scarlett Johan...</td>\n      <td>May 6, 2016 (India)</td>\n      <td>United States, Germany</td>\n      <td>English, German, Xhosa, Russian, Romanian</td>\n      <td>$250,000,000 (estimated)</td>\n      <td>$1,155,046,416</td>\n      <td>2 hours 27 minutes</td>\n      <td>147</td>\n      <td>250000000</td>\n      <td>1.155046e+09</td>\n      <td>9.050464e+08</td>\n    </tr>\n  </tbody>\n</table>\n</div>"
     },
     "execution_count": 176,
     "metadata": {},
     "output_type": "execute_result"
    }
   ],
   "source": [
    "db.sql(\n",
    "    \"SELECT * FROM imdb ORDER BY \\\"Budget (usd)\\\" DESC LIMIT 10\"\n",
    ").df()\n"
   ]
  },
  {
   "cell_type": "code",
   "execution_count": 177,
   "metadata": {
    "ExecuteTime": {
     "end_time": "2025-01-23T14:38:30.642196Z",
     "start_time": "2025-01-23T14:38:30.419392Z"
    }
   },
   "outputs": [],
   "source": [
    "# you can use youplot for chart https://duckdb.org/docs/guides/data_viewers/youplot.html\n",
    "# but easiest way is to convert to pandas df and use .plot"
   ]
  },
  {
   "cell_type": "code",
   "execution_count": 178,
   "metadata": {
    "ExecuteTime": {
     "end_time": "2025-01-23T14:38:30.848022Z",
     "start_time": "2025-01-23T14:38:30.625640Z"
    }
   },
   "outputs": [
    {
     "data": {
      "text/plain": "                                                Title  Rating  \\\n0   Pirates of the Caribbean: The Curse of the Bla...     8.1   \n1                                             Platoon     8.1   \n2                                 Edward Scissorhands     7.9   \n3                                             Ed Wood     7.8   \n4                         What's Eating Gilbert Grape     7.7   \n5                                       Donnie Brasco     7.7   \n6                                   Finding Neverland     7.7   \n7   Gonzo: The Life and Work of Dr. Hunter S. Thom...     7.6   \n8                                 When You're Strange     7.6   \n9                      Fear and Loathing in Las Vegas     7.5   \n10                                               Blow     7.5   \n11                                           Dead Man     7.5   \n12         Pirates of the Caribbean: Dead Man's Chest     7.4   \n13                          A Nightmare on Elm Street     7.4   \n14                                       Corpse Bride     7.4   \n15                                      Sleepy Hollow     7.3   \n16     Sweeney Todd: The Demon Barber of Fleet Street     7.3   \n17                                              Rango     7.3   \n18                                  Lost in La Mancha     7.3   \n19                                           Chocolat     7.2   \n20                                      Arizona Dream     7.2   \n21                                          Yamawatta     7.2   \n\n                    Director  \\\n0             Gore Verbinski   \n1               Oliver Stone   \n2                 Tim Burton   \n3                 Tim Burton   \n4            Lasse Hallström   \n5                Mike Newell   \n6               Marc Forster   \n7                Alex Gibney   \n8                Tom DiCillo   \n9              Terry Gilliam   \n10                 Ted Demme   \n11              Jim Jarmusch   \n12            Gore Verbinski   \n13                Wes Craven   \n14  Tim Burton, Mike Johnson   \n15                Tim Burton   \n16                Tim Burton   \n17            Gore Verbinski   \n18  Keith Fulton, Louis Pepe   \n19           Lasse Hallström   \n20            Emir Kusturica   \n21            Andrew Levitas   \n\n                                               Writer  Metascore  \\\n0           Ted Elliott, Terry Rossio, Stuart Beattie       63.0   \n1                                        Oliver Stone       92.0   \n2                       Tim Burton, Caroline Thompson       74.0   \n3    Rudolph Grey, Scott Alexander, Larry Karaszewski       71.0   \n4                                        Peter Hedges       73.0   \n5   Joseph D. Pistone, Richard Woodley, Paul Attan...       77.0   \n6                             Allan Knee, David Magee       67.0   \n7                     Alex Gibney, Hunter S. Thompson       73.0   \n8                                         Tom DiCillo       55.0   \n9     Hunter S. Thompson, Terry Gilliam, Tony Grisoni       41.0   \n10       Bruce Porter, David McKenna, Nick Cassavetes       52.0   \n11                                       Jim Jarmusch       62.0   \n12          Ted Elliott, Terry Rossio, Stuart Beattie       53.0   \n13                                         Wes Craven       76.0   \n14            Tim Burton, Carlos Grangel, John August       83.0   \n15  Washington Irving, Kevin Yagher, Andrew Kevin ...       65.0   \n16         John Logan, Hugh Wheeler, Christopher Bond       83.0   \n17      John Logan, Gore Verbinski, James Ward Byrkit       75.0   \n18                           Keith Fulton, Louis Pepe       75.0   \n19                Joanne Harris, Robert Nelson Jacobs       64.0   \n20                       David Atkins, Emir Kusturica       62.0   \n21     David Kessler, Stephen Deuters, Andrew Levitas       55.0   \n\n                                                 Cast  \\\n0   Johnny Depp, Geoffrey Rush, Orlando Bloom, Kei...   \n1   Charlie Sheen, Tom Berenger, Willem Dafoe, Kei...   \n2   Johnny Depp, Winona Ryder, Dianne Wiest, Antho...   \n3   Johnny Depp, Martin Landau, Sarah Jessica Park...   \n4   Johnny Depp, Leonardo DiCaprio, Juliette Lewis...   \n5   Al Pacino, Johnny Depp, Michael Madsen, Bruno ...   \n6   Johnny Depp, Kate Winslet, Julie Christie, Rad...   \n7   Hunter S. Thompson, Johnny Depp, Joe Cairo, Da...   \n8   Johnny Depp, John Densmore, Robby Krieger, Ray...   \n9   Johnny Depp, Benicio Del Toro, Tobey Maguire, ...   \n10  Johnny Depp, Penélope Cruz, Franka Potente, Ra...   \n11  Johnny Depp, Gary Farmer, Crispin Glover, Lanc...   \n12  Johnny Depp, Orlando Bloom, Keira Knightley, J...   \n13  Heather Langenkamp, Johnny Depp, Robert Englun...   \n14  Johnny Depp, Helena Bonham Carter, Emily Watso...   \n15  Johnny Depp, Christina Ricci, Miranda Richards...   \n16  Johnny Depp, Helena Bonham Carter, Alan Rickma...   \n17  Johnny Depp, Isla Fisher, Timothy Olyphant, Ab...   \n18  Terry Gilliam, Johnny Depp, Jeff Bridges, Tony...   \n19  Juliette Binoche, Johnny Depp, Judi Dench, Alf...   \n20  Johnny Depp, Jerry Lewis, Faye Dunaway, Lili T...   \n21  Akiko Iwase, Kogarashi Wakasugi, Johnny Depp, ...   \n\n                            Release Date  \\\n0                August 15, 2003 (India)   \n1              February 13, 1989 (India)   \n2                January 1, 1992 (India)   \n3                           1994 (India)   \n4          March 4, 1994 (United States)   \n5               February 9, 2017 (India)   \n6               January 28, 2005 (India)   \n7          July 18, 2008 (United States)   \n8           May 12, 2010 (United States)   \n9           May 22, 1998 (United States)   \n10                August 4, 2020 (India)   \n11             December 23, 1995 (Japan)   \n12               August 25, 2006 (India)   \n13                     July 1985 (India)   \n14              October 31, 2005 (India)   \n15                 July 14, 2000 (India)   \n16             February 28, 2008 (India)   \n17                April 20, 2011 (India)   \n18       August 2, 2002 (United Kingdom)   \n19                August 1, 2021 (India)   \n20              January 6, 1993 (France)   \n21  April 8, 2021 (United Arab Emirates)   \n\n                                    Country of Origin  \\\n0                                       United States   \n1                       United States, United Kingdom   \n2                                       United States   \n3                                       United States   \n4                                       United States   \n5                                       United States   \n6                       United States, United Kingdom   \n7                                       United States   \n8                                       United States   \n9                                       United States   \n10                                      United States   \n11                      Germany, Japan, United States   \n12                                      United States   \n13                                      United States   \n14                                      United States   \n15             United States, Germany, United Kingdom   \n16                      United States, United Kingdom   \n17                      United States, United Kingdom   \n18                      United Kingdom, United States   \n19                      United Kingdom, United States   \n20                              France, United States   \n21  United Kingdom, United States, United Arab Emi...   \n\n                                    Languages                    Budget  \\\n0                                     English  $140,000,000 (estimated)   \n1                         English, Vietnamese    $6,000,000 (estimated)   \n2                                     English   $20,000,000 (estimated)   \n3                                     English   $18,000,000 (estimated)   \n4                                     English   $11,000,000 (estimated)   \n5                  English, Italian, Japanese   $35,000,000 (estimated)   \n6                                     English   $25,000,000 (estimated)   \n7                         English, Portuguese                      None   \n8                                     English                      None   \n9                                     English   $18,500,000 (estimated)   \n10                                    English   $53,000,000 (estimated)   \n11                              English, Cree    $9,000,000 (estimated)   \n12  English, Turkish, Greek, Mandarin, French  $225,000,000 (estimated)   \n13                                    English    $1,800,000 (estimated)   \n14                                    English   $40,000,000 (estimated)   \n15                             English, Latin  $100,000,000 (estimated)   \n16                           English, Italian   $50,000,000 (estimated)   \n17                                    English  $135,000,000 (estimated)   \n18                   English, Spanish, French                      None   \n19                            English, French   $25,000,000 (estimated)   \n20                English, Spanish, Inuktitut   $19,000,000 (estimated)   \n21                 English, Japanese, Persian                      None   \n\n   Worldwide Gross             Runtime  Runtime (minutes)  Budget (usd)  \\\n0     $654,264,546  2 hours 23 minutes                143   140000000.0   \n1     $138,545,632             2 hours                120     6000000.0   \n2      $86,024,005   1 hour 45 minutes                105    20000000.0   \n3       $5,888,045   2 hours 7 minutes                127    18000000.0   \n4      $10,032,765   1 hour 58 minutes                118    11000000.0   \n5     $124,909,762   2 hours 7 minutes                127    35000000.0   \n6     $116,650,613   1 hour 46 minutes                106    25000000.0   \n7       $1,491,958             2 hours                120           NaN   \n8       $1,194,182   1 hour 26 minutes                 86           NaN   \n9      $10,680,275   1 hour 58 minutes                118    18500000.0   \n10     $83,282,296   2 hours 4 minutes                124    53000000.0   \n11      $1,085,079    2 hours 1 minute                120     9000000.0   \n12  $1,066,179,747  2 hours 31 minutes                151   225000000.0   \n13     $25,858,216   1 hour 31 minutes                 91     1800000.0   \n14    $117,237,680   1 hour 17 minutes                 77    40000000.0   \n15    $206,071,526   1 hour 45 minutes                105   100000000.0   \n16    $153,384,272   1 hour 56 minutes                116    50000000.0   \n17    $245,724,603   1 hour 47 minutes                107   135000000.0   \n18      $1,407,019   1 hour 33 minutes                 93           NaN   \n19    $152,700,626    2 hours 1 minute                120    25000000.0   \n20        $112,547  2 hours 22 minutes                142    19000000.0   \n21        $755,878   1 hour 55 minutes                115           NaN   \n\n    Worldwide Gross (usd)  Profit (usd)  \n0               654264546   514264546.0  \n1               138545632   132545632.0  \n2                86024005    66024005.0  \n3                 5888045   -12111955.0  \n4                10032765     -967235.0  \n5               124909762    89909762.0  \n6               116650613    91650613.0  \n7                 1491958           NaN  \n8                 1194182           NaN  \n9                10680275    -7819725.0  \n10               83282296    30282296.0  \n11                1085079    -7914921.0  \n12             1066179747   841179747.0  \n13               25858216    24058216.0  \n14              117237680    77237680.0  \n15              206071526   106071526.0  \n16              153384272   103384272.0  \n17              245724603   110724603.0  \n18                1407019           NaN  \n19              152700626   127700626.0  \n20                 112547   -18887453.0  \n21                 755878           NaN  ",
      "text/html": "<div>\n<style scoped>\n    .dataframe tbody tr th:only-of-type {\n        vertical-align: middle;\n    }\n\n    .dataframe tbody tr th {\n        vertical-align: top;\n    }\n\n    .dataframe thead th {\n        text-align: right;\n    }\n</style>\n<table border=\"1\" class=\"dataframe\">\n  <thead>\n    <tr style=\"text-align: right;\">\n      <th></th>\n      <th>Title</th>\n      <th>Rating</th>\n      <th>Director</th>\n      <th>Writer</th>\n      <th>Metascore</th>\n      <th>Cast</th>\n      <th>Release Date</th>\n      <th>Country of Origin</th>\n      <th>Languages</th>\n      <th>Budget</th>\n      <th>Worldwide Gross</th>\n      <th>Runtime</th>\n      <th>Runtime (minutes)</th>\n      <th>Budget (usd)</th>\n      <th>Worldwide Gross (usd)</th>\n      <th>Profit (usd)</th>\n    </tr>\n  </thead>\n  <tbody>\n    <tr>\n      <th>0</th>\n      <td>Pirates of the Caribbean: The Curse of the Bla...</td>\n      <td>8.1</td>\n      <td>Gore Verbinski</td>\n      <td>Ted Elliott, Terry Rossio, Stuart Beattie</td>\n      <td>63.0</td>\n      <td>Johnny Depp, Geoffrey Rush, Orlando Bloom, Kei...</td>\n      <td>August 15, 2003 (India)</td>\n      <td>United States</td>\n      <td>English</td>\n      <td>$140,000,000 (estimated)</td>\n      <td>$654,264,546</td>\n      <td>2 hours 23 minutes</td>\n      <td>143</td>\n      <td>140000000.0</td>\n      <td>654264546</td>\n      <td>514264546.0</td>\n    </tr>\n    <tr>\n      <th>1</th>\n      <td>Platoon</td>\n      <td>8.1</td>\n      <td>Oliver Stone</td>\n      <td>Oliver Stone</td>\n      <td>92.0</td>\n      <td>Charlie Sheen, Tom Berenger, Willem Dafoe, Kei...</td>\n      <td>February 13, 1989 (India)</td>\n      <td>United States, United Kingdom</td>\n      <td>English, Vietnamese</td>\n      <td>$6,000,000 (estimated)</td>\n      <td>$138,545,632</td>\n      <td>2 hours</td>\n      <td>120</td>\n      <td>6000000.0</td>\n      <td>138545632</td>\n      <td>132545632.0</td>\n    </tr>\n    <tr>\n      <th>2</th>\n      <td>Edward Scissorhands</td>\n      <td>7.9</td>\n      <td>Tim Burton</td>\n      <td>Tim Burton, Caroline Thompson</td>\n      <td>74.0</td>\n      <td>Johnny Depp, Winona Ryder, Dianne Wiest, Antho...</td>\n      <td>January 1, 1992 (India)</td>\n      <td>United States</td>\n      <td>English</td>\n      <td>$20,000,000 (estimated)</td>\n      <td>$86,024,005</td>\n      <td>1 hour 45 minutes</td>\n      <td>105</td>\n      <td>20000000.0</td>\n      <td>86024005</td>\n      <td>66024005.0</td>\n    </tr>\n    <tr>\n      <th>3</th>\n      <td>Ed Wood</td>\n      <td>7.8</td>\n      <td>Tim Burton</td>\n      <td>Rudolph Grey, Scott Alexander, Larry Karaszewski</td>\n      <td>71.0</td>\n      <td>Johnny Depp, Martin Landau, Sarah Jessica Park...</td>\n      <td>1994 (India)</td>\n      <td>United States</td>\n      <td>English</td>\n      <td>$18,000,000 (estimated)</td>\n      <td>$5,888,045</td>\n      <td>2 hours 7 minutes</td>\n      <td>127</td>\n      <td>18000000.0</td>\n      <td>5888045</td>\n      <td>-12111955.0</td>\n    </tr>\n    <tr>\n      <th>4</th>\n      <td>What's Eating Gilbert Grape</td>\n      <td>7.7</td>\n      <td>Lasse Hallström</td>\n      <td>Peter Hedges</td>\n      <td>73.0</td>\n      <td>Johnny Depp, Leonardo DiCaprio, Juliette Lewis...</td>\n      <td>March 4, 1994 (United States)</td>\n      <td>United States</td>\n      <td>English</td>\n      <td>$11,000,000 (estimated)</td>\n      <td>$10,032,765</td>\n      <td>1 hour 58 minutes</td>\n      <td>118</td>\n      <td>11000000.0</td>\n      <td>10032765</td>\n      <td>-967235.0</td>\n    </tr>\n    <tr>\n      <th>5</th>\n      <td>Donnie Brasco</td>\n      <td>7.7</td>\n      <td>Mike Newell</td>\n      <td>Joseph D. Pistone, Richard Woodley, Paul Attan...</td>\n      <td>77.0</td>\n      <td>Al Pacino, Johnny Depp, Michael Madsen, Bruno ...</td>\n      <td>February 9, 2017 (India)</td>\n      <td>United States</td>\n      <td>English, Italian, Japanese</td>\n      <td>$35,000,000 (estimated)</td>\n      <td>$124,909,762</td>\n      <td>2 hours 7 minutes</td>\n      <td>127</td>\n      <td>35000000.0</td>\n      <td>124909762</td>\n      <td>89909762.0</td>\n    </tr>\n    <tr>\n      <th>6</th>\n      <td>Finding Neverland</td>\n      <td>7.7</td>\n      <td>Marc Forster</td>\n      <td>Allan Knee, David Magee</td>\n      <td>67.0</td>\n      <td>Johnny Depp, Kate Winslet, Julie Christie, Rad...</td>\n      <td>January 28, 2005 (India)</td>\n      <td>United States, United Kingdom</td>\n      <td>English</td>\n      <td>$25,000,000 (estimated)</td>\n      <td>$116,650,613</td>\n      <td>1 hour 46 minutes</td>\n      <td>106</td>\n      <td>25000000.0</td>\n      <td>116650613</td>\n      <td>91650613.0</td>\n    </tr>\n    <tr>\n      <th>7</th>\n      <td>Gonzo: The Life and Work of Dr. Hunter S. Thom...</td>\n      <td>7.6</td>\n      <td>Alex Gibney</td>\n      <td>Alex Gibney, Hunter S. Thompson</td>\n      <td>73.0</td>\n      <td>Hunter S. Thompson, Johnny Depp, Joe Cairo, Da...</td>\n      <td>July 18, 2008 (United States)</td>\n      <td>United States</td>\n      <td>English, Portuguese</td>\n      <td>None</td>\n      <td>$1,491,958</td>\n      <td>2 hours</td>\n      <td>120</td>\n      <td>NaN</td>\n      <td>1491958</td>\n      <td>NaN</td>\n    </tr>\n    <tr>\n      <th>8</th>\n      <td>When You're Strange</td>\n      <td>7.6</td>\n      <td>Tom DiCillo</td>\n      <td>Tom DiCillo</td>\n      <td>55.0</td>\n      <td>Johnny Depp, John Densmore, Robby Krieger, Ray...</td>\n      <td>May 12, 2010 (United States)</td>\n      <td>United States</td>\n      <td>English</td>\n      <td>None</td>\n      <td>$1,194,182</td>\n      <td>1 hour 26 minutes</td>\n      <td>86</td>\n      <td>NaN</td>\n      <td>1194182</td>\n      <td>NaN</td>\n    </tr>\n    <tr>\n      <th>9</th>\n      <td>Fear and Loathing in Las Vegas</td>\n      <td>7.5</td>\n      <td>Terry Gilliam</td>\n      <td>Hunter S. Thompson, Terry Gilliam, Tony Grisoni</td>\n      <td>41.0</td>\n      <td>Johnny Depp, Benicio Del Toro, Tobey Maguire, ...</td>\n      <td>May 22, 1998 (United States)</td>\n      <td>United States</td>\n      <td>English</td>\n      <td>$18,500,000 (estimated)</td>\n      <td>$10,680,275</td>\n      <td>1 hour 58 minutes</td>\n      <td>118</td>\n      <td>18500000.0</td>\n      <td>10680275</td>\n      <td>-7819725.0</td>\n    </tr>\n    <tr>\n      <th>10</th>\n      <td>Blow</td>\n      <td>7.5</td>\n      <td>Ted Demme</td>\n      <td>Bruce Porter, David McKenna, Nick Cassavetes</td>\n      <td>52.0</td>\n      <td>Johnny Depp, Penélope Cruz, Franka Potente, Ra...</td>\n      <td>August 4, 2020 (India)</td>\n      <td>United States</td>\n      <td>English</td>\n      <td>$53,000,000 (estimated)</td>\n      <td>$83,282,296</td>\n      <td>2 hours 4 minutes</td>\n      <td>124</td>\n      <td>53000000.0</td>\n      <td>83282296</td>\n      <td>30282296.0</td>\n    </tr>\n    <tr>\n      <th>11</th>\n      <td>Dead Man</td>\n      <td>7.5</td>\n      <td>Jim Jarmusch</td>\n      <td>Jim Jarmusch</td>\n      <td>62.0</td>\n      <td>Johnny Depp, Gary Farmer, Crispin Glover, Lanc...</td>\n      <td>December 23, 1995 (Japan)</td>\n      <td>Germany, Japan, United States</td>\n      <td>English, Cree</td>\n      <td>$9,000,000 (estimated)</td>\n      <td>$1,085,079</td>\n      <td>2 hours 1 minute</td>\n      <td>120</td>\n      <td>9000000.0</td>\n      <td>1085079</td>\n      <td>-7914921.0</td>\n    </tr>\n    <tr>\n      <th>12</th>\n      <td>Pirates of the Caribbean: Dead Man's Chest</td>\n      <td>7.4</td>\n      <td>Gore Verbinski</td>\n      <td>Ted Elliott, Terry Rossio, Stuart Beattie</td>\n      <td>53.0</td>\n      <td>Johnny Depp, Orlando Bloom, Keira Knightley, J...</td>\n      <td>August 25, 2006 (India)</td>\n      <td>United States</td>\n      <td>English, Turkish, Greek, Mandarin, French</td>\n      <td>$225,000,000 (estimated)</td>\n      <td>$1,066,179,747</td>\n      <td>2 hours 31 minutes</td>\n      <td>151</td>\n      <td>225000000.0</td>\n      <td>1066179747</td>\n      <td>841179747.0</td>\n    </tr>\n    <tr>\n      <th>13</th>\n      <td>A Nightmare on Elm Street</td>\n      <td>7.4</td>\n      <td>Wes Craven</td>\n      <td>Wes Craven</td>\n      <td>76.0</td>\n      <td>Heather Langenkamp, Johnny Depp, Robert Englun...</td>\n      <td>July 1985 (India)</td>\n      <td>United States</td>\n      <td>English</td>\n      <td>$1,800,000 (estimated)</td>\n      <td>$25,858,216</td>\n      <td>1 hour 31 minutes</td>\n      <td>91</td>\n      <td>1800000.0</td>\n      <td>25858216</td>\n      <td>24058216.0</td>\n    </tr>\n    <tr>\n      <th>14</th>\n      <td>Corpse Bride</td>\n      <td>7.4</td>\n      <td>Tim Burton, Mike Johnson</td>\n      <td>Tim Burton, Carlos Grangel, John August</td>\n      <td>83.0</td>\n      <td>Johnny Depp, Helena Bonham Carter, Emily Watso...</td>\n      <td>October 31, 2005 (India)</td>\n      <td>United States</td>\n      <td>English</td>\n      <td>$40,000,000 (estimated)</td>\n      <td>$117,237,680</td>\n      <td>1 hour 17 minutes</td>\n      <td>77</td>\n      <td>40000000.0</td>\n      <td>117237680</td>\n      <td>77237680.0</td>\n    </tr>\n    <tr>\n      <th>15</th>\n      <td>Sleepy Hollow</td>\n      <td>7.3</td>\n      <td>Tim Burton</td>\n      <td>Washington Irving, Kevin Yagher, Andrew Kevin ...</td>\n      <td>65.0</td>\n      <td>Johnny Depp, Christina Ricci, Miranda Richards...</td>\n      <td>July 14, 2000 (India)</td>\n      <td>United States, Germany, United Kingdom</td>\n      <td>English, Latin</td>\n      <td>$100,000,000 (estimated)</td>\n      <td>$206,071,526</td>\n      <td>1 hour 45 minutes</td>\n      <td>105</td>\n      <td>100000000.0</td>\n      <td>206071526</td>\n      <td>106071526.0</td>\n    </tr>\n    <tr>\n      <th>16</th>\n      <td>Sweeney Todd: The Demon Barber of Fleet Street</td>\n      <td>7.3</td>\n      <td>Tim Burton</td>\n      <td>John Logan, Hugh Wheeler, Christopher Bond</td>\n      <td>83.0</td>\n      <td>Johnny Depp, Helena Bonham Carter, Alan Rickma...</td>\n      <td>February 28, 2008 (India)</td>\n      <td>United States, United Kingdom</td>\n      <td>English, Italian</td>\n      <td>$50,000,000 (estimated)</td>\n      <td>$153,384,272</td>\n      <td>1 hour 56 minutes</td>\n      <td>116</td>\n      <td>50000000.0</td>\n      <td>153384272</td>\n      <td>103384272.0</td>\n    </tr>\n    <tr>\n      <th>17</th>\n      <td>Rango</td>\n      <td>7.3</td>\n      <td>Gore Verbinski</td>\n      <td>John Logan, Gore Verbinski, James Ward Byrkit</td>\n      <td>75.0</td>\n      <td>Johnny Depp, Isla Fisher, Timothy Olyphant, Ab...</td>\n      <td>April 20, 2011 (India)</td>\n      <td>United States, United Kingdom</td>\n      <td>English</td>\n      <td>$135,000,000 (estimated)</td>\n      <td>$245,724,603</td>\n      <td>1 hour 47 minutes</td>\n      <td>107</td>\n      <td>135000000.0</td>\n      <td>245724603</td>\n      <td>110724603.0</td>\n    </tr>\n    <tr>\n      <th>18</th>\n      <td>Lost in La Mancha</td>\n      <td>7.3</td>\n      <td>Keith Fulton, Louis Pepe</td>\n      <td>Keith Fulton, Louis Pepe</td>\n      <td>75.0</td>\n      <td>Terry Gilliam, Johnny Depp, Jeff Bridges, Tony...</td>\n      <td>August 2, 2002 (United Kingdom)</td>\n      <td>United Kingdom, United States</td>\n      <td>English, Spanish, French</td>\n      <td>None</td>\n      <td>$1,407,019</td>\n      <td>1 hour 33 minutes</td>\n      <td>93</td>\n      <td>NaN</td>\n      <td>1407019</td>\n      <td>NaN</td>\n    </tr>\n    <tr>\n      <th>19</th>\n      <td>Chocolat</td>\n      <td>7.2</td>\n      <td>Lasse Hallström</td>\n      <td>Joanne Harris, Robert Nelson Jacobs</td>\n      <td>64.0</td>\n      <td>Juliette Binoche, Johnny Depp, Judi Dench, Alf...</td>\n      <td>August 1, 2021 (India)</td>\n      <td>United Kingdom, United States</td>\n      <td>English, French</td>\n      <td>$25,000,000 (estimated)</td>\n      <td>$152,700,626</td>\n      <td>2 hours 1 minute</td>\n      <td>120</td>\n      <td>25000000.0</td>\n      <td>152700626</td>\n      <td>127700626.0</td>\n    </tr>\n    <tr>\n      <th>20</th>\n      <td>Arizona Dream</td>\n      <td>7.2</td>\n      <td>Emir Kusturica</td>\n      <td>David Atkins, Emir Kusturica</td>\n      <td>62.0</td>\n      <td>Johnny Depp, Jerry Lewis, Faye Dunaway, Lili T...</td>\n      <td>January 6, 1993 (France)</td>\n      <td>France, United States</td>\n      <td>English, Spanish, Inuktitut</td>\n      <td>$19,000,000 (estimated)</td>\n      <td>$112,547</td>\n      <td>2 hours 22 minutes</td>\n      <td>142</td>\n      <td>19000000.0</td>\n      <td>112547</td>\n      <td>-18887453.0</td>\n    </tr>\n    <tr>\n      <th>21</th>\n      <td>Yamawatta</td>\n      <td>7.2</td>\n      <td>Andrew Levitas</td>\n      <td>David Kessler, Stephen Deuters, Andrew Levitas</td>\n      <td>55.0</td>\n      <td>Akiko Iwase, Kogarashi Wakasugi, Johnny Depp, ...</td>\n      <td>April 8, 2021 (United Arab Emirates)</td>\n      <td>United Kingdom, United States, United Arab Emi...</td>\n      <td>English, Japanese, Persian</td>\n      <td>None</td>\n      <td>$755,878</td>\n      <td>1 hour 55 minutes</td>\n      <td>115</td>\n      <td>NaN</td>\n      <td>755878</td>\n      <td>NaN</td>\n    </tr>\n  </tbody>\n</table>\n</div>"
     },
     "execution_count": 178,
     "metadata": {},
     "output_type": "execute_result"
    }
   ],
   "source": [
    "db.sql(\n",
    "    \"SELECT * FROM imdb WHERE \\\"Cast\\\" LIKE '%Johnny Depp%'\"\n",
    ").df()"
   ]
  },
  {
   "cell_type": "code",
   "execution_count": 179,
   "metadata": {
    "ExecuteTime": {
     "end_time": "2025-01-23T14:38:31.047867Z",
     "start_time": "2025-01-23T14:38:30.765675Z"
    }
   },
   "outputs": [
    {
     "data": {
      "text/plain": "┌──────────────────────────┬─────────────┐\n│         Director         │ total_gross │\n│         varchar          │   int128    │\n├──────────────────────────┼─────────────┤\n│ James Cameron            │  8705319635 │\n│ Steven Spielberg         │  7988558298 │\n│ Anthony Russo, Joe Russo │  6721322058 │\n│ Peter Jackson            │  6484962056 │\n│ Christopher Nolan        │  6205459936 │\n│ David Yates              │  5003353447 │\n│ Jon Watts                │  3966372984 │\n│ Joss Whedon              │  2966001713 │\n│ J.J. Abrams              │  2924357232 │\n│ Robert Zemeckis          │  2793892268 │\n├──────────────────────────┴─────────────┤\n│ 10 rows                      2 columns │\n└────────────────────────────────────────┘"
     },
     "execution_count": 179,
     "metadata": {},
     "output_type": "execute_result"
    }
   ],
   "source": [
    "db.sql(\n",
    "    \"SELECT \\\"Director\\\", SUM(\\\"Worldwide Gross (usd)\\\") AS total_gross FROM imdb GROUP BY \\\"Director\\\" ORDER BY total_gross DESC LIMIT 10\"\n",
    ")"
   ]
  },
  {
   "cell_type": "code",
   "execution_count": 180,
   "metadata": {
    "ExecuteTime": {
     "end_time": "2025-01-23T14:38:31.224885Z",
     "start_time": "2025-01-23T14:38:31.050140Z"
    }
   },
   "outputs": [
    {
     "data": {
      "text/plain": "                 Release Date  Year  Decade\n0    October 14, 1994 (India)  1994    1990\n1    November 8, 2024 (Japan)  2024    2020\n2                1978 (India)  1978    1980\n3      April 1, 1975 (Turkey)  1975    1980\n4  September 25, 2001 (India)  2001    2000",
      "text/html": "<div>\n<style scoped>\n    .dataframe tbody tr th:only-of-type {\n        vertical-align: middle;\n    }\n\n    .dataframe tbody tr th {\n        vertical-align: top;\n    }\n\n    .dataframe thead th {\n        text-align: right;\n    }\n</style>\n<table border=\"1\" class=\"dataframe\">\n  <thead>\n    <tr style=\"text-align: right;\">\n      <th></th>\n      <th>Release Date</th>\n      <th>Year</th>\n      <th>Decade</th>\n    </tr>\n  </thead>\n  <tbody>\n    <tr>\n      <th>0</th>\n      <td>October 14, 1994 (India)</td>\n      <td>1994</td>\n      <td>1990</td>\n    </tr>\n    <tr>\n      <th>1</th>\n      <td>November 8, 2024 (Japan)</td>\n      <td>2024</td>\n      <td>2020</td>\n    </tr>\n    <tr>\n      <th>2</th>\n      <td>1978 (India)</td>\n      <td>1978</td>\n      <td>1980</td>\n    </tr>\n    <tr>\n      <th>3</th>\n      <td>April 1, 1975 (Turkey)</td>\n      <td>1975</td>\n      <td>1980</td>\n    </tr>\n    <tr>\n      <th>4</th>\n      <td>September 25, 2001 (India)</td>\n      <td>2001</td>\n      <td>2000</td>\n    </tr>\n  </tbody>\n</table>\n</div>"
     },
     "execution_count": 180,
     "metadata": {},
     "output_type": "execute_result"
    }
   ],
   "source": [
    "db.execute(\"ALTER TABLE imdb ADD COLUMN Year INT\")\n",
    "db.execute(\"ALTER TABLE imdb ADD COLUMN Decade INT\")\n",
    "db.execute(\n",
    "    \"UPDATE imdb SET Year = CAST(regexp_extract(\\\"Release Date\\\", '[0-9]{4}', 0) AS INT)\"\n",
    ")\n",
    "db.execute(\n",
    "    \"UPDATE imdb SET Decade = (Year / 10)::INT * 10\"\n",
    ")\n",
    "db.execute(\"SELECT \\\"Release Date\\\", Year, Decade FROM imdb LIMIT 5\").df()"
   ]
  },
  {
   "cell_type": "code",
   "execution_count": 181,
   "metadata": {
    "ExecuteTime": {
     "end_time": "2025-01-23T14:38:31.341644Z",
     "start_time": "2025-01-23T14:38:31.114150Z"
    }
   },
   "outputs": [
    {
     "ename": "IOException",
     "evalue": "IO Error: Directory \"duckdb_parquet\" is not empty! Enable OVERWRITE option to overwrite files",
     "output_type": "error",
     "traceback": [
      "\u001B[0;31m---------------------------------------------------------------------------\u001B[0m",
      "\u001B[0;31mIOException\u001B[0m                               Traceback (most recent call last)",
      "Cell \u001B[0;32mIn[181], line 1\u001B[0m\n\u001B[0;32m----> 1\u001B[0m \u001B[43mdb\u001B[49m\u001B[38;5;241;43m.\u001B[39;49m\u001B[43mexecute\u001B[49m\u001B[43m(\u001B[49m\n\u001B[1;32m      2\u001B[0m \u001B[43m    \u001B[49m\u001B[38;5;124;43m\"\u001B[39;49m\u001B[38;5;124;43mCOPY (SELECT * FROM imdb) TO \u001B[39;49m\u001B[38;5;124;43m'\u001B[39;49m\u001B[38;5;124;43mduckdb_parquet\u001B[39;49m\u001B[38;5;124;43m'\u001B[39;49m\u001B[38;5;124;43m (FORMAT PARQUET, PARTITION_BY Decade)\u001B[39;49m\u001B[38;5;124;43m\"\u001B[39;49m\n\u001B[1;32m      3\u001B[0m \u001B[43m)\u001B[49m\n",
      "\u001B[0;31mIOException\u001B[0m: IO Error: Directory \"duckdb_parquet\" is not empty! Enable OVERWRITE option to overwrite files"
     ]
    }
   ],
   "source": [
    "db.execute(\n",
    "    \"COPY (SELECT * FROM imdb) TO 'duckdb_parquet' (FORMAT PARQUET, PARTITION_BY Decade)\"\n",
    ")"
   ]
  },
  {
   "cell_type": "code",
   "execution_count": 182,
   "metadata": {
    "ExecuteTime": {
     "end_time": "2025-01-23T14:38:31.398159Z",
     "start_time": "2025-01-23T14:38:31.301183Z"
    }
   },
   "outputs": [],
   "source": [
    "# TL;DR: DuckDB can attach MySQL, Postgres, and SQLite databases in addition to databases stored in its own format. This allows data to be read into DuckDB and moved between these systems in a convenient manner.\n",
    "# https://duckdb.org/2024/01/26/multi-database-support-in-duckdb.html"
   ]
  },
  {
   "cell_type": "code",
   "execution_count": 183,
   "outputs": [],
   "source": [
    "# quotes usage example\n",
    "# db.sql('''\n",
    "#     select \"Worldwide Gross\" from imdb\n",
    "# '''\n",
    "# ).df()\n",
    "\n",
    "# db.sql(\"\"\"\n",
    "#     select 'Worldwide Gross' from imdb\n",
    "# \"\"\"\n",
    "# ).df()\n",
    "# \n",
    "# db.sql(\"\"\"\n",
    "#     select \n",
    "#     'Worldwide Gross',\n",
    "#     \"Worldwide Gross\"\n",
    "#     from imdb\n",
    "# \"\"\"\n",
    "# ).df()"
   ],
   "metadata": {
    "collapsed": false,
    "ExecuteTime": {
     "end_time": "2025-01-23T14:38:31.476990Z",
     "start_time": "2025-01-23T14:38:31.372650Z"
    }
   }
  },
  {
   "cell_type": "markdown",
   "source": [
    "# Window functions"
   ],
   "metadata": {
    "collapsed": false
   }
  },
  {
   "cell_type": "code",
   "execution_count": 190,
   "outputs": [
    {
     "data": {
      "text/plain": "                        title       date previous_movie_title  \\\n0          Rabbit-Proof Fence 2002-02-21            Walkabout   \n1                      Tsotsi 2005-12-23      Lethal Weapon 2   \n2         Triangle of Sadness 2022-09-18  Beasts of No Nation   \n3          Vivement dimanche! 1983-08-10     The Ipcress File   \n4    Children of a Lesser God 1988-06-22   The Miracle Worker   \n..                        ...        ...                  ...   \n122                     Pride 2014-09-12               Becket   \n123               Io Capitano 2023-09-07             Biutiful   \n124                    Tsotsi 2005-12-23        The Lion King   \n125           Obchod na korze 1965-10-08  Since You Went Away   \n126               Cry Freedom 1987-11-06                 Zulu   \n\n    previous_movie_date  previous_movie_diff  previous_movie_diff_years  \\\n0            1971-07-01                11193                       31.0   \n1            1990-01-01                 5835                       16.0   \n2            2017-10-04                 1810                        5.0   \n3            1965-03-18                 6719                       18.0   \n4            1962-07-28                 9461                       26.0   \n..                  ...                  ...                        ...   \n122          1964-03-11                18447                       51.0   \n123          2010-10-22                 4703                       13.0   \n124          1994-10-29                 4073                       11.0   \n125          1944-07-20                 7750                       21.0   \n126          1964-06-10                 8549                       23.0   \n\n                   language                                          languages  \n0                Aboriginal                                English, Aboriginal  \n1                 Afrikaans             Zulu, Sotho, Xhosa, Afrikaans, English  \n2                      Akan  English, Swedish, German, French, Greek, Tagal...  \n3                  Albanian                                   French, Albanian  \n4    American Sign Language                    English, American Sign Language  \n..                      ...                                                ...  \n122                   Welsh                                     English, Welsh  \n123                   Wolof                     Wolof, French, Arabic, English  \n124                   Xhosa             Zulu, Sotho, Xhosa, Afrikaans, English  \n125                 Yiddish                     Slovak, Yiddish, German, Latin  \n126                    Zulu             English, Afrikaans, Xhosa, Zulu, Sotho  \n\n[127 rows x 8 columns]",
      "text/html": "<div>\n<style scoped>\n    .dataframe tbody tr th:only-of-type {\n        vertical-align: middle;\n    }\n\n    .dataframe tbody tr th {\n        vertical-align: top;\n    }\n\n    .dataframe thead th {\n        text-align: right;\n    }\n</style>\n<table border=\"1\" class=\"dataframe\">\n  <thead>\n    <tr style=\"text-align: right;\">\n      <th></th>\n      <th>title</th>\n      <th>date</th>\n      <th>previous_movie_title</th>\n      <th>previous_movie_date</th>\n      <th>previous_movie_diff</th>\n      <th>previous_movie_diff_years</th>\n      <th>language</th>\n      <th>languages</th>\n    </tr>\n  </thead>\n  <tbody>\n    <tr>\n      <th>0</th>\n      <td>Rabbit-Proof Fence</td>\n      <td>2002-02-21</td>\n      <td>Walkabout</td>\n      <td>1971-07-01</td>\n      <td>11193</td>\n      <td>31.0</td>\n      <td>Aboriginal</td>\n      <td>English, Aboriginal</td>\n    </tr>\n    <tr>\n      <th>1</th>\n      <td>Tsotsi</td>\n      <td>2005-12-23</td>\n      <td>Lethal Weapon 2</td>\n      <td>1990-01-01</td>\n      <td>5835</td>\n      <td>16.0</td>\n      <td>Afrikaans</td>\n      <td>Zulu, Sotho, Xhosa, Afrikaans, English</td>\n    </tr>\n    <tr>\n      <th>2</th>\n      <td>Triangle of Sadness</td>\n      <td>2022-09-18</td>\n      <td>Beasts of No Nation</td>\n      <td>2017-10-04</td>\n      <td>1810</td>\n      <td>5.0</td>\n      <td>Akan</td>\n      <td>English, Swedish, German, French, Greek, Tagal...</td>\n    </tr>\n    <tr>\n      <th>3</th>\n      <td>Vivement dimanche!</td>\n      <td>1983-08-10</td>\n      <td>The Ipcress File</td>\n      <td>1965-03-18</td>\n      <td>6719</td>\n      <td>18.0</td>\n      <td>Albanian</td>\n      <td>French, Albanian</td>\n    </tr>\n    <tr>\n      <th>4</th>\n      <td>Children of a Lesser God</td>\n      <td>1988-06-22</td>\n      <td>The Miracle Worker</td>\n      <td>1962-07-28</td>\n      <td>9461</td>\n      <td>26.0</td>\n      <td>American Sign Language</td>\n      <td>English, American Sign Language</td>\n    </tr>\n    <tr>\n      <th>...</th>\n      <td>...</td>\n      <td>...</td>\n      <td>...</td>\n      <td>...</td>\n      <td>...</td>\n      <td>...</td>\n      <td>...</td>\n      <td>...</td>\n    </tr>\n    <tr>\n      <th>122</th>\n      <td>Pride</td>\n      <td>2014-09-12</td>\n      <td>Becket</td>\n      <td>1964-03-11</td>\n      <td>18447</td>\n      <td>51.0</td>\n      <td>Welsh</td>\n      <td>English, Welsh</td>\n    </tr>\n    <tr>\n      <th>123</th>\n      <td>Io Capitano</td>\n      <td>2023-09-07</td>\n      <td>Biutiful</td>\n      <td>2010-10-22</td>\n      <td>4703</td>\n      <td>13.0</td>\n      <td>Wolof</td>\n      <td>Wolof, French, Arabic, English</td>\n    </tr>\n    <tr>\n      <th>124</th>\n      <td>Tsotsi</td>\n      <td>2005-12-23</td>\n      <td>The Lion King</td>\n      <td>1994-10-29</td>\n      <td>4073</td>\n      <td>11.0</td>\n      <td>Xhosa</td>\n      <td>Zulu, Sotho, Xhosa, Afrikaans, English</td>\n    </tr>\n    <tr>\n      <th>125</th>\n      <td>Obchod na korze</td>\n      <td>1965-10-08</td>\n      <td>Since You Went Away</td>\n      <td>1944-07-20</td>\n      <td>7750</td>\n      <td>21.0</td>\n      <td>Yiddish</td>\n      <td>Slovak, Yiddish, German, Latin</td>\n    </tr>\n    <tr>\n      <th>126</th>\n      <td>Cry Freedom</td>\n      <td>1987-11-06</td>\n      <td>Zulu</td>\n      <td>1964-06-10</td>\n      <td>8549</td>\n      <td>23.0</td>\n      <td>Zulu</td>\n      <td>English, Afrikaans, Xhosa, Zulu, Sotho</td>\n    </tr>\n  </tbody>\n</table>\n<p>127 rows × 8 columns</p>\n</div>"
     },
     "execution_count": 190,
     "metadata": {},
     "output_type": "execute_result"
    }
   ],
   "source": [
    "db.sql('''\n",
    "WITH exploded AS (\n",
    "  SELECT \n",
    "    Title,\n",
    "    TRIM(value['unnest']) as language,\n",
    "    \"Release Date\",\n",
    "    Languages as languages\n",
    "  FROM df,\n",
    "    UNNEST(STRING_SPLIT(Languages, ',')) as value\n",
    "  WHERE value IS NOT NULL\n",
    "),\n",
    "cleaned_dates AS (\n",
    "  SELECT \n",
    "    *,\n",
    "    TRIM(REGEXP_REPLACE(\"Release Date\", '\\\\(.+\\\\)', '')) as date_cleaned,\n",
    "    COALESCE(\n",
    "      TRY_STRPTIME(TRIM(REGEXP_REPLACE(\"Release Date\", '\\\\(.+\\\\)', '')), '%B %d, %Y'), -- date format same as in pandas and polars but differse from spark\n",
    "      TRY_STRPTIME(TRIM(REGEXP_REPLACE(\"Release Date\", '\\\\(.+\\\\)', '')), '%Y'),\n",
    "      TRY_STRPTIME(TRIM(REGEXP_REPLACE(\"Release Date\", '\\\\(.+\\\\)', '')), '%B %Y')\n",
    "    ) as date\n",
    "  FROM exploded\n",
    "),\n",
    "with_lags AS (\n",
    "  SELECT \n",
    "    *,\n",
    "    LAG(date) OVER (PARTITION BY language ORDER BY date) as previous_movie_date,\n",
    "    LAG(Title) OVER (PARTITION BY language ORDER BY date) as previous_movie_title\n",
    "  FROM cleaned_dates\n",
    "  WHERE date IS NOT NULL\n",
    "),\n",
    "with_diffs AS (\n",
    "  SELECT \n",
    "    *,\n",
    "    DATEDIFF('day', previous_movie_date, date) as previous_movie_diff,\n",
    "    ROUND(CAST(DATEDIFF('day', previous_movie_date, date) AS FLOAT) / 365) as previous_movie_diff_years,\n",
    "    ROW_NUMBER() OVER (PARTITION BY language ORDER BY DATEDIFF('day', previous_movie_date, date) DESC) as rn\n",
    "  FROM with_lags\n",
    "  WHERE previous_movie_date IS NOT NULL\n",
    ")\n",
    "SELECT \n",
    "  Title as title,\n",
    "  date,\n",
    "  previous_movie_title,\n",
    "  previous_movie_date,\n",
    "  previous_movie_diff,\n",
    "  previous_movie_diff_years,\n",
    "  language,\n",
    "  languages\n",
    "FROM with_diffs\n",
    "WHERE rn = 1\n",
    "ORDER BY language;\n",
    "''').df()"
   ],
   "metadata": {
    "collapsed": false,
    "ExecuteTime": {
     "end_time": "2025-01-23T14:49:58.922880Z",
     "start_time": "2025-01-23T14:49:58.722711Z"
    }
   }
  },
  {
   "cell_type": "code",
   "execution_count": null,
   "outputs": [],
   "source": [],
   "metadata": {
    "collapsed": false
   }
  }
 ],
 "metadata": {
  "kernelspec": {
   "display_name": "Python 3",
   "language": "python",
   "name": "python3"
  },
  "language_info": {
   "codemirror_mode": {
    "name": "ipython",
    "version": 3
   },
   "file_extension": ".py",
   "mimetype": "text/x-python",
   "name": "python",
   "nbconvert_exporter": "python",
   "pygments_lexer": "ipython3",
   "version": "3.12.4"
  }
 },
 "nbformat": 4,
 "nbformat_minor": 2
}
