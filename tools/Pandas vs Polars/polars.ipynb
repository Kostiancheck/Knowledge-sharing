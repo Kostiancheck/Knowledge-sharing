{
 "cells": [
  {
   "cell_type": "code",
   "execution_count": 59,
   "metadata": {},
   "outputs": [
    {
     "data": {
      "text/plain": [
       "True"
      ]
     },
     "execution_count": 59,
     "metadata": {},
     "output_type": "execute_result"
    }
   ],
   "source": [
    "import polars as pl\n",
    "import re\n",
    "import os\n",
    "import dotenv\n",
    "dotenv.load_dotenv(\".env\")"
   ]
  },
  {
   "cell_type": "code",
   "execution_count": 60,
   "metadata": {},
   "outputs": [
    {
     "data": {
      "text/html": [
       "<div><style>\n",
       ".dataframe > thead > tr,\n",
       ".dataframe > tbody > tr {\n",
       "  text-align: right;\n",
       "  white-space: pre-wrap;\n",
       "}\n",
       "</style>\n",
       "<small>shape: (5, 12)</small><table border=\"1\" class=\"dataframe\"><thead><tr><th>Title</th><th>Average Rating</th><th>Director</th><th>Writer</th><th>Metascore</th><th>Cast</th><th>Release Date</th><th>Country of Origin</th><th>Languages</th><th>Budget</th><th>Worldwide Gross</th><th>Runtime</th></tr><tr><td>str</td><td>f64</td><td>str</td><td>str</td><td>f64</td><td>str</td><td>str</td><td>str</td><td>str</td><td>str</td><td>str</td><td>str</td></tr></thead><tbody><tr><td>&quot;The Shawshank Redemption&quot;</td><td>9.3</td><td>&quot;Frank Darabont&quot;</td><td>&quot;Stephen King, Frank Darabont&quot;</td><td>82.0</td><td>&quot;Tim Robbins, Morgan Freeman, B…</td><td>&quot;October 14, 1994 (India)&quot;</td><td>&quot;United States&quot;</td><td>&quot;English&quot;</td><td>&quot;$25,000,000 (estimated)&quot;</td><td>&quot;$29,332,133&quot;</td><td>&quot;2 hours 22 minutes&quot;</td></tr><tr><td>&quot;Attack on Titan the Movie: The…</td><td>9.3</td><td>&quot;Yûichirô Hayashi&quot;</td><td>&quot;Natsuki Hanae, Yoshimasa Hosoy…</td><td>null</td><td>&quot;Natsuki Hanae, Yoshimasa Hosoy…</td><td>&quot;November 8, 2024 (Japan)&quot;</td><td>&quot;Japan&quot;</td><td>&quot;Japanese&quot;</td><td>null</td><td>&quot;$3,513,659&quot;</td><td>&quot;2 hours 25 minutes&quot;</td></tr><tr><td>&quot;The Godfather&quot;</td><td>9.2</td><td>&quot;Francis Ford Coppola&quot;</td><td>&quot;Mario Puzo, Francis Ford Coppo…</td><td>100.0</td><td>&quot;Marlon Brando, Al Pacino, Jame…</td><td>&quot;1978 (India)&quot;</td><td>&quot;United States&quot;</td><td>&quot;English, Italian, Latin&quot;</td><td>&quot;$6,000,000 (estimated)&quot;</td><td>&quot;$250,342,198&quot;</td><td>&quot;2 hours 55 minutes&quot;</td></tr><tr><td>&quot;Hababam Sinifi&quot;</td><td>9.2</td><td>&quot;Ertem Egilmez&quot;</td><td>&quot;Umur Bugay, Rifat Ilgaz&quot;</td><td>null</td><td>&quot;Münir Özkul, Tarik Akan, Halit…</td><td>&quot;April 1, 1975 (Turkey)&quot;</td><td>&quot;Turkey&quot;</td><td>&quot;Turkish&quot;</td><td>null</td><td>null</td><td>&quot;1 hour 25 minutes&quot;</td></tr><tr><td>&quot;Ramayana: The Legend of Prince…</td><td>9.2</td><td>&quot;Ram Mohan, Yûgô Sakô, Koichi S…</td><td>&quot;Rani Burra, Ram Mohan, Yûgô Sa…</td><td>null</td><td>&quot;Arun Govil, Nikhil Kapoor, Edi…</td><td>&quot;September 25, 2001 (India)&quot;</td><td>&quot;India, Japan&quot;</td><td>&quot;English&quot;</td><td>null</td><td>null</td><td>&quot;2 hours 15 minutes&quot;</td></tr></tbody></table></div>"
      ],
      "text/plain": [
       "shape: (5, 12)\n",
       "┌───────────┬───────────┬───────────┬───────────┬───┬───────────┬───────────┬───────────┬──────────┐\n",
       "│ Title     ┆ Average   ┆ Director  ┆ Writer    ┆ … ┆ Languages ┆ Budget    ┆ Worldwide ┆ Runtime  │\n",
       "│ ---       ┆ Rating    ┆ ---       ┆ ---       ┆   ┆ ---       ┆ ---       ┆ Gross     ┆ ---      │\n",
       "│ str       ┆ ---       ┆ str       ┆ str       ┆   ┆ str       ┆ str       ┆ ---       ┆ str      │\n",
       "│           ┆ f64       ┆           ┆           ┆   ┆           ┆           ┆ str       ┆          │\n",
       "╞═══════════╪═══════════╪═══════════╪═══════════╪═══╪═══════════╪═══════════╪═══════════╪══════════╡\n",
       "│ The       ┆ 9.3       ┆ Frank     ┆ Stephen   ┆ … ┆ English   ┆ $25,000,0 ┆ $29,332,1 ┆ 2 hours  │\n",
       "│ Shawshank ┆           ┆ Darabont  ┆ King,     ┆   ┆           ┆ 00 (estim ┆ 33        ┆ 22       │\n",
       "│ Redemptio ┆           ┆           ┆ Frank     ┆   ┆           ┆ ated)     ┆           ┆ minutes  │\n",
       "│ n         ┆           ┆           ┆ Darabont  ┆   ┆           ┆           ┆           ┆          │\n",
       "│ Attack on ┆ 9.3       ┆ Yûichirô  ┆ Natsuki   ┆ … ┆ Japanese  ┆ null      ┆ $3,513,65 ┆ 2 hours  │\n",
       "│ Titan the ┆           ┆ Hayashi   ┆ Hanae,    ┆   ┆           ┆           ┆ 9         ┆ 25       │\n",
       "│ Movie:    ┆           ┆           ┆ Yoshimasa ┆   ┆           ┆           ┆           ┆ minutes  │\n",
       "│ The…      ┆           ┆           ┆ Hosoy…    ┆   ┆           ┆           ┆           ┆          │\n",
       "│ The       ┆ 9.2       ┆ Francis   ┆ Mario     ┆ … ┆ English,  ┆ $6,000,00 ┆ $250,342, ┆ 2 hours  │\n",
       "│ Godfather ┆           ┆ Ford      ┆ Puzo,     ┆   ┆ Italian,  ┆ 0 (estima ┆ 198       ┆ 55       │\n",
       "│           ┆           ┆ Coppola   ┆ Francis   ┆   ┆ Latin     ┆ ted)      ┆           ┆ minutes  │\n",
       "│           ┆           ┆           ┆ Ford      ┆   ┆           ┆           ┆           ┆          │\n",
       "│           ┆           ┆           ┆ Coppo…    ┆   ┆           ┆           ┆           ┆          │\n",
       "│ Hababam   ┆ 9.2       ┆ Ertem     ┆ Umur      ┆ … ┆ Turkish   ┆ null      ┆ null      ┆ 1 hour   │\n",
       "│ Sinifi    ┆           ┆ Egilmez   ┆ Bugay,    ┆   ┆           ┆           ┆           ┆ 25       │\n",
       "│           ┆           ┆           ┆ Rifat     ┆   ┆           ┆           ┆           ┆ minutes  │\n",
       "│           ┆           ┆           ┆ Ilgaz     ┆   ┆           ┆           ┆           ┆          │\n",
       "│ Ramayana: ┆ 9.2       ┆ Ram       ┆ Rani      ┆ … ┆ English   ┆ null      ┆ null      ┆ 2 hours  │\n",
       "│ The       ┆           ┆ Mohan,    ┆ Burra,    ┆   ┆           ┆           ┆           ┆ 15       │\n",
       "│ Legend of ┆           ┆ Yûgô      ┆ Ram       ┆   ┆           ┆           ┆           ┆ minutes  │\n",
       "│ Prince…   ┆           ┆ Sakô,     ┆ Mohan,    ┆   ┆           ┆           ┆           ┆          │\n",
       "│           ┆           ┆ Koichi S… ┆ Yûgô Sa…  ┆   ┆           ┆           ┆           ┆          │\n",
       "└───────────┴───────────┴───────────┴───────────┴───┴───────────┴───────────┴───────────┴──────────┘"
      ]
     },
     "execution_count": 60,
     "metadata": {},
     "output_type": "execute_result"
    }
   ],
   "source": [
    "# dataset link https://www.kaggle.com/datasets/hetbabariya/imdb-movies-data-collection-5000-records?resource=download\n",
    "df = pl.read_csv(\"IMDB_Movies_Dataset.csv\")\n",
    "df = df.drop(\"\")\n",
    "df.head()"
   ]
  },
  {
   "cell_type": "code",
   "execution_count": 61,
   "metadata": {},
   "outputs": [
    {
     "data": {
      "text/plain": [
       "['Title',\n",
       " 'Rating',\n",
       " 'Director',\n",
       " 'Writer',\n",
       " 'Metascore',\n",
       " 'Cast',\n",
       " 'Release Date',\n",
       " 'Country of Origin',\n",
       " 'Languages',\n",
       " 'Budget',\n",
       " 'Worldwide Gross',\n",
       " 'Runtime']"
      ]
     },
     "execution_count": 61,
     "metadata": {},
     "output_type": "execute_result"
    }
   ],
   "source": [
    "df = df.rename(\n",
    "    {\"Average Rating\": \"Rating\"}\n",
    ")\n",
    "df.columns"
   ]
  },
  {
   "cell_type": "code",
   "execution_count": 62,
   "metadata": {},
   "outputs": [
    {
     "data": {
      "text/plain": [
       "Schema([('Title', String),\n",
       "        ('Rating', Float64),\n",
       "        ('Director', String),\n",
       "        ('Writer', String),\n",
       "        ('Metascore', Float64),\n",
       "        ('Cast', String),\n",
       "        ('Release Date', String),\n",
       "        ('Country of Origin', String),\n",
       "        ('Languages', String),\n",
       "        ('Budget', String),\n",
       "        ('Worldwide Gross', String),\n",
       "        ('Runtime', String)])"
      ]
     },
     "execution_count": 62,
     "metadata": {},
     "output_type": "execute_result"
    }
   ],
   "source": [
    "df.schema"
   ]
  },
  {
   "cell_type": "code",
   "execution_count": 63,
   "metadata": {},
   "outputs": [
    {
     "data": {
      "text/html": [
       "<div><style>\n",
       ".dataframe > thead > tr,\n",
       ".dataframe > tbody > tr {\n",
       "  text-align: right;\n",
       "  white-space: pre-wrap;\n",
       "}\n",
       "</style>\n",
       "<small>shape: (1, 12)</small><table border=\"1\" class=\"dataframe\"><thead><tr><th>Title</th><th>Rating</th><th>Director</th><th>Writer</th><th>Metascore</th><th>Cast</th><th>Release Date</th><th>Country of Origin</th><th>Languages</th><th>Budget</th><th>Worldwide Gross</th><th>Runtime</th></tr><tr><td>u32</td><td>u32</td><td>u32</td><td>u32</td><td>u32</td><td>u32</td><td>u32</td><td>u32</td><td>u32</td><td>u32</td><td>u32</td><td>u32</td></tr></thead><tbody><tr><td>0</td><td>0</td><td>0</td><td>1</td><td>1934</td><td>7</td><td>0</td><td>3</td><td>21</td><td>2338</td><td>1094</td><td>0</td></tr></tbody></table></div>"
      ],
      "text/plain": [
       "shape: (1, 12)\n",
       "┌───────┬────────┬──────────┬────────┬───┬───────────┬────────┬─────────────────┬─────────┐\n",
       "│ Title ┆ Rating ┆ Director ┆ Writer ┆ … ┆ Languages ┆ Budget ┆ Worldwide Gross ┆ Runtime │\n",
       "│ ---   ┆ ---    ┆ ---      ┆ ---    ┆   ┆ ---       ┆ ---    ┆ ---             ┆ ---     │\n",
       "│ u32   ┆ u32    ┆ u32      ┆ u32    ┆   ┆ u32       ┆ u32    ┆ u32             ┆ u32     │\n",
       "╞═══════╪════════╪══════════╪════════╪═══╪═══════════╪════════╪═════════════════╪═════════╡\n",
       "│ 0     ┆ 0      ┆ 0        ┆ 1      ┆ … ┆ 21        ┆ 2338   ┆ 1094            ┆ 0       │\n",
       "└───────┴────────┴──────────┴────────┴───┴───────────┴────────┴─────────────────┴─────────┘"
      ]
     },
     "execution_count": 63,
     "metadata": {},
     "output_type": "execute_result"
    }
   ],
   "source": [
    "df.null_count()"
   ]
  },
  {
   "cell_type": "code",
   "execution_count": 64,
   "metadata": {},
   "outputs": [
    {
     "name": "stdout",
     "output_type": "stream",
     "text": [
      "Rows: 4989\n",
      "Columns: 12\n",
      "$ Title             <str> 'The Shawshank Redemption', 'Attack on Titan the Movie: The Last Attack', 'The Godfather', 'Hababam Sinifi', 'Ramayana: The Legend of Prince Rama', 'The Silence of Swastika', 'Maya Bazaar', 'The Dark Knight', \"Schindler's List\", '12 Angry Men'\n",
      "$ Rating            <f64> 9.3, 9.3, 9.2, 9.2, 9.2, 9.1, 9.1, 9.0, 9.0, 9.0\n",
      "$ Director          <str> 'Frank Darabont', 'Yûichirô Hayashi', 'Francis Ford Coppola', 'Ertem Egilmez', 'Ram Mohan, Yûgô Sakô, Koichi Saski', 'Anuj Bhardwaj', 'Kadiri Venkata Reddy', 'Christopher Nolan', 'Steven Spielberg', 'Sidney Lumet'\n",
      "$ Writer            <str> 'Stephen King, Frank Darabont', 'Natsuki Hanae, Yoshimasa Hosoya, Marina Inoue', 'Mario Puzo, Francis Ford Coppola', 'Umur Bugay, Rifat Ilgaz', 'Rani Burra, Ram Mohan, Yûgô Sakô', 'Suzanne Bernert', 'Pingali Nagendra Rao, Kadiri Venkata Reddy', 'Jonathan Nolan, Christopher Nolan, David S. Goyer', 'Thomas Keneally, Steven Zaillian', 'Reginald Rose'\n",
      "$ Metascore         <f64> 82.0, None, 100.0, None, None, None, None, 84.0, 95.0, 97.0\n",
      "$ Cast              <str> 'Tim Robbins, Morgan Freeman, Bob Gunton, William Sadler, Clancy Brown, Gil Bellows, Mark Rolston, James Whitmore, Jeffrey DeMunn, Larry Brandenburg, Neil Giuntoli, Brian Libby, David Proval, Joseph Ragno, Jude Ciccolella, Paul McCrane, Renee Blaine, Scott Mann', 'Natsuki Hanae, Yoshimasa Hosoya, Marina Inoue, Yui Ishikawa, Yûki Kaji, Hiroshi Kamiya, Takehito Koyasu, Shiori Mikami, Manami Numakura, Romi Park, Ayane Sakura, Yû Shimamura, Hiro Shimono, Kishô Taniyama', 'Marlon Brando, Al Pacino, James Caan, Diane Keaton, Richard S. Castellano, Robert Duvall, Sterling Hayden, John Marley, Richard Conte, Al Lettieri, Abe Vigoda, Talia Shire, Gianni Russo, John Cazale, Rudy Bond, Al Martino, Morgana King, Lenny Montana', 'Münir Özkul, Tarik Akan, Halit Akçatepe, Kemal Sunal, Adile Nasit, Sitki Akçatepe, Selim Nasit Özcan, Muharrem Gürses, Ahmet Ariman, Ertugrul Bilda, Talat Dumanli, Ekrem Dümer, Kemal Ergüvenç, Ercan Gezmis, Aysen Gruda, Dilaver Gür, Cem Gürdap, Bülent Haksever', 'Arun Govil, Nikhil Kapoor, Edie Mirman, Rael Padamsee, Namrata Sawhney, Uday Mathan, Shatrughan Sinha, Jinder Walia, Amrish Puri, Mishal Varma, Noel Godin, Shakti Singh, Dilip Sinha, Madhulika Varma, Mari Devon, Pearl Padamsee, Barbara Goodson, Shagufta Jaffrey', 'Suzanne Bernert', 'N.T. Rama Rao, S.V. Ranga Rao, Savitri, Akkineni Nageswara Rao, Rushyendramani, Seeta Rama Anjaneyulu Chilakalapudi, M.N. Nambiar, K.A. Thangavelu, Relangi Venkatramaiah, Balasubramaniam D., Gummadi, Sandhya, Chhayadevi, Suryakantham, Nagabhushanam, Ramana Reddy, Mukkamala, Mikkilineni', 'Christian Bale, Heath Ledger, Aaron Eckhart, Michael Caine, Maggie Gyllenhaal, Gary Oldman, Morgan Freeman, Monique Gabriela Curnen, Ron Dean, Cillian Murphy, Chin Han, Nestor Carbonell, Eric Roberts, Ritchie Coster, Anthony Michael Hall, Keith Szarabajka, Colin McFarlane, Joshua Harto', 'Liam Neeson, Ralph Fiennes, Ben Kingsley, Caroline Goodall, Jonathan Sagall, Embeth Davidtz, Malgorzata Gebel, Shmuel Levy, Mark Ivanir, Béatrice Macola, Andrzej Seweryn, Friedrich von Thun, Krzysztof Luft, Harry Nehring, Norbert Weisser, Adi Nitzan, Michael Schneider, Miri Fabian', 'Henry Fonda, Lee J. Cobb, Martin Balsam, John Fiedler, E.G. Marshall, Jack Klugman, Edward Binns, Jack Warden, Joseph Sweeney, Ed Begley, George Voskovec, Robert Webber, Rudy Bond, Tom Gorman, James Kelly, Billy Nelson, John Savoca, Walter Stocker'\n",
      "$ Release Date      <str> 'October 14, 1994 (India)', 'November 8, 2024 (Japan)', '1978 (India)', 'April 1, 1975 (Turkey)', 'September 25, 2001 (India)', 'December 30, 2021 (India)', 'March 27, 1957 (India)', 'July 18, 2008 (India)', 'December 15, 1993 (India)', 'April 10, 1957 (United States)'\n",
      "$ Country of Origin <str> 'United States', 'Japan', 'United States', 'Turkey', 'India, Japan', 'India', 'India', 'United States, United Kingdom', 'United States', 'United States'\n",
      "$ Languages         <str> 'English', 'Japanese', 'English, Italian, Latin', 'Turkish', 'English', 'Hindi, English', 'Telugu, Tamil', 'English, Mandarin', 'English, Hebrew, German, Polish, Latin', 'English'\n",
      "$ Budget            <str> '$25,000,000 (estimated)', None, '$6,000,000 (estimated)', None, None, None, None, '$185,000,000 (estimated)', '$22,000,000 (estimated)', '$350,000 (estimated)'\n",
      "$ Worldwide Gross   <str> '$29,332,133', '$3,513,659', '$250,342,198', None, None, None, None, '$1,009,053,678', '$322,161,245', '$2,945'\n",
      "$ Runtime           <str> '2 hours 22 minutes', '2 hours 25 minutes', '2 hours 55 minutes', '1 hour 25 minutes', '2 hours 15 minutes', '56 minutes', '3 hours 12 minutes', '2 hours 32 minutes', '3 hours 15 minutes', '1 hour 36 minutes'\n",
      "\n"
     ]
    }
   ],
   "source": [
    "df.glimpse()"
   ]
  },
  {
   "cell_type": "code",
   "execution_count": 65,
   "metadata": {},
   "outputs": [
    {
     "data": {
      "text/html": [
       "<div><style>\n",
       ".dataframe > thead > tr,\n",
       ".dataframe > tbody > tr {\n",
       "  text-align: right;\n",
       "  white-space: pre-wrap;\n",
       "}\n",
       "</style>\n",
       "<small>shape: (9, 13)</small><table border=\"1\" class=\"dataframe\"><thead><tr><th>statistic</th><th>Title</th><th>Rating</th><th>Director</th><th>Writer</th><th>Metascore</th><th>Cast</th><th>Release Date</th><th>Country of Origin</th><th>Languages</th><th>Budget</th><th>Worldwide Gross</th><th>Runtime</th></tr><tr><td>str</td><td>str</td><td>f64</td><td>str</td><td>str</td><td>f64</td><td>str</td><td>str</td><td>str</td><td>str</td><td>str</td><td>str</td><td>str</td></tr></thead><tbody><tr><td>&quot;count&quot;</td><td>&quot;4989&quot;</td><td>4989.0</td><td>&quot;4989&quot;</td><td>&quot;4988&quot;</td><td>3055.0</td><td>&quot;4982&quot;</td><td>&quot;4989&quot;</td><td>&quot;4986&quot;</td><td>&quot;4968&quot;</td><td>&quot;2651&quot;</td><td>&quot;3895&quot;</td><td>&quot;4989&quot;</td></tr><tr><td>&quot;null_count&quot;</td><td>&quot;0&quot;</td><td>0.0</td><td>&quot;0&quot;</td><td>&quot;1&quot;</td><td>1934.0</td><td>&quot;7&quot;</td><td>&quot;0&quot;</td><td>&quot;3&quot;</td><td>&quot;21&quot;</td><td>&quot;2338&quot;</td><td>&quot;1094&quot;</td><td>&quot;0&quot;</td></tr><tr><td>&quot;mean&quot;</td><td>null</td><td>7.632892</td><td>null</td><td>null</td><td>74.684452</td><td>null</td><td>null</td><td>null</td><td>null</td><td>null</td><td>null</td><td>null</td></tr><tr><td>&quot;std&quot;</td><td>null</td><td>0.365243</td><td>null</td><td>null</td><td>12.298911</td><td>null</td><td>null</td><td>null</td><td>null</td><td>null</td><td>null</td><td>null</td></tr><tr><td>&quot;min&quot;</td><td>&quot;#Home&quot;</td><td>7.2</td><td>&quot;A.L. Vijay&quot;</td><td>&quot;A.A. Milne, Ernest Shepard, Al…</td><td>25.0</td><td>&quot;&#x27;Freeway&#x27; Ricky Ross, Susan Sa…</td><td>&quot;1928 (Italy)&quot;</td><td>&quot;Afghanistan, Ireland, Japan, N…</td><td>&quot;Aboriginal, Japanese, Hokkien&quot;</td><td>&quot;$1,000,000 (estimated)&quot;</td><td>&quot;$1,003&quot;</td><td>&quot;1 hour&quot;</td></tr><tr><td>&quot;25%&quot;</td><td>null</td><td>7.3</td><td>null</td><td>null</td><td>67.0</td><td>null</td><td>null</td><td>null</td><td>null</td><td>null</td><td>null</td><td>null</td></tr><tr><td>&quot;50%&quot;</td><td>null</td><td>7.6</td><td>null</td><td>null</td><td>76.0</td><td>null</td><td>null</td><td>null</td><td>null</td><td>null</td><td>null</td><td>null</td></tr><tr><td>&quot;75%&quot;</td><td>null</td><td>7.8</td><td>null</td><td>null</td><td>84.0</td><td>null</td><td>null</td><td>null</td><td>null</td><td>null</td><td>null</td><td>null</td></tr><tr><td>&quot;max&quot;</td><td>&quot;色，戒&quot;</td><td>9.3</td><td>&quot;Özer Kiziltan&quot;</td><td>&quot;Ümit Ünal&quot;</td><td>100.0</td><td>&quot;Éric Cantona, Alex Ferguson, M…</td><td>&quot;September 9, 2020 (India)&quot;</td><td>&quot;Yugoslavia, United States&quot;</td><td>&quot;Zulu, Sotho, Xhosa, Afrikaans,…</td><td>&quot;₹991,000 (estimated)&quot;</td><td>&quot;₹750,000,000&quot;</td><td>&quot;9 hours 26 minutes&quot;</td></tr></tbody></table></div>"
      ],
      "text/plain": [
       "shape: (9, 13)\n",
       "┌────────────┬────────┬──────────┬────────────┬───┬────────────┬───────────┬───────────┬───────────┐\n",
       "│ statistic  ┆ Title  ┆ Rating   ┆ Director   ┆ … ┆ Languages  ┆ Budget    ┆ Worldwide ┆ Runtime   │\n",
       "│ ---        ┆ ---    ┆ ---      ┆ ---        ┆   ┆ ---        ┆ ---       ┆ Gross     ┆ ---       │\n",
       "│ str        ┆ str    ┆ f64      ┆ str        ┆   ┆ str        ┆ str       ┆ ---       ┆ str       │\n",
       "│            ┆        ┆          ┆            ┆   ┆            ┆           ┆ str       ┆           │\n",
       "╞════════════╪════════╪══════════╪════════════╪═══╪════════════╪═══════════╪═══════════╪═══════════╡\n",
       "│ count      ┆ 4989   ┆ 4989.0   ┆ 4989       ┆ … ┆ 4968       ┆ 2651      ┆ 3895      ┆ 4989      │\n",
       "│ null_count ┆ 0      ┆ 0.0      ┆ 0          ┆ … ┆ 21         ┆ 2338      ┆ 1094      ┆ 0         │\n",
       "│ mean       ┆ null   ┆ 7.632892 ┆ null       ┆ … ┆ null       ┆ null      ┆ null      ┆ null      │\n",
       "│ std        ┆ null   ┆ 0.365243 ┆ null       ┆ … ┆ null       ┆ null      ┆ null      ┆ null      │\n",
       "│ min        ┆ #Home  ┆ 7.2      ┆ A.L. Vijay ┆ … ┆ Aboriginal ┆ $1,000,00 ┆ $1,003    ┆ 1 hour    │\n",
       "│            ┆        ┆          ┆            ┆   ┆ ,          ┆ 0 (estima ┆           ┆           │\n",
       "│            ┆        ┆          ┆            ┆   ┆ Japanese,  ┆ ted)      ┆           ┆           │\n",
       "│            ┆        ┆          ┆            ┆   ┆ Hokkien    ┆           ┆           ┆           │\n",
       "│ 25%        ┆ null   ┆ 7.3      ┆ null       ┆ … ┆ null       ┆ null      ┆ null      ┆ null      │\n",
       "│ 50%        ┆ null   ┆ 7.6      ┆ null       ┆ … ┆ null       ┆ null      ┆ null      ┆ null      │\n",
       "│ 75%        ┆ null   ┆ 7.8      ┆ null       ┆ … ┆ null       ┆ null      ┆ null      ┆ null      │\n",
       "│ max        ┆ 色，戒 ┆ 9.3      ┆ Özer       ┆ … ┆ Zulu,      ┆ ₹991,000  ┆ ₹750,000, ┆ 9 hours   │\n",
       "│            ┆        ┆          ┆ Kiziltan   ┆   ┆ Sotho,     ┆ (estimate ┆ 000       ┆ 26        │\n",
       "│            ┆        ┆          ┆            ┆   ┆ Xhosa, Afr ┆ d)        ┆           ┆ minutes   │\n",
       "│            ┆        ┆          ┆            ┆   ┆ ikaans,…   ┆           ┆           ┆           │\n",
       "└────────────┴────────┴──────────┴────────────┴───┴────────────┴───────────┴───────────┴───────────┘"
      ]
     },
     "execution_count": 65,
     "metadata": {},
     "output_type": "execute_result"
    }
   ],
   "source": [
    "df.describe()"
   ]
  },
  {
   "cell_type": "code",
   "execution_count": 66,
   "metadata": {},
   "outputs": [
    {
     "data": {
      "text/html": [
       "<div><style>\n",
       ".dataframe > thead > tr,\n",
       ".dataframe > tbody > tr {\n",
       "  text-align: right;\n",
       "  white-space: pre-wrap;\n",
       "}\n",
       "</style>\n",
       "<small>shape: (182, 2)</small><table border=\"1\" class=\"dataframe\"><thead><tr><th>Runtime</th><th>count</th></tr><tr><td>str</td><td>u32</td></tr></thead><tbody><tr><td>&quot;1 hour 35 minutes&quot;</td><td>109</td></tr><tr><td>&quot;1 hour 50 minutes&quot;</td><td>109</td></tr><tr><td>&quot;1 hour 43 minutes&quot;</td><td>100</td></tr><tr><td>&quot;1 hour 58 minutes&quot;</td><td>94</td></tr><tr><td>&quot;1 hour 40 minutes&quot;</td><td>92</td></tr><tr><td>&hellip;</td><td>&hellip;</td></tr><tr><td>&quot;59 minutes&quot;</td><td>1</td></tr><tr><td>&quot;7 hours 1 minute&quot;</td><td>1</td></tr><tr><td>&quot;5 hours 50 minutes&quot;</td><td>1</td></tr><tr><td>&quot;1 hour&quot;</td><td>1</td></tr><tr><td>&quot;55 minutes&quot;</td><td>1</td></tr></tbody></table></div>"
      ],
      "text/plain": [
       "shape: (182, 2)\n",
       "┌────────────────────┬───────┐\n",
       "│ Runtime            ┆ count │\n",
       "│ ---                ┆ ---   │\n",
       "│ str                ┆ u32   │\n",
       "╞════════════════════╪═══════╡\n",
       "│ 1 hour 35 minutes  ┆ 109   │\n",
       "│ 1 hour 50 minutes  ┆ 109   │\n",
       "│ 1 hour 43 minutes  ┆ 100   │\n",
       "│ 1 hour 58 minutes  ┆ 94    │\n",
       "│ 1 hour 40 minutes  ┆ 92    │\n",
       "│ …                  ┆ …     │\n",
       "│ 59 minutes         ┆ 1     │\n",
       "│ 7 hours 1 minute   ┆ 1     │\n",
       "│ 5 hours 50 minutes ┆ 1     │\n",
       "│ 1 hour             ┆ 1     │\n",
       "│ 55 minutes         ┆ 1     │\n",
       "└────────────────────┴───────┘"
      ]
     },
     "execution_count": 66,
     "metadata": {},
     "output_type": "execute_result"
    }
   ],
   "source": [
    "df[\"Runtime\"].value_counts(sort=True)"
   ]
  },
  {
   "cell_type": "code",
   "execution_count": 67,
   "metadata": {},
   "outputs": [
    {
     "data": {
      "text/plain": [
       "145"
      ]
     },
     "execution_count": 67,
     "metadata": {},
     "output_type": "execute_result"
    }
   ],
   "source": [
    "def runtime_to_minutes(string: str) -> int:\n",
    "    hours = re.search(r\"(\\d+) hours?\", string)\n",
    "    if hours:\n",
    "        hours = int(hours.group(1))\n",
    "    else:\n",
    "        hours = 0\n",
    "    minutes = re.search(r\"(\\d+) minutes\", string)\n",
    "    if minutes:\n",
    "        minutes = int(minutes.group(1))\n",
    "    else:\n",
    "        minutes = 0\n",
    "    return hours * 60 + minutes\n",
    "\n",
    "\n",
    "runtime_to_minutes(\"2 hours 25 minutes\")"
   ]
  },
  {
   "cell_type": "code",
   "execution_count": 68,
   "metadata": {},
   "outputs": [
    {
     "data": {
      "text/html": [
       "<div><style>\n",
       ".dataframe > thead > tr,\n",
       ".dataframe > tbody > tr {\n",
       "  text-align: right;\n",
       "  white-space: pre-wrap;\n",
       "}\n",
       "</style>\n",
       "<small>shape: (5, 13)</small><table border=\"1\" class=\"dataframe\"><thead><tr><th>Title</th><th>Rating</th><th>Director</th><th>Writer</th><th>Metascore</th><th>Cast</th><th>Release Date</th><th>Country of Origin</th><th>Languages</th><th>Budget</th><th>Worldwide Gross</th><th>Runtime</th><th>Runtime (minutes)</th></tr><tr><td>str</td><td>f64</td><td>str</td><td>str</td><td>f64</td><td>str</td><td>str</td><td>str</td><td>str</td><td>str</td><td>str</td><td>str</td><td>i64</td></tr></thead><tbody><tr><td>&quot;The Shawshank Redemption&quot;</td><td>9.3</td><td>&quot;Frank Darabont&quot;</td><td>&quot;Stephen King, Frank Darabont&quot;</td><td>82.0</td><td>&quot;Tim Robbins, Morgan Freeman, B…</td><td>&quot;October 14, 1994 (India)&quot;</td><td>&quot;United States&quot;</td><td>&quot;English&quot;</td><td>&quot;$25,000,000 (estimated)&quot;</td><td>&quot;$29,332,133&quot;</td><td>&quot;2 hours 22 minutes&quot;</td><td>142</td></tr><tr><td>&quot;Attack on Titan the Movie: The…</td><td>9.3</td><td>&quot;Yûichirô Hayashi&quot;</td><td>&quot;Natsuki Hanae, Yoshimasa Hosoy…</td><td>null</td><td>&quot;Natsuki Hanae, Yoshimasa Hosoy…</td><td>&quot;November 8, 2024 (Japan)&quot;</td><td>&quot;Japan&quot;</td><td>&quot;Japanese&quot;</td><td>null</td><td>&quot;$3,513,659&quot;</td><td>&quot;2 hours 25 minutes&quot;</td><td>145</td></tr><tr><td>&quot;The Godfather&quot;</td><td>9.2</td><td>&quot;Francis Ford Coppola&quot;</td><td>&quot;Mario Puzo, Francis Ford Coppo…</td><td>100.0</td><td>&quot;Marlon Brando, Al Pacino, Jame…</td><td>&quot;1978 (India)&quot;</td><td>&quot;United States&quot;</td><td>&quot;English, Italian, Latin&quot;</td><td>&quot;$6,000,000 (estimated)&quot;</td><td>&quot;$250,342,198&quot;</td><td>&quot;2 hours 55 minutes&quot;</td><td>175</td></tr><tr><td>&quot;Hababam Sinifi&quot;</td><td>9.2</td><td>&quot;Ertem Egilmez&quot;</td><td>&quot;Umur Bugay, Rifat Ilgaz&quot;</td><td>null</td><td>&quot;Münir Özkul, Tarik Akan, Halit…</td><td>&quot;April 1, 1975 (Turkey)&quot;</td><td>&quot;Turkey&quot;</td><td>&quot;Turkish&quot;</td><td>null</td><td>null</td><td>&quot;1 hour 25 minutes&quot;</td><td>85</td></tr><tr><td>&quot;Ramayana: The Legend of Prince…</td><td>9.2</td><td>&quot;Ram Mohan, Yûgô Sakô, Koichi S…</td><td>&quot;Rani Burra, Ram Mohan, Yûgô Sa…</td><td>null</td><td>&quot;Arun Govil, Nikhil Kapoor, Edi…</td><td>&quot;September 25, 2001 (India)&quot;</td><td>&quot;India, Japan&quot;</td><td>&quot;English&quot;</td><td>null</td><td>null</td><td>&quot;2 hours 15 minutes&quot;</td><td>135</td></tr></tbody></table></div>"
      ],
      "text/plain": [
       "shape: (5, 13)\n",
       "┌────────────┬────────┬────────────┬───────────┬───┬───────────┬───────────┬───────────┬───────────┐\n",
       "│ Title      ┆ Rating ┆ Director   ┆ Writer    ┆ … ┆ Budget    ┆ Worldwide ┆ Runtime   ┆ Runtime   │\n",
       "│ ---        ┆ ---    ┆ ---        ┆ ---       ┆   ┆ ---       ┆ Gross     ┆ ---       ┆ (minutes) │\n",
       "│ str        ┆ f64    ┆ str        ┆ str       ┆   ┆ str       ┆ ---       ┆ str       ┆ ---       │\n",
       "│            ┆        ┆            ┆           ┆   ┆           ┆ str       ┆           ┆ i64       │\n",
       "╞════════════╪════════╪════════════╪═══════════╪═══╪═══════════╪═══════════╪═══════════╪═══════════╡\n",
       "│ The        ┆ 9.3    ┆ Frank      ┆ Stephen   ┆ … ┆ $25,000,0 ┆ $29,332,1 ┆ 2 hours   ┆ 142       │\n",
       "│ Shawshank  ┆        ┆ Darabont   ┆ King,     ┆   ┆ 00 (estim ┆ 33        ┆ 22        ┆           │\n",
       "│ Redemption ┆        ┆            ┆ Frank     ┆   ┆ ated)     ┆           ┆ minutes   ┆           │\n",
       "│            ┆        ┆            ┆ Darabont  ┆   ┆           ┆           ┆           ┆           │\n",
       "│ Attack on  ┆ 9.3    ┆ Yûichirô   ┆ Natsuki   ┆ … ┆ null      ┆ $3,513,65 ┆ 2 hours   ┆ 145       │\n",
       "│ Titan the  ┆        ┆ Hayashi    ┆ Hanae,    ┆   ┆           ┆ 9         ┆ 25        ┆           │\n",
       "│ Movie:     ┆        ┆            ┆ Yoshimasa ┆   ┆           ┆           ┆ minutes   ┆           │\n",
       "│ The…       ┆        ┆            ┆ Hosoy…    ┆   ┆           ┆           ┆           ┆           │\n",
       "│ The        ┆ 9.2    ┆ Francis    ┆ Mario     ┆ … ┆ $6,000,00 ┆ $250,342, ┆ 2 hours   ┆ 175       │\n",
       "│ Godfather  ┆        ┆ Ford       ┆ Puzo,     ┆   ┆ 0 (estima ┆ 198       ┆ 55        ┆           │\n",
       "│            ┆        ┆ Coppola    ┆ Francis   ┆   ┆ ted)      ┆           ┆ minutes   ┆           │\n",
       "│            ┆        ┆            ┆ Ford      ┆   ┆           ┆           ┆           ┆           │\n",
       "│            ┆        ┆            ┆ Coppo…    ┆   ┆           ┆           ┆           ┆           │\n",
       "│ Hababam    ┆ 9.2    ┆ Ertem      ┆ Umur      ┆ … ┆ null      ┆ null      ┆ 1 hour 25 ┆ 85        │\n",
       "│ Sinifi     ┆        ┆ Egilmez    ┆ Bugay,    ┆   ┆           ┆           ┆ minutes   ┆           │\n",
       "│            ┆        ┆            ┆ Rifat     ┆   ┆           ┆           ┆           ┆           │\n",
       "│            ┆        ┆            ┆ Ilgaz     ┆   ┆           ┆           ┆           ┆           │\n",
       "│ Ramayana:  ┆ 9.2    ┆ Ram Mohan, ┆ Rani      ┆ … ┆ null      ┆ null      ┆ 2 hours   ┆ 135       │\n",
       "│ The Legend ┆        ┆ Yûgô Sakô, ┆ Burra,    ┆   ┆           ┆           ┆ 15        ┆           │\n",
       "│ of Prince… ┆        ┆ Koichi S…  ┆ Ram       ┆   ┆           ┆           ┆ minutes   ┆           │\n",
       "│            ┆        ┆            ┆ Mohan,    ┆   ┆           ┆           ┆           ┆           │\n",
       "│            ┆        ┆            ┆ Yûgô Sa…  ┆   ┆           ┆           ┆           ┆           │\n",
       "└────────────┴────────┴────────────┴───────────┴───┴───────────┴───────────┴───────────┴───────────┘"
      ]
     },
     "execution_count": 68,
     "metadata": {},
     "output_type": "execute_result"
    }
   ],
   "source": [
    "df = df.with_columns(\n",
    "    pl.col(\"Runtime\")\n",
    "    .map_elements(runtime_to_minutes, return_dtype=int)\n",
    "    .alias(\"Runtime (minutes)\")\n",
    ")\n",
    "df.head()"
   ]
  },
  {
   "cell_type": "code",
   "execution_count": 69,
   "metadata": {},
   "outputs": [
    {
     "data": {
      "text/plain": [
       "6000000"
      ]
     },
     "execution_count": 69,
     "metadata": {},
     "output_type": "execute_result"
    }
   ],
   "source": [
    "def money_to_usd(string: str | None) -> int:\n",
    "    if not isinstance(string, str) or not \"$\" in string:\n",
    "        return None\n",
    "    budget = int(re.sub(r\"[^\\d]\", \"\", string))\n",
    "    return budget\n",
    "money_to_usd(\"$6,000,000 (estimated)\")"
   ]
  },
  {
   "cell_type": "code",
   "execution_count": 70,
   "metadata": {},
   "outputs": [
    {
     "data": {
      "text/html": [
       "<div><style>\n",
       ".dataframe > thead > tr,\n",
       ".dataframe > tbody > tr {\n",
       "  text-align: right;\n",
       "  white-space: pre-wrap;\n",
       "}\n",
       "</style>\n",
       "<small>shape: (5, 15)</small><table border=\"1\" class=\"dataframe\"><thead><tr><th>Title</th><th>Rating</th><th>Director</th><th>Writer</th><th>Metascore</th><th>Cast</th><th>Release Date</th><th>Country of Origin</th><th>Languages</th><th>Budget</th><th>Worldwide Gross</th><th>Runtime</th><th>Runtime (minutes)</th><th>Budget (usd)</th><th>Worldwide Gross (usd)</th></tr><tr><td>str</td><td>f64</td><td>str</td><td>str</td><td>f64</td><td>str</td><td>str</td><td>str</td><td>str</td><td>str</td><td>str</td><td>str</td><td>i64</td><td>i64</td><td>i64</td></tr></thead><tbody><tr><td>&quot;The Shawshank Redemption&quot;</td><td>9.3</td><td>&quot;Frank Darabont&quot;</td><td>&quot;Stephen King, Frank Darabont&quot;</td><td>82.0</td><td>&quot;Tim Robbins, Morgan Freeman, B…</td><td>&quot;October 14, 1994 (India)&quot;</td><td>&quot;United States&quot;</td><td>&quot;English&quot;</td><td>&quot;$25,000,000 (estimated)&quot;</td><td>&quot;$29,332,133&quot;</td><td>&quot;2 hours 22 minutes&quot;</td><td>142</td><td>25000000</td><td>29332133</td></tr><tr><td>&quot;Attack on Titan the Movie: The…</td><td>9.3</td><td>&quot;Yûichirô Hayashi&quot;</td><td>&quot;Natsuki Hanae, Yoshimasa Hosoy…</td><td>null</td><td>&quot;Natsuki Hanae, Yoshimasa Hosoy…</td><td>&quot;November 8, 2024 (Japan)&quot;</td><td>&quot;Japan&quot;</td><td>&quot;Japanese&quot;</td><td>null</td><td>&quot;$3,513,659&quot;</td><td>&quot;2 hours 25 minutes&quot;</td><td>145</td><td>null</td><td>3513659</td></tr><tr><td>&quot;The Godfather&quot;</td><td>9.2</td><td>&quot;Francis Ford Coppola&quot;</td><td>&quot;Mario Puzo, Francis Ford Coppo…</td><td>100.0</td><td>&quot;Marlon Brando, Al Pacino, Jame…</td><td>&quot;1978 (India)&quot;</td><td>&quot;United States&quot;</td><td>&quot;English, Italian, Latin&quot;</td><td>&quot;$6,000,000 (estimated)&quot;</td><td>&quot;$250,342,198&quot;</td><td>&quot;2 hours 55 minutes&quot;</td><td>175</td><td>6000000</td><td>250342198</td></tr><tr><td>&quot;Hababam Sinifi&quot;</td><td>9.2</td><td>&quot;Ertem Egilmez&quot;</td><td>&quot;Umur Bugay, Rifat Ilgaz&quot;</td><td>null</td><td>&quot;Münir Özkul, Tarik Akan, Halit…</td><td>&quot;April 1, 1975 (Turkey)&quot;</td><td>&quot;Turkey&quot;</td><td>&quot;Turkish&quot;</td><td>null</td><td>null</td><td>&quot;1 hour 25 minutes&quot;</td><td>85</td><td>null</td><td>null</td></tr><tr><td>&quot;Ramayana: The Legend of Prince…</td><td>9.2</td><td>&quot;Ram Mohan, Yûgô Sakô, Koichi S…</td><td>&quot;Rani Burra, Ram Mohan, Yûgô Sa…</td><td>null</td><td>&quot;Arun Govil, Nikhil Kapoor, Edi…</td><td>&quot;September 25, 2001 (India)&quot;</td><td>&quot;India, Japan&quot;</td><td>&quot;English&quot;</td><td>null</td><td>null</td><td>&quot;2 hours 15 minutes&quot;</td><td>135</td><td>null</td><td>null</td></tr></tbody></table></div>"
      ],
      "text/plain": [
       "shape: (5, 15)\n",
       "┌────────────┬────────┬────────────┬───────────┬───┬───────────┬───────────┬───────────┬───────────┐\n",
       "│ Title      ┆ Rating ┆ Director   ┆ Writer    ┆ … ┆ Runtime   ┆ Runtime   ┆ Budget    ┆ Worldwide │\n",
       "│ ---        ┆ ---    ┆ ---        ┆ ---       ┆   ┆ ---       ┆ (minutes) ┆ (usd)     ┆ Gross     │\n",
       "│ str        ┆ f64    ┆ str        ┆ str       ┆   ┆ str       ┆ ---       ┆ ---       ┆ (usd)     │\n",
       "│            ┆        ┆            ┆           ┆   ┆           ┆ i64       ┆ i64       ┆ ---       │\n",
       "│            ┆        ┆            ┆           ┆   ┆           ┆           ┆           ┆ i64       │\n",
       "╞════════════╪════════╪════════════╪═══════════╪═══╪═══════════╪═══════════╪═══════════╪═══════════╡\n",
       "│ The        ┆ 9.3    ┆ Frank      ┆ Stephen   ┆ … ┆ 2 hours   ┆ 142       ┆ 25000000  ┆ 29332133  │\n",
       "│ Shawshank  ┆        ┆ Darabont   ┆ King,     ┆   ┆ 22        ┆           ┆           ┆           │\n",
       "│ Redemption ┆        ┆            ┆ Frank     ┆   ┆ minutes   ┆           ┆           ┆           │\n",
       "│            ┆        ┆            ┆ Darabont  ┆   ┆           ┆           ┆           ┆           │\n",
       "│ Attack on  ┆ 9.3    ┆ Yûichirô   ┆ Natsuki   ┆ … ┆ 2 hours   ┆ 145       ┆ null      ┆ 3513659   │\n",
       "│ Titan the  ┆        ┆ Hayashi    ┆ Hanae,    ┆   ┆ 25        ┆           ┆           ┆           │\n",
       "│ Movie:     ┆        ┆            ┆ Yoshimasa ┆   ┆ minutes   ┆           ┆           ┆           │\n",
       "│ The…       ┆        ┆            ┆ Hosoy…    ┆   ┆           ┆           ┆           ┆           │\n",
       "│ The        ┆ 9.2    ┆ Francis    ┆ Mario     ┆ … ┆ 2 hours   ┆ 175       ┆ 6000000   ┆ 250342198 │\n",
       "│ Godfather  ┆        ┆ Ford       ┆ Puzo,     ┆   ┆ 55        ┆           ┆           ┆           │\n",
       "│            ┆        ┆ Coppola    ┆ Francis   ┆   ┆ minutes   ┆           ┆           ┆           │\n",
       "│            ┆        ┆            ┆ Ford      ┆   ┆           ┆           ┆           ┆           │\n",
       "│            ┆        ┆            ┆ Coppo…    ┆   ┆           ┆           ┆           ┆           │\n",
       "│ Hababam    ┆ 9.2    ┆ Ertem      ┆ Umur      ┆ … ┆ 1 hour 25 ┆ 85        ┆ null      ┆ null      │\n",
       "│ Sinifi     ┆        ┆ Egilmez    ┆ Bugay,    ┆   ┆ minutes   ┆           ┆           ┆           │\n",
       "│            ┆        ┆            ┆ Rifat     ┆   ┆           ┆           ┆           ┆           │\n",
       "│            ┆        ┆            ┆ Ilgaz     ┆   ┆           ┆           ┆           ┆           │\n",
       "│ Ramayana:  ┆ 9.2    ┆ Ram Mohan, ┆ Rani      ┆ … ┆ 2 hours   ┆ 135       ┆ null      ┆ null      │\n",
       "│ The Legend ┆        ┆ Yûgô Sakô, ┆ Burra,    ┆   ┆ 15        ┆           ┆           ┆           │\n",
       "│ of Prince… ┆        ┆ Koichi S…  ┆ Ram       ┆   ┆ minutes   ┆           ┆           ┆           │\n",
       "│            ┆        ┆            ┆ Mohan,    ┆   ┆           ┆           ┆           ┆           │\n",
       "│            ┆        ┆            ┆ Yûgô Sa…  ┆   ┆           ┆           ┆           ┆           │\n",
       "└────────────┴────────┴────────────┴───────────┴───┴───────────┴───────────┴───────────┴───────────┘"
      ]
     },
     "execution_count": 70,
     "metadata": {},
     "output_type": "execute_result"
    }
   ],
   "source": [
    "df = df.with_columns(\n",
    "    pl.col(\"Budget\").map_elements(money_to_usd, return_dtype=int).alias(\"Budget (usd)\"),\n",
    "    pl.col(\"Worldwide Gross\").map_elements(money_to_usd, return_dtype=int).alias(\"Worldwide Gross (usd)\"),\n",
    ")\n",
    "df.head()"
   ]
  },
  {
   "cell_type": "code",
   "execution_count": 71,
   "metadata": {},
   "outputs": [
    {
     "data": {
      "text/html": [
       "<div><style>\n",
       ".dataframe > thead > tr,\n",
       ".dataframe > tbody > tr {\n",
       "  text-align: right;\n",
       "  white-space: pre-wrap;\n",
       "}\n",
       "</style>\n",
       "<small>shape: (5, 16)</small><table border=\"1\" class=\"dataframe\"><thead><tr><th>Title</th><th>Rating</th><th>Director</th><th>Writer</th><th>Metascore</th><th>Cast</th><th>Release Date</th><th>Country of Origin</th><th>Languages</th><th>Budget</th><th>Worldwide Gross</th><th>Runtime</th><th>Runtime (minutes)</th><th>Budget (usd)</th><th>Worldwide Gross (usd)</th><th>Profit (usd)</th></tr><tr><td>str</td><td>f64</td><td>str</td><td>str</td><td>f64</td><td>str</td><td>str</td><td>str</td><td>str</td><td>str</td><td>str</td><td>str</td><td>i64</td><td>i64</td><td>i64</td><td>i64</td></tr></thead><tbody><tr><td>&quot;The Shawshank Redemption&quot;</td><td>9.3</td><td>&quot;Frank Darabont&quot;</td><td>&quot;Stephen King, Frank Darabont&quot;</td><td>82.0</td><td>&quot;Tim Robbins, Morgan Freeman, B…</td><td>&quot;October 14, 1994 (India)&quot;</td><td>&quot;United States&quot;</td><td>&quot;English&quot;</td><td>&quot;$25,000,000 (estimated)&quot;</td><td>&quot;$29,332,133&quot;</td><td>&quot;2 hours 22 minutes&quot;</td><td>142</td><td>25000000</td><td>29332133</td><td>4332133</td></tr><tr><td>&quot;Attack on Titan the Movie: The…</td><td>9.3</td><td>&quot;Yûichirô Hayashi&quot;</td><td>&quot;Natsuki Hanae, Yoshimasa Hosoy…</td><td>null</td><td>&quot;Natsuki Hanae, Yoshimasa Hosoy…</td><td>&quot;November 8, 2024 (Japan)&quot;</td><td>&quot;Japan&quot;</td><td>&quot;Japanese&quot;</td><td>null</td><td>&quot;$3,513,659&quot;</td><td>&quot;2 hours 25 minutes&quot;</td><td>145</td><td>null</td><td>3513659</td><td>null</td></tr><tr><td>&quot;The Godfather&quot;</td><td>9.2</td><td>&quot;Francis Ford Coppola&quot;</td><td>&quot;Mario Puzo, Francis Ford Coppo…</td><td>100.0</td><td>&quot;Marlon Brando, Al Pacino, Jame…</td><td>&quot;1978 (India)&quot;</td><td>&quot;United States&quot;</td><td>&quot;English, Italian, Latin&quot;</td><td>&quot;$6,000,000 (estimated)&quot;</td><td>&quot;$250,342,198&quot;</td><td>&quot;2 hours 55 minutes&quot;</td><td>175</td><td>6000000</td><td>250342198</td><td>244342198</td></tr><tr><td>&quot;Hababam Sinifi&quot;</td><td>9.2</td><td>&quot;Ertem Egilmez&quot;</td><td>&quot;Umur Bugay, Rifat Ilgaz&quot;</td><td>null</td><td>&quot;Münir Özkul, Tarik Akan, Halit…</td><td>&quot;April 1, 1975 (Turkey)&quot;</td><td>&quot;Turkey&quot;</td><td>&quot;Turkish&quot;</td><td>null</td><td>null</td><td>&quot;1 hour 25 minutes&quot;</td><td>85</td><td>null</td><td>null</td><td>null</td></tr><tr><td>&quot;Ramayana: The Legend of Prince…</td><td>9.2</td><td>&quot;Ram Mohan, Yûgô Sakô, Koichi S…</td><td>&quot;Rani Burra, Ram Mohan, Yûgô Sa…</td><td>null</td><td>&quot;Arun Govil, Nikhil Kapoor, Edi…</td><td>&quot;September 25, 2001 (India)&quot;</td><td>&quot;India, Japan&quot;</td><td>&quot;English&quot;</td><td>null</td><td>null</td><td>&quot;2 hours 15 minutes&quot;</td><td>135</td><td>null</td><td>null</td><td>null</td></tr></tbody></table></div>"
      ],
      "text/plain": [
       "shape: (5, 16)\n",
       "┌────────────┬────────┬────────────┬───────────┬───┬───────────┬───────────┬───────────┬───────────┐\n",
       "│ Title      ┆ Rating ┆ Director   ┆ Writer    ┆ … ┆ Runtime   ┆ Budget    ┆ Worldwide ┆ Profit    │\n",
       "│ ---        ┆ ---    ┆ ---        ┆ ---       ┆   ┆ (minutes) ┆ (usd)     ┆ Gross     ┆ (usd)     │\n",
       "│ str        ┆ f64    ┆ str        ┆ str       ┆   ┆ ---       ┆ ---       ┆ (usd)     ┆ ---       │\n",
       "│            ┆        ┆            ┆           ┆   ┆ i64       ┆ i64       ┆ ---       ┆ i64       │\n",
       "│            ┆        ┆            ┆           ┆   ┆           ┆           ┆ i64       ┆           │\n",
       "╞════════════╪════════╪════════════╪═══════════╪═══╪═══════════╪═══════════╪═══════════╪═══════════╡\n",
       "│ The        ┆ 9.3    ┆ Frank      ┆ Stephen   ┆ … ┆ 142       ┆ 25000000  ┆ 29332133  ┆ 4332133   │\n",
       "│ Shawshank  ┆        ┆ Darabont   ┆ King,     ┆   ┆           ┆           ┆           ┆           │\n",
       "│ Redemption ┆        ┆            ┆ Frank     ┆   ┆           ┆           ┆           ┆           │\n",
       "│            ┆        ┆            ┆ Darabont  ┆   ┆           ┆           ┆           ┆           │\n",
       "│ Attack on  ┆ 9.3    ┆ Yûichirô   ┆ Natsuki   ┆ … ┆ 145       ┆ null      ┆ 3513659   ┆ null      │\n",
       "│ Titan the  ┆        ┆ Hayashi    ┆ Hanae,    ┆   ┆           ┆           ┆           ┆           │\n",
       "│ Movie:     ┆        ┆            ┆ Yoshimasa ┆   ┆           ┆           ┆           ┆           │\n",
       "│ The…       ┆        ┆            ┆ Hosoy…    ┆   ┆           ┆           ┆           ┆           │\n",
       "│ The        ┆ 9.2    ┆ Francis    ┆ Mario     ┆ … ┆ 175       ┆ 6000000   ┆ 250342198 ┆ 244342198 │\n",
       "│ Godfather  ┆        ┆ Ford       ┆ Puzo,     ┆   ┆           ┆           ┆           ┆           │\n",
       "│            ┆        ┆ Coppola    ┆ Francis   ┆   ┆           ┆           ┆           ┆           │\n",
       "│            ┆        ┆            ┆ Ford      ┆   ┆           ┆           ┆           ┆           │\n",
       "│            ┆        ┆            ┆ Coppo…    ┆   ┆           ┆           ┆           ┆           │\n",
       "│ Hababam    ┆ 9.2    ┆ Ertem      ┆ Umur      ┆ … ┆ 85        ┆ null      ┆ null      ┆ null      │\n",
       "│ Sinifi     ┆        ┆ Egilmez    ┆ Bugay,    ┆   ┆           ┆           ┆           ┆           │\n",
       "│            ┆        ┆            ┆ Rifat     ┆   ┆           ┆           ┆           ┆           │\n",
       "│            ┆        ┆            ┆ Ilgaz     ┆   ┆           ┆           ┆           ┆           │\n",
       "│ Ramayana:  ┆ 9.2    ┆ Ram Mohan, ┆ Rani      ┆ … ┆ 135       ┆ null      ┆ null      ┆ null      │\n",
       "│ The Legend ┆        ┆ Yûgô Sakô, ┆ Burra,    ┆   ┆           ┆           ┆           ┆           │\n",
       "│ of Prince… ┆        ┆ Koichi S…  ┆ Ram       ┆   ┆           ┆           ┆           ┆           │\n",
       "│            ┆        ┆            ┆ Mohan,    ┆   ┆           ┆           ┆           ┆           │\n",
       "│            ┆        ┆            ┆ Yûgô Sa…  ┆   ┆           ┆           ┆           ┆           │\n",
       "└────────────┴────────┴────────────┴───────────┴───┴───────────┴───────────┴───────────┴───────────┘"
      ]
     },
     "execution_count": 71,
     "metadata": {},
     "output_type": "execute_result"
    }
   ],
   "source": [
    "df = df.with_columns(\n",
    "    pl.col(\"Worldwide Gross (usd)\").sub(pl.col(\"Budget (usd)\")).alias(\"Profit (usd)\")\n",
    ")\n",
    "df.head()"
   ]
  },
  {
   "cell_type": "code",
   "execution_count": 75,
   "metadata": {},
   "outputs": [
    {
     "data": {
      "text/html": [
       "<div><style>\n",
       ".dataframe > thead > tr,\n",
       ".dataframe > tbody > tr {\n",
       "  text-align: right;\n",
       "  white-space: pre-wrap;\n",
       "}\n",
       "</style>\n",
       "<small>shape: (3, 16)</small><table border=\"1\" class=\"dataframe\"><thead><tr><th>Title</th><th>Rating</th><th>Director</th><th>Writer</th><th>Metascore</th><th>Cast</th><th>Release Date</th><th>Country of Origin</th><th>Languages</th><th>Budget</th><th>Worldwide Gross</th><th>Runtime</th><th>Runtime (minutes)</th><th>Budget (usd)</th><th>Worldwide Gross (usd)</th><th>Profit (usd)</th></tr><tr><td>str</td><td>f64</td><td>str</td><td>str</td><td>f64</td><td>str</td><td>str</td><td>str</td><td>str</td><td>str</td><td>str</td><td>str</td><td>i64</td><td>i64</td><td>i64</td><td>i64</td></tr></thead><tbody><tr><td>&quot;Avengers: Endgame&quot;</td><td>8.4</td><td>&quot;Anthony Russo, Joe Russo&quot;</td><td>&quot;Christopher Markus, Stephen Mc…</td><td>78.0</td><td>&quot;Robert Downey Jr., Chris Evans…</td><td>&quot;April 26, 2019 (India)&quot;</td><td>&quot;United States&quot;</td><td>&quot;English, Japanese, Xhosa, Germ…</td><td>&quot;$356,000,000 (estimated)&quot;</td><td>&quot;$2,799,439,100&quot;</td><td>&quot;3 hours 1 minute&quot;</td><td>180</td><td>356000000</td><td>2799439100</td><td>2443439100</td></tr><tr><td>&quot;The Little Mermaid&quot;</td><td>7.2</td><td>&quot;Rob Marshall&quot;</td><td>&quot;David Magee, Hans Christian An…</td><td>59.0</td><td>&quot;Halle Bailey, Jonah Hauer-King…</td><td>&quot;May 26, 2023 (India)&quot;</td><td>&quot;United States&quot;</td><td>&quot;English&quot;</td><td>&quot;$355,100,000 (estimated)&quot;</td><td>&quot;$569,626,289&quot;</td><td>&quot;2 hours 15 minutes&quot;</td><td>135</td><td>355100000</td><td>569626289</td><td>214526289</td></tr><tr><td>&quot;Avatar: The Way of Water&quot;</td><td>7.5</td><td>&quot;James Cameron&quot;</td><td>&quot;James Cameron, Rick Jaffa, Ama…</td><td>67.0</td><td>&quot;Sam Worthington, Zoe Saldana, …</td><td>&quot;December 16, 2022 (India)&quot;</td><td>&quot;United States&quot;</td><td>&quot;English&quot;</td><td>&quot;$350,000,000 (estimated)&quot;</td><td>&quot;$2,320,250,281&quot;</td><td>&quot;3 hours 12 minutes&quot;</td><td>192</td><td>350000000</td><td>2320250281</td><td>1970250281</td></tr></tbody></table></div>"
      ],
      "text/plain": [
       "shape: (3, 16)\n",
       "┌────────────┬────────┬────────────┬───────────┬───┬───────────┬───────────┬───────────┬───────────┐\n",
       "│ Title      ┆ Rating ┆ Director   ┆ Writer    ┆ … ┆ Runtime   ┆ Budget    ┆ Worldwide ┆ Profit    │\n",
       "│ ---        ┆ ---    ┆ ---        ┆ ---       ┆   ┆ (minutes) ┆ (usd)     ┆ Gross     ┆ (usd)     │\n",
       "│ str        ┆ f64    ┆ str        ┆ str       ┆   ┆ ---       ┆ ---       ┆ (usd)     ┆ ---       │\n",
       "│            ┆        ┆            ┆           ┆   ┆ i64       ┆ i64       ┆ ---       ┆ i64       │\n",
       "│            ┆        ┆            ┆           ┆   ┆           ┆           ┆ i64       ┆           │\n",
       "╞════════════╪════════╪════════════╪═══════════╪═══╪═══════════╪═══════════╪═══════════╪═══════════╡\n",
       "│ Avengers:  ┆ 8.4    ┆ Anthony    ┆ Christoph ┆ … ┆ 180       ┆ 356000000 ┆ 279943910 ┆ 244343910 │\n",
       "│ Endgame    ┆        ┆ Russo, Joe ┆ er        ┆   ┆           ┆           ┆ 0         ┆ 0         │\n",
       "│            ┆        ┆ Russo      ┆ Markus,   ┆   ┆           ┆           ┆           ┆           │\n",
       "│            ┆        ┆            ┆ Stephen   ┆   ┆           ┆           ┆           ┆           │\n",
       "│            ┆        ┆            ┆ Mc…       ┆   ┆           ┆           ┆           ┆           │\n",
       "│ The Little ┆ 7.2    ┆ Rob        ┆ David     ┆ … ┆ 135       ┆ 355100000 ┆ 569626289 ┆ 214526289 │\n",
       "│ Mermaid    ┆        ┆ Marshall   ┆ Magee,    ┆   ┆           ┆           ┆           ┆           │\n",
       "│            ┆        ┆            ┆ Hans      ┆   ┆           ┆           ┆           ┆           │\n",
       "│            ┆        ┆            ┆ Christian ┆   ┆           ┆           ┆           ┆           │\n",
       "│            ┆        ┆            ┆ An…       ┆   ┆           ┆           ┆           ┆           │\n",
       "│ Avatar:    ┆ 7.5    ┆ James      ┆ James     ┆ … ┆ 192       ┆ 350000000 ┆ 232025028 ┆ 197025028 │\n",
       "│ The Way of ┆        ┆ Cameron    ┆ Cameron,  ┆   ┆           ┆           ┆ 1         ┆ 1         │\n",
       "│ Water      ┆        ┆            ┆ Rick      ┆   ┆           ┆           ┆           ┆           │\n",
       "│            ┆        ┆            ┆ Jaffa,    ┆   ┆           ┆           ┆           ┆           │\n",
       "│            ┆        ┆            ┆ Ama…      ┆   ┆           ┆           ┆           ┆           │\n",
       "└────────────┴────────┴────────────┴───────────┴───┴───────────┴───────────┴───────────┴───────────┘"
      ]
     },
     "execution_count": 75,
     "metadata": {},
     "output_type": "execute_result"
    }
   ],
   "source": [
    "highest_budget = df.sort(by=\"Budget (usd)\", descending=True, nulls_last=True)[:10]\n",
    "highest_budget.head(3)"
   ]
  },
  {
   "cell_type": "code",
   "execution_count": 91,
   "metadata": {},
   "outputs": [
    {
     "data": {
      "text/html": [
       "\n",
       "<style>\n",
       "  #altair-viz-9f9ad8b6f3ac495bbe13100849491168.vega-embed {\n",
       "    width: 100%;\n",
       "    display: flex;\n",
       "  }\n",
       "\n",
       "  #altair-viz-9f9ad8b6f3ac495bbe13100849491168.vega-embed details,\n",
       "  #altair-viz-9f9ad8b6f3ac495bbe13100849491168.vega-embed details summary {\n",
       "    position: relative;\n",
       "  }\n",
       "</style>\n",
       "<div id=\"altair-viz-9f9ad8b6f3ac495bbe13100849491168\"></div>\n",
       "<script type=\"text/javascript\">\n",
       "  var VEGA_DEBUG = (typeof VEGA_DEBUG == \"undefined\") ? {} : VEGA_DEBUG;\n",
       "  (function(spec, embedOpt){\n",
       "    let outputDiv = document.currentScript.previousElementSibling;\n",
       "    if (outputDiv.id !== \"altair-viz-9f9ad8b6f3ac495bbe13100849491168\") {\n",
       "      outputDiv = document.getElementById(\"altair-viz-9f9ad8b6f3ac495bbe13100849491168\");\n",
       "    }\n",
       "\n",
       "    const paths = {\n",
       "      \"vega\": \"https://cdn.jsdelivr.net/npm/vega@5?noext\",\n",
       "      \"vega-lib\": \"https://cdn.jsdelivr.net/npm/vega-lib?noext\",\n",
       "      \"vega-lite\": \"https://cdn.jsdelivr.net/npm/vega-lite@5.20.1?noext\",\n",
       "      \"vega-embed\": \"https://cdn.jsdelivr.net/npm/vega-embed@6?noext\",\n",
       "    };\n",
       "\n",
       "    function maybeLoadScript(lib, version) {\n",
       "      var key = `${lib.replace(\"-\", \"\")}_version`;\n",
       "      return (VEGA_DEBUG[key] == version) ?\n",
       "        Promise.resolve(paths[lib]) :\n",
       "        new Promise(function(resolve, reject) {\n",
       "          var s = document.createElement('script');\n",
       "          document.getElementsByTagName(\"head\")[0].appendChild(s);\n",
       "          s.async = true;\n",
       "          s.onload = () => {\n",
       "            VEGA_DEBUG[key] = version;\n",
       "            return resolve(paths[lib]);\n",
       "          };\n",
       "          s.onerror = () => reject(`Error loading script: ${paths[lib]}`);\n",
       "          s.src = paths[lib];\n",
       "        });\n",
       "    }\n",
       "\n",
       "    function showError(err) {\n",
       "      outputDiv.innerHTML = `<div class=\"error\" style=\"color:red;\">${err}</div>`;\n",
       "      throw err;\n",
       "    }\n",
       "\n",
       "    function displayChart(vegaEmbed) {\n",
       "      vegaEmbed(outputDiv, spec, embedOpt)\n",
       "        .catch(err => showError(`Javascript Error: ${err.message}<br>This usually means there's a typo in your chart specification. See the javascript console for the full traceback.`));\n",
       "    }\n",
       "\n",
       "    if(typeof define === \"function\" && define.amd) {\n",
       "      requirejs.config({paths});\n",
       "      let deps = [\"vega-embed\"];\n",
       "      require(deps, displayChart, err => showError(`Error loading script: ${err.message}`));\n",
       "    } else {\n",
       "      maybeLoadScript(\"vega\", \"5\")\n",
       "        .then(() => maybeLoadScript(\"vega-lite\", \"5.20.1\"))\n",
       "        .then(() => maybeLoadScript(\"vega-embed\", \"6\"))\n",
       "        .catch(showError)\n",
       "        .then(() => displayChart(vegaEmbed));\n",
       "    }\n",
       "  })({\"config\": {\"view\": {\"continuousWidth\": 300, \"continuousHeight\": 300}, \"range\": {\"ramp\": \"diverging\"}}, \"data\": {\"name\": \"data-a1dd1de5426fcdd8bdc16c562966d6cf\"}, \"mark\": {\"type\": \"point\", \"tooltip\": true}, \"encoding\": {\"color\": {\"field\": \"Profit (usd)\", \"type\": \"quantitative\"}, \"x\": {\"field\": \"Runtime (minutes)\", \"type\": \"quantitative\"}, \"y\": {\"field\": \"Budget (usd)\", \"type\": \"quantitative\"}}, \"height\": 400, \"params\": [{\"name\": \"param_1\", \"select\": {\"type\": \"interval\", \"encodings\": [\"x\", \"y\"]}, \"bind\": \"scales\"}], \"title\": \"Irises\", \"width\": 400, \"$schema\": \"https://vega.github.io/schema/vega-lite/v5.20.1.json\", \"datasets\": {\"data-a1dd1de5426fcdd8bdc16c562966d6cf\": [{\"Title\": \"Avengers: Endgame\", \"Rating\": 8.4, \"Director\": \"Anthony Russo, Joe Russo\", \"Writer\": \"Christopher Markus, Stephen McFeely, Stan Lee\", \"Metascore\": 78.0, \"Cast\": \"Robert Downey Jr., Chris Evans, Mark Ruffalo, Chris Hemsworth, Scarlett Johansson, Jeremy Renner, Don Cheadle, Paul Rudd, Benedict Cumberbatch, Chadwick Boseman, Brie Larson, Tom Holland, Karen Gillan, Zoe Saldana, Evangeline Lilly, Tessa Thompson, Rene Russo, Elizabeth Olsen\", \"Release Date\": \"April 26, 2019 (India)\", \"Country of Origin\": \"United States\", \"Languages\": \"English, Japanese, Xhosa, German\", \"Budget\": \"$356,000,000 (estimated)\", \"Worldwide Gross\": \"$2,799,439,100\", \"Runtime\": \"3 hours 1 minute\", \"Runtime (minutes)\": 180, \"Budget (usd)\": 356000000, \"Worldwide Gross (usd)\": 2799439100, \"Profit (usd)\": 2443439100}, {\"Title\": \"The Little Mermaid\", \"Rating\": 7.2, \"Director\": \"Rob Marshall\", \"Writer\": \"David Magee, Hans Christian Andersen, John Musker\", \"Metascore\": 59.0, \"Cast\": \"Halle Bailey, Jonah Hauer-King, Melissa McCarthy, Javier Bardem, Noma Dumezweni, Art Malik, Daveed Diggs, Jacob Tremblay, Awkwafina, Jessica Alexander, Martina Laird, Emily Coates, Christopher Fairbank, John Dagleish, Matt Carver, Jude Akuwudike, Lorena Andrea, Simone Ashley\", \"Release Date\": \"May 26, 2023 (India)\", \"Country of Origin\": \"United States\", \"Languages\": \"English\", \"Budget\": \"$355,100,000 (estimated)\", \"Worldwide Gross\": \"$569,626,289\", \"Runtime\": \"2 hours 15 minutes\", \"Runtime (minutes)\": 135, \"Budget (usd)\": 355100000, \"Worldwide Gross (usd)\": 569626289, \"Profit (usd)\": 214526289}, {\"Title\": \"Avatar: The Way of Water\", \"Rating\": 7.5, \"Director\": \"James Cameron\", \"Writer\": \"James Cameron, Rick Jaffa, Amanda Silver\", \"Metascore\": 67.0, \"Cast\": \"Sam Worthington, Zoe Saldana, Sigourney Weaver, Stephen Lang, Kate Winslet, Cliff Curtis, Joel David Moore, CCH Pounder, Edie Falco, Brendan Cowell, Jemaine Clement, Jamie Flatters, Britain Dalton, Trinity Jo-Li Bliss, Jack Champion, Bailey Bass, Filip Geljo, Duane Evans Jr.\", \"Release Date\": \"December 16, 2022 (India)\", \"Country of Origin\": \"United States\", \"Languages\": \"English\", \"Budget\": \"$350,000,000 (estimated)\", \"Worldwide Gross\": \"$2,320,250,281\", \"Runtime\": \"3 hours 12 minutes\", \"Runtime (minutes)\": 192, \"Budget (usd)\": 350000000, \"Worldwide Gross (usd)\": 2320250281, \"Profit (usd)\": 1970250281}, {\"Title\": \"Avengers: Infinity War\", \"Rating\": 8.4, \"Director\": \"Anthony Russo, Joe Russo\", \"Writer\": \"Christopher Markus, Stephen McFeely, Stan Lee\", \"Metascore\": 68.0, \"Cast\": \"Robert Downey Jr., Chris Hemsworth, Mark Ruffalo, Chris Evans, Scarlett Johansson, Don Cheadle, Benedict Cumberbatch, Tom Holland, Chadwick Boseman, Zoe Saldana, Karen Gillan, Tom Hiddleston, Paul Bettany, Elizabeth Olsen, Anthony Mackie, Sebastian Stan, Idris Elba, Danai Gurira\", \"Release Date\": \"April 27, 2018 (India)\", \"Country of Origin\": \"United States, Norway\", \"Languages\": \"English\", \"Budget\": \"$321,000,000 (estimated)\", \"Worldwide Gross\": \"$2,052,415,039\", \"Runtime\": \"2 hours 29 minutes\", \"Runtime (minutes)\": 149, \"Budget (usd)\": 321000000, \"Worldwide Gross (usd)\": 2052415039, \"Profit (usd)\": 1731415039}, {\"Title\": \"Zack Snyder's Justice League\", \"Rating\": 7.9, \"Director\": \"Zack Snyder\", \"Writer\": \"Jerry Siegel, Joe Shuster, Zack Snyder\", \"Metascore\": 54.0, \"Cast\": \"Henry Cavill, Ben Affleck, Gal Gadot, Amy Adams, Ray Fisher, Jason Momoa, Ezra Miller, Willem Dafoe, Jesse Eisenberg, Jeremy Irons, Diane Lane, Connie Nielsen, J.K. Simmons, Ciar\\u00e1n Hinds, Ryan Zheng, Amber Heard, Joe Morton, Lisa Loven Kongsli\", \"Release Date\": \"March 18, 2021 (India)\", \"Country of Origin\": \"United States, Canada, New Zealand, United Kingdom, Netherlands, Switzerland, Germany\", \"Languages\": \"English, Icelandic, French\", \"Budget\": \"$300,000,000 (estimated)\", \"Worldwide Gross\": null, \"Runtime\": \"4 hours 2 minutes\", \"Runtime (minutes)\": 242, \"Budget (usd)\": 300000000, \"Worldwide Gross (usd)\": null, \"Profit (usd)\": null}, {\"Title\": \"Mission: Impossible - Dead Reckoning Part One\", \"Rating\": 7.7, \"Director\": \"Christopher McQuarrie\", \"Writer\": \"Bruce Geller, Christopher McQuarrie, Erik Jendresen\", \"Metascore\": 81.0, \"Cast\": \"Tom Cruise, Hayley Atwell, Ving Rhames, Simon Pegg, Rebecca Ferguson, Vanessa Kirby, Esai Morales, Pom Klementieff, Henry Czerny, Shea Whigham, Greg Tarzan Davis, Frederick Schmidt, Mariela Garriga, Cary Elwes, Charles Parnell, Mark Gatiss, Indira Varma, Rob Delaney\", \"Release Date\": \"July 12, 2023 (India)\", \"Country of Origin\": \"United States\", \"Languages\": \"English, French, Italian, Russian\", \"Budget\": \"$291,000,000 (estimated)\", \"Worldwide Gross\": \"$570,619,838\", \"Runtime\": \"2 hours 43 minutes\", \"Runtime (minutes)\": 163, \"Budget (usd)\": 291000000, \"Worldwide Gross (usd)\": 570619838, \"Profit (usd)\": 279619838}, {\"Title\": \"Tangled\", \"Rating\": 7.7, \"Director\": \"Nathan Greno, Byron Howard\", \"Writer\": \"Dan Fogelman, Jacob Grimm, Wilhelm Grimm\", \"Metascore\": 71.0, \"Cast\": \"Mandy Moore, Zachary Levi, Donna Murphy, Ron Perlman, M.C. Gainey, Jeffrey Tambor, Brad Garrett, Paul F. Tompkins, Richard Kiel, Delaney Rose Stein, Nathan Greno, Byron Howard, Tim Mertens, Michael Bell, Bob Bergen, Susanne Blakeslee, June Christopher, Roy Conli\", \"Release Date\": \"January 21, 2011 (India)\", \"Country of Origin\": \"United States, Japan\", \"Languages\": \"English, German\", \"Budget\": \"$260,000,000 (estimated)\", \"Worldwide Gross\": \"$591,806,017\", \"Runtime\": \"1 hour 40 minutes\", \"Runtime (minutes)\": 100, \"Budget (usd)\": 260000000, \"Worldwide Gross (usd)\": 591806017, \"Profit (usd)\": 331806017}, {\"Title\": \"The Dark Knight Rises\", \"Rating\": 8.4, \"Director\": \"Christopher Nolan\", \"Writer\": \"Jonathan Nolan, Christopher Nolan, David S. Goyer\", \"Metascore\": 78.0, \"Cast\": \"Christian Bale, Tom Hardy, Anne Hathaway, Gary Oldman, Joseph Gordon-Levitt, Marion Cotillard, Morgan Freeman, Michael Caine, Matthew Modine, Alon Aboutboul, Ben Mendelsohn, Burn Gorman, Daniel Sunjata, Aidan Gillen, Sam Kennard, Aliash Tepina, Nestor Carbonell, Brett Cullen\", \"Release Date\": \"July 20, 2012 (India)\", \"Country of Origin\": \"United States, United Kingdom\", \"Languages\": \"English, Arabic\", \"Budget\": \"$250,000,000 (estimated)\", \"Worldwide Gross\": \"$1,114,975,066\", \"Runtime\": \"2 hours 44 minutes\", \"Runtime (minutes)\": 164, \"Budget (usd)\": 250000000, \"Worldwide Gross (usd)\": 1114975066, \"Profit (usd)\": 864975066}, {\"Title\": \"Guardians of the Galaxy Vol. 3\", \"Rating\": 7.9, \"Director\": \"James Gunn\", \"Writer\": \"James Gunn, Jim Starlin, Stan Lee\", \"Metascore\": 64.0, \"Cast\": \"Chris Pratt, Chukwudi Iwuji, Bradley Cooper, Pom Klementieff, Dave Bautista, Karen Gillan, Vin Diesel, Austin Freeman, Stephen Blackehart, Terence Rosemore, Maria Bakalova, Sean Gunn, Sarah Alami, Jasmine Munoz, Giovannie Cruz, Will Poulter, Nico Santos, Miriam Shor\", \"Release Date\": \"May 5, 2023 (India)\", \"Country of Origin\": \"United States, New Zealand, France, Canada\", \"Languages\": \"English\", \"Budget\": \"$250,000,000 (estimated)\", \"Worldwide Gross\": \"$845,555,777\", \"Runtime\": \"2 hours 30 minutes\", \"Runtime (minutes)\": 150, \"Budget (usd)\": 250000000, \"Worldwide Gross (usd)\": 845555777, \"Profit (usd)\": 595555777}, {\"Title\": \"Captain America: Civil War\", \"Rating\": 7.8, \"Director\": \"Anthony Russo, Joe Russo\", \"Writer\": \"Christopher Markus, Stephen McFeely, Joe Simon\", \"Metascore\": 75.0, \"Cast\": \"Chris Evans, Robert Downey Jr., Scarlett Johansson, Sebastian Stan, Anthony Mackie, Don Cheadle, Jeremy Renner, Chadwick Boseman, Paul Bettany, Elizabeth Olsen, Paul Rudd, Emily VanCamp, Tom Holland, Daniel Br\\u00fchl, Frank Grillo, William Hurt, Martin Freeman, Marisa Tomei\", \"Release Date\": \"May 6, 2016 (India)\", \"Country of Origin\": \"United States, Germany\", \"Languages\": \"English, German, Xhosa, Russian, Romanian\", \"Budget\": \"$250,000,000 (estimated)\", \"Worldwide Gross\": \"$1,155,046,416\", \"Runtime\": \"2 hours 27 minutes\", \"Runtime (minutes)\": 147, \"Budget (usd)\": 250000000, \"Worldwide Gross (usd)\": 1155046416, \"Profit (usd)\": 905046416}]}}, {\"mode\": \"vega-lite\"});\n",
       "</script>"
      ],
      "text/plain": [
       "alt.Chart(...)"
      ]
     },
     "execution_count": 91,
     "metadata": {},
     "output_type": "execute_result"
    }
   ],
   "source": [
    "# vega-altair under the hood https://altair-viz.github.io/getting_started/overview.html\n",
    "highest_budget.plot.scatter(\n",
    "    x=\"Runtime (minutes)\", y=\"Budget (usd)\", color=\"Profit (usd)\"\n",
    ").properties(width=400, height=400, title=\"Irises\").configure_range(\n",
    "    ramp=\"diverging\",\n",
    ")"
   ]
  },
  {
   "cell_type": "code",
   "execution_count": 92,
   "metadata": {},
   "outputs": [
    {
     "data": {
      "text/html": [
       "<div><style>\n",
       ".dataframe > thead > tr,\n",
       ".dataframe > tbody > tr {\n",
       "  text-align: right;\n",
       "  white-space: pre-wrap;\n",
       "}\n",
       "</style>\n",
       "<small>shape: (22, 16)</small><table border=\"1\" class=\"dataframe\"><thead><tr><th>Title</th><th>Rating</th><th>Director</th><th>Writer</th><th>Metascore</th><th>Cast</th><th>Release Date</th><th>Country of Origin</th><th>Languages</th><th>Budget</th><th>Worldwide Gross</th><th>Runtime</th><th>Runtime (minutes)</th><th>Budget (usd)</th><th>Worldwide Gross (usd)</th><th>Profit (usd)</th></tr><tr><td>str</td><td>f64</td><td>str</td><td>str</td><td>f64</td><td>str</td><td>str</td><td>str</td><td>str</td><td>str</td><td>str</td><td>str</td><td>i64</td><td>i64</td><td>i64</td><td>i64</td></tr></thead><tbody><tr><td>&quot;Pirates of the Caribbean: The …</td><td>8.1</td><td>&quot;Gore Verbinski&quot;</td><td>&quot;Ted Elliott, Terry Rossio, Stu…</td><td>63.0</td><td>&quot;Johnny Depp, Geoffrey Rush, Or…</td><td>&quot;August 15, 2003 (India)&quot;</td><td>&quot;United States&quot;</td><td>&quot;English&quot;</td><td>&quot;$140,000,000 (estimated)&quot;</td><td>&quot;$654,264,546&quot;</td><td>&quot;2 hours 23 minutes&quot;</td><td>143</td><td>140000000</td><td>654264546</td><td>514264546</td></tr><tr><td>&quot;Platoon&quot;</td><td>8.1</td><td>&quot;Oliver Stone&quot;</td><td>&quot;Oliver Stone&quot;</td><td>92.0</td><td>&quot;Charlie Sheen, Tom Berenger, W…</td><td>&quot;February 13, 1989 (India)&quot;</td><td>&quot;United States, United Kingdom&quot;</td><td>&quot;English, Vietnamese&quot;</td><td>&quot;$6,000,000 (estimated)&quot;</td><td>&quot;$138,545,632&quot;</td><td>&quot;2 hours&quot;</td><td>120</td><td>6000000</td><td>138545632</td><td>132545632</td></tr><tr><td>&quot;Edward Scissorhands&quot;</td><td>7.9</td><td>&quot;Tim Burton&quot;</td><td>&quot;Tim Burton, Caroline Thompson&quot;</td><td>74.0</td><td>&quot;Johnny Depp, Winona Ryder, Dia…</td><td>&quot;January 1, 1992 (India)&quot;</td><td>&quot;United States&quot;</td><td>&quot;English&quot;</td><td>&quot;$20,000,000 (estimated)&quot;</td><td>&quot;$86,024,005&quot;</td><td>&quot;1 hour 45 minutes&quot;</td><td>105</td><td>20000000</td><td>86024005</td><td>66024005</td></tr><tr><td>&quot;Ed Wood&quot;</td><td>7.8</td><td>&quot;Tim Burton&quot;</td><td>&quot;Rudolph Grey, Scott Alexander,…</td><td>71.0</td><td>&quot;Johnny Depp, Martin Landau, Sa…</td><td>&quot;1994 (India)&quot;</td><td>&quot;United States&quot;</td><td>&quot;English&quot;</td><td>&quot;$18,000,000 (estimated)&quot;</td><td>&quot;$5,888,045&quot;</td><td>&quot;2 hours 7 minutes&quot;</td><td>127</td><td>18000000</td><td>5888045</td><td>-12111955</td></tr><tr><td>&quot;What&#x27;s Eating Gilbert Grape&quot;</td><td>7.7</td><td>&quot;Lasse Hallström&quot;</td><td>&quot;Peter Hedges&quot;</td><td>73.0</td><td>&quot;Johnny Depp, Leonardo DiCaprio…</td><td>&quot;March 4, 1994 (United States)&quot;</td><td>&quot;United States&quot;</td><td>&quot;English&quot;</td><td>&quot;$11,000,000 (estimated)&quot;</td><td>&quot;$10,032,765&quot;</td><td>&quot;1 hour 58 minutes&quot;</td><td>118</td><td>11000000</td><td>10032765</td><td>-967235</td></tr><tr><td>&hellip;</td><td>&hellip;</td><td>&hellip;</td><td>&hellip;</td><td>&hellip;</td><td>&hellip;</td><td>&hellip;</td><td>&hellip;</td><td>&hellip;</td><td>&hellip;</td><td>&hellip;</td><td>&hellip;</td><td>&hellip;</td><td>&hellip;</td><td>&hellip;</td><td>&hellip;</td></tr><tr><td>&quot;Rango&quot;</td><td>7.3</td><td>&quot;Gore Verbinski&quot;</td><td>&quot;John Logan, Gore Verbinski, Ja…</td><td>75.0</td><td>&quot;Johnny Depp, Isla Fisher, Timo…</td><td>&quot;April 20, 2011 (India)&quot;</td><td>&quot;United States, United Kingdom&quot;</td><td>&quot;English&quot;</td><td>&quot;$135,000,000 (estimated)&quot;</td><td>&quot;$245,724,603&quot;</td><td>&quot;1 hour 47 minutes&quot;</td><td>107</td><td>135000000</td><td>245724603</td><td>110724603</td></tr><tr><td>&quot;Lost in La Mancha&quot;</td><td>7.3</td><td>&quot;Keith Fulton, Louis Pepe&quot;</td><td>&quot;Keith Fulton, Louis Pepe&quot;</td><td>75.0</td><td>&quot;Terry Gilliam, Johnny Depp, Je…</td><td>&quot;August 2, 2002 (United Kingdom…</td><td>&quot;United Kingdom, United States&quot;</td><td>&quot;English, Spanish, French&quot;</td><td>null</td><td>&quot;$1,407,019&quot;</td><td>&quot;1 hour 33 minutes&quot;</td><td>93</td><td>null</td><td>1407019</td><td>null</td></tr><tr><td>&quot;Chocolat&quot;</td><td>7.2</td><td>&quot;Lasse Hallström&quot;</td><td>&quot;Joanne Harris, Robert Nelson J…</td><td>64.0</td><td>&quot;Juliette Binoche, Johnny Depp,…</td><td>&quot;August 1, 2021 (India)&quot;</td><td>&quot;United Kingdom, United States&quot;</td><td>&quot;English, French&quot;</td><td>&quot;$25,000,000 (estimated)&quot;</td><td>&quot;$152,700,626&quot;</td><td>&quot;2 hours 1 minute&quot;</td><td>120</td><td>25000000</td><td>152700626</td><td>127700626</td></tr><tr><td>&quot;Arizona Dream&quot;</td><td>7.2</td><td>&quot;Emir Kusturica&quot;</td><td>&quot;David Atkins, Emir Kusturica&quot;</td><td>62.0</td><td>&quot;Johnny Depp, Jerry Lewis, Faye…</td><td>&quot;January 6, 1993 (France)&quot;</td><td>&quot;France, United States&quot;</td><td>&quot;English, Spanish, Inuktitut&quot;</td><td>&quot;$19,000,000 (estimated)&quot;</td><td>&quot;$112,547&quot;</td><td>&quot;2 hours 22 minutes&quot;</td><td>142</td><td>19000000</td><td>112547</td><td>-18887453</td></tr><tr><td>&quot;Yamawatta&quot;</td><td>7.2</td><td>&quot;Andrew Levitas&quot;</td><td>&quot;David Kessler, Stephen Deuters…</td><td>55.0</td><td>&quot;Akiko Iwase, Kogarashi Wakasug…</td><td>&quot;April 8, 2021 (United Arab Emi…</td><td>&quot;United Kingdom, United States,…</td><td>&quot;English, Japanese, Persian&quot;</td><td>null</td><td>&quot;$755,878&quot;</td><td>&quot;1 hour 55 minutes&quot;</td><td>115</td><td>null</td><td>755878</td><td>null</td></tr></tbody></table></div>"
      ],
      "text/plain": [
       "shape: (22, 16)\n",
       "┌────────────┬────────┬────────────┬───────────┬───┬───────────┬───────────┬───────────┬───────────┐\n",
       "│ Title      ┆ Rating ┆ Director   ┆ Writer    ┆ … ┆ Runtime   ┆ Budget    ┆ Worldwide ┆ Profit    │\n",
       "│ ---        ┆ ---    ┆ ---        ┆ ---       ┆   ┆ (minutes) ┆ (usd)     ┆ Gross     ┆ (usd)     │\n",
       "│ str        ┆ f64    ┆ str        ┆ str       ┆   ┆ ---       ┆ ---       ┆ (usd)     ┆ ---       │\n",
       "│            ┆        ┆            ┆           ┆   ┆ i64       ┆ i64       ┆ ---       ┆ i64       │\n",
       "│            ┆        ┆            ┆           ┆   ┆           ┆           ┆ i64       ┆           │\n",
       "╞════════════╪════════╪════════════╪═══════════╪═══╪═══════════╪═══════════╪═══════════╪═══════════╡\n",
       "│ Pirates of ┆ 8.1    ┆ Gore       ┆ Ted       ┆ … ┆ 143       ┆ 140000000 ┆ 654264546 ┆ 514264546 │\n",
       "│ the        ┆        ┆ Verbinski  ┆ Elliott,  ┆   ┆           ┆           ┆           ┆           │\n",
       "│ Caribbean: ┆        ┆            ┆ Terry     ┆   ┆           ┆           ┆           ┆           │\n",
       "│ The …      ┆        ┆            ┆ Rossio,   ┆   ┆           ┆           ┆           ┆           │\n",
       "│            ┆        ┆            ┆ Stu…      ┆   ┆           ┆           ┆           ┆           │\n",
       "│ Platoon    ┆ 8.1    ┆ Oliver     ┆ Oliver    ┆ … ┆ 120       ┆ 6000000   ┆ 138545632 ┆ 132545632 │\n",
       "│            ┆        ┆ Stone      ┆ Stone     ┆   ┆           ┆           ┆           ┆           │\n",
       "│ Edward Sci ┆ 7.9    ┆ Tim Burton ┆ Tim       ┆ … ┆ 105       ┆ 20000000  ┆ 86024005  ┆ 66024005  │\n",
       "│ ssorhands  ┆        ┆            ┆ Burton,   ┆   ┆           ┆           ┆           ┆           │\n",
       "│            ┆        ┆            ┆ Caroline  ┆   ┆           ┆           ┆           ┆           │\n",
       "│            ┆        ┆            ┆ Thompson  ┆   ┆           ┆           ┆           ┆           │\n",
       "│ Ed Wood    ┆ 7.8    ┆ Tim Burton ┆ Rudolph   ┆ … ┆ 127       ┆ 18000000  ┆ 5888045   ┆ -12111955 │\n",
       "│            ┆        ┆            ┆ Grey,     ┆   ┆           ┆           ┆           ┆           │\n",
       "│            ┆        ┆            ┆ Scott Ale ┆   ┆           ┆           ┆           ┆           │\n",
       "│            ┆        ┆            ┆ xander,…  ┆   ┆           ┆           ┆           ┆           │\n",
       "│ What's     ┆ 7.7    ┆ Lasse      ┆ Peter     ┆ … ┆ 118       ┆ 11000000  ┆ 10032765  ┆ -967235   │\n",
       "│ Eating     ┆        ┆ Hallström  ┆ Hedges    ┆   ┆           ┆           ┆           ┆           │\n",
       "│ Gilbert    ┆        ┆            ┆           ┆   ┆           ┆           ┆           ┆           │\n",
       "│ Grape      ┆        ┆            ┆           ┆   ┆           ┆           ┆           ┆           │\n",
       "│ …          ┆ …      ┆ …          ┆ …         ┆ … ┆ …         ┆ …         ┆ …         ┆ …         │\n",
       "│ Rango      ┆ 7.3    ┆ Gore       ┆ John      ┆ … ┆ 107       ┆ 135000000 ┆ 245724603 ┆ 110724603 │\n",
       "│            ┆        ┆ Verbinski  ┆ Logan,    ┆   ┆           ┆           ┆           ┆           │\n",
       "│            ┆        ┆            ┆ Gore Verb ┆   ┆           ┆           ┆           ┆           │\n",
       "│            ┆        ┆            ┆ inski,    ┆   ┆           ┆           ┆           ┆           │\n",
       "│            ┆        ┆            ┆ Ja…       ┆   ┆           ┆           ┆           ┆           │\n",
       "│ Lost in La ┆ 7.3    ┆ Keith      ┆ Keith     ┆ … ┆ 93        ┆ null      ┆ 1407019   ┆ null      │\n",
       "│ Mancha     ┆        ┆ Fulton,    ┆ Fulton,   ┆   ┆           ┆           ┆           ┆           │\n",
       "│            ┆        ┆ Louis Pepe ┆ Louis     ┆   ┆           ┆           ┆           ┆           │\n",
       "│            ┆        ┆            ┆ Pepe      ┆   ┆           ┆           ┆           ┆           │\n",
       "│ Chocolat   ┆ 7.2    ┆ Lasse      ┆ Joanne    ┆ … ┆ 120       ┆ 25000000  ┆ 152700626 ┆ 127700626 │\n",
       "│            ┆        ┆ Hallström  ┆ Harris,   ┆   ┆           ┆           ┆           ┆           │\n",
       "│            ┆        ┆            ┆ Robert    ┆   ┆           ┆           ┆           ┆           │\n",
       "│            ┆        ┆            ┆ Nelson J… ┆   ┆           ┆           ┆           ┆           │\n",
       "│ Arizona    ┆ 7.2    ┆ Emir       ┆ David     ┆ … ┆ 142       ┆ 19000000  ┆ 112547    ┆ -18887453 │\n",
       "│ Dream      ┆        ┆ Kusturica  ┆ Atkins,   ┆   ┆           ┆           ┆           ┆           │\n",
       "│            ┆        ┆            ┆ Emir      ┆   ┆           ┆           ┆           ┆           │\n",
       "│            ┆        ┆            ┆ Kusturica ┆   ┆           ┆           ┆           ┆           │\n",
       "│ Yamawatta  ┆ 7.2    ┆ Andrew     ┆ David     ┆ … ┆ 115       ┆ null      ┆ 755878    ┆ null      │\n",
       "│            ┆        ┆ Levitas    ┆ Kessler,  ┆   ┆           ┆           ┆           ┆           │\n",
       "│            ┆        ┆            ┆ Stephen   ┆   ┆           ┆           ┆           ┆           │\n",
       "│            ┆        ┆            ┆ Deuters…  ┆   ┆           ┆           ┆           ┆           │\n",
       "└────────────┴────────┴────────────┴───────────┴───┴───────────┴───────────┴───────────┴───────────┘"
      ]
     },
     "execution_count": 92,
     "metadata": {},
     "output_type": "execute_result"
    }
   ],
   "source": [
    "df.filter(pl.col(\"Cast\").str.contains(\"Johnny Depp\"))"
   ]
  },
  {
   "cell_type": "code",
   "execution_count": 95,
   "metadata": {},
   "outputs": [
    {
     "data": {
      "text/html": [
       "<div><style>\n",
       ".dataframe > thead > tr,\n",
       ".dataframe > tbody > tr {\n",
       "  text-align: right;\n",
       "  white-space: pre-wrap;\n",
       "}\n",
       "</style>\n",
       "<small>shape: (10, 2)</small><table border=\"1\" class=\"dataframe\"><thead><tr><th>Director</th><th>total_gross</th></tr><tr><td>str</td><td>i64</td></tr></thead><tbody><tr><td>&quot;James Cameron&quot;</td><td>8705319635</td></tr><tr><td>&quot;Steven Spielberg&quot;</td><td>7988558298</td></tr><tr><td>&quot;Anthony Russo, Joe Russo&quot;</td><td>6721322058</td></tr><tr><td>&quot;Peter Jackson&quot;</td><td>6484962056</td></tr><tr><td>&quot;Christopher Nolan&quot;</td><td>6205459936</td></tr><tr><td>&quot;David Yates&quot;</td><td>5003353447</td></tr><tr><td>&quot;Jon Watts&quot;</td><td>3966372984</td></tr><tr><td>&quot;Joss Whedon&quot;</td><td>2966001713</td></tr><tr><td>&quot;J.J. Abrams&quot;</td><td>2924357232</td></tr><tr><td>&quot;Robert Zemeckis&quot;</td><td>2793892268</td></tr></tbody></table></div>"
      ],
      "text/plain": [
       "shape: (10, 2)\n",
       "┌──────────────────────────┬─────────────┐\n",
       "│ Director                 ┆ total_gross │\n",
       "│ ---                      ┆ ---         │\n",
       "│ str                      ┆ i64         │\n",
       "╞══════════════════════════╪═════════════╡\n",
       "│ James Cameron            ┆ 8705319635  │\n",
       "│ Steven Spielberg         ┆ 7988558298  │\n",
       "│ Anthony Russo, Joe Russo ┆ 6721322058  │\n",
       "│ Peter Jackson            ┆ 6484962056  │\n",
       "│ Christopher Nolan        ┆ 6205459936  │\n",
       "│ David Yates              ┆ 5003353447  │\n",
       "│ Jon Watts                ┆ 3966372984  │\n",
       "│ Joss Whedon              ┆ 2966001713  │\n",
       "│ J.J. Abrams              ┆ 2924357232  │\n",
       "│ Robert Zemeckis          ┆ 2793892268  │\n",
       "└──────────────────────────┴─────────────┘"
      ]
     },
     "execution_count": 95,
     "metadata": {},
     "output_type": "execute_result"
    }
   ],
   "source": [
    "df.group_by(\"Director\").agg(total_gross=pl.col(\"Worldwide Gross (usd)\").sum()).sort(\n",
    "    by=\"total_gross\", descending=True\n",
    ")[:10]"
   ]
  },
  {
   "cell_type": "code",
   "execution_count": 96,
   "metadata": {},
   "outputs": [
    {
     "data": {
      "text/html": [
       "<div><style>\n",
       ".dataframe > thead > tr,\n",
       ".dataframe > tbody > tr {\n",
       "  text-align: right;\n",
       "  white-space: pre-wrap;\n",
       "}\n",
       "</style>\n",
       "<small>shape: (5, 3)</small><table border=\"1\" class=\"dataframe\"><thead><tr><th>Release Date</th><th>Year</th><th>Decade</th></tr><tr><td>str</td><td>i64</td><td>i64</td></tr></thead><tbody><tr><td>&quot;October 14, 1994 (India)&quot;</td><td>1994</td><td>1990</td></tr><tr><td>&quot;November 8, 2024 (Japan)&quot;</td><td>2024</td><td>2020</td></tr><tr><td>&quot;1978 (India)&quot;</td><td>1978</td><td>1980</td></tr><tr><td>&quot;April 1, 1975 (Turkey)&quot;</td><td>1975</td><td>1980</td></tr><tr><td>&quot;September 25, 2001 (India)&quot;</td><td>2001</td><td>2000</td></tr></tbody></table></div>"
      ],
      "text/plain": [
       "shape: (5, 3)\n",
       "┌────────────────────────────┬──────┬────────┐\n",
       "│ Release Date               ┆ Year ┆ Decade │\n",
       "│ ---                        ┆ ---  ┆ ---    │\n",
       "│ str                        ┆ i64  ┆ i64    │\n",
       "╞════════════════════════════╪══════╪════════╡\n",
       "│ October 14, 1994 (India)   ┆ 1994 ┆ 1990   │\n",
       "│ November 8, 2024 (Japan)   ┆ 2024 ┆ 2020   │\n",
       "│ 1978 (India)               ┆ 1978 ┆ 1980   │\n",
       "│ April 1, 1975 (Turkey)     ┆ 1975 ┆ 1980   │\n",
       "│ September 25, 2001 (India) ┆ 2001 ┆ 2000   │\n",
       "└────────────────────────────┴──────┴────────┘"
      ]
     },
     "execution_count": 96,
     "metadata": {},
     "output_type": "execute_result"
    }
   ],
   "source": [
    "df = df.with_columns(\n",
    "    pl.col(\"Release Date\")\n",
    "    .map_elements(lambda x: int(re.search(r\"\\d{4}\", x).group()), return_dtype=int)\n",
    "    .alias(\"Year\")\n",
    ")\n",
    "df = df.with_columns(\n",
    "    pl.col(\"Year\")\n",
    "    .map_elements(lambda x: round(x, -1), return_dtype=int)\n",
    "    .alias(\"Decade\")\n",
    ")\n",
    "df[[\"Release Date\", \"Year\", \"Decade\"]].head()"
   ]
  },
  {
   "cell_type": "code",
   "execution_count": 97,
   "metadata": {},
   "outputs": [],
   "source": [
    "df.write_parquet(\"polars_parquet\", partition_by=\"Decade\")"
   ]
  },
  {
   "cell_type": "code",
   "execution_count": 98,
   "metadata": {},
   "outputs": [
    {
     "data": {
      "text/html": [
       "<div><style>\n",
       ".dataframe > thead > tr,\n",
       ".dataframe > tbody > tr {\n",
       "  text-align: right;\n",
       "  white-space: pre-wrap;\n",
       "}\n",
       "</style>\n",
       "<small>shape: (5, 18)</small><table border=\"1\" class=\"dataframe\"><thead><tr><th>Title</th><th>Rating</th><th>Director</th><th>Writer</th><th>Metascore</th><th>Cast</th><th>Release Date</th><th>Country of Origin</th><th>Languages</th><th>Budget</th><th>Worldwide Gross</th><th>Runtime</th><th>Runtime (minutes)</th><th>Budget (usd)</th><th>Worldwide Gross (usd)</th><th>Profit (usd)</th><th>Year</th><th>Decade</th></tr><tr><td>str</td><td>f64</td><td>str</td><td>str</td><td>f64</td><td>str</td><td>str</td><td>str</td><td>str</td><td>str</td><td>str</td><td>str</td><td>i64</td><td>i64</td><td>i64</td><td>i64</td><td>i64</td><td>i64</td></tr></thead><tbody><tr><td>&quot;The Shawshank Redemption&quot;</td><td>9.3</td><td>&quot;Frank Darabont&quot;</td><td>&quot;Stephen King, Frank Darabont&quot;</td><td>82.0</td><td>&quot;Tim Robbins, Morgan Freeman, B…</td><td>&quot;October 14, 1994 (India)&quot;</td><td>&quot;United States&quot;</td><td>&quot;English&quot;</td><td>&quot;$25,000,000 (estimated)&quot;</td><td>&quot;$29,332,133&quot;</td><td>&quot;2 hours 22 minutes&quot;</td><td>142</td><td>25000000</td><td>29332133</td><td>4332133</td><td>1994</td><td>1990</td></tr><tr><td>&quot;The Dark Knight&quot;</td><td>9.0</td><td>&quot;Christopher Nolan&quot;</td><td>&quot;Jonathan Nolan, Christopher No…</td><td>84.0</td><td>&quot;Christian Bale, Heath Ledger, …</td><td>&quot;July 18, 2008 (India)&quot;</td><td>&quot;United States, United Kingdom&quot;</td><td>&quot;English, Mandarin&quot;</td><td>&quot;$185,000,000 (estimated)&quot;</td><td>&quot;$1,009,053,678&quot;</td><td>&quot;2 hours 32 minutes&quot;</td><td>152</td><td>185000000</td><td>1009053678</td><td>824053678</td><td>2008</td><td>2010</td></tr><tr><td>&quot;Se7en&quot;</td><td>8.6</td><td>&quot;David Fincher&quot;</td><td>&quot;Andrew Kevin Walker&quot;</td><td>65.0</td><td>&quot;Morgan Freeman, Brad Pitt, Kev…</td><td>&quot;September 22, 1995 (India)&quot;</td><td>&quot;United States&quot;</td><td>&quot;English&quot;</td><td>&quot;$33,000,000 (estimated)&quot;</td><td>&quot;$327,333,559&quot;</td><td>&quot;2 hours 7 minutes&quot;</td><td>127</td><td>33000000</td><td>327333559</td><td>294333559</td><td>1995</td><td>2000</td></tr><tr><td>&quot;Back to the Future&quot;</td><td>8.5</td><td>&quot;Robert Zemeckis&quot;</td><td>&quot;Robert Zemeckis, Bob Gale&quot;</td><td>87.0</td><td>&quot;Michael J. Fox, Christopher Ll…</td><td>&quot;December 9, 1986 (India)&quot;</td><td>&quot;United States&quot;</td><td>&quot;English&quot;</td><td>&quot;$19,000,000 (estimated)&quot;</td><td>&quot;$384,577,472&quot;</td><td>&quot;1 hour 56 minutes&quot;</td><td>116</td><td>19000000</td><td>384577472</td><td>365577472</td><td>1986</td><td>1990</td></tr><tr><td>&quot;The Dark Knight Rises&quot;</td><td>8.4</td><td>&quot;Christopher Nolan&quot;</td><td>&quot;Jonathan Nolan, Christopher No…</td><td>78.0</td><td>&quot;Christian Bale, Tom Hardy, Ann…</td><td>&quot;July 20, 2012 (India)&quot;</td><td>&quot;United States, United Kingdom&quot;</td><td>&quot;English, Arabic&quot;</td><td>&quot;$250,000,000 (estimated)&quot;</td><td>&quot;$1,114,975,066&quot;</td><td>&quot;2 hours 44 minutes&quot;</td><td>164</td><td>250000000</td><td>1114975066</td><td>864975066</td><td>2012</td><td>2010</td></tr></tbody></table></div>"
      ],
      "text/plain": [
       "shape: (5, 18)\n",
       "┌─────────────┬────────┬─────────────┬─────────────┬───┬─────────────┬─────────────┬──────┬────────┐\n",
       "│ Title       ┆ Rating ┆ Director    ┆ Writer      ┆ … ┆ Worldwide   ┆ Profit      ┆ Year ┆ Decade │\n",
       "│ ---         ┆ ---    ┆ ---         ┆ ---         ┆   ┆ Gross (usd) ┆ (usd)       ┆ ---  ┆ ---    │\n",
       "│ str         ┆ f64    ┆ str         ┆ str         ┆   ┆ ---         ┆ ---         ┆ i64  ┆ i64    │\n",
       "│             ┆        ┆             ┆             ┆   ┆ i64         ┆ i64         ┆      ┆        │\n",
       "╞═════════════╪════════╪═════════════╪═════════════╪═══╪═════════════╪═════════════╪══════╪════════╡\n",
       "│ The         ┆ 9.3    ┆ Frank       ┆ Stephen     ┆ … ┆ 29332133    ┆ 4332133     ┆ 1994 ┆ 1990   │\n",
       "│ Shawshank   ┆        ┆ Darabont    ┆ King, Frank ┆   ┆             ┆             ┆      ┆        │\n",
       "│ Redemption  ┆        ┆             ┆ Darabont    ┆   ┆             ┆             ┆      ┆        │\n",
       "│ The Dark    ┆ 9.0    ┆ Christopher ┆ Jonathan    ┆ … ┆ 1009053678  ┆ 824053678   ┆ 2008 ┆ 2010   │\n",
       "│ Knight      ┆        ┆ Nolan       ┆ Nolan,      ┆   ┆             ┆             ┆      ┆        │\n",
       "│             ┆        ┆             ┆ Christopher ┆   ┆             ┆             ┆      ┆        │\n",
       "│             ┆        ┆             ┆ No…         ┆   ┆             ┆             ┆      ┆        │\n",
       "│ Se7en       ┆ 8.6    ┆ David       ┆ Andrew      ┆ … ┆ 327333559   ┆ 294333559   ┆ 1995 ┆ 2000   │\n",
       "│             ┆        ┆ Fincher     ┆ Kevin       ┆   ┆             ┆             ┆      ┆        │\n",
       "│             ┆        ┆             ┆ Walker      ┆   ┆             ┆             ┆      ┆        │\n",
       "│ Back to the ┆ 8.5    ┆ Robert      ┆ Robert      ┆ … ┆ 384577472   ┆ 365577472   ┆ 1986 ┆ 1990   │\n",
       "│ Future      ┆        ┆ Zemeckis    ┆ Zemeckis,   ┆   ┆             ┆             ┆      ┆        │\n",
       "│             ┆        ┆             ┆ Bob Gale    ┆   ┆             ┆             ┆      ┆        │\n",
       "│ The Dark    ┆ 8.4    ┆ Christopher ┆ Jonathan    ┆ … ┆ 1114975066  ┆ 864975066   ┆ 2012 ┆ 2010   │\n",
       "│ Knight      ┆        ┆ Nolan       ┆ Nolan,      ┆   ┆             ┆             ┆      ┆        │\n",
       "│ Rises       ┆        ┆             ┆ Christopher ┆   ┆             ┆             ┆      ┆        │\n",
       "│             ┆        ┆             ┆ No…         ┆   ┆             ┆             ┆      ┆        │\n",
       "└─────────────┴────────┴─────────────┴─────────────┴───┴─────────────┴─────────────┴──────┴────────┘"
      ]
     },
     "execution_count": 98,
     "metadata": {},
     "output_type": "execute_result"
    }
   ],
   "source": [
    "# https://docs.pola.rs/user-guide/sql/intro/#register-dataframes\n",
    "# Polars translates SQL queries into expressions, which are then executed using its own engine\n",
    "query = \"\"\"\n",
    "    SELECT * FROM df\n",
    "    WHERE REGEXP_LIKE(`Cast`, '.*Freeman.*')\n",
    "\"\"\"\n",
    "pl.sql(query).collect().head()"
   ]
  },
  {
   "cell_type": "code",
   "execution_count": 99,
   "metadata": {},
   "outputs": [
    {
     "data": {
      "text/html": [
       "<div><style>\n",
       ".dataframe > thead > tr,\n",
       ".dataframe > tbody > tr {\n",
       "  text-align: right;\n",
       "  white-space: pre-wrap;\n",
       "}\n",
       "</style>\n",
       "<small>shape: (6, 5)</small><table border=\"1\" class=\"dataframe\"><thead><tr><th>id</th><th>created_at</th><th>updated_at</th><th>uploaded_at</th><th>data</th></tr><tr><td>i32</td><td>datetime[μs, UTC]</td><td>datetime[μs, UTC]</td><td>datetime[μs, UTC]</td><td>str</td></tr></thead><tbody><tr><td>1</td><td>2025-01-08 11:50:01 UTC</td><td>2025-01-08 11:50:01 UTC</td><td>2025-01-08 12:00:00 UTC</td><td>&quot;some string&quot;</td></tr><tr><td>2</td><td>2025-01-08 11:50:15 UTC</td><td>2025-01-08 11:50:15 UTC</td><td>2025-01-08 12:00:00 UTC</td><td>&quot;some other string&quot;</td></tr><tr><td>3</td><td>2025-01-08 11:51:06 UTC</td><td>2025-01-08 11:52:31 UTC</td><td>2025-01-08 12:00:00 UTC</td><td>&quot;other string&quot;</td></tr><tr><td>4</td><td>2025-01-08 11:52:01 UTC</td><td>2025-01-08 12:11:01 UTC</td><td>2025-01-08 12:00:00 UTC</td><td>&quot;changed order&quot;</td></tr><tr><td>5</td><td>2025-01-08 11:52:15 UTC</td><td>2025-01-08 11:52:15 UTC</td><td>2025-01-08 12:00:00 UTC</td><td>&quot;another string&quot;</td></tr><tr><td>6</td><td>2025-01-08 11:52:26 UTC</td><td>2025-01-08 11:54:31 UTC</td><td>2025-01-08 12:00:00 UTC</td><td>&quot;yolo string&quot;</td></tr></tbody></table></div>"
      ],
      "text/plain": [
       "shape: (6, 5)\n",
       "┌─────┬────────────────────────┬───────────────────────┬───────────────────────┬───────────────────┐\n",
       "│ id  ┆ created_at             ┆ updated_at            ┆ uploaded_at           ┆ data              │\n",
       "│ --- ┆ ---                    ┆ ---                   ┆ ---                   ┆ ---               │\n",
       "│ i32 ┆ datetime[μs, UTC]      ┆ datetime[μs, UTC]     ┆ datetime[μs, UTC]     ┆ str               │\n",
       "╞═════╪════════════════════════╪═══════════════════════╪═══════════════════════╪═══════════════════╡\n",
       "│ 1   ┆ 2025-01-08 11:50:01    ┆ 2025-01-08 11:50:01   ┆ 2025-01-08 12:00:00   ┆ some string       │\n",
       "│     ┆ UTC                    ┆ UTC                   ┆ UTC                   ┆                   │\n",
       "│ 2   ┆ 2025-01-08 11:50:15    ┆ 2025-01-08 11:50:15   ┆ 2025-01-08 12:00:00   ┆ some other string │\n",
       "│     ┆ UTC                    ┆ UTC                   ┆ UTC                   ┆                   │\n",
       "│ 3   ┆ 2025-01-08 11:51:06    ┆ 2025-01-08 11:52:31   ┆ 2025-01-08 12:00:00   ┆ other string      │\n",
       "│     ┆ UTC                    ┆ UTC                   ┆ UTC                   ┆                   │\n",
       "│ 4   ┆ 2025-01-08 11:52:01    ┆ 2025-01-08 12:11:01   ┆ 2025-01-08 12:00:00   ┆ changed order     │\n",
       "│     ┆ UTC                    ┆ UTC                   ┆ UTC                   ┆                   │\n",
       "│ 5   ┆ 2025-01-08 11:52:15    ┆ 2025-01-08 11:52:15   ┆ 2025-01-08 12:00:00   ┆ another string    │\n",
       "│     ┆ UTC                    ┆ UTC                   ┆ UTC                   ┆                   │\n",
       "│ 6   ┆ 2025-01-08 11:52:26    ┆ 2025-01-08 11:54:31   ┆ 2025-01-08 12:00:00   ┆ yolo string       │\n",
       "│     ┆ UTC                    ┆ UTC                   ┆ UTC                   ┆                   │\n",
       "└─────┴────────────────────────┴───────────────────────┴───────────────────────┴───────────────────┘"
      ]
     },
     "execution_count": 99,
     "metadata": {},
     "output_type": "execute_result"
    }
   ],
   "source": [
    "# requires connectorx\n",
    "# read_database_uri\n",
    "pl.read_database_uri(\n",
    "    \"SELECT * FROM orders\",\n",
    "    os.environ[\"SQL_CONNECTION\"]\n",
    ")"
   ]
  },
  {
   "cell_type": "markdown",
   "metadata": {},
   "source": [
    "Performance:\n",
    "https://towardsdatascience.com/high-performance-data-processing-pandas-2-vs-polars-a-vcpu-perspective-e922d3064f4e"
   ]
  }
 ],
 "metadata": {
  "kernelspec": {
   "display_name": "Python 3",
   "language": "python",
   "name": "python3"
  },
  "language_info": {
   "codemirror_mode": {
    "name": "ipython",
    "version": 3
   },
   "file_extension": ".py",
   "mimetype": "text/x-python",
   "name": "python",
   "nbconvert_exporter": "python",
   "pygments_lexer": "ipython3",
   "version": "3.12.4"
  }
 },
 "nbformat": 4,
 "nbformat_minor": 2
}
