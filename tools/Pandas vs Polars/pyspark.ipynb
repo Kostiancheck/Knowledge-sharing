{
 "cells": [
  {
   "cell_type": "code",
   "execution_count": 2,
   "metadata": {
    "ExecuteTime": {
     "end_time": "2025-01-23T13:23:51.554562Z",
     "start_time": "2025-01-23T13:23:51.202958Z"
    }
   },
   "outputs": [
    {
     "data": {
      "text/plain": "False"
     },
     "execution_count": 2,
     "metadata": {},
     "output_type": "execute_result"
    }
   ],
   "source": [
    "from pyspark.sql import SparkSession\n",
    "# from pyspark.sql.functions import col, when, regexp_extract, udf, lit, sum, count, desc, mean, explode, trim, split\n",
    "from pyspark.sql.functions import *\n",
    "from pyspark.sql.types import IntegerType, LongType\n",
    "import re\n",
    "import os\n",
    "import dotenv\n",
    "dotenv.load_dotenv(\".env\")"
   ]
  },
  {
   "cell_type": "code",
   "execution_count": 3,
   "outputs": [
    {
     "name": "stderr",
     "output_type": "stream",
     "text": [
      "Setting default log level to \"WARN\".\n",
      "To adjust logging level use sc.setLogLevel(newLevel). For SparkR, use setLogLevel(newLevel).\n",
      "25/01/23 15:23:54 WARN NativeCodeLoader: Unable to load native-hadoop library for your platform... using builtin-java classes where applicable\n"
     ]
    }
   ],
   "source": [
    "spark = SparkSession.builder.appName(\"IMDB_Movies_Analysis\").getOrCreate()"
   ],
   "metadata": {
    "collapsed": false,
    "ExecuteTime": {
     "end_time": "2025-01-23T13:23:56.410656Z",
     "start_time": "2025-01-23T13:23:51.548442Z"
    }
   }
  },
  {
   "cell_type": "code",
   "execution_count": 4,
   "metadata": {
    "ExecuteTime": {
     "end_time": "2025-01-23T13:24:02.706517Z",
     "start_time": "2025-01-23T13:23:56.412384Z"
    }
   },
   "outputs": [
    {
     "name": "stdout",
     "output_type": "stream",
     "text": [
      "+---+--------------------+--------------+--------------------+--------------------+---------+--------------------+--------------------+--------------------+--------------------+--------------------+---------------+------------------+\n",
      "|_c0|               Title|Average Rating|            Director|              Writer|Metascore|                Cast|        Release Date|   Country of Origin|           Languages|              Budget|Worldwide Gross|           Runtime|\n",
      "+---+--------------------+--------------+--------------------+--------------------+---------+--------------------+--------------------+--------------------+--------------------+--------------------+---------------+------------------+\n",
      "|  0|The Shawshank Red...|           9.3|      Frank Darabont|Stephen King, Fra...|     82.0|Tim Robbins, Morg...|October 14, 1994 ...|       United States|             English|$25,000,000 (esti...|    $29,332,133|2 hours 22 minutes|\n",
      "|  1|Attack on Titan t...|           9.3|    Yûichirô Hayashi|Natsuki Hanae, Yo...|     NULL|Natsuki Hanae, Yo...|November 8, 2024 ...|               Japan|            Japanese|                NULL|     $3,513,659|2 hours 25 minutes|\n",
      "|  2|       The Godfather|           9.2|Francis Ford Coppola|Mario Puzo, Franc...|    100.0|Marlon Brando, Al...|        1978 (India)|       United States|English, Italian,...|$6,000,000 (estim...|   $250,342,198|2 hours 55 minutes|\n",
      "|  3|      Hababam Sinifi|           9.2|       Ertem Egilmez|Umur Bugay, Rifat...|     NULL|Münir Özkul, Tari...|April 1, 1975 (Tu...|              Turkey|             Turkish|                NULL|           NULL| 1 hour 25 minutes|\n",
      "|  4|Ramayana: The Leg...|           9.2|Ram Mohan, Yûgô S...|Rani Burra, Ram M...|     NULL|Arun Govil, Nikhi...|September 25, 200...|        India, Japan|             English|                NULL|           NULL|2 hours 15 minutes|\n",
      "|  5|The Silence of Sw...|           9.1|       Anuj Bhardwaj|     Suzanne Bernert|     NULL|     Suzanne Bernert|December 30, 2021...|               India|      Hindi, English|                NULL|           NULL|        56 minutes|\n",
      "|  6|         Maya Bazaar|           9.1|Kadiri Venkata Reddy|Pingali Nagendra ...|     NULL|N.T. Rama Rao, S....|March 27, 1957 (I...|               India|       Telugu, Tamil|                NULL|           NULL|3 hours 12 minutes|\n",
      "|  7|     The Dark Knight|           9.0|   Christopher Nolan|Jonathan Nolan, C...|     84.0|Christian Bale, H...|July 18, 2008 (In...|United States, Un...|   English, Mandarin|$185,000,000 (est...| $1,009,053,678|2 hours 32 minutes|\n",
      "|  8|    Schindler's List|           9.0|    Steven Spielberg|Thomas Keneally, ...|     95.0|Liam Neeson, Ralp...|December 15, 1993...|       United States|English, Hebrew, ...|$22,000,000 (esti...|   $322,161,245|3 hours 15 minutes|\n",
      "|  9|        12 Angry Men|           9.0|        Sidney Lumet|       Reginald Rose|     97.0|Henry Fonda, Lee ...|April 10, 1957 (U...|       United States|             English|$350,000 (estimated)|         $2,945| 1 hour 36 minutes|\n",
      "| 10|The Godfather: Pa...|           9.0|Francis Ford Coppola|Francis Ford Copp...|     90.0|Al Pacino, Robert...|        1979 (India)|       United States|English, Italian,...|$13,000,000 (esti...|    $47,964,222|3 hours 22 minutes|\n",
      "| 11|The Lord of the R...|           9.0|       Peter Jackson|J.R.R. Tolkien, F...|     94.0|Elijah Wood, Vigg...|February 6, 2004 ...|New Zealand, Unit...|English, Quenya, ...|$94,000,000 (esti...| $1,138,263,151|3 hours 21 minutes|\n",
      "| 12|           Sandesham|           9.0|    Sathyan Anthikad|         Sreenivasan|     NULL|Sreenivasan, Jaya...|October 30, 1991 ...|               India|           Malayalam|                NULL|           NULL|2 hours 18 minutes|\n",
      "| 13|          Oggatonama|           9.0|       Tauquir Ahmed|       Tauquir Ahmed|     NULL|Shahiduzzaman Sel...|August 19, 2016 (...|          Bangladesh|             Bengali|                NULL|           NULL| 1 hour 40 minutes|\n",
      "| 14|The Lord of the R...|           8.9|       Peter Jackson|J.R.R. Tolkien, F...|     92.0|Elijah Wood, Ian ...|March 15, 2002 (I...|New Zealand, Unit...|   English, Sindarin|$93,000,000 (esti...|   $888,159,923|2 hours 58 minutes|\n",
      "| 15|        Pulp Fiction|           8.9|   Quentin Tarantino|Quentin Tarantino...|     95.0|John Travolta, Um...|October 14, 1994 ...|       United States|English, Spanish,...|$8,000,000 (estim...|   $213,928,762|2 hours 34 minutes|\n",
      "| 16|      I'm Still Here|           8.9|       Walter Salles|Murilo Hauser, He...|     79.0|Fernanda Torres, ...|November 7, 2024 ...|      Brazil, France|          Portuguese|R$8,000,000 (esti...|     $6,600,000|2 hours 16 minutes|\n",
      "| 17|O.J.: Made in Ame...|           8.9|        Ezra Edelman|Willie Brown, Har...|     NULL|Willie Brown, Har...|May 20, 2016 (Uni...|       United States|             English|                NULL|           NULL|7 hours 47 minutes|\n",
      "| 18|         The Message|           8.9|     Moustapha Akkad|H.A.L. Craig, Tew...|     NULL|Abdallah Gheith, ...|       1976 (Kuwait)|               Libya|              Arabic|                NULL|           NULL|3 hours 27 minutes|\n",
      "| 19|          Tosun Pasa|           8.9|        Kartal Tibet|        Yavuz Turgul|     NULL|Kemal Sunal, Müjd...|April 24, 2018 (C...|              Turkey|             Turkish|                NULL|           NULL| 1 hour 30 minutes|\n",
      "+---+--------------------+--------------+--------------------+--------------------+---------+--------------------+--------------------+--------------------+--------------------+--------------------+---------------+------------------+\n"
     ]
    },
    {
     "name": "stderr",
     "output_type": "stream",
     "text": [
      "25/01/23 15:24:02 WARN CSVHeaderChecker: CSV header does not conform to the schema.\n",
      " Header: , Title, Average Rating, Director, Writer, Metascore, Cast, Release Date, Country of Origin, Languages, Budget, Worldwide Gross, Runtime\n",
      " Schema: _c0, Title, Average Rating, Director, Writer, Metascore, Cast, Release Date, Country of Origin, Languages, Budget, Worldwide Gross, Runtime\n",
      "Expected: _c0 but found: \n",
      "CSV file: file:///Users/apple/IdeaProjects/Knowledge-sharing/tools/Pandas%20vs%20Polars/IMDB_Movies_Dataset.csv\n"
     ]
    }
   ],
   "source": [
    "# dataset link https://www.kaggle.com/datasets/hetbabariya/imdb-movies-data-collection-5000-records?resource=download\n",
    "# spark is not the best for csv. If csv is really bad, you will have a problem\n",
    "df = spark.read.csv(\"IMDB_Movies_Dataset.csv\", header=True, inferSchema=True)\n",
    "df.show()"
   ]
  },
  {
   "cell_type": "code",
   "execution_count": 5,
   "outputs": [
    {
     "name": "stdout",
     "output_type": "stream",
     "text": [
      "+--------------------+--------------+--------------------+--------------------+---------+--------------------+--------------------+--------------------+--------------------+--------------------+---------------+------------------+\n",
      "|               Title|Average Rating|            Director|              Writer|Metascore|                Cast|        Release Date|   Country of Origin|           Languages|              Budget|Worldwide Gross|           Runtime|\n",
      "+--------------------+--------------+--------------------+--------------------+---------+--------------------+--------------------+--------------------+--------------------+--------------------+---------------+------------------+\n",
      "|The Shawshank Red...|           9.3|      Frank Darabont|Stephen King, Fra...|     82.0|Tim Robbins, Morg...|October 14, 1994 ...|       United States|             English|$25,000,000 (esti...|    $29,332,133|2 hours 22 minutes|\n",
      "|Attack on Titan t...|           9.3|    Yûichirô Hayashi|Natsuki Hanae, Yo...|     NULL|Natsuki Hanae, Yo...|November 8, 2024 ...|               Japan|            Japanese|                NULL|     $3,513,659|2 hours 25 minutes|\n",
      "|       The Godfather|           9.2|Francis Ford Coppola|Mario Puzo, Franc...|    100.0|Marlon Brando, Al...|        1978 (India)|       United States|English, Italian,...|$6,000,000 (estim...|   $250,342,198|2 hours 55 minutes|\n",
      "|      Hababam Sinifi|           9.2|       Ertem Egilmez|Umur Bugay, Rifat...|     NULL|Münir Özkul, Tari...|April 1, 1975 (Tu...|              Turkey|             Turkish|                NULL|           NULL| 1 hour 25 minutes|\n",
      "|Ramayana: The Leg...|           9.2|Ram Mohan, Yûgô S...|Rani Burra, Ram M...|     NULL|Arun Govil, Nikhi...|September 25, 200...|        India, Japan|             English|                NULL|           NULL|2 hours 15 minutes|\n",
      "|The Silence of Sw...|           9.1|       Anuj Bhardwaj|     Suzanne Bernert|     NULL|     Suzanne Bernert|December 30, 2021...|               India|      Hindi, English|                NULL|           NULL|        56 minutes|\n",
      "|         Maya Bazaar|           9.1|Kadiri Venkata Reddy|Pingali Nagendra ...|     NULL|N.T. Rama Rao, S....|March 27, 1957 (I...|               India|       Telugu, Tamil|                NULL|           NULL|3 hours 12 minutes|\n",
      "|     The Dark Knight|           9.0|   Christopher Nolan|Jonathan Nolan, C...|     84.0|Christian Bale, H...|July 18, 2008 (In...|United States, Un...|   English, Mandarin|$185,000,000 (est...| $1,009,053,678|2 hours 32 minutes|\n",
      "|    Schindler's List|           9.0|    Steven Spielberg|Thomas Keneally, ...|     95.0|Liam Neeson, Ralp...|December 15, 1993...|       United States|English, Hebrew, ...|$22,000,000 (esti...|   $322,161,245|3 hours 15 minutes|\n",
      "|        12 Angry Men|           9.0|        Sidney Lumet|       Reginald Rose|     97.0|Henry Fonda, Lee ...|April 10, 1957 (U...|       United States|             English|$350,000 (estimated)|         $2,945| 1 hour 36 minutes|\n",
      "|The Godfather: Pa...|           9.0|Francis Ford Coppola|Francis Ford Copp...|     90.0|Al Pacino, Robert...|        1979 (India)|       United States|English, Italian,...|$13,000,000 (esti...|    $47,964,222|3 hours 22 minutes|\n",
      "|The Lord of the R...|           9.0|       Peter Jackson|J.R.R. Tolkien, F...|     94.0|Elijah Wood, Vigg...|February 6, 2004 ...|New Zealand, Unit...|English, Quenya, ...|$94,000,000 (esti...| $1,138,263,151|3 hours 21 minutes|\n",
      "|           Sandesham|           9.0|    Sathyan Anthikad|         Sreenivasan|     NULL|Sreenivasan, Jaya...|October 30, 1991 ...|               India|           Malayalam|                NULL|           NULL|2 hours 18 minutes|\n",
      "|          Oggatonama|           9.0|       Tauquir Ahmed|       Tauquir Ahmed|     NULL|Shahiduzzaman Sel...|August 19, 2016 (...|          Bangladesh|             Bengali|                NULL|           NULL| 1 hour 40 minutes|\n",
      "|The Lord of the R...|           8.9|       Peter Jackson|J.R.R. Tolkien, F...|     92.0|Elijah Wood, Ian ...|March 15, 2002 (I...|New Zealand, Unit...|   English, Sindarin|$93,000,000 (esti...|   $888,159,923|2 hours 58 minutes|\n",
      "|        Pulp Fiction|           8.9|   Quentin Tarantino|Quentin Tarantino...|     95.0|John Travolta, Um...|October 14, 1994 ...|       United States|English, Spanish,...|$8,000,000 (estim...|   $213,928,762|2 hours 34 minutes|\n",
      "|      I'm Still Here|           8.9|       Walter Salles|Murilo Hauser, He...|     79.0|Fernanda Torres, ...|November 7, 2024 ...|      Brazil, France|          Portuguese|R$8,000,000 (esti...|     $6,600,000|2 hours 16 minutes|\n",
      "|O.J.: Made in Ame...|           8.9|        Ezra Edelman|Willie Brown, Har...|     NULL|Willie Brown, Har...|May 20, 2016 (Uni...|       United States|             English|                NULL|           NULL|7 hours 47 minutes|\n",
      "|         The Message|           8.9|     Moustapha Akkad|H.A.L. Craig, Tew...|     NULL|Abdallah Gheith, ...|       1976 (Kuwait)|               Libya|              Arabic|                NULL|           NULL|3 hours 27 minutes|\n",
      "|          Tosun Pasa|           8.9|        Kartal Tibet|        Yavuz Turgul|     NULL|Kemal Sunal, Müjd...|April 24, 2018 (C...|              Turkey|             Turkish|                NULL|           NULL| 1 hour 30 minutes|\n",
      "+--------------------+--------------+--------------------+--------------------+---------+--------------------+--------------------+--------------------+--------------------+--------------------+---------------+------------------+\n"
     ]
    }
   ],
   "source": [
    "df = df.drop(\"_c0\")\n",
    "df.show()"
   ],
   "metadata": {
    "collapsed": false,
    "ExecuteTime": {
     "end_time": "2025-01-23T13:24:03.323537Z",
     "start_time": "2025-01-23T13:24:02.708108Z"
    }
   }
  },
  {
   "cell_type": "code",
   "execution_count": 6,
   "metadata": {
    "ExecuteTime": {
     "end_time": "2025-01-23T13:24:03.352965Z",
     "start_time": "2025-01-23T13:24:03.042121Z"
    }
   },
   "outputs": [
    {
     "name": "stdout",
     "output_type": "stream",
     "text": [
      "['Title', 'Rating', 'Director', 'Writer', 'Metascore', 'Cast', 'Release Date', 'Country of Origin', 'Languages', 'Budget', 'Worldwide Gross', 'Runtime']\n"
     ]
    }
   ],
   "source": [
    "df = df.withColumnRenamed(\"Average Rating\", \"Rating\")\n",
    "print(df.columns)\n"
   ]
  },
  {
   "cell_type": "code",
   "execution_count": 7,
   "outputs": [
    {
     "name": "stdout",
     "output_type": "stream",
     "text": [
      "root\n",
      " |-- Title: string (nullable = true)\n",
      " |-- Rating: double (nullable = true)\n",
      " |-- Director: string (nullable = true)\n",
      " |-- Writer: string (nullable = true)\n",
      " |-- Metascore: double (nullable = true)\n",
      " |-- Cast: string (nullable = true)\n",
      " |-- Release Date: string (nullable = true)\n",
      " |-- Country of Origin: string (nullable = true)\n",
      " |-- Languages: string (nullable = true)\n",
      " |-- Budget: string (nullable = true)\n",
      " |-- Worldwide Gross: string (nullable = true)\n",
      " |-- Runtime: string (nullable = true)\n"
     ]
    },
    {
     "data": {
      "text/plain": "StructType([StructField('Title', StringType(), True), StructField('Rating', DoubleType(), True), StructField('Director', StringType(), True), StructField('Writer', StringType(), True), StructField('Metascore', DoubleType(), True), StructField('Cast', StringType(), True), StructField('Release Date', StringType(), True), StructField('Country of Origin', StringType(), True), StructField('Languages', StringType(), True), StructField('Budget', StringType(), True), StructField('Worldwide Gross', StringType(), True), StructField('Runtime', StringType(), True)])"
     },
     "execution_count": 7,
     "metadata": {},
     "output_type": "execute_result"
    }
   ],
   "source": [
    "df.printSchema()\n",
    "df.schema"
   ],
   "metadata": {
    "collapsed": false,
    "ExecuteTime": {
     "end_time": "2025-01-23T13:24:03.355183Z",
     "start_time": "2025-01-23T13:24:03.119119Z"
    }
   }
  },
  {
   "cell_type": "code",
   "execution_count": 8,
   "metadata": {
    "ExecuteTime": {
     "end_time": "2025-01-23T13:24:04.654846Z",
     "start_time": "2025-01-23T13:24:03.131560Z"
    }
   },
   "outputs": [
    {
     "name": "stdout",
     "output_type": "stream",
     "text": [
      "+-----+------+--------+------+---------+----+------------+-----------------+---------+------+---------------+-------+\n",
      "|Title|Rating|Director|Writer|Metascore|Cast|Release Date|Country of Origin|Languages|Budget|Worldwide Gross|Runtime|\n",
      "+-----+------+--------+------+---------+----+------------+-----------------+---------+------+---------------+-------+\n",
      "|    0|     0|       0|     1|     1934|   7|           0|                3|       21|  2338|           1094|      0|\n",
      "+-----+------+--------+------+---------+----+------------+-----------------+---------+------+---------------+-------+\n"
     ]
    }
   ],
   "source": [
    "(df\n",
    " .select([(count(\"*\") - count(c)).alias(c) for c in df.columns])\n",
    " .show()\n",
    " )"
   ]
  },
  {
   "cell_type": "code",
   "execution_count": 9,
   "outputs": [
    {
     "name": "stdout",
     "output_type": "stream",
     "text": [
      "== Parsed Logical Plan ==\n",
      "'Project [(count(1) - count('Title)) AS Title#357, (count(1) - count('Rating)) AS Rating#360, (count(1) - count('Director)) AS Director#363, (count(1) - count('Writer)) AS Writer#366, (count(1) - count('Metascore)) AS Metascore#369, (count(1) - count('Cast)) AS Cast#372, (count(1) - count('Release Date)) AS Release Date#375, (count(1) - count('Country of Origin)) AS Country of Origin#378, (count(1) - count('Languages)) AS Languages#381, (count(1) - count('Budget)) AS Budget#384, (count(1) - count('Worldwide Gross)) AS Worldwide Gross#387, (count(1) - count('Runtime)) AS Runtime#390]\n",
      "+- Project [Title#18, Average Rating#19 AS Rating#183, Director#20, Writer#21, Metascore#22, Cast#23, Release Date#24, Country of Origin#25, Languages#26, Budget#27, Worldwide Gross#28, Runtime#29]\n",
      "   +- Project [Title#18, Average Rating#19, Director#20, Writer#21, Metascore#22, Cast#23, Release Date#24, Country of Origin#25, Languages#26, Budget#27, Worldwide Gross#28, Runtime#29]\n",
      "      +- Relation [_c0#17,Title#18,Average Rating#19,Director#20,Writer#21,Metascore#22,Cast#23,Release Date#24,Country of Origin#25,Languages#26,Budget#27,Worldwide Gross#28,Runtime#29] csv\n",
      "\n",
      "== Analyzed Logical Plan ==\n",
      "Title: bigint, Rating: bigint, Director: bigint, Writer: bigint, Metascore: bigint, Cast: bigint, Release Date: bigint, Country of Origin: bigint, Languages: bigint, Budget: bigint, Worldwide Gross: bigint, Runtime: bigint\n",
      "Aggregate [(count(1) - count(Title#18)) AS Title#357L, (count(1) - count(Rating#183)) AS Rating#360L, (count(1) - count(Director#20)) AS Director#363L, (count(1) - count(Writer#21)) AS Writer#366L, (count(1) - count(Metascore#22)) AS Metascore#369L, (count(1) - count(Cast#23)) AS Cast#372L, (count(1) - count(Release Date#24)) AS Release Date#375L, (count(1) - count(Country of Origin#25)) AS Country of Origin#378L, (count(1) - count(Languages#26)) AS Languages#381L, (count(1) - count(Budget#27)) AS Budget#384L, (count(1) - count(Worldwide Gross#28)) AS Worldwide Gross#387L, (count(1) - count(Runtime#29)) AS Runtime#390L]\n",
      "+- Project [Title#18, Average Rating#19 AS Rating#183, Director#20, Writer#21, Metascore#22, Cast#23, Release Date#24, Country of Origin#25, Languages#26, Budget#27, Worldwide Gross#28, Runtime#29]\n",
      "   +- Project [Title#18, Average Rating#19, Director#20, Writer#21, Metascore#22, Cast#23, Release Date#24, Country of Origin#25, Languages#26, Budget#27, Worldwide Gross#28, Runtime#29]\n",
      "      +- Relation [_c0#17,Title#18,Average Rating#19,Director#20,Writer#21,Metascore#22,Cast#23,Release Date#24,Country of Origin#25,Languages#26,Budget#27,Worldwide Gross#28,Runtime#29] csv\n",
      "\n",
      "== Optimized Logical Plan ==\n",
      "Aggregate [(count(1) - count(Title#18)) AS Title#357L, (count(1) - count(Rating#183)) AS Rating#360L, (count(1) - count(Director#20)) AS Director#363L, (count(1) - count(Writer#21)) AS Writer#366L, (count(1) - count(Metascore#22)) AS Metascore#369L, (count(1) - count(Cast#23)) AS Cast#372L, (count(1) - count(Release Date#24)) AS Release Date#375L, (count(1) - count(Country of Origin#25)) AS Country of Origin#378L, (count(1) - count(Languages#26)) AS Languages#381L, (count(1) - count(Budget#27)) AS Budget#384L, (count(1) - count(Worldwide Gross#28)) AS Worldwide Gross#387L, (count(1) - count(Runtime#29)) AS Runtime#390L]\n",
      "+- Project [Title#18, Average Rating#19 AS Rating#183, Director#20, Writer#21, Metascore#22, Cast#23, Release Date#24, Country of Origin#25, Languages#26, Budget#27, Worldwide Gross#28, Runtime#29]\n",
      "   +- Relation [_c0#17,Title#18,Average Rating#19,Director#20,Writer#21,Metascore#22,Cast#23,Release Date#24,Country of Origin#25,Languages#26,Budget#27,Worldwide Gross#28,Runtime#29] csv\n",
      "\n",
      "== Physical Plan ==\n",
      "AdaptiveSparkPlan isFinalPlan=false\n",
      "+- HashAggregate(keys=[], functions=[count(1), count(Title#18), count(Rating#183), count(Director#20), count(Writer#21), count(Metascore#22), count(Cast#23), count(Release Date#24), count(Country of Origin#25), count(Languages#26), count(Budget#27), count(Worldwide Gross#28), count(Runtime#29)], output=[Title#357L, Rating#360L, Director#363L, Writer#366L, Metascore#369L, Cast#372L, Release Date#375L, Country of Origin#378L, Languages#381L, Budget#384L, Worldwide Gross#387L, Runtime#390L])\n",
      "   +- Exchange SinglePartition, ENSURE_REQUIREMENTS, [plan_id=95]\n",
      "      +- HashAggregate(keys=[], functions=[partial_count(1), partial_count(Title#18), partial_count(Rating#183), partial_count(Director#20), partial_count(Writer#21), partial_count(Metascore#22), partial_count(Cast#23), partial_count(Release Date#24), partial_count(Country of Origin#25), partial_count(Languages#26), partial_count(Budget#27), partial_count(Worldwide Gross#28), partial_count(Runtime#29)], output=[count#416L, count#417L, count#418L, count#419L, count#420L, count#421L, count#422L, count#423L, count#424L, count#425L, count#426L, count#427L, count#428L])\n",
      "         +- Project [Title#18, Average Rating#19 AS Rating#183, Director#20, Writer#21, Metascore#22, Cast#23, Release Date#24, Country of Origin#25, Languages#26, Budget#27, Worldwide Gross#28, Runtime#29]\n",
      "            +- FileScan csv [Title#18,Average Rating#19,Director#20,Writer#21,Metascore#22,Cast#23,Release Date#24,Country of Origin#25,Languages#26,Budget#27,Worldwide Gross#28,Runtime#29] Batched: false, DataFilters: [], Format: CSV, Location: InMemoryFileIndex(1 paths)[file:/Users/apple/IdeaProjects/Knowledge-sharing/tools/Pandas vs Polar..., PartitionFilters: [], PushedFilters: [], ReadSchema: struct<Title:string,Average Rating:double,Director:string,Writer:string,Metascore:double,Cast:str...\n"
     ]
    }
   ],
   "source": [
    "(df\n",
    ".select([(count(\"*\") - count(c)).alias(c) for c in df.columns])\n",
    ".explain(extended=True)\n",
    ")"
   ],
   "metadata": {
    "collapsed": false,
    "ExecuteTime": {
     "end_time": "2025-01-23T13:24:04.920061Z",
     "start_time": "2025-01-23T13:24:04.655710Z"
    }
   }
  },
  {
   "cell_type": "code",
   "execution_count": 10,
   "metadata": {
    "ExecuteTime": {
     "end_time": "2025-01-23T13:24:07.620821Z",
     "start_time": "2025-01-23T13:24:04.850274Z"
    }
   },
   "outputs": [
    {
     "name": "stderr",
     "output_type": "stream",
     "text": [
      "25/01/23 15:24:06 WARN SparkStringUtils: Truncated the string representation of a plan since it was too large. This behavior can be adjusted by setting 'spark.sql.debug.maxToStringFields'.\n",
      "                                                                                \r"
     ]
    },
    {
     "data": {
      "text/plain": "  summary                                           Title              Rating  \\\n0   count                                            4989                4989   \n1    mean                               955.6923076923077   7.632892363198688   \n2  stddev                                955.931952304084  0.3652432599971371   \n3     min  \"Mujeres al borde de un ataque de \"\"nervios\"\"\"                 7.2   \n4     max                                             色，戒                 9.3   \n\n        Director                                       Writer  \\\n0           4989                                         4988   \n1           None                                         None   \n2           None                                         None   \n3     A.L. Vijay  A.A. Milne, Ernest Shepard, Alex Ross Perry   \n4  Özer Kiziltan                                    Ümit Ünal   \n\n            Metascore                                               Cast  \\\n0                3055                                               4982   \n1   74.68445171849427                                               None   \n2  12.298910502972529                                               None   \n3                25.0  'Freeway' Ricky Ross, Susan Sarandon, David Si...   \n4               100.0  Éric Cantona, Alex Ferguson, Manchester United...   \n\n                Release Date                               Country of Origin  \\\n0                       4989                                            4986   \n1                       None                                            None   \n2                       None                                            None   \n3               1928 (Italy)  Afghanistan, Ireland, Japan, Netherlands, Iran   \n4  September 9, 2020 (India)                       Yugoslavia, United States   \n\n                                Languages                  Budget  \\\n0                                    4968                    2651   \n1                                    None                    None   \n2                                    None                    None   \n3           Aboriginal, Japanese, Hokkien  $1,000,000 (estimated)   \n4  Zulu, Sotho, Xhosa, Afrikaans, English    ₹991,000 (estimated)   \n\n  Worldwide Gross             Runtime  \n0            3895                4989  \n1            None                None  \n2            None                None  \n3          $1,003              1 hour  \n4    ₹750,000,000  9 hours 26 minutes  ",
      "text/html": "<div>\n<style scoped>\n    .dataframe tbody tr th:only-of-type {\n        vertical-align: middle;\n    }\n\n    .dataframe tbody tr th {\n        vertical-align: top;\n    }\n\n    .dataframe thead th {\n        text-align: right;\n    }\n</style>\n<table border=\"1\" class=\"dataframe\">\n  <thead>\n    <tr style=\"text-align: right;\">\n      <th></th>\n      <th>summary</th>\n      <th>Title</th>\n      <th>Rating</th>\n      <th>Director</th>\n      <th>Writer</th>\n      <th>Metascore</th>\n      <th>Cast</th>\n      <th>Release Date</th>\n      <th>Country of Origin</th>\n      <th>Languages</th>\n      <th>Budget</th>\n      <th>Worldwide Gross</th>\n      <th>Runtime</th>\n    </tr>\n  </thead>\n  <tbody>\n    <tr>\n      <th>0</th>\n      <td>count</td>\n      <td>4989</td>\n      <td>4989</td>\n      <td>4989</td>\n      <td>4988</td>\n      <td>3055</td>\n      <td>4982</td>\n      <td>4989</td>\n      <td>4986</td>\n      <td>4968</td>\n      <td>2651</td>\n      <td>3895</td>\n      <td>4989</td>\n    </tr>\n    <tr>\n      <th>1</th>\n      <td>mean</td>\n      <td>955.6923076923077</td>\n      <td>7.632892363198688</td>\n      <td>None</td>\n      <td>None</td>\n      <td>74.68445171849427</td>\n      <td>None</td>\n      <td>None</td>\n      <td>None</td>\n      <td>None</td>\n      <td>None</td>\n      <td>None</td>\n      <td>None</td>\n    </tr>\n    <tr>\n      <th>2</th>\n      <td>stddev</td>\n      <td>955.931952304084</td>\n      <td>0.3652432599971371</td>\n      <td>None</td>\n      <td>None</td>\n      <td>12.298910502972529</td>\n      <td>None</td>\n      <td>None</td>\n      <td>None</td>\n      <td>None</td>\n      <td>None</td>\n      <td>None</td>\n      <td>None</td>\n    </tr>\n    <tr>\n      <th>3</th>\n      <td>min</td>\n      <td>\"Mujeres al borde de un ataque de \"\"nervios\"\"\"</td>\n      <td>7.2</td>\n      <td>A.L. Vijay</td>\n      <td>A.A. Milne, Ernest Shepard, Alex Ross Perry</td>\n      <td>25.0</td>\n      <td>'Freeway' Ricky Ross, Susan Sarandon, David Si...</td>\n      <td>1928 (Italy)</td>\n      <td>Afghanistan, Ireland, Japan, Netherlands, Iran</td>\n      <td>Aboriginal, Japanese, Hokkien</td>\n      <td>$1,000,000 (estimated)</td>\n      <td>$1,003</td>\n      <td>1 hour</td>\n    </tr>\n    <tr>\n      <th>4</th>\n      <td>max</td>\n      <td>色，戒</td>\n      <td>9.3</td>\n      <td>Özer Kiziltan</td>\n      <td>Ümit Ünal</td>\n      <td>100.0</td>\n      <td>Éric Cantona, Alex Ferguson, Manchester United...</td>\n      <td>September 9, 2020 (India)</td>\n      <td>Yugoslavia, United States</td>\n      <td>Zulu, Sotho, Xhosa, Afrikaans, English</td>\n      <td>₹991,000 (estimated)</td>\n      <td>₹750,000,000</td>\n      <td>9 hours 26 minutes</td>\n    </tr>\n  </tbody>\n</table>\n</div>"
     },
     "execution_count": 10,
     "metadata": {},
     "output_type": "execute_result"
    }
   ],
   "source": [
    "spark.conf.set(\"spark.sql.repl.eagerEval.enabled\", True)\n",
    "df.describe().toPandas()"
   ]
  },
  {
   "cell_type": "code",
   "execution_count": 11,
   "outputs": [
    {
     "name": "stderr",
     "output_type": "stream",
     "text": [
      "                                                                                \r"
     ]
    },
    {
     "data": {
      "text/plain": "  summary                                           Title              Rating  \\\n0   count                                            4989                4989   \n1    mean                               955.6923076923077   7.632892363198688   \n2  stddev                                955.931952304084  0.3652432599971371   \n3     min  \"Mujeres al borde de un ataque de \"\"nervios\"\"\"                 7.2   \n4     25%                                            42.0                 7.3   \n5     50%                                           303.0                 7.6   \n6     75%                                          1917.0                 7.8   \n7     max                                             色，戒                 9.3   \n\n        Director                                       Writer  \\\n0           4989                                         4988   \n1           None                                         None   \n2           None                                         None   \n3     A.L. Vijay  A.A. Milne, Ernest Shepard, Alex Ross Perry   \n4           None                                         None   \n5           None                                         None   \n6           None                                         None   \n7  Özer Kiziltan                                    Ümit Ünal   \n\n            Metascore                                               Cast  \\\n0                3055                                               4982   \n1   74.68445171849427                                               None   \n2  12.298910502972529                                               None   \n3                25.0  'Freeway' Ricky Ross, Susan Sarandon, David Si...   \n4                67.0                                               None   \n5                76.0                                               None   \n6                84.0                                               None   \n7               100.0  Éric Cantona, Alex Ferguson, Manchester United...   \n\n                Release Date                               Country of Origin  \\\n0                       4989                                            4986   \n1                       None                                            None   \n2                       None                                            None   \n3               1928 (Italy)  Afghanistan, Ireland, Japan, Netherlands, Iran   \n4                       None                                            None   \n5                       None                                            None   \n6                       None                                            None   \n7  September 9, 2020 (India)                       Yugoslavia, United States   \n\n                                Languages                  Budget  \\\n0                                    4968                    2651   \n1                                    None                    None   \n2                                    None                    None   \n3           Aboriginal, Japanese, Hokkien  $1,000,000 (estimated)   \n4                                    None                    None   \n5                                    None                    None   \n6                                    None                    None   \n7  Zulu, Sotho, Xhosa, Afrikaans, English    ₹991,000 (estimated)   \n\n  Worldwide Gross             Runtime  \n0            3895                4989  \n1            None                None  \n2            None                None  \n3          $1,003              1 hour  \n4            None                None  \n5            None                None  \n6            None                None  \n7    ₹750,000,000  9 hours 26 minutes  ",
      "text/html": "<div>\n<style scoped>\n    .dataframe tbody tr th:only-of-type {\n        vertical-align: middle;\n    }\n\n    .dataframe tbody tr th {\n        vertical-align: top;\n    }\n\n    .dataframe thead th {\n        text-align: right;\n    }\n</style>\n<table border=\"1\" class=\"dataframe\">\n  <thead>\n    <tr style=\"text-align: right;\">\n      <th></th>\n      <th>summary</th>\n      <th>Title</th>\n      <th>Rating</th>\n      <th>Director</th>\n      <th>Writer</th>\n      <th>Metascore</th>\n      <th>Cast</th>\n      <th>Release Date</th>\n      <th>Country of Origin</th>\n      <th>Languages</th>\n      <th>Budget</th>\n      <th>Worldwide Gross</th>\n      <th>Runtime</th>\n    </tr>\n  </thead>\n  <tbody>\n    <tr>\n      <th>0</th>\n      <td>count</td>\n      <td>4989</td>\n      <td>4989</td>\n      <td>4989</td>\n      <td>4988</td>\n      <td>3055</td>\n      <td>4982</td>\n      <td>4989</td>\n      <td>4986</td>\n      <td>4968</td>\n      <td>2651</td>\n      <td>3895</td>\n      <td>4989</td>\n    </tr>\n    <tr>\n      <th>1</th>\n      <td>mean</td>\n      <td>955.6923076923077</td>\n      <td>7.632892363198688</td>\n      <td>None</td>\n      <td>None</td>\n      <td>74.68445171849427</td>\n      <td>None</td>\n      <td>None</td>\n      <td>None</td>\n      <td>None</td>\n      <td>None</td>\n      <td>None</td>\n      <td>None</td>\n    </tr>\n    <tr>\n      <th>2</th>\n      <td>stddev</td>\n      <td>955.931952304084</td>\n      <td>0.3652432599971371</td>\n      <td>None</td>\n      <td>None</td>\n      <td>12.298910502972529</td>\n      <td>None</td>\n      <td>None</td>\n      <td>None</td>\n      <td>None</td>\n      <td>None</td>\n      <td>None</td>\n      <td>None</td>\n    </tr>\n    <tr>\n      <th>3</th>\n      <td>min</td>\n      <td>\"Mujeres al borde de un ataque de \"\"nervios\"\"\"</td>\n      <td>7.2</td>\n      <td>A.L. Vijay</td>\n      <td>A.A. Milne, Ernest Shepard, Alex Ross Perry</td>\n      <td>25.0</td>\n      <td>'Freeway' Ricky Ross, Susan Sarandon, David Si...</td>\n      <td>1928 (Italy)</td>\n      <td>Afghanistan, Ireland, Japan, Netherlands, Iran</td>\n      <td>Aboriginal, Japanese, Hokkien</td>\n      <td>$1,000,000 (estimated)</td>\n      <td>$1,003</td>\n      <td>1 hour</td>\n    </tr>\n    <tr>\n      <th>4</th>\n      <td>25%</td>\n      <td>42.0</td>\n      <td>7.3</td>\n      <td>None</td>\n      <td>None</td>\n      <td>67.0</td>\n      <td>None</td>\n      <td>None</td>\n      <td>None</td>\n      <td>None</td>\n      <td>None</td>\n      <td>None</td>\n      <td>None</td>\n    </tr>\n    <tr>\n      <th>5</th>\n      <td>50%</td>\n      <td>303.0</td>\n      <td>7.6</td>\n      <td>None</td>\n      <td>None</td>\n      <td>76.0</td>\n      <td>None</td>\n      <td>None</td>\n      <td>None</td>\n      <td>None</td>\n      <td>None</td>\n      <td>None</td>\n      <td>None</td>\n    </tr>\n    <tr>\n      <th>6</th>\n      <td>75%</td>\n      <td>1917.0</td>\n      <td>7.8</td>\n      <td>None</td>\n      <td>None</td>\n      <td>84.0</td>\n      <td>None</td>\n      <td>None</td>\n      <td>None</td>\n      <td>None</td>\n      <td>None</td>\n      <td>None</td>\n      <td>None</td>\n    </tr>\n    <tr>\n      <th>7</th>\n      <td>max</td>\n      <td>色，戒</td>\n      <td>9.3</td>\n      <td>Özer Kiziltan</td>\n      <td>Ümit Ünal</td>\n      <td>100.0</td>\n      <td>Éric Cantona, Alex Ferguson, Manchester United...</td>\n      <td>September 9, 2020 (India)</td>\n      <td>Yugoslavia, United States</td>\n      <td>Zulu, Sotho, Xhosa, Afrikaans, English</td>\n      <td>₹991,000 (estimated)</td>\n      <td>₹750,000,000</td>\n      <td>9 hours 26 minutes</td>\n    </tr>\n  </tbody>\n</table>\n</div>"
     },
     "execution_count": 11,
     "metadata": {},
     "output_type": "execute_result"
    }
   ],
   "source": [
    "df.summary().toPandas()"
   ],
   "metadata": {
    "collapsed": false,
    "ExecuteTime": {
     "end_time": "2025-01-23T13:24:08.944414Z",
     "start_time": "2025-01-23T13:24:07.625034Z"
    }
   }
  },
  {
   "cell_type": "code",
   "execution_count": 12,
   "metadata": {
    "ExecuteTime": {
     "end_time": "2025-01-23T13:24:09.555801Z",
     "start_time": "2025-01-23T13:24:08.942056Z"
    }
   },
   "outputs": [
    {
     "name": "stdout",
     "output_type": "stream",
     "text": [
      "+-----------------+-----+\n",
      "|          Runtime|count|\n",
      "+-----------------+-----+\n",
      "|1 hour 50 minutes|  109|\n",
      "|1 hour 35 minutes|  109|\n",
      "|1 hour 43 minutes|  100|\n",
      "|1 hour 58 minutes|   94|\n",
      "|1 hour 42 minutes|   92|\n",
      "|1 hour 30 minutes|   92|\n",
      "|1 hour 40 minutes|   92|\n",
      "|1 hour 52 minutes|   91|\n",
      "|          2 hours|   91|\n",
      "|1 hour 45 minutes|   90|\n",
      "|1 hour 44 minutes|   90|\n",
      "|1 hour 36 minutes|   89|\n",
      "|1 hour 48 minutes|   89|\n",
      "|1 hour 46 minutes|   87|\n",
      "|1 hour 53 minutes|   86|\n",
      "|1 hour 37 minutes|   85|\n",
      "|1 hour 56 minutes|   84|\n",
      "|1 hour 41 minutes|   82|\n",
      "|1 hour 39 minutes|   81|\n",
      "|1 hour 47 minutes|   80|\n",
      "+-----------------+-----+\n"
     ]
    }
   ],
   "source": [
    "(df\n",
    " .groupBy(\"Runtime\")\n",
    " .count()\n",
    " .orderBy(desc(\"count\")) \n",
    " .orderBy(col(\"count\").desc()) \n",
    " .show()\n",
    " )"
   ]
  },
  {
   "cell_type": "code",
   "execution_count": 13,
   "metadata": {
    "ExecuteTime": {
     "end_time": "2025-01-23T13:24:09.562451Z",
     "start_time": "2025-01-23T13:24:09.552039Z"
    }
   },
   "outputs": [
    {
     "data": {
      "text/plain": "145"
     },
     "execution_count": 13,
     "metadata": {},
     "output_type": "execute_result"
    }
   ],
   "source": [
    "def runtime_to_minutes(string: str) -> int:\n",
    "    hours = re.search(r\"(\\d+) hours?\", string)\n",
    "    if hours:\n",
    "        hours = int(hours.group(1))\n",
    "    else:\n",
    "        hours = 0\n",
    "    minutes = re.search(r\"(\\d+) minutes\", string)\n",
    "    if minutes:\n",
    "        minutes = int(minutes.group(1))\n",
    "    else:\n",
    "        minutes = 0\n",
    "    return hours * 60 + minutes\n",
    "\n",
    "\n",
    "runtime_to_minutes(\"2 hours 25 minutes\")"
   ]
  },
  {
   "cell_type": "code",
   "execution_count": 14,
   "outputs": [],
   "source": [
    "runtime_udf = udf(runtime_to_minutes, IntegerType())"
   ],
   "metadata": {
    "collapsed": false,
    "ExecuteTime": {
     "end_time": "2025-01-23T13:24:09.567622Z",
     "start_time": "2025-01-23T13:24:09.559481Z"
    }
   }
  },
  {
   "cell_type": "code",
   "execution_count": 15,
   "outputs": [
    {
     "name": "stderr",
     "output_type": "stream",
     "text": [
      "[Stage 16:>                                                         (0 + 1) / 1]\r"
     ]
    },
    {
     "name": "stdout",
     "output_type": "stream",
     "text": [
      "+--------------------+------+--------------------+--------------------+---------+--------------------+--------------------+--------------------+--------------------+--------------------+---------------+------------------+-----------------+-----+-------+--------------------+\n",
      "|               Title|Rating|            Director|              Writer|Metascore|                Cast|        Release Date|   Country of Origin|           Languages|              Budget|Worldwide Gross|           Runtime|Runtime (minutes)|hours|minutes|Runtime (minutes) v2|\n",
      "+--------------------+------+--------------------+--------------------+---------+--------------------+--------------------+--------------------+--------------------+--------------------+---------------+------------------+-----------------+-----+-------+--------------------+\n",
      "|The Shawshank Red...|   9.3|      Frank Darabont|Stephen King, Fra...|     82.0|Tim Robbins, Morg...|October 14, 1994 ...|       United States|             English|$25,000,000 (esti...|    $29,332,133|2 hours 22 minutes|              142|    2|     22|                 142|\n",
      "|Attack on Titan t...|   9.3|    Yûichirô Hayashi|Natsuki Hanae, Yo...|     NULL|Natsuki Hanae, Yo...|November 8, 2024 ...|               Japan|            Japanese|                NULL|     $3,513,659|2 hours 25 minutes|              145|    2|     25|                 145|\n",
      "|       The Godfather|   9.2|Francis Ford Coppola|Mario Puzo, Franc...|    100.0|Marlon Brando, Al...|        1978 (India)|       United States|English, Italian,...|$6,000,000 (estim...|   $250,342,198|2 hours 55 minutes|              175|    2|     55|                 175|\n",
      "|      Hababam Sinifi|   9.2|       Ertem Egilmez|Umur Bugay, Rifat...|     NULL|Münir Özkul, Tari...|April 1, 1975 (Tu...|              Turkey|             Turkish|                NULL|           NULL| 1 hour 25 minutes|               85|    1|     25|                  85|\n",
      "|Ramayana: The Leg...|   9.2|Ram Mohan, Yûgô S...|Rani Burra, Ram M...|     NULL|Arun Govil, Nikhi...|September 25, 200...|        India, Japan|             English|                NULL|           NULL|2 hours 15 minutes|              135|    2|     15|                 135|\n",
      "|The Silence of Sw...|   9.1|       Anuj Bhardwaj|     Suzanne Bernert|     NULL|     Suzanne Bernert|December 30, 2021...|               India|      Hindi, English|                NULL|           NULL|        56 minutes|               56|    0|     56|                  56|\n",
      "|         Maya Bazaar|   9.1|Kadiri Venkata Reddy|Pingali Nagendra ...|     NULL|N.T. Rama Rao, S....|March 27, 1957 (I...|               India|       Telugu, Tamil|                NULL|           NULL|3 hours 12 minutes|              192|    3|     12|                 192|\n",
      "|     The Dark Knight|   9.0|   Christopher Nolan|Jonathan Nolan, C...|     84.0|Christian Bale, H...|July 18, 2008 (In...|United States, Un...|   English, Mandarin|$185,000,000 (est...| $1,009,053,678|2 hours 32 minutes|              152|    2|     32|                 152|\n",
      "|    Schindler's List|   9.0|    Steven Spielberg|Thomas Keneally, ...|     95.0|Liam Neeson, Ralp...|December 15, 1993...|       United States|English, Hebrew, ...|$22,000,000 (esti...|   $322,161,245|3 hours 15 minutes|              195|    3|     15|                 195|\n",
      "|        12 Angry Men|   9.0|        Sidney Lumet|       Reginald Rose|     97.0|Henry Fonda, Lee ...|April 10, 1957 (U...|       United States|             English|$350,000 (estimated)|         $2,945| 1 hour 36 minutes|               96|    1|     36|                  96|\n",
      "|The Godfather: Pa...|   9.0|Francis Ford Coppola|Francis Ford Copp...|     90.0|Al Pacino, Robert...|        1979 (India)|       United States|English, Italian,...|$13,000,000 (esti...|    $47,964,222|3 hours 22 minutes|              202|    3|     22|                 202|\n",
      "|The Lord of the R...|   9.0|       Peter Jackson|J.R.R. Tolkien, F...|     94.0|Elijah Wood, Vigg...|February 6, 2004 ...|New Zealand, Unit...|English, Quenya, ...|$94,000,000 (esti...| $1,138,263,151|3 hours 21 minutes|              201|    3|     21|                 201|\n",
      "|           Sandesham|   9.0|    Sathyan Anthikad|         Sreenivasan|     NULL|Sreenivasan, Jaya...|October 30, 1991 ...|               India|           Malayalam|                NULL|           NULL|2 hours 18 minutes|              138|    2|     18|                 138|\n",
      "|          Oggatonama|   9.0|       Tauquir Ahmed|       Tauquir Ahmed|     NULL|Shahiduzzaman Sel...|August 19, 2016 (...|          Bangladesh|             Bengali|                NULL|           NULL| 1 hour 40 minutes|              100|    1|     40|                 100|\n",
      "|The Lord of the R...|   8.9|       Peter Jackson|J.R.R. Tolkien, F...|     92.0|Elijah Wood, Ian ...|March 15, 2002 (I...|New Zealand, Unit...|   English, Sindarin|$93,000,000 (esti...|   $888,159,923|2 hours 58 minutes|              178|    2|     58|                 178|\n",
      "|        Pulp Fiction|   8.9|   Quentin Tarantino|Quentin Tarantino...|     95.0|John Travolta, Um...|October 14, 1994 ...|       United States|English, Spanish,...|$8,000,000 (estim...|   $213,928,762|2 hours 34 minutes|              154|    2|     34|                 154|\n",
      "|      I'm Still Here|   8.9|       Walter Salles|Murilo Hauser, He...|     79.0|Fernanda Torres, ...|November 7, 2024 ...|      Brazil, France|          Portuguese|R$8,000,000 (esti...|     $6,600,000|2 hours 16 minutes|              136|    2|     16|                 136|\n",
      "|O.J.: Made in Ame...|   8.9|        Ezra Edelman|Willie Brown, Har...|     NULL|Willie Brown, Har...|May 20, 2016 (Uni...|       United States|             English|                NULL|           NULL|7 hours 47 minutes|              467|    7|     47|                 467|\n",
      "|         The Message|   8.9|     Moustapha Akkad|H.A.L. Craig, Tew...|     NULL|Abdallah Gheith, ...|       1976 (Kuwait)|               Libya|              Arabic|                NULL|           NULL|3 hours 27 minutes|              207|    3|     27|                 207|\n",
      "|          Tosun Pasa|   8.9|        Kartal Tibet|        Yavuz Turgul|     NULL|Kemal Sunal, Müjd...|April 24, 2018 (C...|              Turkey|             Turkish|                NULL|           NULL| 1 hour 30 minutes|               90|    1|     30|                  90|\n",
      "+--------------------+------+--------------------+--------------------+---------+--------------------+--------------------+--------------------+--------------------+--------------------+---------------+------------------+-----------------+-----+-------+--------------------+\n"
     ]
    },
    {
     "name": "stderr",
     "output_type": "stream",
     "text": [
      "                                                                                \r"
     ]
    }
   ],
   "source": [
    "(\n",
    "    df\n",
    "    .withColumn(\"Runtime (minutes)\", runtime_udf(\"Runtime\"))\n",
    "    .withColumn(\"hours\", regexp_extract(\"Runtime\", \"(\\\\d+) hour\", 1).cast(\"int\"))\n",
    "    .withColumn(\"minutes\", regexp_extract(\"Runtime\", \"(\\\\d+) minutes\", 1).cast(\"int\"))\n",
    "    .fillna({\"hours\": 0, \"minutes\": 0}) # I would prefer to use coalesce(regexp_extract(\"Runtime\", \"(\\\\d+) minutes\", 1).cast(\"int\"), 0)\n",
    "    .withColumn(\"Runtime (minutes) v2\", col(\"hours\") * 60 + col(\"minutes\"))\n",
    "    .show()\n",
    "    \n",
    ")"
   ],
   "metadata": {
    "collapsed": false,
    "ExecuteTime": {
     "end_time": "2025-01-23T13:24:10.876861Z",
     "start_time": "2025-01-23T13:24:09.568080Z"
    }
   }
  },
  {
   "cell_type": "code",
   "execution_count": 16,
   "metadata": {
    "ExecuteTime": {
     "end_time": "2025-01-23T13:24:10.902174Z",
     "start_time": "2025-01-23T13:24:10.870568Z"
    }
   },
   "outputs": [
    {
     "data": {
      "text/plain": "6000000"
     },
     "execution_count": 16,
     "metadata": {},
     "output_type": "execute_result"
    }
   ],
   "source": [
    "def money_to_usd(string: str | None) -> int:\n",
    "    if not isinstance(string, str) or not \"$\" in string:\n",
    "        return None\n",
    "    budget = int(re.sub(r\"[^\\d]\", \"\", string))\n",
    "    return budget\n",
    "money_to_usd(\"$6,000,000 (estimated)\")"
   ]
  },
  {
   "cell_type": "code",
   "execution_count": 17,
   "metadata": {
    "ExecuteTime": {
     "end_time": "2025-01-23T13:24:11.230071Z",
     "start_time": "2025-01-23T13:24:10.881083Z"
    }
   },
   "outputs": [
    {
     "name": "stdout",
     "output_type": "stream",
     "text": [
      "+--------------------+------+--------------------+--------------------+---------+--------------------+--------------------+--------------------+--------------------+--------------------+---------------+------------------+------------+---------------------+------------+\n",
      "|               Title|Rating|            Director|              Writer|Metascore|                Cast|        Release Date|   Country of Origin|           Languages|              Budget|Worldwide Gross|           Runtime|Budget (usd)|Worldwide Gross (usd)|Profit (usd)|\n",
      "+--------------------+------+--------------------+--------------------+---------+--------------------+--------------------+--------------------+--------------------+--------------------+---------------+------------------+------------+---------------------+------------+\n",
      "|The Shawshank Red...|   9.3|      Frank Darabont|Stephen King, Fra...|     82.0|Tim Robbins, Morg...|October 14, 1994 ...|       United States|             English|$25,000,000 (esti...|    $29,332,133|2 hours 22 minutes|    25000000|             29332133|     4332133|\n",
      "|Attack on Titan t...|   9.3|    Yûichirô Hayashi|Natsuki Hanae, Yo...|     NULL|Natsuki Hanae, Yo...|November 8, 2024 ...|               Japan|            Japanese|                NULL|     $3,513,659|2 hours 25 minutes|        NULL|              3513659|        NULL|\n",
      "|       The Godfather|   9.2|Francis Ford Coppola|Mario Puzo, Franc...|    100.0|Marlon Brando, Al...|        1978 (India)|       United States|English, Italian,...|$6,000,000 (estim...|   $250,342,198|2 hours 55 minutes|     6000000|            250342198|   244342198|\n",
      "|      Hababam Sinifi|   9.2|       Ertem Egilmez|Umur Bugay, Rifat...|     NULL|Münir Özkul, Tari...|April 1, 1975 (Tu...|              Turkey|             Turkish|                NULL|           NULL| 1 hour 25 minutes|        NULL|                 NULL|        NULL|\n",
      "|Ramayana: The Leg...|   9.2|Ram Mohan, Yûgô S...|Rani Burra, Ram M...|     NULL|Arun Govil, Nikhi...|September 25, 200...|        India, Japan|             English|                NULL|           NULL|2 hours 15 minutes|        NULL|                 NULL|        NULL|\n",
      "|The Silence of Sw...|   9.1|       Anuj Bhardwaj|     Suzanne Bernert|     NULL|     Suzanne Bernert|December 30, 2021...|               India|      Hindi, English|                NULL|           NULL|        56 minutes|        NULL|                 NULL|        NULL|\n",
      "|         Maya Bazaar|   9.1|Kadiri Venkata Reddy|Pingali Nagendra ...|     NULL|N.T. Rama Rao, S....|March 27, 1957 (I...|               India|       Telugu, Tamil|                NULL|           NULL|3 hours 12 minutes|        NULL|                 NULL|        NULL|\n",
      "|     The Dark Knight|   9.0|   Christopher Nolan|Jonathan Nolan, C...|     84.0|Christian Bale, H...|July 18, 2008 (In...|United States, Un...|   English, Mandarin|$185,000,000 (est...| $1,009,053,678|2 hours 32 minutes|   185000000|           1009053678|   824053678|\n",
      "|    Schindler's List|   9.0|    Steven Spielberg|Thomas Keneally, ...|     95.0|Liam Neeson, Ralp...|December 15, 1993...|       United States|English, Hebrew, ...|$22,000,000 (esti...|   $322,161,245|3 hours 15 minutes|    22000000|            322161245|   300161245|\n",
      "|        12 Angry Men|   9.0|        Sidney Lumet|       Reginald Rose|     97.0|Henry Fonda, Lee ...|April 10, 1957 (U...|       United States|             English|$350,000 (estimated)|         $2,945| 1 hour 36 minutes|      350000|                 2945|     -347055|\n",
      "|The Godfather: Pa...|   9.0|Francis Ford Coppola|Francis Ford Copp...|     90.0|Al Pacino, Robert...|        1979 (India)|       United States|English, Italian,...|$13,000,000 (esti...|    $47,964,222|3 hours 22 minutes|    13000000|             47964222|    34964222|\n",
      "|The Lord of the R...|   9.0|       Peter Jackson|J.R.R. Tolkien, F...|     94.0|Elijah Wood, Vigg...|February 6, 2004 ...|New Zealand, Unit...|English, Quenya, ...|$94,000,000 (esti...| $1,138,263,151|3 hours 21 minutes|    94000000|           1138263151|  1044263151|\n",
      "|           Sandesham|   9.0|    Sathyan Anthikad|         Sreenivasan|     NULL|Sreenivasan, Jaya...|October 30, 1991 ...|               India|           Malayalam|                NULL|           NULL|2 hours 18 minutes|        NULL|                 NULL|        NULL|\n",
      "|          Oggatonama|   9.0|       Tauquir Ahmed|       Tauquir Ahmed|     NULL|Shahiduzzaman Sel...|August 19, 2016 (...|          Bangladesh|             Bengali|                NULL|           NULL| 1 hour 40 minutes|        NULL|                 NULL|        NULL|\n",
      "|The Lord of the R...|   8.9|       Peter Jackson|J.R.R. Tolkien, F...|     92.0|Elijah Wood, Ian ...|March 15, 2002 (I...|New Zealand, Unit...|   English, Sindarin|$93,000,000 (esti...|   $888,159,923|2 hours 58 minutes|    93000000|            888159923|   795159923|\n",
      "|        Pulp Fiction|   8.9|   Quentin Tarantino|Quentin Tarantino...|     95.0|John Travolta, Um...|October 14, 1994 ...|       United States|English, Spanish,...|$8,000,000 (estim...|   $213,928,762|2 hours 34 minutes|     8000000|            213928762|   205928762|\n",
      "|      I'm Still Here|   8.9|       Walter Salles|Murilo Hauser, He...|     79.0|Fernanda Torres, ...|November 7, 2024 ...|      Brazil, France|          Portuguese|R$8,000,000 (esti...|     $6,600,000|2 hours 16 minutes|     8000000|              6600000|    -1400000|\n",
      "|O.J.: Made in Ame...|   8.9|        Ezra Edelman|Willie Brown, Har...|     NULL|Willie Brown, Har...|May 20, 2016 (Uni...|       United States|             English|                NULL|           NULL|7 hours 47 minutes|        NULL|                 NULL|        NULL|\n",
      "|         The Message|   8.9|     Moustapha Akkad|H.A.L. Craig, Tew...|     NULL|Abdallah Gheith, ...|       1976 (Kuwait)|               Libya|              Arabic|                NULL|           NULL|3 hours 27 minutes|        NULL|                 NULL|        NULL|\n",
      "|          Tosun Pasa|   8.9|        Kartal Tibet|        Yavuz Turgul|     NULL|Kemal Sunal, Müjd...|April 24, 2018 (C...|              Turkey|             Turkish|                NULL|           NULL| 1 hour 30 minutes|        NULL|                 NULL|        NULL|\n",
      "+--------------------+------+--------------------+--------------------+---------+--------------------+--------------------+--------------------+--------------------+--------------------+---------------+------------------+------------+---------------------+------------+\n"
     ]
    }
   ],
   "source": [
    "money_udf = udf(money_to_usd, LongType()) # if use IntegerType it will work incorrect\n",
    "\n",
    "# You can use withColumns() with dict instead of multiple withColumn\n",
    "df \\\n",
    "    .withColumn(\"Budget (usd)\", money_udf(\"Budget\")) \\\n",
    "    .withColumn(\"Worldwide Gross (usd)\", money_udf(\"Worldwide Gross\")) \\\n",
    "    .withColumn(\"Profit (usd)\", col(\"Worldwide Gross (usd)\") - col(\"Budget (usd)\")) \\\n",
    "    .show()\n",
    "\n"
   ]
  },
  {
   "cell_type": "code",
   "execution_count": 18,
   "outputs": [
    {
     "name": "stdout",
     "output_type": "stream",
     "text": [
      "+--------------------+------+--------------------+--------------------+---------+--------------------+--------------------+--------------------+--------------------+--------------------+---------------+------------------+----------+------------+----------+\n",
      "|               Title|Rating|            Director|              Writer|Metascore|                Cast|        Release Date|   Country of Origin|           Languages|              Budget|Worldwide Gross|           Runtime|budget_usd|ww_gross_usd|    profit|\n",
      "+--------------------+------+--------------------+--------------------+---------+--------------------+--------------------+--------------------+--------------------+--------------------+---------------+------------------+----------+------------+----------+\n",
      "|The Shawshank Red...|   9.3|      Frank Darabont|Stephen King, Fra...|     82.0|Tim Robbins, Morg...|October 14, 1994 ...|       United States|             English|$25,000,000 (esti...|    $29,332,133|2 hours 22 minutes|  25000000|    29332133|   4332133|\n",
      "|Attack on Titan t...|   9.3|    Yûichirô Hayashi|Natsuki Hanae, Yo...|     NULL|Natsuki Hanae, Yo...|November 8, 2024 ...|               Japan|            Japanese|                NULL|     $3,513,659|2 hours 25 minutes|      NULL|     3513659|      NULL|\n",
      "|       The Godfather|   9.2|Francis Ford Coppola|Mario Puzo, Franc...|    100.0|Marlon Brando, Al...|        1978 (India)|       United States|English, Italian,...|$6,000,000 (estim...|   $250,342,198|2 hours 55 minutes|   6000000|   250342198| 244342198|\n",
      "|      Hababam Sinifi|   9.2|       Ertem Egilmez|Umur Bugay, Rifat...|     NULL|Münir Özkul, Tari...|April 1, 1975 (Tu...|              Turkey|             Turkish|                NULL|           NULL| 1 hour 25 minutes|      NULL|        NULL|      NULL|\n",
      "|Ramayana: The Leg...|   9.2|Ram Mohan, Yûgô S...|Rani Burra, Ram M...|     NULL|Arun Govil, Nikhi...|September 25, 200...|        India, Japan|             English|                NULL|           NULL|2 hours 15 minutes|      NULL|        NULL|      NULL|\n",
      "|The Silence of Sw...|   9.1|       Anuj Bhardwaj|     Suzanne Bernert|     NULL|     Suzanne Bernert|December 30, 2021...|               India|      Hindi, English|                NULL|           NULL|        56 minutes|      NULL|        NULL|      NULL|\n",
      "|         Maya Bazaar|   9.1|Kadiri Venkata Reddy|Pingali Nagendra ...|     NULL|N.T. Rama Rao, S....|March 27, 1957 (I...|               India|       Telugu, Tamil|                NULL|           NULL|3 hours 12 minutes|      NULL|        NULL|      NULL|\n",
      "|     The Dark Knight|   9.0|   Christopher Nolan|Jonathan Nolan, C...|     84.0|Christian Bale, H...|July 18, 2008 (In...|United States, Un...|   English, Mandarin|$185,000,000 (est...| $1,009,053,678|2 hours 32 minutes| 185000000|  1009053678| 824053678|\n",
      "|    Schindler's List|   9.0|    Steven Spielberg|Thomas Keneally, ...|     95.0|Liam Neeson, Ralp...|December 15, 1993...|       United States|English, Hebrew, ...|$22,000,000 (esti...|   $322,161,245|3 hours 15 minutes|  22000000|   322161245| 300161245|\n",
      "|        12 Angry Men|   9.0|        Sidney Lumet|       Reginald Rose|     97.0|Henry Fonda, Lee ...|April 10, 1957 (U...|       United States|             English|$350,000 (estimated)|         $2,945| 1 hour 36 minutes|    350000|        2945|   -347055|\n",
      "|The Godfather: Pa...|   9.0|Francis Ford Coppola|Francis Ford Copp...|     90.0|Al Pacino, Robert...|        1979 (India)|       United States|English, Italian,...|$13,000,000 (esti...|    $47,964,222|3 hours 22 minutes|  13000000|    47964222|  34964222|\n",
      "|The Lord of the R...|   9.0|       Peter Jackson|J.R.R. Tolkien, F...|     94.0|Elijah Wood, Vigg...|February 6, 2004 ...|New Zealand, Unit...|English, Quenya, ...|$94,000,000 (esti...| $1,138,263,151|3 hours 21 minutes|  94000000|  1138263151|1044263151|\n",
      "|           Sandesham|   9.0|    Sathyan Anthikad|         Sreenivasan|     NULL|Sreenivasan, Jaya...|October 30, 1991 ...|               India|           Malayalam|                NULL|           NULL|2 hours 18 minutes|      NULL|        NULL|      NULL|\n",
      "|          Oggatonama|   9.0|       Tauquir Ahmed|       Tauquir Ahmed|     NULL|Shahiduzzaman Sel...|August 19, 2016 (...|          Bangladesh|             Bengali|                NULL|           NULL| 1 hour 40 minutes|      NULL|        NULL|      NULL|\n",
      "|The Lord of the R...|   8.9|       Peter Jackson|J.R.R. Tolkien, F...|     92.0|Elijah Wood, Ian ...|March 15, 2002 (I...|New Zealand, Unit...|   English, Sindarin|$93,000,000 (esti...|   $888,159,923|2 hours 58 minutes|  93000000|   888159923| 795159923|\n",
      "|        Pulp Fiction|   8.9|   Quentin Tarantino|Quentin Tarantino...|     95.0|John Travolta, Um...|October 14, 1994 ...|       United States|English, Spanish,...|$8,000,000 (estim...|   $213,928,762|2 hours 34 minutes|   8000000|   213928762| 205928762|\n",
      "|      I'm Still Here|   8.9|       Walter Salles|Murilo Hauser, He...|     79.0|Fernanda Torres, ...|November 7, 2024 ...|      Brazil, France|          Portuguese|R$8,000,000 (esti...|     $6,600,000|2 hours 16 minutes|   8000000|     6600000|  -1400000|\n",
      "|O.J.: Made in Ame...|   8.9|        Ezra Edelman|Willie Brown, Har...|     NULL|Willie Brown, Har...|May 20, 2016 (Uni...|       United States|             English|                NULL|           NULL|7 hours 47 minutes|      NULL|        NULL|      NULL|\n",
      "|         The Message|   8.9|     Moustapha Akkad|H.A.L. Craig, Tew...|     NULL|Abdallah Gheith, ...|       1976 (Kuwait)|               Libya|              Arabic|                NULL|           NULL|3 hours 27 minutes|      NULL|        NULL|      NULL|\n",
      "|          Tosun Pasa|   8.9|        Kartal Tibet|        Yavuz Turgul|     NULL|Kemal Sunal, Müjd...|April 24, 2018 (C...|              Turkey|             Turkish|                NULL|           NULL| 1 hour 30 minutes|      NULL|        NULL|      NULL|\n",
      "+--------------------+------+--------------------+--------------------+---------+--------------------+--------------------+--------------------+--------------------+--------------------+---------------+------------------+----------+------------+----------+\n"
     ]
    }
   ],
   "source": [
    "money_df = df \\\n",
    "    .withColumn(\"budget_usd\", money_udf(\"Budget\")) \\\n",
    "    .withColumn(\"ww_gross_usd\", money_udf(\"Worldwide Gross\"))\n",
    "\n",
    "money_df \\\n",
    "    .withColumn(\"profit\", money_df.ww_gross_usd - money_df.budget_usd) \\\n",
    "    .show()\n",
    "# can be useful for joins"
   ],
   "metadata": {
    "collapsed": false,
    "ExecuteTime": {
     "end_time": "2025-01-23T13:24:11.558327Z",
     "start_time": "2025-01-23T13:24:11.230599Z"
    }
   }
  },
  {
   "cell_type": "code",
   "execution_count": 19,
   "metadata": {
    "ExecuteTime": {
     "end_time": "2025-01-23T13:24:11.916192Z",
     "start_time": "2025-01-23T13:24:11.556559Z"
    }
   },
   "outputs": [
    {
     "name": "stdout",
     "output_type": "stream",
     "text": [
      "+--------------------+------+--------------------+--------------------+---------+--------------------+--------------------+--------------------+--------------------+--------------------+---------------+------------------+----------+------------+\n",
      "|               Title|Rating|            Director|              Writer|Metascore|                Cast|        Release Date|   Country of Origin|           Languages|              Budget|Worldwide Gross|           Runtime|budget_usd|ww_gross_usd|\n",
      "+--------------------+------+--------------------+--------------------+---------+--------------------+--------------------+--------------------+--------------------+--------------------+---------------+------------------+----------+------------+\n",
      "|   Avengers: Endgame|   8.4|Anthony Russo, Jo...|Christopher Marku...|     78.0|Robert Downey Jr....|April 26, 2019 (I...|       United States|English, Japanese...|$356,000,000 (est...| $2,799,439,100|  3 hours 1 minute| 356000000|  2799439100|\n",
      "|  The Little Mermaid|   7.2|        Rob Marshall|David Magee, Hans...|     59.0|Halle Bailey, Jon...|May 26, 2023 (India)|       United States|             English|$355,100,000 (est...|   $569,626,289|2 hours 15 minutes| 355100000|   569626289|\n",
      "|Avatar: The Way o...|   7.5|       James Cameron|James Cameron, Ri...|     67.0|Sam Worthington, ...|December 16, 2022...|       United States|             English|$350,000,000 (est...| $2,320,250,281|3 hours 12 minutes| 350000000|  2320250281|\n",
      "|Avengers: Infinit...|   8.4|Anthony Russo, Jo...|Christopher Marku...|     68.0|Robert Downey Jr....|April 27, 2018 (I...|United States, No...|             English|$321,000,000 (est...| $2,052,415,039|2 hours 29 minutes| 321000000|  2052415039|\n",
      "|Zack Snyder's Jus...|   7.9|         Zack Snyder|Jerry Siegel, Joe...|     54.0|Henry Cavill, Ben...|March 18, 2021 (I...|United States, Ca...|English, Icelandi...|$300,000,000 (est...|           NULL| 4 hours 2 minutes| 300000000|        NULL|\n",
      "|Mission: Impossib...|   7.7|Christopher McQua...|Bruce Geller, Chr...|     81.0|Tom Cruise, Hayle...|July 12, 2023 (In...|       United States|English, French, ...|$291,000,000 (est...|   $570,619,838|2 hours 43 minutes| 291000000|   570619838|\n",
      "|             Tangled|   7.7|Nathan Greno, Byr...|Dan Fogelman, Jac...|     71.0|Mandy Moore, Zach...|January 21, 2011 ...|United States, Japan|     English, German|$260,000,000 (est...|   $591,806,017| 1 hour 40 minutes| 260000000|   591806017|\n",
      "|      No Time to Die|   7.3|  Cary Joji Fukunaga|Neal Purvis, Robe...|     68.0|Daniel Craig, Ana...|September 30, 202...|United Kingdom, U...|English, French, ...|$250,000,000 (est...|   $774,153,007|2 hours 43 minutes| 250000000|   774153007|\n",
      "|Guardians of the ...|   7.9|          James Gunn|James Gunn, Jim S...|     64.0|Chris Pratt, Chuk...| May 5, 2023 (India)|United States, Ne...|             English|$250,000,000 (est...|   $845,555,777|2 hours 30 minutes| 250000000|   845555777|\n",
      "|Harry Potter and ...|   7.6|         David Yates|Steve Kloves, J.K...|     78.0|Daniel Radcliffe,...|July 17, 2009 (In...|United Kingdom, U...|      English, Latin|$250,000,000 (est...|   $941,055,851|2 hours 33 minutes| 250000000|   941055851|\n",
      "+--------------------+------+--------------------+--------------------+---------+--------------------+--------------------+--------------------+--------------------+--------------------+---------------+------------------+----------+------------+\n"
     ]
    }
   ],
   "source": [
    "highest_budget = money_df.orderBy(desc(\"budget_usd\")).limit(10)\n",
    "highest_budget.show()"
   ]
  },
  {
   "cell_type": "code",
   "execution_count": 20,
   "metadata": {
    "ExecuteTime": {
     "end_time": "2025-01-23T13:24:11.924193Z",
     "start_time": "2025-01-23T13:24:11.917219Z"
    }
   },
   "outputs": [],
   "source": [
    "# want to plot? Use df.toPandas.plot or switch to Zeppeline or Databricks notebooks instead"
   ]
  },
  {
   "cell_type": "code",
   "execution_count": 21,
   "metadata": {
    "ExecuteTime": {
     "end_time": "2025-01-23T13:24:12.157470Z",
     "start_time": "2025-01-23T13:24:11.924083Z"
    }
   },
   "outputs": [
    {
     "name": "stdout",
     "output_type": "stream",
     "text": [
      "+------------------------------------------------------+------+------------------------+----------------------------------------------------+---------+---------------------------------------------------------------------------------------------------------------------------------------------------------------------------------------------------------------------------------------------------------------------------------------------------------+-------------------------------+--------------------------------------+-----------------------------------------+------------------------+---------------+------------------+\n",
      "|Title                                                 |Rating|Director                |Writer                                              |Metascore|Cast                                                                                                                                                                                                                                                                                                     |Release Date                   |Country of Origin                     |Languages                                |Budget                  |Worldwide Gross|Runtime           |\n",
      "+------------------------------------------------------+------+------------------------+----------------------------------------------------+---------+---------------------------------------------------------------------------------------------------------------------------------------------------------------------------------------------------------------------------------------------------------------------------------------------------------+-------------------------------+--------------------------------------+-----------------------------------------+------------------------+---------------+------------------+\n",
      "|Pirates of the Caribbean: The Curse of the Black Pearl|8.1   |Gore Verbinski          |Ted Elliott, Terry Rossio, Stuart Beattie           |63.0     |Johnny Depp, Geoffrey Rush, Orlando Bloom, Keira Knightley, Jack Davenport, Jonathan Pryce, Lee Arenberg, Mackenzie Crook, Damian O'Hare, Giles New, Angus Barnett, David Bailie, Michael Berry Jr., Isaac C. Singleton Jr., Kevin McNally, Treva Etienne, Zoe Saldana, Guy Siner                        |August 15, 2003 (India)        |United States                         |English                                  |$140,000,000 (estimated)|$654,264,546   |2 hours 23 minutes|\n",
      "|Platoon                                               |8.1   |Oliver Stone            |Oliver Stone                                        |92.0     |Charlie Sheen, Tom Berenger, Willem Dafoe, Keith David, Forest Whitaker, Francesco Quinn, Kevin Dillon, John C. McGinley, Reggie Johnson, Mark Moses, Corey Glover, Johnny Depp, Chris Pedersen, Bob Orwig, Corkey Ford, David Neidorf, Richard Edson, Tony Todd                                         |February 13, 1989 (India)      |United States, United Kingdom         |English, Vietnamese                      |$6,000,000 (estimated)  |$138,545,632   |2 hours           |\n",
      "|Edward Scissorhands                                   |7.9   |Tim Burton              |Tim Burton, Caroline Thompson                       |74.0     |Johnny Depp, Winona Ryder, Dianne Wiest, Anthony Michael Hall, Kathy Baker, Robert Oliveri, Conchata Ferrell, Caroline Aaron, Dick Anthony Williams, O-Lan Jones, Vincent Price, Alan Arkin, Susan Blommaert, Linda Perri, John Davidson, Biff Yeager, Marti Greenberg, Bryan Larkin                     |January 1, 1992 (India)        |United States                         |English                                  |$20,000,000 (estimated) |$86,024,005    |1 hour 45 minutes |\n",
      "|Ed Wood                                               |7.8   |Tim Burton              |Rudolph Grey, Scott Alexander, Larry Karaszewski    |71.0     |Johnny Depp, Martin Landau, Sarah Jessica Parker, Patricia Arquette, Jeffrey Jones, G.D. Spradlin, Vincent D'Onofrio, Bill Murray, Mike Starr, Max Casella, Brent Hinkley, Lisa Marie, George 'The Animal' Steele, Juliet Landau, Clive Rosengren, Norman Alden, Leonard Termo, Ned Bellamy              |1994 (India)                   |United States                         |English                                  |$18,000,000 (estimated) |$5,888,045     |2 hours 7 minutes |\n",
      "|What's Eating Gilbert Grape                           |7.7   |Lasse Hallström         |Peter Hedges                                        |73.0     |Johnny Depp, Leonardo DiCaprio, Juliette Lewis, Mary Steenburgen, Darlene Cates, Laura Harrington, Mary Kate Schellhardt, Kevin Tighe, John C. Reilly, Crispin Glover, Penelope Branning, Tim Green, Susan Loughran, Robert B. Hedges, Mark Jordan, Cameron Finley, Brady Coleman, Tim Simek             |March 4, 1994 (United States)  |United States                         |English                                  |$11,000,000 (estimated) |$10,032,765    |1 hour 58 minutes |\n",
      "|Donnie Brasco                                         |7.7   |Mike Newell             |Joseph D. Pistone, Richard Woodley, Paul Attanasio  |77.0     |Al Pacino, Johnny Depp, Michael Madsen, Bruno Kirby, James Russo, Anne Heche, Zeljko Ivanek, Gerry Becker, Robert Miano, Brian Tarantina, Rocco Sisto, Zach Grenier, Walt MacPherson, Ronnie Farer, Terry Serpico, Gretchen Mol, Tony Lip, George Angelica                                               |February 9, 2017 (India)       |United States                         |English, Italian, Japanese               |$35,000,000 (estimated) |$124,909,762   |2 hours 7 minutes |\n",
      "|Finding Neverland                                     |7.7   |Marc Forster            |Allan Knee, David Magee                             |67.0     |Johnny Depp, Kate Winslet, Julie Christie, Radha Mitchell, Dustin Hoffman, Freddie Highmore, Joe Prospero, Nick Roud, Luke Spill, Ian Hart, Kelly Macdonald, Mackenzie Crook, Eileen Essell, Jimmy Gardner, Oliver Fox, Angus Barnett, Toby Jones, Kate Maberly                                          |January 28, 2005 (India)       |United States, United Kingdom         |English                                  |$25,000,000 (estimated) |$116,650,613   |1 hour 46 minutes |\n",
      "|Gonzo: The Life and Work of Dr. Hunter S. Thompson    |7.6   |Alex Gibney             |Alex Gibney, Hunter S. Thompson                     |73.0     |Hunter S. Thompson, Johnny Depp, Joe Cairo, David Carlo, Victor Ortiz, Gilleon Smith, Alex Ziwak, Melissa Otero, Pierre Adeli, Angela Berliner, Eugenia Care, Brian Kimmet, Oscar Acosta, Muhammad Ali, Sonny Barger, Warren Beatty, Bob Braudis, Douglas Brinkley                                       |July 18, 2008 (United States)  |United States                         |English, Portuguese                      |NULL                    |$1,491,958     |2 hours           |\n",
      "|When You're Strange                                   |7.6   |Tom DiCillo             |Tom DiCillo                                         |55.0     |Johnny Depp, John Densmore, Robby Krieger, Ray Manzarek, Jim Morrison, Pamela Courson, The Doors, Murray Goodman, Jimi Hendrix, Lyndon B. Johnson, Jim Ladd, George S. Morrison, Anne Morrison-Chewning, Paul A. Rothchild, Adolf Hitler, Janis Joplin, John F. Kennedy, Robert F. Kennedy               |May 12, 2010 (United States)   |United States                         |English                                  |NULL                    |$1,194,182     |1 hour 26 minutes |\n",
      "|Fear and Loathing in Las Vegas                        |7.5   |Terry Gilliam           |Hunter S. Thompson, Terry Gilliam, Tony Grisoni     |41.0     |Johnny Depp, Benicio Del Toro, Tobey Maguire, Michael Lee Gogin, Larry Cedar, Brian Le Baron, Katherine Helmond, Michael Warwick, Craig Bierko, Tyde Kierney, Mark Harmon, Tim Thomerson, Richard Riehle, Ransom Gates, Laraine Newman, Frank Romano, Gil Boccaccio, Gary Bruno                          |May 22, 1998 (United States)   |United States                         |English                                  |$18,500,000 (estimated) |$10,680,275    |1 hour 58 minutes |\n",
      "|Blow                                                  |7.5   |Ted Demme               |Bruce Porter, David McKenna, Nick Cassavetes        |52.0     |Johnny Depp, Penélope Cruz, Franka Potente, Rachel Griffiths, Paul Reubens, Jordi Mollà, Cliff Curtis, Miguel Sandoval, Ethan Suplee, Ray Liotta, Kevin Gage, Max Perlich, Jesse James, Miguel Pérez, Dan Ferro, Tony Amendola, Bobcat Goldthwait, Michael Tucci                                         |August 4, 2020 (India)         |United States                         |English                                  |$53,000,000 (estimated) |$83,282,296    |2 hours 4 minutes |\n",
      "|Dead Man                                              |7.5   |Jim Jarmusch            |Jim Jarmusch                                        |62.0     |Johnny Depp, Gary Farmer, Crispin Glover, Lance Henriksen, Michael Wincott, Eugene Byrd, John Hurt, Robert Mitchum, Iggy Pop, Gabriel Byrne, Jared Harris, Mili Avital, Jimmie Ray Weeks, Mark Bringelson, John North, Pete Schrum, Mike Dawson, Billy Bob Thornton                                      |December 23, 1995 (Japan)      |Germany, Japan, United States         |English, Cree                            |$9,000,000 (estimated)  |$1,085,079     |2 hours 1 minute  |\n",
      "|Pirates of the Caribbean: Dead Man's Chest            |7.4   |Gore Verbinski          |Ted Elliott, Terry Rossio, Stuart Beattie           |53.0     |Johnny Depp, Orlando Bloom, Keira Knightley, Jack Davenport, Bill Nighy, Jonathan Pryce, Lee Arenberg, Mackenzie Crook, Kevin McNally, David Bailie, Stellan Skarsgård, Tom Hollander, Naomie Harris, Martin Klebba, David Schofield, Alex Norton, Lauren Maher, Nej Adamson                             |August 25, 2006 (India)        |United States                         |English, Turkish, Greek, Mandarin, French|$225,000,000 (estimated)|$1,066,179,747 |2 hours 31 minutes|\n",
      "|A Nightmare on Elm Street                             |7.4   |Wes Craven              |Wes Craven                                          |76.0     |Heather Langenkamp, Johnny Depp, Robert Englund, John Saxon, Ronee Blakley, Amanda Wyss, Jsu Garcia, Charles Fleischer, Joseph Whipp, Lin Shaye, Joe Unger, Mimi Craven, Jack Shea, Ed Call, Sandy Lipton, David Andrews, Jeff Levine, Donna Woodrum                                                     |July 1985 (India)              |United States                         |English                                  |$1,800,000 (estimated)  |$25,858,216    |1 hour 31 minutes |\n",
      "|Corpse Bride                                          |7.4   |Tim Burton, Mike Johnson|Tim Burton, Carlos Grangel, John August             |83.0     |Johnny Depp, Helena Bonham Carter, Emily Watson, Tracey Ullman, Paul Whitehouse, Joanna Lumley, Albert Finney, Richard E. Grant, Christopher Lee, Michael Gough, Jane Horrocks, Enn Reitel, Deep Roy, Danny Elfman, Stephen Ballantyne, Lisa Kay, Gary Martin                                            |October 31, 2005 (India)       |United States                         |English                                  |$40,000,000 (estimated) |$117,237,680   |1 hour 17 minutes |\n",
      "|Sleepy Hollow                                         |7.3   |Tim Burton              |Washington Irving, Kevin Yagher, Andrew Kevin Walker|65.0     |Johnny Depp, Christina Ricci, Miranda Richardson, Michael Gambon, Casper Van Dien, Jeffrey Jones, Richard Griffiths, Ian McDiarmid, Michael Gough, Christopher Walken, Marc Pickering, Lisa Marie, Steven Waddington, Claire Skinner, Christopher Lee, Alun Armstrong, Mark Spalding, Jessica Oyelowo    |July 14, 2000 (India)          |United States, Germany, United Kingdom|English, Latin                           |$100,000,000 (estimated)|$206,071,526   |1 hour 45 minutes |\n",
      "|Sweeney Todd: The Demon Barber of Fleet Street        |7.3   |Tim Burton              |John Logan, Hugh Wheeler, Christopher Bond          |83.0     |Johnny Depp, Helena Bonham Carter, Alan Rickman, Timothy Spall, Sacha Baron Cohen, Jamie Campbell Bower, Laura Michelle Kelly, Jayne Wisener, Ed Sanders, Gracie May Weldon, Ava May, Gabriella Freeman, Jody Halse, Aron Paramor, Lee Whitlock, Nick Haverson, Mandy Holliday, Colin Higgins            |February 28, 2008 (India)      |United States, United Kingdom         |English, Italian                         |$50,000,000 (estimated) |$153,384,272   |1 hour 56 minutes |\n",
      "|Rango                                                 |7.3   |Gore Verbinski          |John Logan, Gore Verbinski, James Ward Byrkit       |75.0     |Johnny Depp, Isla Fisher, Timothy Olyphant, Abigail Breslin, Ned Beatty, Alfred Molina, Bill Nighy, Stephen Root, Harry Dean Stanton, Ray Winstone, Ian Abercrombie, Gil Birmingham, James Ward Byrkit, Claudia Black, Blake Clark, John Cothran, Patrika Darbo, George DelHoyo                          |April 20, 2011 (India)         |United States, United Kingdom         |English                                  |$135,000,000 (estimated)|$245,724,603   |1 hour 47 minutes |\n",
      "|Lost in La Mancha                                     |7.3   |Keith Fulton, Louis Pepe|Keith Fulton, Louis Pepe                            |75.0     |Terry Gilliam, Johnny Depp, Jeff Bridges, Tony Grisoni, Philip A. Patterson, René Cleitman, Nicola Pecorini, José Luis Escolar, Bárbara Pérez-Solero, Benjamín Fernández, Andrea Calderwood, Ray Cooper, Gabriella Pescucci, Carlo Poggioli, Bernard Bouix, Fred Millstein, Vanessa Paradis, Orson Welles|August 2, 2002 (United Kingdom)|United Kingdom, United States         |English, Spanish, French                 |NULL                    |$1,407,019     |1 hour 33 minutes |\n",
      "|Chocolat                                              |7.2   |Lasse Hallström         |Joanne Harris, Robert Nelson Jacobs                 |64.0     |Juliette Binoche, Johnny Depp, Judi Dench, Alfred Molina, Carrie-Anne Moss, Aurelien Parent Koenig, Antonio Gil, Hélène Cardona, Harrison Pratt, Gaelan Connell, Élisabeth Commelin, Ron Cook, Guillaume Tardieu, Hugh O'Conor, John Wood, Lena Olin, Peter Stormare, Leslie Caron                       |August 1, 2021 (India)         |United Kingdom, United States         |English, French                          |$25,000,000 (estimated) |$152,700,626   |2 hours 1 minute  |\n",
      "+------------------------------------------------------+------+------------------------+----------------------------------------------------+---------+---------------------------------------------------------------------------------------------------------------------------------------------------------------------------------------------------------------------------------------------------------------------------------------------------------+-------------------------------+--------------------------------------+-----------------------------------------+------------------------+---------------+------------------+\n"
     ]
    }
   ],
   "source": [
    "# df.filter(col(\"Cast\").contains(\"Johnny Depp\")).show()\n",
    "# df.where(col(\"Cast\").contains(\"Johnny Depp\")).show() # where sounds more logical, no? With filter you don't understand if you are keeping them or filtering out\n",
    "\n",
    "df.filter(df.Cast.contains(\"Johnny Depp\")).show(20, False)\n"
   ]
  },
  {
   "cell_type": "code",
   "execution_count": 22,
   "metadata": {
    "ExecuteTime": {
     "end_time": "2025-01-23T13:24:12.629277Z",
     "start_time": "2025-01-23T13:24:12.117193Z"
    }
   },
   "outputs": [
    {
     "name": "stdout",
     "output_type": "stream",
     "text": [
      "+--------------------+-----------+\n",
      "|            Director|total_gross|\n",
      "+--------------------+-----------+\n",
      "|       James Cameron| 8705319635|\n",
      "|    Steven Spielberg| 7988558298|\n",
      "|Anthony Russo, Jo...| 6721322058|\n",
      "|       Peter Jackson| 6484962056|\n",
      "|   Christopher Nolan| 6205459936|\n",
      "|         David Yates| 5003353447|\n",
      "|           Jon Watts| 3966372984|\n",
      "|         Joss Whedon| 2966001713|\n",
      "|         J.J. Abrams| 2924357232|\n",
      "|     Robert Zemeckis| 2793892268|\n",
      "+--------------------+-----------+\n"
     ]
    }
   ],
   "source": [
    "# groupBy returns not a DataFrame but specific type of DataFrame, so after it you can use only aggregations\n",
    "money_df.groupBy(\"Director\") \\\n",
    "    .agg(sum(\"ww_gross_usd\").alias(\"total_gross\")) \\\n",
    "    .orderBy(desc(\"total_gross\")) \\\n",
    "    .limit(10) \\\n",
    "    .show()"
   ]
  },
  {
   "cell_type": "code",
   "execution_count": 23,
   "metadata": {
    "ExecuteTime": {
     "end_time": "2025-01-23T13:24:12.796881Z",
     "start_time": "2025-01-23T13:24:12.628738Z"
    }
   },
   "outputs": [
    {
     "name": "stdout",
     "output_type": "stream",
     "text": [
      "+--------------------+------+--------------------+--------------------+---------+--------------------+--------------------+--------------------+--------------------+--------------------+---------------+------------------+----+------+\n",
      "|               Title|Rating|            Director|              Writer|Metascore|                Cast|        Release Date|   Country of Origin|           Languages|              Budget|Worldwide Gross|           Runtime|Year|Decade|\n",
      "+--------------------+------+--------------------+--------------------+---------+--------------------+--------------------+--------------------+--------------------+--------------------+---------------+------------------+----+------+\n",
      "|The Shawshank Red...|   9.3|      Frank Darabont|Stephen King, Fra...|     82.0|Tim Robbins, Morg...|October 14, 1994 ...|       United States|             English|$25,000,000 (esti...|    $29,332,133|2 hours 22 minutes|1994|  1990|\n",
      "|Attack on Titan t...|   9.3|    Yûichirô Hayashi|Natsuki Hanae, Yo...|     NULL|Natsuki Hanae, Yo...|November 8, 2024 ...|               Japan|            Japanese|                NULL|     $3,513,659|2 hours 25 minutes|2024|  2020|\n",
      "|       The Godfather|   9.2|Francis Ford Coppola|Mario Puzo, Franc...|    100.0|Marlon Brando, Al...|        1978 (India)|       United States|English, Italian,...|$6,000,000 (estim...|   $250,342,198|2 hours 55 minutes|1978|  1970|\n",
      "|      Hababam Sinifi|   9.2|       Ertem Egilmez|Umur Bugay, Rifat...|     NULL|Münir Özkul, Tari...|April 1, 1975 (Tu...|              Turkey|             Turkish|                NULL|           NULL| 1 hour 25 minutes|1975|  1970|\n",
      "|Ramayana: The Leg...|   9.2|Ram Mohan, Yûgô S...|Rani Burra, Ram M...|     NULL|Arun Govil, Nikhi...|September 25, 200...|        India, Japan|             English|                NULL|           NULL|2 hours 15 minutes|2001|  2000|\n",
      "|The Silence of Sw...|   9.1|       Anuj Bhardwaj|     Suzanne Bernert|     NULL|     Suzanne Bernert|December 30, 2021...|               India|      Hindi, English|                NULL|           NULL|        56 minutes|2021|  2020|\n",
      "|         Maya Bazaar|   9.1|Kadiri Venkata Reddy|Pingali Nagendra ...|     NULL|N.T. Rama Rao, S....|March 27, 1957 (I...|               India|       Telugu, Tamil|                NULL|           NULL|3 hours 12 minutes|1957|  1950|\n",
      "|     The Dark Knight|   9.0|   Christopher Nolan|Jonathan Nolan, C...|     84.0|Christian Bale, H...|July 18, 2008 (In...|United States, Un...|   English, Mandarin|$185,000,000 (est...| $1,009,053,678|2 hours 32 minutes|2008|  2000|\n",
      "|    Schindler's List|   9.0|    Steven Spielberg|Thomas Keneally, ...|     95.0|Liam Neeson, Ralp...|December 15, 1993...|       United States|English, Hebrew, ...|$22,000,000 (esti...|   $322,161,245|3 hours 15 minutes|1993|  1990|\n",
      "|        12 Angry Men|   9.0|        Sidney Lumet|       Reginald Rose|     97.0|Henry Fonda, Lee ...|April 10, 1957 (U...|       United States|             English|$350,000 (estimated)|         $2,945| 1 hour 36 minutes|1957|  1950|\n",
      "|The Godfather: Pa...|   9.0|Francis Ford Coppola|Francis Ford Copp...|     90.0|Al Pacino, Robert...|        1979 (India)|       United States|English, Italian,...|$13,000,000 (esti...|    $47,964,222|3 hours 22 minutes|1979|  1970|\n",
      "|The Lord of the R...|   9.0|       Peter Jackson|J.R.R. Tolkien, F...|     94.0|Elijah Wood, Vigg...|February 6, 2004 ...|New Zealand, Unit...|English, Quenya, ...|$94,000,000 (esti...| $1,138,263,151|3 hours 21 minutes|2004|  2000|\n",
      "|           Sandesham|   9.0|    Sathyan Anthikad|         Sreenivasan|     NULL|Sreenivasan, Jaya...|October 30, 1991 ...|               India|           Malayalam|                NULL|           NULL|2 hours 18 minutes|1991|  1990|\n",
      "|          Oggatonama|   9.0|       Tauquir Ahmed|       Tauquir Ahmed|     NULL|Shahiduzzaman Sel...|August 19, 2016 (...|          Bangladesh|             Bengali|                NULL|           NULL| 1 hour 40 minutes|2016|  2010|\n",
      "|The Lord of the R...|   8.9|       Peter Jackson|J.R.R. Tolkien, F...|     92.0|Elijah Wood, Ian ...|March 15, 2002 (I...|New Zealand, Unit...|   English, Sindarin|$93,000,000 (esti...|   $888,159,923|2 hours 58 minutes|2002|  2000|\n",
      "|        Pulp Fiction|   8.9|   Quentin Tarantino|Quentin Tarantino...|     95.0|John Travolta, Um...|October 14, 1994 ...|       United States|English, Spanish,...|$8,000,000 (estim...|   $213,928,762|2 hours 34 minutes|1994|  1990|\n",
      "|      I'm Still Here|   8.9|       Walter Salles|Murilo Hauser, He...|     79.0|Fernanda Torres, ...|November 7, 2024 ...|      Brazil, France|          Portuguese|R$8,000,000 (esti...|     $6,600,000|2 hours 16 minutes|2024|  2020|\n",
      "|O.J.: Made in Ame...|   8.9|        Ezra Edelman|Willie Brown, Har...|     NULL|Willie Brown, Har...|May 20, 2016 (Uni...|       United States|             English|                NULL|           NULL|7 hours 47 minutes|2016|  2010|\n",
      "|         The Message|   8.9|     Moustapha Akkad|H.A.L. Craig, Tew...|     NULL|Abdallah Gheith, ...|       1976 (Kuwait)|               Libya|              Arabic|                NULL|           NULL|3 hours 27 minutes|1976|  1970|\n",
      "|          Tosun Pasa|   8.9|        Kartal Tibet|        Yavuz Turgul|     NULL|Kemal Sunal, Müjd...|April 24, 2018 (C...|              Turkey|             Turkish|                NULL|           NULL| 1 hour 30 minutes|2018|  2010|\n",
      "+--------------------+------+--------------------+--------------------+---------+--------------------+--------------------+--------------------+--------------------+--------------------+---------------+------------------+----+------+\n"
     ]
    }
   ],
   "source": [
    "final_df = df.withColumn(\"Year\", regexp_extract(col(\"Release Date\"), r\"(\\d{4})\", 1).cast(IntegerType())) \\\n",
    "    .withColumn(\"Decade\", (col(\"Year\") / 10).cast(IntegerType()) * 10) \\\n",
    "\n",
    "final_df.show()"
   ]
  },
  {
   "cell_type": "code",
   "execution_count": 25,
   "metadata": {
    "ExecuteTime": {
     "end_time": "2025-01-23T13:25:12.027538Z",
     "start_time": "2025-01-23T13:25:09.639151Z"
    }
   },
   "outputs": [
    {
     "name": "stderr",
     "output_type": "stream",
     "text": [
      "                                                                                \r"
     ]
    }
   ],
   "source": [
    "final_df.write.mode(\"overwrite\").partitionBy(\"Decade\").parquet(\"spark_parquet\")\n",
    "# fails if path already exists if you don't specify mode"
   ]
  },
  {
   "cell_type": "code",
   "execution_count": 26,
   "metadata": {
    "ExecuteTime": {
     "end_time": "2025-01-23T13:25:13.961761Z",
     "start_time": "2025-01-23T13:25:13.572048Z"
    }
   },
   "outputs": [
    {
     "name": "stdout",
     "output_type": "stream",
     "text": [
      "+--------------------+------+--------------------+--------------------+---------+--------------------+--------------------+--------------------+--------------------+--------------------+---------------+------------------+----+------+\n",
      "|               Title|Rating|            Director|              Writer|Metascore|                Cast|        Release Date|   Country of Origin|           Languages|              Budget|Worldwide Gross|           Runtime|Year|Decade|\n",
      "+--------------------+------+--------------------+--------------------+---------+--------------------+--------------------+--------------------+--------------------+--------------------+---------------+------------------+----+------+\n",
      "|The Shawshank Red...|   9.3|      Frank Darabont|Stephen King, Fra...|     82.0|Tim Robbins, Morg...|October 14, 1994 ...|       United States|             English|$25,000,000 (esti...|    $29,332,133|2 hours 22 minutes|1994|  1990|\n",
      "|Attack on Titan t...|   9.3|    Yûichirô Hayashi|Natsuki Hanae, Yo...|     NULL|Natsuki Hanae, Yo...|November 8, 2024 ...|               Japan|            Japanese|                NULL|     $3,513,659|2 hours 25 minutes|2024|  2020|\n",
      "|       The Godfather|   9.2|Francis Ford Coppola|Mario Puzo, Franc...|    100.0|Marlon Brando, Al...|        1978 (India)|       United States|English, Italian,...|$6,000,000 (estim...|   $250,342,198|2 hours 55 minutes|1978|  1970|\n",
      "|      Hababam Sinifi|   9.2|       Ertem Egilmez|Umur Bugay, Rifat...|     NULL|Münir Özkul, Tari...|April 1, 1975 (Tu...|              Turkey|             Turkish|                NULL|           NULL| 1 hour 25 minutes|1975|  1970|\n",
      "|Ramayana: The Leg...|   9.2|Ram Mohan, Yûgô S...|Rani Burra, Ram M...|     NULL|Arun Govil, Nikhi...|September 25, 200...|        India, Japan|             English|                NULL|           NULL|2 hours 15 minutes|2001|  2000|\n",
      "|The Silence of Sw...|   9.1|       Anuj Bhardwaj|     Suzanne Bernert|     NULL|     Suzanne Bernert|December 30, 2021...|               India|      Hindi, English|                NULL|           NULL|        56 minutes|2021|  2020|\n",
      "|         Maya Bazaar|   9.1|Kadiri Venkata Reddy|Pingali Nagendra ...|     NULL|N.T. Rama Rao, S....|March 27, 1957 (I...|               India|       Telugu, Tamil|                NULL|           NULL|3 hours 12 minutes|1957|  1950|\n",
      "|     The Dark Knight|   9.0|   Christopher Nolan|Jonathan Nolan, C...|     84.0|Christian Bale, H...|July 18, 2008 (In...|United States, Un...|   English, Mandarin|$185,000,000 (est...| $1,009,053,678|2 hours 32 minutes|2008|  2000|\n",
      "|    Schindler's List|   9.0|    Steven Spielberg|Thomas Keneally, ...|     95.0|Liam Neeson, Ralp...|December 15, 1993...|       United States|English, Hebrew, ...|$22,000,000 (esti...|   $322,161,245|3 hours 15 minutes|1993|  1990|\n",
      "|        12 Angry Men|   9.0|        Sidney Lumet|       Reginald Rose|     97.0|Henry Fonda, Lee ...|April 10, 1957 (U...|       United States|             English|$350,000 (estimated)|         $2,945| 1 hour 36 minutes|1957|  1950|\n",
      "+--------------------+------+--------------------+--------------------+---------+--------------------+--------------------+--------------------+--------------------+--------------------+---------------+------------------+----+------+\n"
     ]
    }
   ],
   "source": [
    "final_df.createOrReplaceTempView(\"final_view\")\n",
    "spark.sql(\"select * from final_view limit 10\").show()"
   ]
  },
  {
   "cell_type": "code",
   "execution_count": 30,
   "outputs": [
    {
     "name": "stderr",
     "output_type": "stream",
     "text": [
      "                                                                                \r"
     ]
    },
    {
     "name": "stdout",
     "output_type": "stream",
     "text": [
      "+--------------------+------+--------------------+--------------------+---------+--------------------+--------------------+--------------------+--------------------+--------------------+---------------+------------------+----+------+\n",
      "|               Title|Rating|            Director|              Writer|Metascore|                Cast|        Release Date|   Country of Origin|           Languages|              Budget|Worldwide Gross|           Runtime|Year|Decade|\n",
      "+--------------------+------+--------------------+--------------------+---------+--------------------+--------------------+--------------------+--------------------+--------------------+---------------+------------------+----+------+\n",
      "|The Shawshank Red...|   9.3|      Frank Darabont|Stephen King, Fra...|     82.0|Tim Robbins, Morg...|October 14, 1994 ...|       United States|             English|$25,000,000 (esti...|    $29,332,133|2 hours 22 minutes|1994|  1990|\n",
      "|Attack on Titan t...|   9.3|    Yûichirô Hayashi|Natsuki Hanae, Yo...|     NULL|Natsuki Hanae, Yo...|November 8, 2024 ...|               Japan|            Japanese|                NULL|     $3,513,659|2 hours 25 minutes|2024|  2020|\n",
      "|       The Godfather|   9.2|Francis Ford Coppola|Mario Puzo, Franc...|    100.0|Marlon Brando, Al...|        1978 (India)|       United States|English, Italian,...|$6,000,000 (estim...|   $250,342,198|2 hours 55 minutes|1978|  1970|\n",
      "|      Hababam Sinifi|   9.2|       Ertem Egilmez|Umur Bugay, Rifat...|     NULL|Münir Özkul, Tari...|April 1, 1975 (Tu...|              Turkey|             Turkish|                NULL|           NULL| 1 hour 25 minutes|1975|  1970|\n",
      "|Ramayana: The Leg...|   9.2|Ram Mohan, Yûgô S...|Rani Burra, Ram M...|     NULL|Arun Govil, Nikhi...|September 25, 200...|        India, Japan|             English|                NULL|           NULL|2 hours 15 minutes|2001|  2000|\n",
      "|The Silence of Sw...|   9.1|       Anuj Bhardwaj|     Suzanne Bernert|     NULL|     Suzanne Bernert|December 30, 2021...|               India|      Hindi, English|                NULL|           NULL|        56 minutes|2021|  2020|\n",
      "|         Maya Bazaar|   9.1|Kadiri Venkata Reddy|Pingali Nagendra ...|     NULL|N.T. Rama Rao, S....|March 27, 1957 (I...|               India|       Telugu, Tamil|                NULL|           NULL|3 hours 12 minutes|1957|  1950|\n",
      "|     The Dark Knight|   9.0|   Christopher Nolan|Jonathan Nolan, C...|     84.0|Christian Bale, H...|July 18, 2008 (In...|United States, Un...|   English, Mandarin|$185,000,000 (est...| $1,009,053,678|2 hours 32 minutes|2008|  2000|\n",
      "|    Schindler's List|   9.0|    Steven Spielberg|Thomas Keneally, ...|     95.0|Liam Neeson, Ralp...|December 15, 1993...|       United States|English, Hebrew, ...|$22,000,000 (esti...|   $322,161,245|3 hours 15 minutes|1993|  1990|\n",
      "|        12 Angry Men|   9.0|        Sidney Lumet|       Reginald Rose|     97.0|Henry Fonda, Lee ...|April 10, 1957 (U...|       United States|             English|$350,000 (estimated)|         $2,945| 1 hour 36 minutes|1957|  1950|\n",
      "+--------------------+------+--------------------+--------------------+---------+--------------------+--------------------+--------------------+--------------------+--------------------+---------------+------------------+----+------+\n"
     ]
    }
   ],
   "source": [
    "final_df.write.mode(\"overwrite\").saveAsTable(\"final_table\")\n",
    "spark.sql(\"select * from final_table limit 10\").show()\n"
   ],
   "metadata": {
    "collapsed": false,
    "ExecuteTime": {
     "end_time": "2025-01-23T13:26:38.830549Z",
     "start_time": "2025-01-23T13:26:37.699724Z"
    }
   }
  },
  {
   "cell_type": "code",
   "execution_count": null,
   "metadata": {
    "ExecuteTime": {
     "start_time": "2025-01-23T13:24:13.315244Z"
    }
   },
   "outputs": [],
   "source": [
    "# to read from db use jdbc\n",
    "# but you will need to install JDBC driver for your particular database first\n"
   ]
  },
  {
   "cell_type": "markdown",
   "source": [
    "# Window functions"
   ],
   "metadata": {
    "collapsed": false
   }
  },
  {
   "cell_type": "code",
   "execution_count": 58,
   "outputs": [
    {
     "name": "stdout",
     "output_type": "stream",
     "text": [
      "+------------------------------------------------+----------+-------------------------------------------------+-------------------+-------------------+-------------------------+----------------------+----------------------------------------------------------------------------------------------------------+\n",
      "|title                                           |date      |previous_movie_title                             |previous_movie_date|previous_movie_diff|previous_movie_diff_years|language              |languages                                                                                                 |\n",
      "+------------------------------------------------+----------+-------------------------------------------------+-------------------+-------------------+-------------------------+----------------------+----------------------------------------------------------------------------------------------------------+\n",
      "|Rabbit-Proof Fence                              |2002-02-21|Walkabout                                        |1971-07-01         |11193              |31.0                     |Aboriginal            |English, Aboriginal                                                                                       |\n",
      "|Tsotsi                                          |2005-12-23|Lethal Weapon 2                                  |1990-01-01         |5835               |16.0                     |Afrikaans             |Zulu, Sotho, Xhosa, Afrikaans, English                                                                    |\n",
      "|Triangle of Sadness                             |2022-09-18|Beasts of No Nation                              |2017-10-04         |1810               |5.0                      |Akan                  |English, Swedish, German, French, Greek, Tagalog, Akan                                                    |\n",
      "|Vivement dimanche!                              |1983-08-10|The Ipcress File                                 |1965-03-18         |6719               |18.0                     |Albanian              |French, Albanian                                                                                          |\n",
      "|Children of a Lesser God                        |1988-06-22|The Miracle Worker                               |1962-07-28         |9461               |26.0                     |American Sign Language|English, American Sign Language                                                                           |\n",
      "|Capharnaüm                                      |2019-06-21|Va, vis et deviens                               |2005-03-30         |5196               |14.0                     |Amharic               |Arabic, Amharic                                                                                           |\n",
      "|Europa                                          |1991-06-27|Amarcord                                         |1973-12-18         |6400               |18.0                     |Ancient (to 1453)     |English, German, French, Latin, Greek, Ancient (to 1453)                                                  |\n",
      "|The Man Who Knew Too Much                       |1956-06-01|Beau Geste                                       |1939-07-24         |6157               |17.0                     |Arabic                |English, Arabic, French                                                                                   |\n",
      "|Sideways                                        |2004-10-22|Nran Guyne                                       |1982-01-27         |8304               |23.0                     |Armenian              |English, Armenian, French                                                                                 |\n",
      "|Look on the Internet                            |1991-10-30|Nran Guyne                                       |1982-01-27         |3563               |10.0                     |Azerbaijani           |Persian, Azerbaijani                                                                                      |\n",
      "|Les Misérables                                  |2019-11-20|Entre les murs                                   |2008-09-24         |4074               |11.0                     |Bambara               |French, Bambara                                                                                           |\n",
      "|Brestskaya Krepost                              |2010-11-04|Idi I Smotri                                     |1985-09-03         |9193               |25.0                     |Belarusian            |Russian, Ukrainian, Belarusian                                                                            |\n",
      "|Yuva                                            |2004-05-21|Nayak                                            |1966-05-06         |13895              |38.0                     |Bengali               |Hindi, Bengali                                                                                            |\n",
      "|Medena zemja                                    |2019-07-26|Venuto al mondo                                  |2012-11-08         |2451               |7.0                      |Bosnian               |Serbo-Croatian, Serbian, Croatian, Turkish, Macedonian, Bosnian                                           |\n",
      "|Bohemian Rhapsody                               |2018-11-16|Dear Frankie                                     |2005-01-14         |5054               |14.0                     |British Sign Language |English, British Sign Language                                                                            |\n",
      "|God's Own Country                               |2017-08-24|Treto poluvreme                                  |2012-09-27         |1792               |5.0                      |Bulgarian             |English, Romanian, Bulgarian                                                                              |\n",
      "|The Lady from Shanghai                          |1948-04-14|Island of Lost Souls                             |1932-12-01         |5613               |15.0                     |Cantonese             |English, Cantonese                                                                                        |\n",
      "|El abrazo de la serpiente                       |2015-05-25|Life in a Day                                    |2011-01-27         |1579               |4.0                      |Catalan               |English, Spanish, Portuguese, Aboriginal, German, Catalan, Latin                                          |\n",
      "|Fantastic Beasts and Where to Find Them         |2016-11-18|The Killing Fields                               |1985-11-01         |11340              |31.0                     |Central Khmer         |English, Central Khmer                                                                                    |\n",
      "|12                                              |2007-09-20|Voyna                                            |2002-03-14         |2016               |6.0                      |Chechen               |Russian, Chechen                                                                                          |\n",
      "|The Monster                                     |1994-10-22|Dersu Uzala                                      |1975-08-02         |7021               |19.0                     |Chinese               |Italian, Chinese                                                                                          |\n",
      "|Un prophète                                     |2009-08-26|A Very Long Engagement                           |2004-10-27         |1764               |5.0                      |Corsican              |French, Arabic, Corsican                                                                                  |\n",
      "|Zimna Wojna                                     |2018-06-08|Parada                                           |2011-11-01         |2411               |7.0                      |Croatian              |Polish, French, Croatian, German, Russian, Serbian, Italian                                               |\n",
      "|Lásky jedné plavovlásky                         |1965-11-12|Cat People                                       |1942-12-25         |8358               |23.0                     |Czech                 |Czech                                                                                                     |\n",
      "|Vredens Dag                                     |1943-11-13|Häxan: Witchcraft Through the Ages               |1922-09-18         |7726               |21.0                     |Danish                |Danish                                                                                                    |\n",
      "|Dirty Wars                                      |2013-10-18|Osama                                            |2003-06-27         |3766               |10.0                     |Dari                  |English, Pashtu, Somali, Dari, Arabic                                                                     |\n",
      "|Mutiny on the Bounty                            |1962-11-08|Captain Horatio Hornblower R.N.                  |1951-04-10         |4230               |12.0                     |Dutch                 |English, Polynesian, French, Dutch                                                                        |\n",
      "|Broken Blossoms or The Yellow Man and the Girl  |1919-10-20|Intolerance                                      |1916-10-04         |1111               |3.0                      |English               |English                                                                                                   |\n",
      "|Gattaca                                         |1997-10-24|The Great Dictator                               |1941-03-07         |20685              |57.0                     |Esperanto             |English, Esperanto                                                                                        |\n",
      "|Mandariinid                                     |2013-10-17|The Class                                        |2007-03-16         |2407               |7.0                      |Estonian              |Estonian, Russian, Georgian                                                                               |\n",
      "|The Adventures of Priscilla, Queen of the Desert|1994-09-08|Operation Petticoat                              |1959-12-24         |12677              |35.0                     |Filipino              |English, Filipino                                                                                         |\n",
      "|Reds                                            |1984-02-01|Tuntematon sotilas                               |1955-12-23         |10267              |28.0                     |Finnish               |English, Russian, German, French, Finnish, Italian                                                        |\n",
      "|De zaak Alzheimer                               |2003-10-15|The Fourth Man                                   |1983-03-24         |7510               |21.0                     |Flemish               |Dutch, French, Flemish                                                                                    |\n",
      "|Dr. Mabuse, der Spieler                         |1922-09-30|Les vampires                                     |1915-11-13         |2513               |7.0                      |French                |German, English, French                                                                                   |\n",
      "|120 battements par minute                       |2017-08-23|L'enfant sauvage                                 |1970-02-26         |17345              |48.0                     |French Sign Language  |French, French Sign Language, English                                                                     |\n",
      "|Braveheart                                      |1995-06-22|I Know Where I'm Going!                          |1945-12-17         |18084              |50.0                     |Gaelic                |English, French, Latin, Gaelic, Italian                                                                   |\n",
      "|The Beasts                                      |2022-07-20|Mar adentro                                      |2004-09-03         |6529               |18.0                     |Galician              |French, Galician, Spanish                                                                                 |\n",
      "|13 Tzameti                                      |2006-02-08|Monanieba                                        |1987-05-18         |6841               |19.0                     |Georgian              |French, Georgian, German                                                                                  |\n",
      "|Pandora's Box                                   |1930-02-22|Metropolis                                       |1927-02-06         |1112               |3.0                      |German                |None, German                                                                                              |\n",
      "|L'avventura                                     |1960-09-14|Forced Cure                                      |1950-09-15         |3652               |10.0                     |Greek                 |Italian, English, Greek                                                                                   |\n",
      "|Train to Busan                                  |2016-10-21|Lilo & Stitch                                    |2002-06-16         |5241               |14.0                     |Hawaiian              |Korean, Hawaiian, English                                                                                 |\n",
      "|Spalovac mrtvol                                 |1969-03-14|Boys Town                                        |1938-09-09         |11144              |31.0                     |Hebrew                |Czech, Hebrew                                                                                             |\n",
      "|Pyaasa                                          |1957-02-19|The Day the Earth Stood Still                    |1951-09-20         |1979               |5.0                      |Hindi                 |Hindi                                                                                                     |\n",
      "|Sai de ke · ba lai: Tai yang qi                 |2011-09-09|Yi Yi                                            |2000-12-16         |3919               |11.0                     |Hokkien               |Aboriginal, Japanese, Hokkien                                                                             |\n",
      "|Koyaanisqatsi                                   |1989-08-15|Powaqqatsi                                       |1988-06-02         |439                |1.0                      |Hopi                  |None, Hopi, English                                                                                       |\n",
      "|Murder on the Orient Express                    |1974-11-22|Dracula                                          |1931-03-11         |15962              |44.0                     |Hungarian             |English, French, German, Turkish, Italian, Swedish, Hungarian                                             |\n",
      "|Nói albinói                                     |2003-02-28|Offret                                           |1987-01-01         |5902               |16.0                     |Icelandic             |Icelandic, French                                                                                         |\n",
      "|John Wick: Chapter 3 - Parabellum               |2019-05-17|The Accountant                                   |2016-10-14         |945                |3.0                      |Indonesian            |English, Russian, Japanese, Indonesian, Mandarin, Italian, Arabic, Latin                                  |\n",
      "|Soul                                            |2020-12-25|The Snow Walker                                  |2004-03-05         |6139               |17.0                     |Inuktitut             |English, Korean, Inuktitut                                                                                |\n",
      "|The Dead                                        |1987-11-06|The Man Who Didn't Talk Too Much                 |1952-09-14         |12836              |35.0                     |Irish Gaelic          |English, Irish Gaelic                                                                                     |\n",
      "|That Hamilton Woman                             |1941-04-30|The Lady Vanishes                                |1938-11-01         |911                |2.0                      |Italian               |English, French, Italian                                                                                  |\n",
      "|Objective, Burma!                               |1945-02-17|Olympia 1. Teil - Fest der Völker                |1938-04-21         |2494               |7.0                      |Japanese              |English, Japanese                                                                                         |\n",
      "|Babel                                           |2006-12-29|Sans soleil                                      |1983-03-02         |8703               |24.0                     |Japanese Sign Language|English, Arabic, Spanish, Japanese, Berber languages, French, Russian, Japanese Sign Language             |\n",
      "|Star Wars: Episode VI - Return of the Jedi      |1983-12-16|Belle De Jour                                    |1967-05-24         |6050               |17.0                     |Kalmyk-Oirat          |English, Kikuyu, Tagalog, Kalmyk-Oirat, Quechua, Polish                                                   |\n",
      "|K.G.F: Chapter 1                                |2018-12-21|Kirik Party                                      |2016-12-30         |721                |2.0                      |Kannada               |Kannada                                                                                                   |\n",
      "|Garden Flower                                   |2004-08-20|Star Trek VI: The Undiscovered Country           |1991-12-06         |4641               |13.0                     |Klingon               |English, Klingon                                                                                          |\n",
      "|Heatwave                                        |1989-07-21|Tyuhvhj                                          |1970-03-18         |7065               |19.0                     |Korean                |English, Italian, Spanish, Korean                                                                         |\n",
      "|Amsal                                           |2015-07-22|Boksuneun Naui Geot                              |2002-03-29         |4863               |13.0                     |Korean Sign Language  |Korean, English, Japanese, Cantonese, Mandarin, French, Korean Sign Language                              |\n",
      "|To vlemma tou Odyssea                           |1995-09-13|Sürü                                             |1979-03-01         |6040               |17.0                     |Kurdish               |English, Greek, Bulgarian, Albanian, Serbian, Romanian, Kurdish, Macedonian, German                       |\n",
      "|Rome, Open City                                 |1945-10-08|The Great Dictator                               |1941-03-07         |1676               |5.0                      |Latin                 |Italian, German, Latin                                                                                    |\n",
      "|Inside Out                                      |2015-06-26|Foreign Correspondent                            |1940-08-16         |27342              |75.0                     |Latvian               |English, Portuguese, Latvian                                                                              |\n",
      "|Zero 2                                          |2010-01-20|12 stulev                                        |1971-06-21         |14093              |39.0                     |Lithuanian            |Lithuanian, Russian, English                                                                              |\n",
      "|Karaula                                         |2008-03-07|To vlemma tou Odyssea                            |1995-09-13         |4559               |12.0                     |Macedonian            |Bosnian, Serbian, Croatian, Macedonian, Slovenian                                                         |\n",
      "|Dhaka Attack                                    |2017-10-20|King Rat                                         |1965-10-27         |18986              |52.0                     |Malay                 |Bengali, English, Malay                                                                                   |\n",
      "|Unnaipol Oruvan                                 |2009-09-18|Spadikam                                         |1995-03-30         |5286               |14.0                     |Malayalam             |Tamil, Telugu, English, Malayalam                                                                         |\n",
      "|The Inn of the Sixth Happiness                  |1959-01-11|Forced Cure                                      |1950-09-15         |3040               |8.0                      |Mandarin              |English, Japanese, Mandarin, Russian, Cantonese                                                           |\n",
      "|Whale Rider                                     |2003-01-30|Warrios                                          |1994-12-08         |2975               |8.0                      |Maori                 |English, Maori                                                                                            |\n",
      "|Pawankhind                                      |2022-02-18|Tumbbad                                          |2018-10-12         |1225               |3.0                      |Marathi               |Marathi                                                                                                   |\n",
      "|The Fountain                                    |2006-11-22|El Norte                                         |1989-11-16         |6215               |17.0                     |Maya                  |English, Maya                                                                                             |\n",
      "|Blood Diamond                                   |2007-06-25|Amistad                                          |1997-12-25         |3469               |10.0                     |Mende                 |English, Mende, Afrikaans                                                                                 |\n",
      "|Wo de shaonu shidai                             |2015-10-15|Ni na bian ji dian                               |2001-09-26         |5132               |14.0                     |Min Nan               |Mandarin, Min Nan                                                                                         |\n",
      "|Mongol                                          |2007-09-20|The Story of the Weeping Camel                   |2004-01-08         |1351               |4.0                      |Mongolian             |Mongolian, Mandarin                                                                                       |\n",
      "|The Outlaw: Josey Wales                         |1976-06-30|The Searchers                                    |1956-05-26         |7340               |20.0                     |Navajo                |English, Navajo, Spanish                                                                                  |\n",
      "|The Hand of God                                 |2021-12-15|Seven Beauties                                   |1975-12-20         |16797              |46.0                     |Neapolitan            |Italian, Neapolitan                                                                                       |\n",
      "|Raiders of the Lost Ark                         |1981-12-10|Black Narcissus                                  |1947-05-26         |12617              |35.0                     |Nepali                |English, German, Spanish, Nepali, Hebrew, Arabic                                                          |\n",
      "|Quest for Fire                                  |1981-12-16|Otona no miru ehon - Umarete wa mita keredo      |1932-06-03         |18093              |50.0                     |None                  |None, French                                                                                              |\n",
      "|Wonder Woman                                    |2017-06-02|The Last of the Mohicans                         |1992-09-25         |9016               |25.0                     |North American Indian |English, German, Dutch, Flemish, French, Spanish, Chinese, Greek, Ancient (to 1453), North American Indian|\n",
      "|Flåklypa Grand Prix                             |1975-08-28|I Remember Mama                                  |1948-03-17         |10025              |27.0                     |Norwegian             |Norwegian                                                                                                 |\n",
      "|The Boy Who Harnessed the Wind                  |2019-03-08|District 9                                       |2009-09-11         |3465               |9.0                      |Nyanja                |Nyanja, English, Arabic                                                                                   |\n",
      "|Le château de ma mère                           |1990-10-26|La gloire de mon père                            |1990-08-29         |58                 |0.0                      |Occitan               |French, Occitan                                                                                           |\n",
      "|The Lord of the Rings: The Return of the King   |2004-02-06|The Lord of the Rings: The Two Towers            |2003-03-28         |315                |1.0                      |Old English           |English, Quenya, Old English, Sindarin                                                                    |\n",
      "|Osama                                           |2003-06-27|The Beast of War                                 |1988-09-07         |5406               |15.0                     |Pashtu                |Dari, Pashtu, English, French, Arabic                                                                     |\n",
      "|The Revenant                                    |2016-02-26|Dances with Wolves                               |1990-11-21         |9228               |25.0                     |Pawnee                |English, Pawnee, French                                                                                   |\n",
      "|Stardust Memories                               |1980-09-26|Gaav                                             |1969-01-21         |4266               |12.0                     |Persian               |English, French, Persian                                                                                  |\n",
      "|Kanal                                           |1957-04-20|Call Northside 777                               |1948-03-01         |3337               |9.0                      |Polish                |Polish, German                                                                                            |\n",
      "|Mutiny on the Bounty                            |1962-11-08|Mutiny on the Bounty                             |1936-01-12         |9797               |27.0                     |Polynesian            |English, Polynesian, French, Dutch                                                                        |\n",
      "|Robin Hood                                      |1973-11-08|Black God, White Devil                           |1964-07-10         |3408               |9.0                      |Portuguese            |English, Portuguese                                                                                       |\n",
      "|Four Lions                                      |2010-05-07|Kabhi Khushi Kabhie Gham...                      |2001-12-14         |3066               |8.0                      |Punjabi               |English, Urdu, Punjabi, Arabic                                                                            |\n",
      "|Diarios De Motocicleta                          |2009-08-21|Star Wars: Episode VI - Return of the Jedi       |1983-12-16         |9380               |26.0                     |Quechua               |Spanish, Quechua, Mapudungun                                                                              |\n",
      "|Bajrangi Bhaijaan                               |2015-07-17|Dhamaal                                          |2007-09-07         |2870               |8.0                      |Rajasthani            |Hindi, Urdu, Rajasthani                                                                                   |\n",
      "|Trois Couleurs: Bleu                            |1993-09-08|The Last Crusade                                 |1973-02-01         |7524               |21.0                     |Romanian              |French, Romanian, Polish                                                                                  |\n",
      "|Nosferatu - Phantom der Nacht                   |1980-02-27|From Russia with Love                            |1964-05-27         |5754               |16.0                     |Romany                |German, English, Romany                                                                                   |\n",
      "|Grand Hotel                                     |1932-09-11|Battleship Potemkin                              |1925-12-24         |2453               |7.0                      |Russian               |English, Russian                                                                                          |\n",
      "|Sameblod                                        |2017-03-03|The Cuckoo                                       |2002-09-12         |5286               |14.0                     |Saami                 |Swedish, Saami                                                                                            |\n",
      "|The Man Who Knew Infinity                       |2016-04-08|Water                                            |2007-03-09         |3318               |9.0                      |Sanskrit              |English, French, Sanskrit                                                                                 |\n",
      "|Sweet Sixteen                                   |2002-10-04|My Name Is Joe                                   |1998-10-14         |1451               |4.0                      |Scots                 |English, Scots                                                                                            |\n",
      "|Maratonci trce pocasni krug                     |1982-03-04|Cat People                                       |1942-12-25         |14314              |39.0                     |Serbian               |Serbian                                                                                                   |\n",
      "|Medena zemja                                    |2019-07-26|In the Bedroom                                   |2002-02-08         |6377               |17.0                     |Serbo-Croatian        |Serbo-Croatian, Serbian, Croatian, Turkish, Macedonian, Bosnian                                           |\n",
      "|In the Mood for Love                            |2000-09-29|A Brighter Summer Day                            |1991-07-27         |3352               |9.0                      |Shanghainese          |Cantonese, Shanghainese, French, Spanish                                                                  |\n",
      "|The Godfather: Part II                          |1979-01-01|La terra trema                                   |1949-12-03         |10621              |29.0                     |Sicilian              |English, Italian, Spanish, Latin, Sicilian                                                                |\n",
      "|Serbuan Maut 2: Berandal                        |2014-05-30|Rise of the Planet of the Apes                   |2011-08-05         |1029               |3.0                      |Sign Languages        |Indonesian, Japanese, English, Sign Languages                                                             |\n",
      "|The Lord of the Rings: The Two Towers           |2003-03-28|The Lord of the Rings: The Fellowship of the Ring|2002-03-15         |378                |1.0                      |Sindarin              |English, Sindarin, Old English                                                                            |\n",
      "|Indiana Jones and the Temple of Doom            |2020-04-01|Aloko Udapadi                                    |2017-01-20         |1167               |3.0                      |Sinhala               |English, Sinhala, Hindi                                                                                   |\n",
      "|The Rider                                       |2018-11-05|Dances with Wolves                               |1990-11-21         |10211              |28.0                     |Sioux                 |English, Sioux, Spanish                                                                                   |\n",
      "|Kolja                                           |1996-05-15|Obchod na korze                                  |1965-10-08         |11177              |31.0                     |Slovak                |Czech, Russian, Slovak                                                                                    |\n",
      "|Sivi kamion crvene boje                         |2005-03-16|Dom za vesanje                                   |1990-09-01         |5310               |15.0                     |Slovenian             |Serbian, German, Arabic, Italian, Slovenian                                                               |\n",
      "|Desert Flower                                   |2009-09-24|Dirty Pretty Things                              |2002-12-13         |2477               |7.0                      |Somali                |English, Somali, French                                                                                   |\n",
      "|Tsotsi                                          |2005-12-23|Cry Freedom                                      |1987-11-06         |6622               |18.0                     |Sotho                 |Zulu, Sotho, Xhosa, Afrikaans, English                                                                    |\n",
      "|Stagecoach                                      |1939-01-01|Queen Christina                                  |1934-02-09         |1787               |5.0                      |Spanish               |English, Spanish, French                                                                                  |\n",
      "|Lorenzo's Oil                                   |1993-01-29|Born Free                                        |1966-03-18         |9814               |27.0                     |Swahili               |English, Italian, Swahili                                                                                 |\n",
      "|The Bells of St. Mary's                         |1946-02-21|Häxan: Witchcraft Through the Ages               |1922-09-18         |8557               |23.0                     |Swedish               |English, Latin, Swedish                                                                                   |\n",
      "|Heidi                                           |2015-12-10|North Face                                       |2008-10-23         |2604               |7.0                      |Swiss German          |German, Swiss German, Afrikaans                                                                           |\n",
      "|The Life Aquatic with Steve Zissou              |2004-12-25|Days of Being Wild                               |1990-12-15         |5124               |14.0                     |Tagalog               |English, Icelandic, Filipino, Portuguese, French, Tagalog, German, Italian                                |\n",
      "|Nayakan                                         |1987-10-21|Maya Bazaar                                      |1957-03-27         |11165              |31.0                     |Tamil                 |Tamil                                                                                                     |\n",
      "|Khushi                                          |2001-04-26|Maya Bazaar                                      |1957-03-27         |16101              |44.0                     |Telugu                |Telugu                                                                                                    |\n",
      "|Mou Gaan Dou                                    |2002-12-12|The Bridge on the River Kwai                     |1957-12-28         |16420              |45.0                     |Thai                  |Cantonese, English, Thai                                                                                  |\n",
      "|The Way Back                                    |2011-03-04|Samsara                                          |2006-05-12         |1757               |5.0                      |Tibetan               |English, Russian, Polish, Tibetan, Mongolian                                                              |\n",
      "|Dry Summer                                      |1963-12-16|Madame de...                                     |1953-09-16         |3743               |10.0                     |Turkish               |Turkish                                                                                                   |\n",
      "|Brother 2                                       |2000-05-11|V Boy Idut Odni 'stariki'                        |1974-08-12         |9404               |26.0                     |Ukrainian             |Russian, English, Ukrainian                                                                               |\n",
      "|Deewaar                                         |1975-01-24|Mughal-E-Azam                                    |1960-08-05         |5285               |14.0                     |Urdu                  |Hindi, Urdu                                                                                               |\n",
      "|Nelyubov                                        |2017-06-01|Home                                             |2009-06-05         |2918               |8.0                      |Uzbek                 |Russian, Portuguese, Uzbek                                                                                |\n",
      "|We Were Soldiers                                |2002-03-01|The Scent of Green Papaya                        |1993-06-08         |3188               |9.0                      |Vietnamese            |English, Vietnamese, French                                                                               |\n",
      "|Pride                                           |2014-09-12|Becket                                           |1964-03-11         |18447              |51.0                     |Welsh                 |English, Welsh                                                                                            |\n",
      "|Io Capitano                                     |2023-09-07|Biutiful                                         |2010-10-22         |4703               |13.0                     |Wolof                 |Wolof, French, Arabic, English                                                                            |\n",
      "|Tsotsi                                          |2005-12-23|The Lion King                                    |1994-10-29         |4073               |11.0                     |Xhosa                 |Zulu, Sotho, Xhosa, Afrikaans, English                                                                    |\n",
      "|Obchod na korze                                 |1965-10-08|Since You Went Away                              |1944-07-20         |7750               |21.0                     |Yiddish               |Slovak, Yiddish, German, Latin                                                                            |\n",
      "|Cry Freedom                                     |1987-11-06|Zulu                                             |1964-06-10         |8549               |23.0                     |Zulu                  |English, Afrikaans, Xhosa, Zulu, Sotho                                                                    |\n",
      "+------------------------------------------------+----------+-------------------------------------------------+-------------------+-------------------+-------------------------+----------------------+----------------------------------------------------------------------------------------------------------+\n"
     ]
    }
   ],
   "source": [
    "\n",
    "from pyspark.sql import Window\n",
    "\n",
    "# Task: For each language find the maximum difference in years between two movies. Return names and dates of both movies\n",
    "window_spec = Window.partitionBy(\"language\").orderBy(\"date\")\n",
    "\n",
    "# instead of raising an error when date pattern doesn't match just return null\n",
    "# why it is a separate config but not a function param?\n",
    "spark.conf.set(\"spark.sql.legacy.timeParserPolicy\", \"CORRECTED\")\n",
    "\n",
    "# Go step-by-step\n",
    "\n",
    "diff_df = (df\n",
    "           .withColumn(\"languages_lst\", split(df.Languages, \",\"))\n",
    "           .withColumn(\"language\", explode(\"languages_lst\"))\n",
    "           .withColumn(\"language\", trim(\"language\"))\n",
    "           .filter(col(\"language\").isNotNull())\n",
    "           .withColumn(\"date_cleaned\", trim(regexp_replace(col(\"Release Date\"), \"\\\\(.+\\\\)\", \"\")))\n",
    "           .withColumn(\"date_v1\", to_date(col(\"date_cleaned\"), \"MMMM d, yyyy\"))\n",
    "           .withColumn(\"date_v2\", to_date(col(\"date_cleaned\"), \"yyyy\"))\n",
    "           .withColumn(\"date_v3\", to_date(col(\"date_cleaned\"), \"MMMM yyyy\"))\n",
    "           .withColumn(\"date\", coalesce(\"date_v1\", \"date_v2\", \"date_v3\"))\n",
    "           # .select(\"Release Date\", \"date_cleaned\", \"date_v1\", \"date_v2\", \"date_v3\", \"date\")\n",
    "           # .filter(col(\"date\").isNull())\n",
    "           .withColumn(\"previous_movie_date\", lag(\"date\", 1).over(window_spec))\n",
    "           .withColumn(\"previous_movie_title\", lag(\"Title\", 1).over(window_spec))\n",
    "\n",
    "           # .select(\"language\", \"date\", \"previous_movie_date\")\n",
    "           .filter(col(\"previous_movie_date\").isNotNull())\n",
    "           .withColumn(\"previous_movie_diff\", datediff(col(\"date\"), col(\"previous_movie_date\")))\n",
    "           .withColumn(\"previous_movie_diff_years\", round(col(\"previous_movie_diff\") / 365))\n",
    "           .withColumn(\"rn\", row_number().over(Window.partitionBy(\"language\").orderBy(desc(\"previous_movie_diff\"))))\n",
    "           .filter(col(\"rn\") == 1)\n",
    "           .select(col(\"Title\").alias(\"title\"), \"date\", \"previous_movie_title\", \"previous_movie_date\",\n",
    "                   \"previous_movie_diff\", \"previous_movie_diff_years\", \"language\", \"languages\")\n",
    "           )\n",
    "\n",
    "(\n",
    "    diff_df\n",
    "    .orderBy(\"language\")\n",
    "    .show(500, False)\n",
    ")\n",
    "\n"
   ],
   "metadata": {
    "collapsed": false,
    "ExecuteTime": {
     "end_time": "2025-01-23T14:50:11.080877Z",
     "start_time": "2025-01-23T14:50:10.051452Z"
    }
   }
  },
  {
   "cell_type": "code",
   "execution_count": 56,
   "outputs": [
    {
     "name": "stdout",
     "output_type": "stream",
     "text": [
      "+---------+----------+-------------------------+-------------------+-------------------+-------------------------+---------+---------------------------+\n",
      "|title    |date      |previous_movie_title     |previous_movie_date|previous_movie_diff|previous_movie_diff_years|language |languages                  |\n",
      "+---------+----------+-------------------------+-------------------+-------------------+-------------------------+---------+---------------------------+\n",
      "|Brother 2|2000-05-11|V Boy Idut Odni 'stariki'|1974-08-12         |9404               |26.0                     |Ukrainian|Russian, English, Ukrainian|\n",
      "+---------+----------+-------------------------+-------------------+-------------------+-------------------------+---------+---------------------------+\n"
     ]
    }
   ],
   "source": [
    "diff_df.filter(diff_df.language.contains(\"Ukr\")).show(500, False)"
   ],
   "metadata": {
    "collapsed": false,
    "ExecuteTime": {
     "end_time": "2025-01-23T13:46:19.479181Z",
     "start_time": "2025-01-23T13:46:19.307370Z"
    }
   }
  },
  {
   "cell_type": "code",
   "execution_count": 57,
   "outputs": [
    {
     "name": "stdout",
     "output_type": "stream",
     "text": [
      "+-------------------------------+------+-------------+----------------------------------------------------+---------+-----------------------------------------------------------------------------------------------------------------------------------------------------------------------------------------------------------------------------------------------------------------------------------------------------------+-----------------------------+----------------------------------------+----------------------------------------------------------------+-----------------------+---------------+------------------+\n",
      "|Title                          |Rating|Director     |Writer                                              |Metascore|Cast                                                                                                                                                                                                                                                                                                       |Release Date                 |Country of Origin                       |Languages                                                       |Budget                 |Worldwide Gross|Runtime           |\n",
      "+-------------------------------+------+-------------+----------------------------------------------------+---------+-----------------------------------------------------------------------------------------------------------------------------------------------------------------------------------------------------------------------------------------------------------------------------------------------------------+-----------------------------+----------------------------------------+----------------------------------------------------------------+-----------------------+---------------+------------------+\n",
      "|El abrazo de la serpiente      |7.8   |Ciro Guerra  |Cristina Gallego, Ciro Guerra, Theodor Koch-Grünberg|82.0     |Nilbio Torres, Jan Bijvoet, Antonio Bolívar, Brionne Davis, Miguel Dionisio Ramos, Luigi Sciamanna, Nicolás Cancino, Daniel Martínez Pediwake, José Sabogal, Marcilio Paiva, Jaime Pereira, Marisel Mosquera, Pedro Bolívar, Jorge Villa, Mauricio Hernández, Jesús Rodríguez, Fabián Rojas, Gaudencio Toro|May 25, 2015 (Colombia)      |Colombia, Mexico, Venezuela, Argentina  |English, Spanish, Portuguese, Aboriginal, German, Catalan, Latin|$1,400,000 (estimated) |$3,217,212     |2 hours 5 minutes |\n",
      "|Walkabout                      |7.6   |Nicolas Roeg |Edward Bond, Donald G. Payne, Nicolas Roeg          |85.0     |Jenny Agutter, David Gulpilil, Luc Roeg, John Meillon, Robert McDarra, Peter Carver, John Illingsworth, Hilary Bamberger, Barry Donnelly, Noeline Brown, Carlo Manchini, George Roubicek                                                                                                                   |July 1, 1971 (United States) |United Kingdom, Australia, United States|English, Aboriginal, Czech, French                              |A$1,000,000 (estimated)|$1,888         |1 hour 40 minutes |\n",
      "|Sai de ke · ba lai: Tai yang qi|7.5   |Te-Sheng Wei |Te-Sheng Wei                                        |62.0     |Masanobu Andô, Jun'ichi Haruta, Sabu Kawahara, Shiang-Chu Tang, Nolay Piho, Umin Boya, Vivian Hsu, Mei-Ling Lo, Landy Wen, Da-Ching, Pawan Nawi, Yakau Kuhon, Pawan Neyung, Yuan-Jie Lin, Chih-Wei Cheng, Yi-Fan Hsu, Soda Voyu, Hayung Gaki                                                               |September 9, 2011 (Taiwan)   |Taiwan                                  |Aboriginal, Japanese, Hokkien                                   |$23,000,000 (estimated)|$4,670,432     |2 hours 24 minutes|\n",
      "|Rabbit-Proof Fence             |7.4   |Phillip Noyce|Doris Pilkington, Christine Olsen                   |80.0     |Everlyn Sampi, Tianna Sansbury, Kenneth Branagh, Laura Monaghan, David Gulpilil, Ningali Lawford, Myarn Lawford, Deborah Mailman, Jason Clarke, Natasha Wanganeen, Garry McDonald, Roy Billing, Lorna Lesley, Celine O'Leary, Kate Roberts, Tracy Monaghan, Tamara Flanagan, David Ngoombujarra            |February 21, 2002 (Australia)|Australia                               |English, Aboriginal                                             |$6,000,000 (estimated) |$16,220,968    |1 hour 34 minutes |\n",
      "|The Nightingale                |7.3   |Jennifer Kent|Jennifer Kent                                       |77.0     |Aisling Franciosi, Maya Christie, Baykali Ganambarr, Addison Christie, Damon Herriman, Harry Greenwood, Claire Jones, Ewen Leslie, Sam Claflin, Charlie Shotwell, Michael Sheasby, Charlie Jampijinpa Brown, Eloise Winestock, Magnolia Maymuru, Matthew Barker, Charles McCarthy, Ben Morton, Matt Burton |August 29, 2019 (Australia)  |Australia, Canada                       |English, Irish Gaelic, Aboriginal                               |$2,000,000 (estimated) |$988,687       |2 hours 16 minutes|\n",
      "|The Proposition                |7.3   |John Hillcoat|Nick Cave                                           |73.0     |Ray Winstone, Guy Pearce, Emily Watson, Richard Wilson, Noah Taylor, Jeremy Madrona, Jae Mamuyac, Mick Roughan, Shane Watt, Robert Morgan, David Gulpilil, Bryan Probets, Oliver Ackland, Danny Huston, David Vallon, Daniel Parker, Carl Rush, Gary Waddell                                               |October 6, 2005 (Australia)  |Australia, United Kingdom               |English, Aboriginal                                             |$20,000,000 (estimated)|$5,048,893     |1 hour 44 minutes |\n",
      "+-------------------------------+------+-------------+----------------------------------------------------+---------+-----------------------------------------------------------------------------------------------------------------------------------------------------------------------------------------------------------------------------------------------------------------------------------------------------------+-----------------------------+----------------------------------------+----------------------------------------------------------------+-----------------------+---------------+------------------+\n"
     ]
    }
   ],
   "source": [
    "# double check\n",
    "df.filter(df.Languages.contains(\"Aboriginal\")).show(20, False)"
   ],
   "metadata": {
    "collapsed": false,
    "ExecuteTime": {
     "end_time": "2025-01-23T13:46:22.869317Z",
     "start_time": "2025-01-23T13:46:22.787084Z"
    }
   }
  },
  {
   "cell_type": "code",
   "execution_count": 42,
   "outputs": [
    {
     "data": {
      "text/plain": "True"
     },
     "execution_count": 42,
     "metadata": {},
     "output_type": "execute_result"
    }
   ],
   "source": [
    "\n"
   ],
   "metadata": {
    "collapsed": false,
    "ExecuteTime": {
     "end_time": "2025-01-23T13:33:24.174354Z",
     "start_time": "2025-01-23T13:33:24.094425Z"
    }
   }
  },
  {
   "cell_type": "code",
   "execution_count": null,
   "outputs": [],
   "source": [],
   "metadata": {
    "collapsed": false
   }
  }
 ],
 "metadata": {
  "kernelspec": {
   "display_name": "Python 3",
   "language": "python",
   "name": "python3"
  },
  "language_info": {
   "codemirror_mode": {
    "name": "ipython",
    "version": 3
   },
   "file_extension": ".py",
   "mimetype": "text/x-python",
   "name": "python",
   "nbconvert_exporter": "python",
   "pygments_lexer": "ipython3",
   "version": "3.12.4"
  }
 },
 "nbformat": 4,
 "nbformat_minor": 2
}
